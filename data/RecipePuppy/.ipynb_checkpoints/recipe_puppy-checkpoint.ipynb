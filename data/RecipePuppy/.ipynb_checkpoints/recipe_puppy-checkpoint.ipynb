{
 "cells": [
  {
   "cell_type": "code",
   "execution_count": 82,
   "metadata": {},
   "outputs": [],
   "source": [
    "import requests\n",
    "import pandas as pd"
   ]
  },
  {
   "cell_type": "code",
   "execution_count": 84,
   "metadata": {},
   "outputs": [],
   "source": [
    "instances = ['milk', 'apple', 'lemon', 'coffee', 'croissant', 'garnish', 'egg', 'orange_juice', 'apple_juice', 'butter']\n",
    "pages = range(5)"
   ]
  },
  {
   "cell_type": "code",
   "execution_count": 85,
   "metadata": {},
   "outputs": [],
   "source": [
    "def clean_text(text, remove=['\"',\",\",'(',')',';','®', \"'\",\"&\"]):\n",
    "    text = text.strip()\n",
    "    text = text.replace(' ','_')\n",
    "    for i in remove:\n",
    "        text = text.replace(i,'')\n",
    "    \n",
    "    return text    "
   ]
  },
  {
   "cell_type": "code",
   "execution_count": 86,
   "metadata": {},
   "outputs": [],
   "source": [
    "for i in instances:\n",
    "    instance_dict = dict()\n",
    "    instance_dict['title'] = []\n",
    "    instance_dict['href'] = []\n",
    "    instance_dict['ingredients'] = []\n",
    "    for p in pages:\n",
    "        r = requests.get(f'http://www.recipepuppy.com/api/?i={i}&p={str(p+1)}')\n",
    "        if r.status_code == 500:\n",
    "            instance_dict['title'].append(None)\n",
    "            instance_dict['href'].append(None)\n",
    "            instance_dict['ingredients'].append(None)\n",
    "            continue\n",
    "        else:\n",
    "            for recipe in r.json()['results']:\n",
    "                # allocate each to the respective column in the dict\n",
    "                instance_dict['title'].append(recipe['title'])\n",
    "                instance_dict['href'].append(recipe['href'])\n",
    "                instance_dict['ingredients'].append(recipe['ingredients'])\n",
    "        \n",
    "    instance_df = pd.DataFrame(instance_dict)\n",
    "    instance_df.dropna(inplace=True)\n",
    "    instance_df['title'] = instance_df['title'].apply(clean_text)\n",
    "    instance_df.to_csv(f'./requests_output/{i}.csv', index=False)"
   ]
  },
  {
   "cell_type": "code",
   "execution_count": null,
   "metadata": {},
   "outputs": [],
   "source": []
  }
 ],
 "metadata": {
  "kernelspec": {
   "display_name": "Python 3",
   "language": "python",
   "name": "python3"
  },
  "language_info": {
   "codemirror_mode": {
    "name": "ipython",
    "version": 3
   },
   "file_extension": ".py",
   "mimetype": "text/x-python",
   "name": "python",
   "nbconvert_exporter": "python",
   "pygments_lexer": "ipython3",
   "version": "3.7.6"
  }
 },
 "nbformat": 4,
 "nbformat_minor": 4
}
