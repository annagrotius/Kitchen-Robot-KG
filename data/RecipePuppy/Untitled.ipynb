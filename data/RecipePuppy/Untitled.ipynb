{
 "cells": [
  {
   "cell_type": "code",
   "execution_count": 4,
   "metadata": {},
   "outputs": [],
   "source": [
    "import requests"
   ]
  },
  {
   "cell_type": "code",
   "execution_count": 5,
   "metadata": {},
   "outputs": [],
   "source": [
    "instances = ['milk', 'coffee', 'croissant', 'garnish', 'hardboiled_egg', 'scrambled_egg', 'fried_egg', 'orange_juice', 'apple_juice', 'butter']"
   ]
  },
  {
   "cell_type": "code",
   "execution_count": 6,
   "metadata": {},
   "outputs": [],
   "source": [
    "all_r = []"
   ]
  },
  {
   "cell_type": "code",
   "execution_count": 12,
   "metadata": {},
   "outputs": [
    {
     "name": "stdout",
     "output_type": "stream",
     "text": [
      "{\"title\":\"Recipe Puppy\",\"version\":0.1,\"href\":\"http:\\/\\/www.recipepuppy.com\\/\",\"results\":[{\"title\":\"Kahla Cooler Recipe\",\"href\":\"http:\\/\\/www.grouprecipes.com\\/2910\\/kahla-cooler.html\",\"ingredients\":\"milk\",\"thumbnail\":\"http:\\/\\/img.recipepuppy.com\\/145911.jpg\"},{\"title\":\"The Oreo Ritual Recipe\",\"href\":\"http:\\/\\/www.grouprecipes.com\\/43289\\/the-oreo-ritual.html\",\"ingredients\":\"milk\",\"thumbnail\":\"http:\\/\\/img.recipepuppy.com\\/375799.jpg\"},{\"title\":\"Eclair Cake Recipe\",\"href\":\"http:\\/\\/www.grouprecipes.com\\/35690\\/eclair-cake.html\",\"ingredients\":\"milk\",\"thumbnail\":\"http:\\/\\/img.recipepuppy.com\\/384002.jpg\"},{\"title\":\"The Hummer Drink Recipe\",\"href\":\"http:\\/\\/www.grouprecipes.com\\/58877\\/the-hummer-drink.html\",\"ingredients\":\"milk\",\"thumbnail\":\"http:\\/\\/img.recipepuppy.com\\/388494.jpg\"},{\"title\":\"Banana Pudding Pops\",\"href\":\"http:\\/\\/www.eatingwell.com\\/recipes\\/banana_pudding_pops.html\",\"ingredients\":\"milk\",\"thumbnail\":\"http:\\/\\/img.recipepuppy.com\\/695171.jpg\"},{\"title\":\"Sweet Potato Casserole\",\"href\":\"http:\\/\\/www.eatingwell.com\\/recipes\\/sweet_potato_casserole.html\",\"ingredients\":\"milk\",\"thumbnail\":\"http:\\/\\/img.recipepuppy.com\\/696957.jpg\"},{\"title\":\"Caramelized Pear Bread Pudding\",\"href\":\"http:\\/\\/www.eatingwell.com\\/recipes\\/pear_bread_pudding.html\",\"ingredients\":\"milk\",\"thumbnail\":\"http:\\/\\/img.recipepuppy.com\\/697653.jpg\"},{\"title\":\"Baked Apple-Cinnamon French Toast\",\"href\":\"http:\\/\\/www.eatingwell.com\\/recipes\\/apple_cinnamon_french_toast.html\",\"ingredients\":\"milk\",\"thumbnail\":\"http:\\/\\/img.recipepuppy.com\\/698046.jpg\"},{\"title\":\"Creamed Spinach \",\"href\":\"http:\\/\\/www.eatingwell.com\\/recipes\\/creamed_spinach.html\",\"ingredients\":\"milk\",\"thumbnail\":\"http:\\/\\/img.recipepuppy.com\\/699906.jpg\"},{\"title\":\"Broccoli & Goat Cheese Souffl&#233;\",\"href\":\"http:\\/\\/www.eatingwell.com\\/recipes\\/broccoli_cheese_souffle.html\",\"ingredients\":\"milk\",\"thumbnail\":\"http:\\/\\/img.recipepuppy.com\\/701762.jpg\"}]} \n",
      "\n",
      "{\"title\":\"Recipe Puppy\",\"version\":0.1,\"href\":\"http:\\/\\/www.recipepuppy.com\\/\",\"results\":[{\"title\":\"Ice Cream Coffee Float \\r\\n\\r\\n\",\"href\":\"http:\\/\\/www.kraftfoods.com\\/kf\\/recipes\\/ice-cream-coffee-float-54947.aspx\",\"ingredients\":\"coffee, coffee\",\"thumbnail\":\"http:\\/\\/img.recipepuppy.com\\/623486.jpg\"},{\"title\":\"Coffee Ice Cubes \\r\\n\\r\\n\",\"href\":\"http:\\/\\/www.kraftfoods.com\\/kf\\/recipes\\/coffee-ice-cubes-57363.aspx\",\"ingredients\":\"coffee\",\"thumbnail\":\"http:\\/\\/img.recipepuppy.com\\/624596.jpg\"},{\"title\":\"Ice Cream Coffee Float \\r\\n\\r\\n\",\"href\":\"http:\\/\\/www.kraftfoods.com\\/kf\\/recipes\\/ice-cream-coffee-float-54947.aspx?cm_re=1-_-1-_-RecipeAlsoEnjoy\",\"ingredients\":\"coffee, coffee\",\"thumbnail\":\"http:\\/\\/img.recipepuppy.com\\/664546.jpg\"},{\"title\":\"Christmas Coffee\",\"href\":\"http:\\/\\/www.recipezaar.com\\/Christmas-Coffee-115650\",\"ingredients\":\"coffee\",\"thumbnail\":\"http:\\/\\/img.recipepuppy.com\\/311967.jpg\"},{\"title\":\"French Silk Pie\",\"href\":\"http:\\/\\/www.eatingwell.com\\/recipes\\/french_silk_pie.html\",\"ingredients\":\"coffee\",\"thumbnail\":\"http:\\/\\/img.recipepuppy.com\\/694748.jpg\"},{\"title\":\"Mocha Ice Pops\",\"href\":\"http:\\/\\/www.eatingwell.com\\/recipes\\/mocha_ice_pops.html\",\"ingredients\":\"coffee\",\"thumbnail\":\"http:\\/\\/img.recipepuppy.com\\/695188.jpg\"},{\"title\":\"Chocolate Hazelnut Java \\r\\n\\r\\n\",\"href\":\"http:\\/\\/www.kraftfoods.com\\/kf\\/recipes\\/chocolate-hazelnut-java-63587.aspx\",\"ingredients\":\"cocoa powder, coffee\",\"thumbnail\":\"http:\\/\\/img.recipepuppy.com\\/623562.jpg\"},{\"title\":\"Shake Sensation \\r\\n\\r\\n\",\"href\":\"http:\\/\\/www.kraftfoods.com\\/kf\\/recipes\\/shake-sensation-51076.aspx\",\"ingredients\":\"coffee, coffee ice cream\",\"thumbnail\":\"http:\\/\\/img.recipepuppy.com\\/623859.jpg\"},{\"title\":\"Iced Chocolaccino \\r\\n\\r\\n\",\"href\":\"http:\\/\\/www.kraftfoods.com\\/kf\\/recipes\\/iced-chocolaccino-53225.aspx\",\"ingredients\":\"cocoa powder, coffee\",\"thumbnail\":\"http:\\/\\/img.recipepuppy.com\\/624108.jpg\"},{\"title\":\"Chocolate Hazelnut Java \\r\\n\\r\\n\",\"href\":\"http:\\/\\/www.kraftfoods.com\\/kf\\/recipes\\/chocolate-hazelnut-java-63587.aspx?cm_re=1-_-1-_-RecipeAlsoEnjoy\",\"ingredients\":\"cocoa powder, coffee\",\"thumbnail\":\"http:\\/\\/img.recipepuppy.com\\/665382.jpg\"}]} \n",
      "\n",
      "{\"title\":\"Recipe Puppy\",\"version\":0.1,\"href\":\"http:\\/\\/www.recipepuppy.com\\/\",\"results\":[]} \n",
      "\n",
      "{\"title\":\"Recipe Puppy\",\"version\":0.1,\"href\":\"http:\\/\\/www.recipepuppy.com\\/\",\"results\":[]} \n",
      "\n",
      "{\"title\":\"Recipe Puppy\",\"version\":0.1,\"href\":\"http:\\/\\/www.recipepuppy.com\\/\",\"results\":[]} \n",
      "\n",
      "{\"title\":\"Recipe Puppy\",\"version\":0.1,\"href\":\"http:\\/\\/www.recipepuppy.com\\/\",\"results\":[]} \n",
      "\n",
      "{\"title\":\"Recipe Puppy\",\"version\":0.1,\"href\":\"http:\\/\\/www.recipepuppy.com\\/\",\"results\":[]} \n",
      "\n",
      "{\"title\":\"Recipe Puppy\",\"version\":0.1,\"href\":\"http:\\/\\/www.recipepuppy.com\\/\",\"results\":[]} \n",
      "\n",
      "{\"title\":\"Recipe Puppy\",\"version\":0.1,\"href\":\"http:\\/\\/www.recipepuppy.com\\/\",\"results\":[]} \n",
      "\n",
      "{\"title\":\"Recipe Puppy\",\"version\":0.1,\"href\":\"http:\\/\\/www.recipepuppy.com\\/\",\"results\":[{\"title\":\"Flavored Butters\",\"href\":\"http:\\/\\/www.recipezaar.com\\/Flavored-Butters-185166\",\"ingredients\":\"butter\",\"thumbnail\":\"http:\\/\\/img.recipepuppy.com\\/567561.jpg\"},{\"title\":\"Fried Bittersweet Chocolate Bread\",\"href\":\"http:\\/\\/www.epicurious.com\\/recipes\\/food\\/views\\/Fried-Bittersweet-Chocolate-Bread-236691\",\"ingredients\":\"butter\",\"thumbnail\":\"http:\\/\\/img.recipepuppy.com\\/95684.jpg\"},{\"title\":\"Make It Yourself--flavored Butters Recipe\",\"href\":\"http:\\/\\/www.grouprecipes.com\\/69143\\/make-it-yourself--flavored-butters.html\",\"ingredients\":\"butter\",\"thumbnail\":\"http:\\/\\/img.recipepuppy.com\\/305697.jpg\"},{\"title\":\"Emergency Substitutions Recipe\",\"href\":\"http:\\/\\/www.grouprecipes.com\\/37211\\/emergency-substitutions.html\",\"ingredients\":\"butter\",\"thumbnail\":\"http:\\/\\/img.recipepuppy.com\\/368584.jpg\"},{\"title\":\"\\nHerb Butter Recipe\\n\\n\",\"href\":\"http:\\/\\/cookeatshare.com\\/recipes\\/herb-butter-28980\",\"ingredients\":\"butter\",\"thumbnail\":\"http:\\/\\/img.recipepuppy.com\\/840797.jpg\"},{\"title\":\"\\nMelted Herbed Butter Recipe\\n\\n\",\"href\":\"http:\\/\\/cookeatshare.com\\/recipes\\/melted-herbed-butter-30574\",\"ingredients\":\"butter\",\"thumbnail\":\"http:\\/\\/img.recipepuppy.com\\/849820.jpg\"},{\"title\":\"\\nEasy Christmas Candy Recipe\\n\\n\",\"href\":\"http:\\/\\/cookeatshare.com\\/recipes\\/easy-christmas-candy-16496\",\"ingredients\":\"butter\",\"thumbnail\":\"http:\\/\\/img.recipepuppy.com\\/880428.jpg\"},{\"title\":\"\\nUnbeatable Eggless Spice Cake Recipe\\n\\n\",\"href\":\"http:\\/\\/cookeatshare.com\\/recipes\\/unbeatable-eggless-spice-cake-14223\",\"ingredients\":\"butter\",\"thumbnail\":\"http:\\/\\/img.recipepuppy.com\\/880799.jpg\"},{\"title\":\"Fudge Fondue \\r\\n\\t\\t\\r\\n\\t\\r\\n\\t\\t\\r\\n\\t\\r\\n\\t\\t\\r\\n\\t\\r\\n\\t\\r\\n\\r\\n\",\"href\":\"http:\\/\\/www.kraftfoods.com\\/kf\\/recipes\\/fudge-fondue-51563.aspx\",\"ingredients\":\"hot fudge, butter\",\"thumbnail\":\"http:\\/\\/img.recipepuppy.com\\/611087.jpg\"},{\"title\":\"Chocolate Glaze \\r\\n\\t\\t\\r\\n\\t\\r\\n\\t\\t\\r\\n\\t\\r\\n\\t\\t\\r\\n\\t\\r\\n\\t\\r\\n\\r\\n\",\"href\":\"http:\\/\\/www.kraftfoods.com\\/kf\\/recipes\\/chocolate-glaze-56131.aspx\",\"ingredients\":\"semisweet chocolate, butter\",\"thumbnail\":\"http:\\/\\/img.recipepuppy.com\\/617337.jpg\"}]} \n",
      "\n"
     ]
    }
   ],
   "source": [
    "for i in instances:\n",
    "    r = requests.get(f'http://www.recipepuppy.com/api/?i={i}')\n",
    "    print(r.text, '\\n')"
   ]
  },
  {
   "cell_type": "code",
   "execution_count": 10,
   "metadata": {},
   "outputs": [
    {
     "data": {
      "text/plain": [
       "{'title': 'Recipe Puppy',\n",
       " 'version': 0.1,\n",
       " 'href': 'http://www.recipepuppy.com/',\n",
       " 'results': []}"
      ]
     },
     "execution_count": 10,
     "metadata": {},
     "output_type": "execute_result"
    }
   ],
   "source": [
    "hardboiled_egg = requests.get('http://www.recipepuppy.com/api/?i=hardboiled_egg ').json()\n",
    "hardboiled_egg"
   ]
  },
  {
   "cell_type": "code",
   "execution_count": 14,
   "metadata": {},
   "outputs": [
    {
     "data": {
      "text/plain": [
       "'<!DOCTYPE html PUBLIC \"-//W3C//DTD XHTML 1.0 Strict//EN\" \"http://www.w3.org/TR/xhtml1/DTD/xhtml1-strict.dtd\">\\n<html xmlns=\"http://www.w3.org/1999/xhtml\">\\n  <head>\\n    <meta http-equiv=\"Content-Type\" content=\"text/html; charset=UTF-8\"/>\\n    <title>Croissant Ingredient Pairings</title>\\n    <link rel=\"shortcut icon\" href=\"http://www.recipepuppy.com/img/ingpair.ico\" type=\"image/x-icon\">\\n    <link href=\"http://www.recipepuppy.com/cssjs/ingpair.css?1\" type=\"text/css\" media=\"screen\" rel=\"stylesheet\">\\n  </head>\\n  <body>\\n      <script src=\"https://ajax.googleapis.com/ajax/libs/jquery/1.4.2/jquery.min.js\"></script>\\n  <script src=\"http://recipelabs.s3.amazonaws.com/layout/jquery-ui-1.8.16.custom.min.js\"></script>\\n  <div class=\"network\">\\n   <div class=\"networkinner\">\\n    <span id=\"loginbox\">\\n    </span>\\n    <ul>\\n      <li><a href=\"http://recipelabs.com/\"><img src=\"http://recipelabs.s3.amazonaws.com/layout/header_0_0.png\" alt=\"View Recipes\"/></a></li>\\n      <li><a href=\"http://recipelabs.com/add/\"><img src=\"http://recipelabs.s3.amazonaws.com/layout/header_0_1.png\" alt=\"Create Recipe\"/></a></li>\\n      <li><a href=\"http://ask.recipelabs.com/\"><img src=\"http://recipelabs.s3.amazonaws.com/layout/header_0_2.png\" alt=\"Question & Answer\"/></a></li>\\n      <li><a href=\"http://recipelabs.com/\"><img src=\"http://recipelabs.s3.amazonaws.com/layout/header_0_3.png\" alt=\"Home\"/></a></li>\\n      <li><a href=\"/\" id=\"nsl\"><img src=\"http://recipelabs.s3.amazonaws.com/layout/header_0_4.png\" alt=\"Search\"/><span class=\"down\"></span></a>\\n        <div id=\"navsearch\"><ul>\\n          <li><a href=\"http://www.recipepuppy.com/\">By Ingredient</a></li>\\n          <li><a href=\"http://vegetarianrecipe.us/\">Vegetarian</a></li>\\n          <li><a href=\"http://veganrecipe.us/\">Vegan</a></li>\\n          <li><a href=\"http://cookglutenfree.net/\">Gluten Free</a></li>\\n        </ul></div>\\n      </li>\\n      <li><a href=\"/\" id=\"ntl\"><img src=\"http://recipelabs.s3.amazonaws.com/layout/header_0_5.png\" alt=\"Tools\"/><span class=\"down\"></span></a>\\n        <div id=\"navtools\" style=\"left:69px;\"><ul>\\n          <li><a href=\"http://www.foodguts.com/\">Ingredient Database</a></li>\\n          <li><a href=\"http://www.cookthing.com/\">Cook Anything</a></li>\\n          <li><a href=\"http://www.recipepuppy.com/email/\">Daily Recipe Email</a></li>\\n          <li><a href=\"http://www.onlythebestrecipes.com\">Only the Best Recipes</a></li>\\n          <li><a href=\"http://www.ingredientpairings.com/\">Ingredient Pairings</a></li>\\n        </ul></div>\\n      </li>\\n      <li><a href=\"http://restaurantcoupons.us\"><img src=\"http://recipelabs.s3.amazonaws.com/layout/header_0_6.png\" alt=\"Restaurant Coupons\"/></a></li>\\n    </ul>\\n    <script type=\"text/javascript\">\\n      $(document).ready(function() {\\n       t = \\'\\';\\n       t2 = \\'\\';\\n       $(\\'#ntl\\').hover(\\n         function(){ clearTimeout(t2);if($(\\'#navtools\\').is(\\':hidden\\')){ $(\\'#navtools\\').show(\"scale\", {percent: 100,origin: [\\'top\\',\\'left\\']},100); } }, \\n         function(){ clearTimeout(t2);t2 = setTimeout(\"$(\\'#navtools\\').hide(\\'scale\\', {percent: 0,origin: [\\'top\\',\\'left\\']},100);\",200); }\\n       );\\n       $(\\'#nsl\\').hover(\\n         function(){ clearTimeout(t);if($(\\'#navsearch\\').is(\\':hidden\\')){ $(\\'#navsearch\\').show(\"scale\", {percent: 100,origin: [\\'top\\',\\'left\\']},100); } }, \\n         function(){ clearTimeout(t);t = setTimeout(\"$(\\'#navsearch\\').hide(\\'scale\\', {percent: 0,origin: [\\'top\\',\\'left\\']},100);\",200); }\\n       );\\n       $(\\'#navtools\\').hover(\\n         function(){ clearTimeout(t2);if($(\\'#navtools\\').is(\\':hidden\\')){$(\\'#navtools\\').show(\"scale\", {percent: 100,origin: [\\'top\\',\\'left\\']},100);} }, \\n         function(){ clearTimeout(t2);t2 = setTimeout(\"$(\\'#navtools\\').hide(\\'scale\\', {percent: 0,origin: [\\'top\\',\\'left\\']},100);\",200); }\\n       );\\n       $(\\'#navsearch\\').hover(\\n         function(){ clearTimeout(t);if($(\\'#navsearch\\').is(\\':hidden\\')){ $(\\'#navsearch\\').show(\"scale\", {percent: 100,origin: [\\'top\\',\\'left\\']},100); } }, \\n         function(){ clearTimeout(t);t = setTimeout(\"$(\\'#navsearch\\').hide(\\'scale\\', {percent: 0,origin: [\\'top\\',\\'left\\']},100);\",200); }\\n       );\\n       $(\\'#loginbox\\').html(\\'<iframe style=\"height:24px;width:988px;overflow:hidden;border-style:none;margin-right:5px;margin-top:5px;font-size:10px;font-family:\\\\\\'Ubuntu\\\\\\',Sans-serif;\" frameborder=\"0\" border=\"0\" cellspacing=\"0\" src=\"http://recipes.recipelabs.com/ajax/rl_login/?next=\\'+encodeURI(window.location)+\\'\"></iframe>\\');\\n      });\\n    </script>\\n    <style>\\n      body{ padding:0;margin:0; } \\n      .network{ background-color:#f7f3e7;z-index:5;font-family:\\'Ubuntu\\'; }\\n      .networkinner{ width:988px;margin:0 auto;height:170px; }\\n      .network ul{ margin:0;line-height:12px; }\\n      .network li{ text-align:left;float:left;display:block;height:30px;list-style-type:none;margin:0;padding:0; }\\n      .network li a{ display:block;font-size:14px;color:#43970e;text-decoration:none; }\\n      .network li a#homelink{ color:#444;font-weight:bold; }\\n      .network li a#homelink:hover{ color:#444; }\\n      .network li a:hover{  }\\n      .networkinner div{ background-color:#f7f3e7;border:5px solid #e3ddd1;position:relative;top:-60px;left:43px;display:none;-webkit-border-radius: 10px;-moz-border-radius: 10px;border-radius: 10px; }\\n      .networkinner div li{ float:none;border-bottom:1px solid #AAA;height:auto;padding:2px 5px; }\\n      .networkinner div li a{ border-top:none;font-size:10px; }\\n      .networkinner div li a:hover{ background-color:#FFF; }\\n      .featured{ background-color:#43970e;z-index:4; }\\n      .featured li{ list-style-type:none; }\\n      .featuredinner{ width:988px;margin:0 auto;height:70px;padding-top:30px;text-align:center; }\\n      #loginbox{display:block;position:absolute;}\\n     </style>\\n   </div>\\n  </div>\\n  <div class=\"featured\">\\n    <div class=\"featuredinner\">\\n      <li><a href=\"http://recipelabs.com/add/\"><img src=\"http://recipelabs.s3.amazonaws.com/layout/createarecipe.png\" alt=\"Create Recipe\"/></a></li>\\n    </div>\\n  </div>\\n    <div class=\"head\">\\n     <div class=\"headin\">\\n      <a href=\"/\"><img src=\"/img/ingpairlogo.png\"></a>\\n      <div class=\"search\">\\n        <form method=\"GET\" action=\"/\">\\n          <input type=\"text\" name=\"i\" value=\"croissant\" size=\"25\">\\n          <input type=\"submit\" value=\"Search\">\\n        </form>\\n      </div>\\n     </div>\\n    </div>\\n    <div class=\"body\">\\n     <div class=\"main\">\\n      \\n<div><b><font size=\"+2\">Croissant</font></b> goes well with...<p> <a href=\"?i=croissant,almond\"><b>almond</b></a>,  <a href=\"?i=croissant,almond extract\">almond extract</a>,  <a href=\"?i=croissant,almonds\">almonds</a>,  <a href=\"?i=croissant,apple\"><b>APPLE</b></a>,  <a href=\"?i=croissant,apricot jam\">apricot jam</a>,  <a href=\"?i=croissant,artichoke\">artichoke</a>,  <a href=\"?i=croissant,arugula\">arugula</a>,  <a href=\"?i=croissant,bacon\">bacon</a>,  <a href=\"?i=croissant,banana\"><i>banana</i></a>,  <a href=\"?i=croissant,beau monde\">beau monde</a>,  <a href=\"?i=croissant,blueberries\">blueberries</a>,  <a href=\"?i=croissant,bourbon\">bourbon</a>,  <a href=\"?i=croissant,brandy\">brandy</a>,  <a href=\"?i=croissant,brown sugar\">brown sugar</a>,  <a href=\"?i=croissant,butter\"><b>BUTTER</b></a>,  <a href=\"?i=croissant,cashew\">cashew</a>,  <a href=\"?i=croissant,caster sugar\"><b>caster sugar</b></a>,  <a href=\"?i=croissant,celery\"><b>celery</b></a>,  <a href=\"?i=croissant,cheese\"><i>cheese</i></a>,  <a href=\"?i=croissant,chicken\"><b>CHICKEN</b></a>,  <a href=\"?i=croissant,chocolate\"><b>chocolate</b></a>,  <a href=\"?i=croissant,cinnamon\"><b>cinnamon</b></a>,  <a href=\"?i=croissant,crabmeat\">crabmeat</a>,  <a href=\"?i=croissant,cranberry sauce\">cranberry sauce</a>,  <a href=\"?i=croissant,cream\"><b>CREAM</b></a>,  <a href=\"?i=croissant,cream cheese\"><b>cream cheese</b></a>,  <a href=\"?i=croissant,croissants\"><b>CROISSANTS</b></a>,  <a href=\"?i=croissant,curry powder\">curry powder</a>,  <a href=\"?i=croissant,dill weed\">dill weed</a>,  <a href=\"?i=croissant,egg yolks\"><b>EGG YOLKS</b></a>,  <a href=\"?i=croissant,eggs\"><b>EGGS</b></a>,  <a href=\"?i=croissant,gouda cheese\">gouda cheese</a>,  <a href=\"?i=croissant,grapes\"><b>grapes</b></a>,  <a href=\"?i=croissant,green onion\"><b>green onion</b></a>,  <a href=\"?i=croissant,half and half\"><b>half and half</b></a>,  <a href=\"?i=croissant,heavy cream\"><b>heavy cream</b></a>,  <a href=\"?i=croissant,honey\"><i>honey</i></a>,  <a href=\"?i=croissant,horseradish\"><i>horseradish</i></a>,  <a href=\"?i=croissant,kosher salt\">kosher salt</a>,  <a href=\"?i=croissant,lemon\">lemon</a>,  <a href=\"?i=croissant,lemon juice\">lemon juice</a>,  <a href=\"?i=croissant,lettuce\"><b>lettuce</b></a>,  <a href=\"?i=croissant,maple syrup\">maple syrup</a>,  <a href=\"?i=croissant,mayonnaise\"><b>MAYONNAISE</b></a>,  <a href=\"?i=croissant,milk\"><b>MILK</b></a>,  <a href=\"?i=croissant,milk chocolate\"><i>milk chocolate</i></a>,  <a href=\"?i=croissant,nutmeg\"><b>nutmeg</b></a>,  <a href=\"?i=croissant,olive oil\"><i>olive oil</i></a>,  <a href=\"?i=croissant,onions\"><b>onions</b></a>,  <a href=\"?i=croissant,orange juice\"><i>orange juice</i></a>,  <a href=\"?i=croissant,orange marmalade\">orange marmalade</a>,  <a href=\"?i=croissant,orange zest\">orange zest</a>,  <a href=\"?i=croissant,parmesan cheese\">parmesan cheese</a>,  <a href=\"?i=croissant,parsley\"><i>parsley</i></a>,  <a href=\"?i=croissant,pastry\">pastry</a>,  <a href=\"?i=croissant,pecan\"><b>pecan</b></a>,  <a href=\"?i=croissant,pineapple\">pineapple</a>,  <a href=\"?i=croissant,powdered sugar\">powdered sugar</a>,  <a href=\"?i=croissant,pudding\"><i>pudding</i></a>,  <a href=\"?i=croissant,raisins\"><b>RAISINS</b></a>,  <a href=\"?i=croissant,roll\">roll</a>,  <a href=\"?i=croissant,rum\"><i>rum</i></a>,  <a href=\"?i=croissant,salad dressing\">salad dressing</a>,  <a href=\"?i=croissant,salami\">salami</a>,  <a href=\"?i=croissant,sandwich rolls\">sandwich rolls</a>,  <a href=\"?i=croissant,semisweet chocolate\"><b>semisweet chocolate</b></a>,  <a href=\"?i=croissant,semisweet chocolate chips\">semisweet chocolate chips</a>,  <a href=\"?i=croissant,shiitake mushroom\">shiitake mushroom</a>,  <a href=\"?i=croissant,sour cream\">sour cream</a>,  <a href=\"?i=croissant,pasta\">pasta</a>,  <a href=\"?i=croissant,strawberries\">strawberries</a>,  <a href=\"?i=croissant,sugar\"><b>SUGAR</b></a>,  <a href=\"?i=croissant,swiss cheese\">swiss cheese</a>,  <a href=\"?i=croissant,tarragon\"><i>tarragon</i></a>,  <a href=\"?i=croissant,tomato\">tomato</a>,  <a href=\"?i=croissant,triple sec\"><i>triple sec</i></a>,  <a href=\"?i=croissant,turkey\"><b>turkey</b></a>,  <a href=\"?i=croissant,vanilla bean\"><b>vanilla bean</b></a>,  <a href=\"?i=croissant,vanilla extract\"><b>VANILLA EXTRACT</b></a>,  <a href=\"?i=croissant,vanilla ice cream\">vanilla ice cream</a>,  <a href=\"?i=croissant,vanilla pod\"><b>vanilla pod</b></a>,  <a href=\"?i=croissant,wheat\"><i>wheat</i></a>,  <a href=\"?i=croissant,whipped cream\">whipped cream</a>,  <a href=\"?i=croissant,white chocolate\">white chocolate</a>,  <a href=\"?i=croissant,whole milk\"><b>whole milk</b></a>,  <a href=\"?i=croissant,yogurt\">yogurt</a></div><br><br>\\nIngredient formatting indicates how well the ingredient pairs. <b>ALL CAPS</b> > <b>bold</b> > normal > <i>italics</i>\\n<br><br>\\nClick an ingredient to add it to your pairing search\\n<br><br>\\n<a href=\"http://www.recipepuppy.com/?i=croissant\" style=\"color:#600;text-decoration:underline;\">Find recipes that use these ingredient(s)</a>\\n     </div>\\n     <div class=\"side\">\\n       Like Ingredient Pairings?<p>\\n       <a href=\"http://www.amazon.com/gp/product/1460945603/ref=as_li_tf_tl?ie=UTF8&tag=krisssoccersi-20&linkCode=as2&camp=1789&creative=9325&creativeASIN=1460945603\">Buy the book</a><img src=\"http://www.assoc-amazon.com/e/ir?t=krisssoccersi-20&l=as2&o=1&a=1460945603\" width=\"1\" height=\"1\" border=\"0\" alt=\"\" style=\"border:none !important; margin:0px !important;\" />\\n, download the app on <a href=\"https://market.android.com/details?id=com.foodguts.flavor\">Android</a> or <a href=\"http://itunes.apple.com/us/app/food-pairings/id388447570?mt=8&ls=1\">iPhone</a>, and/or <a href=\"document.forms[\\'donate\\'].submit();\" style=\"pointer:cursor\">donate.</a><br><br><div style=\"text-align:center\">\\n\\n\\n\\n<a href=\"http://www.amazon.com/gp/product/1460945603/ref=as_li_tf_tl?ie=UTF8&tag=krisssoccersi-20&linkCode=as2&camp=1789&creative=9325&creativeASIN=1460945603\"><img src=\"/img/amazon_logo.png\" style=\"width:300px\" alt=\"Buy on Amazon\"></a>\\n\\n<br><br>\\n\\n<a href=\"https://market.android.com/details?id=com.foodguts.flavor\"><img src=\"/img/android_badge.png\" alt=\"Download for Android\"></a>\\n\\n<br><br>\\n\\n<a href=\"http://itunes.apple.com/us/app/food-pairings/id388447570?mt=8&ls=1\"><img style=\"width:300px\" src=\"/img/appstore.png\" alt=\"Available in the App Store\"></a>\\n\\n\\n<br><br>\\n\\n<form name=\"donate\" id=\"donate\" action=\"https://www.paypal.com/cgi-bin/webscr\" method=\"post\">\\n<input type=\"hidden\" name=\"cmd\" value=\"_s-xclick\">\\n<input type=\"hidden\" name=\"hosted_button_id\" value=\"VXJ29VB7FSHM2\">\\n<input type=\"image\" src=\"https://www.paypalobjects.com/WEBSCR-640-20110401-1/en_US/i/btn/btn_donateCC_LG.gif\" border=\"0\" name=\"submit\" alt=\"PayPal - The safer, easier way to pay online!\">\\n<img alt=\"\" border=\"0\" src=\"https://www.paypalobjects.com/WEBSCR-640-20110401-1/en_US/i/scr/pixel.gif\" width=\"1\" height=\"1\">\\n</form>\\n</div>\\n\\n     </div>\\n     <div style=\"clear:both\"></div>\\n    </div>\\n    <div class=\"foot\">\\nPowered by <a href=\"http://www.recipepuppy.com\">Recipe Puppy</a>\\n    </div>\\n<script type=\"text/javascript\" src=\"http://www.assoc-amazon.com/s/link-enhancer?tag=krisssoccersi-20&o=1\">\\n</script>\\n<noscript>\\n    <img src=\"http://www.assoc-amazon.com/s/noscript?tag=krisssoccersi-20\" alt=\"\" />\\n</noscript>\\n\\n<script type=\"text/javascript\">\\n\\n  var _gaq = _gaq || [];\\n  _gaq.push([\\'_setAccount\\', \\'UA-367787-45\\']);\\n  _gaq.push([\\'_trackPageview\\']);\\n\\n  (function() {\\n    var ga = document.createElement(\\'script\\'); ga.type = \\'text/javascript\\'; ga.async = true;\\n    ga.src = (\\'https:\\' == document.location.protocol ? \\'https://ssl\\' : \\'http://www\\') + \\'.google-analytics.com/ga.js\\';\\n    var s = document.getElementsByTagName(\\'script\\')[0]; s.parentNode.insertBefore(ga, s);\\n  })();\\n\\n</script>\\n  </body>\\n</html>\\n'"
      ]
     },
     "execution_count": 14,
     "metadata": {},
     "output_type": "execute_result"
    }
   ],
   "source": [
    "r = requests.get('http://www.ingredientpairings.com/?i=croissant')\n",
    "r.text"
   ]
  },
  {
   "cell_type": "code",
   "execution_count": null,
   "metadata": {},
   "outputs": [],
   "source": []
  }
 ],
 "metadata": {
  "kernelspec": {
   "display_name": "Python 3",
   "language": "python",
   "name": "python3"
  },
  "language_info": {
   "codemirror_mode": {
    "name": "ipython",
    "version": 3
   },
   "file_extension": ".py",
   "mimetype": "text/x-python",
   "name": "python",
   "nbconvert_exporter": "python",
   "pygments_lexer": "ipython3",
   "version": "3.7.6"
  }
 },
 "nbformat": 4,
 "nbformat_minor": 4
}
