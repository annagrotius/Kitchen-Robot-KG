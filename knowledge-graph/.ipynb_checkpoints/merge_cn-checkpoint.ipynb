{
 "cells": [
  {
   "cell_type": "markdown",
   "metadata": {},
   "source": [
    "This notebook is used to merge the Concept Net graph created to the KitchenConcepts+Affordance graph."
   ]
  },
  {
   "cell_type": "code",
   "execution_count": 1,
   "metadata": {},
   "outputs": [],
   "source": [
    "from rdflib import Graph, Namespace, RDF, URIRef, RDFS\n",
    "from rdflib.namespace import OWL, SKOS\n",
    "import spacy\n",
    "nlp = spacy.load('en_core_web_sm')\n",
    "import pandas as pd"
   ]
  },
  {
   "cell_type": "code",
   "execution_count": 2,
   "metadata": {},
   "outputs": [],
   "source": [
    "def create_namespace(graph, namespace, prefix):\n",
    "    \"\"\"\n",
    "    Binds a namespace to a given graph.\n",
    "    Args:\n",
    "        - graph: graph object\n",
    "        - namespace: uri of the namespace to be bound to the graph\n",
    "        - prefix: the prefix of the given namespace\n",
    "    Output: namespace instance bound to a specified graph\n",
    "    \"\"\"\n",
    "    ns = Namespace(namespace)\n",
    "    graph.namespace_manager.bind(prefix, namespace)\n",
    "\n",
    "    return ns"
   ]
  },
  {
   "cell_type": "code",
   "execution_count": 3,
   "metadata": {},
   "outputs": [
    {
     "data": {
      "text/plain": [
       "<Graph identifier=Ne3ef20b46bc94f73997947d0937746e2 (<class 'rdflib.graph.Graph'>)>"
      ]
     },
     "execution_count": 3,
     "metadata": {},
     "output_type": "execute_result"
    }
   ],
   "source": [
    "# load graphs to be merged\n",
    "base_graph_file = \"./graphs/aff_bft_open_graph.ttl\"\n",
    "cn_graph_file = \"../data/ConceptNet/parse/cn_graph.ttl\"\n",
    "base_g = Graph()\n",
    "cn_g = Graph()\n",
    "base_g.parse(base_graph_file, format= 'turtle')\n",
    "cn_g.parse(cn_graph_file, format= 'turtle')"
   ]
  },
  {
   "cell_type": "code",
   "execution_count": 4,
   "metadata": {},
   "outputs": [
    {
     "data": {
      "text/plain": [
       "2910"
      ]
     },
     "execution_count": 4,
     "metadata": {},
     "output_type": "execute_result"
    }
   ],
   "source": [
    "# merge graphs\n",
    "merged_g = Graph()\n",
    "merged_g = base_g + cn_g\n",
    "len(merged_g)"
   ]
  },
  {
   "cell_type": "code",
   "execution_count": 5,
   "metadata": {},
   "outputs": [],
   "source": [
    "# remove unnecessary owl ontology triple\n",
    "for s,p,o in merged_g.triples((None,RDF.type,OWL.Ontology)):\n",
    "    if s == 'http://test.org/cn.owl':\n",
    "        merged_g.remove((s,p,o))"
   ]
  },
  {
   "cell_type": "markdown",
   "metadata": {},
   "source": [
    "## Linking CN Relations with aff ontology"
   ]
  },
  {
   "cell_type": "code",
   "execution_count": 6,
   "metadata": {},
   "outputs": [],
   "source": [
    "cnr_ns = create_namespace(merged_g, \"http://api.conceptnet.io/r/\", 'cnr')\n",
    "cnc_ns = create_namespace(merged_g, \"http://api.conceptnet.io/c/\", 'cnc')\n",
    "aff_ns = create_namespace(merged_g, \"http://test.org/affordance.owl#\", 'aff')\n",
    "kchn_ns = create_namespace(merged_g, \"http://test.org/kitchen.owl#\", 'kchn')\n",
    "skos_ns = create_namespace(merged_g, \"http://www.w3.org/2004/02/skos/core#\", 'skos')"
   ]
  },
  {
   "cell_type": "markdown",
   "metadata": {},
   "source": [
    "#### Relation: _cnr:UsedFor_ --> action instances and affordance subclasses"
   ]
  },
  {
   "cell_type": "code",
   "execution_count": 7,
   "metadata": {
    "scrolled": true
   },
   "outputs": [
    {
     "data": {
      "text/html": [
       "<div>\n",
       "<style scoped>\n",
       "    .dataframe tbody tr th:only-of-type {\n",
       "        vertical-align: middle;\n",
       "    }\n",
       "\n",
       "    .dataframe tbody tr th {\n",
       "        vertical-align: top;\n",
       "    }\n",
       "\n",
       "    .dataframe thead th {\n",
       "        text-align: right;\n",
       "    }\n",
       "</style>\n",
       "<table border=\"1\" class=\"dataframe\">\n",
       "  <thead>\n",
       "    <tr style=\"text-align: right;\">\n",
       "      <th></th>\n",
       "      <th>entities</th>\n",
       "      <th>usage_o</th>\n",
       "      <th>usage_phrase_list</th>\n",
       "      <th>aff_class</th>\n",
       "    </tr>\n",
       "  </thead>\n",
       "  <tbody>\n",
       "    <tr>\n",
       "      <th>0</th>\n",
       "      <td>en/apple</td>\n",
       "      <td>eating</td>\n",
       "      <td>eating</td>\n",
       "      <td>NaN</td>\n",
       "    </tr>\n",
       "    <tr>\n",
       "      <th>1</th>\n",
       "      <td>en/spoon</td>\n",
       "      <td>stir_soup</td>\n",
       "      <td>stir soup</td>\n",
       "      <td>NaN</td>\n",
       "    </tr>\n",
       "    <tr>\n",
       "      <th>2</th>\n",
       "      <td>en/knife</td>\n",
       "      <td>taking_off_ends</td>\n",
       "      <td>taking off ends</td>\n",
       "      <td>NaN</td>\n",
       "    </tr>\n",
       "    <tr>\n",
       "      <th>3</th>\n",
       "      <td>en/knife</td>\n",
       "      <td>forceful_moves</td>\n",
       "      <td>forceful moves</td>\n",
       "      <td>NaN</td>\n",
       "    </tr>\n",
       "    <tr>\n",
       "      <th>4</th>\n",
       "      <td>en/knife</td>\n",
       "      <td>prying_things_out</td>\n",
       "      <td>prying things out</td>\n",
       "      <td>NaN</td>\n",
       "    </tr>\n",
       "    <tr>\n",
       "      <th>5</th>\n",
       "      <td>en/cupboard</td>\n",
       "      <td>dishes</td>\n",
       "      <td>dishes</td>\n",
       "      <td>NaN</td>\n",
       "    </tr>\n",
       "    <tr>\n",
       "      <th>6</th>\n",
       "      <td>en/knife</td>\n",
       "      <td>carving_features</td>\n",
       "      <td>carving features</td>\n",
       "      <td>NaN</td>\n",
       "    </tr>\n",
       "    <tr>\n",
       "      <th>7</th>\n",
       "      <td>en/apple</td>\n",
       "      <td>make_pie</td>\n",
       "      <td>make pie</td>\n",
       "      <td>NaN</td>\n",
       "    </tr>\n",
       "    <tr>\n",
       "      <th>8</th>\n",
       "      <td>en/refrigerator</td>\n",
       "      <td>chilling_food</td>\n",
       "      <td>chilling food</td>\n",
       "      <td>NaN</td>\n",
       "    </tr>\n",
       "    <tr>\n",
       "      <th>9</th>\n",
       "      <td>en/cupboard</td>\n",
       "      <td>storing_junk</td>\n",
       "      <td>storing junk</td>\n",
       "      <td>NaN</td>\n",
       "    </tr>\n",
       "    <tr>\n",
       "      <th>10</th>\n",
       "      <td>en/cupboard</td>\n",
       "      <td>keeping_things_tidy</td>\n",
       "      <td>keeping things tidy</td>\n",
       "      <td>NaN</td>\n",
       "    </tr>\n",
       "    <tr>\n",
       "      <th>11</th>\n",
       "      <td>en/killing_people</td>\n",
       "      <td>knife</td>\n",
       "      <td>knife</td>\n",
       "      <td>NaN</td>\n",
       "    </tr>\n",
       "    <tr>\n",
       "      <th>12</th>\n",
       "      <td>en/refrigerator</td>\n",
       "      <td>making_ice</td>\n",
       "      <td>making ice</td>\n",
       "      <td>NaN</td>\n",
       "    </tr>\n",
       "    <tr>\n",
       "      <th>13</th>\n",
       "      <td>en/knife</td>\n",
       "      <td>breaking_down_into_pieces</td>\n",
       "      <td>breaking down into pieces</td>\n",
       "      <td>NaN</td>\n",
       "    </tr>\n",
       "    <tr>\n",
       "      <th>14</th>\n",
       "      <td>en/dining_table</td>\n",
       "      <td>working_on_hobby</td>\n",
       "      <td>working on hobby</td>\n",
       "      <td>NaN</td>\n",
       "    </tr>\n",
       "    <tr>\n",
       "      <th>15</th>\n",
       "      <td>en/knife</td>\n",
       "      <td>spreading_cheese</td>\n",
       "      <td>spreading cheese</td>\n",
       "      <td>NaN</td>\n",
       "    </tr>\n",
       "    <tr>\n",
       "      <th>16</th>\n",
       "      <td>en/knife</td>\n",
       "      <td>separating</td>\n",
       "      <td>separating</td>\n",
       "      <td>NaN</td>\n",
       "    </tr>\n",
       "    <tr>\n",
       "      <th>17</th>\n",
       "      <td>en/refrigerator</td>\n",
       "      <td>making_drinks_cool</td>\n",
       "      <td>making drinks cool</td>\n",
       "      <td>NaN</td>\n",
       "    </tr>\n",
       "    <tr>\n",
       "      <th>18</th>\n",
       "      <td>en/knife</td>\n",
       "      <td>chopping_vegetables</td>\n",
       "      <td>chopping vegetables</td>\n",
       "      <td>NaN</td>\n",
       "    </tr>\n",
       "    <tr>\n",
       "      <th>19</th>\n",
       "      <td>en/cupboard</td>\n",
       "      <td>storing_bones</td>\n",
       "      <td>storing bones</td>\n",
       "      <td>NaN</td>\n",
       "    </tr>\n",
       "    <tr>\n",
       "      <th>20</th>\n",
       "      <td>en/knife</td>\n",
       "      <td>fighting</td>\n",
       "      <td>fighting</td>\n",
       "      <td>NaN</td>\n",
       "    </tr>\n",
       "    <tr>\n",
       "      <th>21</th>\n",
       "      <td>en/dining_table</td>\n",
       "      <td>eat_dinner_on</td>\n",
       "      <td>eat dinner on</td>\n",
       "      <td>NaN</td>\n",
       "    </tr>\n",
       "    <tr>\n",
       "      <th>22</th>\n",
       "      <td>en/apple</td>\n",
       "      <td>making_pie</td>\n",
       "      <td>making pie</td>\n",
       "      <td>NaN</td>\n",
       "    </tr>\n",
       "    <tr>\n",
       "      <th>23</th>\n",
       "      <td>en/apple</td>\n",
       "      <td>making_apple_pie</td>\n",
       "      <td>making apple pie</td>\n",
       "      <td>NaN</td>\n",
       "    </tr>\n",
       "    <tr>\n",
       "      <th>24</th>\n",
       "      <td>en/dining_table</td>\n",
       "      <td>discussions</td>\n",
       "      <td>discussions</td>\n",
       "      <td>NaN</td>\n",
       "    </tr>\n",
       "    <tr>\n",
       "      <th>25</th>\n",
       "      <td>en/knife</td>\n",
       "      <td>making_hole</td>\n",
       "      <td>making hole</td>\n",
       "      <td>NaN</td>\n",
       "    </tr>\n",
       "    <tr>\n",
       "      <th>26</th>\n",
       "      <td>en/spoon</td>\n",
       "      <td>taking_cough_syrup</td>\n",
       "      <td>taking cough syrup</td>\n",
       "      <td>NaN</td>\n",
       "    </tr>\n",
       "    <tr>\n",
       "      <th>27</th>\n",
       "      <td>en/dining_table</td>\n",
       "      <td>holding_center_pieces</td>\n",
       "      <td>holding center pieces</td>\n",
       "      <td>NaN</td>\n",
       "    </tr>\n",
       "    <tr>\n",
       "      <th>28</th>\n",
       "      <td>en/coffee</td>\n",
       "      <td>staying_awake</td>\n",
       "      <td>staying awake</td>\n",
       "      <td>NaN</td>\n",
       "    </tr>\n",
       "    <tr>\n",
       "      <th>29</th>\n",
       "      <td>en/knife</td>\n",
       "      <td>turning_screw</td>\n",
       "      <td>turning screw</td>\n",
       "      <td>NaN</td>\n",
       "    </tr>\n",
       "    <tr>\n",
       "      <th>30</th>\n",
       "      <td>en/spoon</td>\n",
       "      <td>people_to_eat_cereal_with</td>\n",
       "      <td>people to eat cereal with</td>\n",
       "      <td>NaN</td>\n",
       "    </tr>\n",
       "    <tr>\n",
       "      <th>31</th>\n",
       "      <td>en/knife</td>\n",
       "      <td>making_mark</td>\n",
       "      <td>making mark</td>\n",
       "      <td>NaN</td>\n",
       "    </tr>\n",
       "    <tr>\n",
       "      <th>32</th>\n",
       "      <td>en/dining_table</td>\n",
       "      <td>special_occassions</td>\n",
       "      <td>special occassions</td>\n",
       "      <td>NaN</td>\n",
       "    </tr>\n",
       "    <tr>\n",
       "      <th>33</th>\n",
       "      <td>en/cupboard</td>\n",
       "      <td>coffee_mugs</td>\n",
       "      <td>coffee mugs</td>\n",
       "      <td>NaN</td>\n",
       "    </tr>\n",
       "    <tr>\n",
       "      <th>34</th>\n",
       "      <td>en/knife</td>\n",
       "      <td>scratching</td>\n",
       "      <td>scratching</td>\n",
       "      <td>NaN</td>\n",
       "    </tr>\n",
       "    <tr>\n",
       "      <th>35</th>\n",
       "      <td>en/cupboard</td>\n",
       "      <td>storing_things</td>\n",
       "      <td>storing things</td>\n",
       "      <td>NaN</td>\n",
       "    </tr>\n",
       "    <tr>\n",
       "      <th>36</th>\n",
       "      <td>en/refrigerator</td>\n",
       "      <td>keeping_food_from_decaying_quickly</td>\n",
       "      <td>keeping food from decaying quickly</td>\n",
       "      <td>NaN</td>\n",
       "    </tr>\n",
       "    <tr>\n",
       "      <th>37</th>\n",
       "      <td>en/knife</td>\n",
       "      <td>cutting_meat</td>\n",
       "      <td>cutting meat</td>\n",
       "      <td>NaN</td>\n",
       "    </tr>\n",
       "    <tr>\n",
       "      <th>38</th>\n",
       "      <td>en/dining_table</td>\n",
       "      <td>drinking_on</td>\n",
       "      <td>drinking on</td>\n",
       "      <td>NaN</td>\n",
       "    </tr>\n",
       "    <tr>\n",
       "      <th>39</th>\n",
       "      <td>en/fork</td>\n",
       "      <td>eat</td>\n",
       "      <td>eat</td>\n",
       "      <td>NaN</td>\n",
       "    </tr>\n",
       "    <tr>\n",
       "      <th>40</th>\n",
       "      <td>en/knife</td>\n",
       "      <td>boning</td>\n",
       "      <td>boning</td>\n",
       "      <td>NaN</td>\n",
       "    </tr>\n",
       "    <tr>\n",
       "      <th>41</th>\n",
       "      <td>en/fork</td>\n",
       "      <td>eat_vegetables</td>\n",
       "      <td>eat vegetables</td>\n",
       "      <td>NaN</td>\n",
       "    </tr>\n",
       "    <tr>\n",
       "      <th>42</th>\n",
       "      <td>en/fork</td>\n",
       "      <td>providing_choice</td>\n",
       "      <td>providing choice</td>\n",
       "      <td>NaN</td>\n",
       "    </tr>\n",
       "    <tr>\n",
       "      <th>43</th>\n",
       "      <td>en/cupboard</td>\n",
       "      <td>holding_silverware</td>\n",
       "      <td>holding silverware</td>\n",
       "      <td>NaN</td>\n",
       "    </tr>\n",
       "    <tr>\n",
       "      <th>44</th>\n",
       "      <td>en/fork</td>\n",
       "      <td>lifting_food_from_plate_to_mouth</td>\n",
       "      <td>lifting food from plate to mouth</td>\n",
       "      <td>NaN</td>\n",
       "    </tr>\n",
       "    <tr>\n",
       "      <th>45</th>\n",
       "      <td>en/glass</td>\n",
       "      <td>drinking</td>\n",
       "      <td>drinking</td>\n",
       "      <td>NaN</td>\n",
       "    </tr>\n",
       "    <tr>\n",
       "      <th>46</th>\n",
       "      <td>en/coffee</td>\n",
       "      <td>waking_up_in_morning</td>\n",
       "      <td>waking up in morning</td>\n",
       "      <td>NaN</td>\n",
       "    </tr>\n",
       "    <tr>\n",
       "      <th>47</th>\n",
       "      <td>en/knife</td>\n",
       "      <td>playing_throwing_games</td>\n",
       "      <td>playing throwing games</td>\n",
       "      <td>NaN</td>\n",
       "    </tr>\n",
       "    <tr>\n",
       "      <th>48</th>\n",
       "      <td>en/spoon</td>\n",
       "      <td>stir_food</td>\n",
       "      <td>stir food</td>\n",
       "      <td>NaN</td>\n",
       "    </tr>\n",
       "    <tr>\n",
       "      <th>49</th>\n",
       "      <td>en/fork</td>\n",
       "      <td>eating_meat</td>\n",
       "      <td>eating meat</td>\n",
       "      <td>NaN</td>\n",
       "    </tr>\n",
       "  </tbody>\n",
       "</table>\n",
       "</div>"
      ],
      "text/plain": [
       "             entities                             usage_o  \\\n",
       "0            en/apple                              eating   \n",
       "1            en/spoon                           stir_soup   \n",
       "2            en/knife                     taking_off_ends   \n",
       "3            en/knife                      forceful_moves   \n",
       "4            en/knife                   prying_things_out   \n",
       "5         en/cupboard                              dishes   \n",
       "6            en/knife                    carving_features   \n",
       "7            en/apple                            make_pie   \n",
       "8     en/refrigerator                       chilling_food   \n",
       "9         en/cupboard                        storing_junk   \n",
       "10        en/cupboard                 keeping_things_tidy   \n",
       "11  en/killing_people                               knife   \n",
       "12    en/refrigerator                          making_ice   \n",
       "13           en/knife           breaking_down_into_pieces   \n",
       "14    en/dining_table                    working_on_hobby   \n",
       "15           en/knife                    spreading_cheese   \n",
       "16           en/knife                          separating   \n",
       "17    en/refrigerator                  making_drinks_cool   \n",
       "18           en/knife                 chopping_vegetables   \n",
       "19        en/cupboard                       storing_bones   \n",
       "20           en/knife                            fighting   \n",
       "21    en/dining_table                       eat_dinner_on   \n",
       "22           en/apple                          making_pie   \n",
       "23           en/apple                    making_apple_pie   \n",
       "24    en/dining_table                         discussions   \n",
       "25           en/knife                         making_hole   \n",
       "26           en/spoon                  taking_cough_syrup   \n",
       "27    en/dining_table               holding_center_pieces   \n",
       "28          en/coffee                       staying_awake   \n",
       "29           en/knife                       turning_screw   \n",
       "30           en/spoon           people_to_eat_cereal_with   \n",
       "31           en/knife                         making_mark   \n",
       "32    en/dining_table                  special_occassions   \n",
       "33        en/cupboard                         coffee_mugs   \n",
       "34           en/knife                          scratching   \n",
       "35        en/cupboard                      storing_things   \n",
       "36    en/refrigerator  keeping_food_from_decaying_quickly   \n",
       "37           en/knife                        cutting_meat   \n",
       "38    en/dining_table                         drinking_on   \n",
       "39            en/fork                                 eat   \n",
       "40           en/knife                              boning   \n",
       "41            en/fork                      eat_vegetables   \n",
       "42            en/fork                    providing_choice   \n",
       "43        en/cupboard                  holding_silverware   \n",
       "44            en/fork    lifting_food_from_plate_to_mouth   \n",
       "45           en/glass                            drinking   \n",
       "46          en/coffee                waking_up_in_morning   \n",
       "47           en/knife              playing_throwing_games   \n",
       "48           en/spoon                           stir_food   \n",
       "49            en/fork                         eating_meat   \n",
       "\n",
       "                     usage_phrase_list aff_class  \n",
       "0                               eating       NaN  \n",
       "1                            stir soup       NaN  \n",
       "2                      taking off ends       NaN  \n",
       "3                       forceful moves       NaN  \n",
       "4                    prying things out       NaN  \n",
       "5                               dishes       NaN  \n",
       "6                     carving features       NaN  \n",
       "7                             make pie       NaN  \n",
       "8                        chilling food       NaN  \n",
       "9                         storing junk       NaN  \n",
       "10                 keeping things tidy       NaN  \n",
       "11                               knife       NaN  \n",
       "12                          making ice       NaN  \n",
       "13           breaking down into pieces       NaN  \n",
       "14                    working on hobby       NaN  \n",
       "15                    spreading cheese       NaN  \n",
       "16                          separating       NaN  \n",
       "17                  making drinks cool       NaN  \n",
       "18                 chopping vegetables       NaN  \n",
       "19                       storing bones       NaN  \n",
       "20                            fighting       NaN  \n",
       "21                       eat dinner on       NaN  \n",
       "22                          making pie       NaN  \n",
       "23                    making apple pie       NaN  \n",
       "24                         discussions       NaN  \n",
       "25                         making hole       NaN  \n",
       "26                  taking cough syrup       NaN  \n",
       "27               holding center pieces       NaN  \n",
       "28                       staying awake       NaN  \n",
       "29                       turning screw       NaN  \n",
       "30           people to eat cereal with       NaN  \n",
       "31                         making mark       NaN  \n",
       "32                  special occassions       NaN  \n",
       "33                         coffee mugs       NaN  \n",
       "34                          scratching       NaN  \n",
       "35                      storing things       NaN  \n",
       "36  keeping food from decaying quickly       NaN  \n",
       "37                        cutting meat       NaN  \n",
       "38                         drinking on       NaN  \n",
       "39                                 eat       NaN  \n",
       "40                              boning       NaN  \n",
       "41                      eat vegetables       NaN  \n",
       "42                    providing choice       NaN  \n",
       "43                  holding silverware       NaN  \n",
       "44    lifting food from plate to mouth       NaN  \n",
       "45                            drinking       NaN  \n",
       "46                waking up in morning       NaN  \n",
       "47              playing throwing games       NaN  \n",
       "48                           stir food       NaN  \n",
       "49                         eating meat       NaN  "
      ]
     },
     "execution_count": 7,
     "metadata": {},
     "output_type": "execute_result"
    }
   ],
   "source": [
    "# create Actions from cnr:UsedFor using SpaCy\n",
    "\n",
    "# create a df to store data about the cnr:UsedFor relation\n",
    "aff_df = pd.DataFrame(columns=['entities', 'usage_o', 'usage_phrase_list', 'aff_class'])\n",
    "\n",
    "# lists to store df column values\n",
    "entities = []\n",
    "usages = []\n",
    "usage_phrase_list = []\n",
    "\n",
    "# iterate through graph triples with UsedFor relation\n",
    "# Object values are the usages that will be actions and their VERB will be subclasses of affordances\n",
    "for s,p,o in merged_g.triples( (None, cnr_ns.UsedFor, None) ):\n",
    "    usages.append(o[30:])\n",
    "    entities.append(s[27:])\n",
    "    usage_phrase = ' '.join(o[30:].split('_'))\n",
    "    usage_phrase_list.append(usage_phrase)\n",
    "\n",
    "# fill df\n",
    "aff_df.entities = entities\n",
    "aff_df.usage_o = usages\n",
    "aff_df.usage_phrase_list = usage_phrase_list\n",
    "aff_df.head(50)"
   ]
  },
  {
   "cell_type": "code",
   "execution_count": 8,
   "metadata": {},
   "outputs": [],
   "source": [
    "def get_aff_subclass(text):\n",
    "    \"\"\"\n",
    "    Determines the affordance action from the object value of the cnr:UsedFor triples. \n",
    "    Args:\n",
    "        text: value in dataframe cell\n",
    "    Returns:\n",
    "        action (str): action value that will be a subclass of Affordance\n",
    "    \"\"\"\n",
    "    verb_exists = False\n",
    "    words = []\n",
    "    pos = []\n",
    "    tokens = []\n",
    "    doc = nlp(text)\n",
    "    for tok in doc:\n",
    "        word = tok.text\n",
    "        pos_ = tok.pos_\n",
    "        tokens.append(tok)\n",
    "        words.append(word)\n",
    "        pos.append(pos_)\n",
    "        \n",
    "    if \"VERB\" in pos:\n",
    "        pos_index = pos.index(\"VERB\")\n",
    "        verb_word = words[pos_index]\n",
    "        verb_exists = True\n",
    "    else:\n",
    "        action = None\n",
    "    \n",
    "    if verb_exists:\n",
    "        if verb_word[-3:] == 'ing':\n",
    "            action = verb_word.capitalize()\n",
    "        else:\n",
    "            action = verb_word.capitalize() +'ing'\n",
    "    \n",
    "    return action"
   ]
  },
  {
   "cell_type": "code",
   "execution_count": 9,
   "metadata": {},
   "outputs": [],
   "source": [
    "# apply the function above to the df\n",
    "aff_df['aff_class'] = aff_df['usage_phrase_list'].apply(get_aff_subclass)"
   ]
  },
  {
   "cell_type": "code",
   "execution_count": 10,
   "metadata": {
    "scrolled": true
   },
   "outputs": [
    {
     "data": {
      "text/plain": [
       "{'Arranging',\n",
       " 'Attaching',\n",
       " 'Attacking',\n",
       " 'Breaking',\n",
       " 'Carving',\n",
       " 'Causing',\n",
       " 'Chilling',\n",
       " 'Chopping',\n",
       " 'Complementing',\n",
       " 'Completing',\n",
       " 'Conserving',\n",
       " 'Consuming',\n",
       " 'Cooling',\n",
       " 'Counting',\n",
       " 'Cracking',\n",
       " 'Cuting',\n",
       " 'Cutting',\n",
       " 'Decorating',\n",
       " 'Digging',\n",
       " 'Dishing',\n",
       " 'Dividing',\n",
       " 'Doing',\n",
       " 'Drinking',\n",
       " 'Eating',\n",
       " 'Engraving',\n",
       " 'Enjoying',\n",
       " 'Entertaining',\n",
       " 'Extending',\n",
       " 'Fighting',\n",
       " 'Flinging',\n",
       " 'Freezing',\n",
       " 'Gashing',\n",
       " 'Getting',\n",
       " 'Giving',\n",
       " 'Gouging',\n",
       " 'Hanging',\n",
       " 'Having',\n",
       " 'Holding',\n",
       " 'Illustrating',\n",
       " 'Keeping',\n",
       " 'Killing',\n",
       " 'Laying',\n",
       " 'Leaveing',\n",
       " 'Leaving',\n",
       " 'Letting',\n",
       " 'Lifting',\n",
       " 'Living',\n",
       " 'Makeing',\n",
       " 'Making',\n",
       " 'Measuring',\n",
       " 'Mixing',\n",
       " 'Moving',\n",
       " None,\n",
       " 'Pareing',\n",
       " 'Paring',\n",
       " 'Peeling',\n",
       " 'Picking',\n",
       " 'Piercing',\n",
       " 'Placing',\n",
       " 'Playing',\n",
       " 'Posting',\n",
       " 'Preserving',\n",
       " 'Preventing',\n",
       " 'Pricking',\n",
       " 'Providing',\n",
       " 'Prying',\n",
       " 'Putting',\n",
       " 'Refrigerating',\n",
       " 'Removing',\n",
       " 'Representing',\n",
       " 'Ripping',\n",
       " 'Saving',\n",
       " 'Scooping',\n",
       " 'Scoring',\n",
       " 'Scratching',\n",
       " 'Seeing',\n",
       " 'Separating',\n",
       " 'Serving',\n",
       " 'Severing',\n",
       " 'Sitting',\n",
       " 'Skinning',\n",
       " 'Spearing',\n",
       " 'Spreading',\n",
       " 'Stacking',\n",
       " 'Staying',\n",
       " 'Stiring',\n",
       " 'Stirring',\n",
       " 'Storeing',\n",
       " 'Storing',\n",
       " 'Taking',\n",
       " 'Tempting',\n",
       " 'Threatening',\n",
       " 'Transporting',\n",
       " 'Trimming',\n",
       " 'Turning',\n",
       " 'Unraveling',\n",
       " 'Waking',\n",
       " 'Working'}"
      ]
     },
     "execution_count": 10,
     "metadata": {},
     "output_type": "execute_result"
    }
   ],
   "source": [
    "# check if there are any mispellings with the affordances created\n",
    "affs = set(aff_df['aff_class'].to_list())\n",
    "affs"
   ]
  },
  {
   "cell_type": "code",
   "execution_count": 11,
   "metadata": {
    "scrolled": true
   },
   "outputs": [],
   "source": [
    "def filter_col(text):\n",
    "    \"\"\"\n",
    "    For the action affordances determined, filter out specific words that resulted with typos.\n",
    "    Args:\n",
    "        text: value in dataframe cell\n",
    "    Returns:\n",
    "        action (str): edited value\n",
    "    \"\"\"            \n",
    "    edit_out = ['Storeing', 'Stiring', 'Runing', 'Pareing', 'Serveding', 'Leaveing', 'Makeing', 'Cuting', 'Leaveing', 'Storeing']\n",
    "    edit_in = ['Storing', 'Stirring', 'Running', 'Paring', 'Serving', 'Leaving', 'Making', 'Cutting', 'Leaving', 'Storing']\n",
    "    \n",
    "    if text in edit_out:\n",
    "        index = edit_out.index(text)\n",
    "        new_text = edit_in[index]\n",
    "        return new_text\n",
    "    else:\n",
    "        return text\n",
    "        \n",
    "# apply the function to the df\n",
    "aff_df['aff_class'] = aff_df['aff_class'].apply(filter_col)           "
   ]
  },
  {
   "cell_type": "code",
   "execution_count": 12,
   "metadata": {
    "scrolled": true
   },
   "outputs": [],
   "source": [
    "# create the desired triples for the graph\n",
    "\n",
    "# < affordance subclass, rdfs:subClassOf, aff:Affordance >\n",
    "action_affs = aff_df.aff_class.to_list()\n",
    "action_affs_set = set(action_affs)\n",
    "action_affs_set.remove(None)\n",
    "for aff in action_affs_set:\n",
    "    merged_g.add( (aff_ns[URIRef(aff)], RDFS.subClassOf, aff_ns.Affordance) )\n",
    "\n",
    "for index, row in aff_df.iterrows():\n",
    "    # < UsedFor object, a, aff:Action >\n",
    "    merged_g.add( (cnc_ns['en/' + row['usage_o']], RDF.type, aff_ns.Action) )\n",
    "    merged_g.add( (cnc_ns[row['entities']], aff_ns.potential_action, cnc_ns['en/' + row['usage_o']]) )\n",
    "    # < UsedFor object, a, Affordance Subclass >\n",
    "    if row['aff_class'] == None:\n",
    "        continue\n",
    "    else:\n",
    "        merged_g.add( (cnc_ns['en/' + row['usage_o']], aff_ns.action_affordance, aff_ns[row['aff_class']]) )\n",
    "        merged_g.add( (cnc_ns[row['entities']], aff_ns.affords, aff_ns[row['aff_class']]) )\n",
    "#         print((cnc_ns[row['entities']], aff_ns.affords, aff_ns[row['aff_class']]))\n",
    "#         print(aff_ns[row['aff_class']])\n",
    "    "
   ]
  },
  {
   "cell_type": "markdown",
   "metadata": {},
   "source": [
    "#### Relation: _cnr:ReceivesAction_ --> removing these triples because other relations give similar information"
   ]
  },
  {
   "cell_type": "code",
   "execution_count": 13,
   "metadata": {},
   "outputs": [],
   "source": [
    "for s,p,o in merged_g.triples( (None, cnr_ns.ReceivesAction, None) ):\n",
    "    merged_g.remove( (cnc_ns[s[27:]], cnr_ns.ReceivesAction, cnc_ns[o[27:]]) )"
   ]
  },
  {
   "cell_type": "markdown",
   "metadata": {},
   "source": [
    "#### Relation: _cnr:MadeOf_ --> only keep triples in which the subject of the triple is an instance of the BFT onto"
   ]
  },
  {
   "cell_type": "code",
   "execution_count": 14,
   "metadata": {},
   "outputs": [],
   "source": [
    "instances = ['milk', 'apple', 'lemon', 'refrigerator', 'coffee', 'croissant', 'garnish', 'hardboiled_egg', 'scrambled_egg', 'fried_egg', 'orange_juice', 'apple_juice', 'butter', 'salt_shaker', 'pepper_shaker', 'bread_basket', 'egg_cup', 'milk_pitcher', 'fork', 'knife', 'spoon', 'butter_knife', 'glass', 'teacup', 'sauce_dish', 'butter_dish', 'bread_plate', 'teacup_plate', 'dining_table', 'dining_chair', 'cupboard']"
   ]
  },
  {
   "cell_type": "code",
   "execution_count": 16,
   "metadata": {},
   "outputs": [],
   "source": [
    "for s,p,o in merged_g.triples( (None, cnr_ns.MadeOf, None) ):\n",
    "    if s[30:] not in instances:\n",
    "        merged_g.remove( (cnc_ns[s[27:]], cnr_ns.MadeOf, cnc_ns[o[27:]]) )"
   ]
  },
  {
   "cell_type": "markdown",
   "metadata": {},
   "source": [
    "#### Relation: _cnr:PartOf_ --> remove triples about glass because they are not very relevant to the kitchen domain"
   ]
  },
  {
   "cell_type": "code",
   "execution_count": 17,
   "metadata": {},
   "outputs": [],
   "source": [
    "for s,p,o in merged_g.triples( (None, cnr_ns.PartOf, None) ):\n",
    "    if \"glass\" in s[30:]:\n",
    "        merged_g.remove( (cnc_ns[s[27:]], cnr_ns.PartOf, cnc_ns[o[27:]]) )"
   ]
  },
  {
   "cell_type": "markdown",
   "metadata": {},
   "source": [
    "#### Relation: _cnr:HasPrequisite_ --> allocate 'A' in cnr:HasPrerequisite to a instance of aff:Action"
   ]
  },
  {
   "cell_type": "code",
   "execution_count": 18,
   "metadata": {},
   "outputs": [],
   "source": [
    "action_classes = set()\n",
    "actions = []\n",
    "for s,p,o in merged_g.triples( (None, cnr_ns.HasPrerequisite, None) ):\n",
    "    action_verb = s[30:].split('_')\n",
    "    action_aff = action_verb[0]\n",
    "    action_aff_uri = URIRef(action_aff.capitalize())\n",
    "    merged_g.add( (cnc_ns[s[27:]], RDF.type, aff_ns.Action) )\n",
    "    merged_g.add( (aff_ns[action_aff_uri], RDFS.subClassOf, aff_ns.Affordance) )\n",
    "    merged_g.add( (cnc_ns[s[27:]], RDF.type, aff_ns[action_aff_uri]) )\n",
    "    merged_g.add( (cnc_ns[o[27:]], aff_ns.potential_action, cnc_ns[s[27:]]) )"
   ]
  },
  {
   "cell_type": "markdown",
   "metadata": {},
   "source": [
    "## Linking CN Concepts with BFT ontology"
   ]
  },
  {
   "cell_type": "code",
   "execution_count": 20,
   "metadata": {},
   "outputs": [
    {
     "data": {
      "text/plain": [
       "1306"
      ]
     },
     "execution_count": 20,
     "metadata": {},
     "output_type": "execute_result"
    }
   ],
   "source": [
    "# query that gives me all of the unique subjects in the graph\n",
    "distinct_s = cn_g.query(\n",
    "\"\"\"\n",
    "prefix cn: <http://api.conceptnet.io/> \n",
    "prefix cnc: <http://api.conceptnet.io/c/> \n",
    "prefix cnr: <http://api.conceptnet.io/r/> \n",
    "prefix rdf: <http://www.w3.org/1999/02/22-rdf-syntax-ns#>\n",
    "prefix rdfs: <http://www.w3.org/2000/01/rdf-schema#> \n",
    "prefix wi: <http://purl.org/ontology/wi/core#> \n",
    "prefix xml: <http://www.w3.org/XML/1998/namespace> \n",
    "prefix xsd: <http://www.w3.org/2001/XMLSchema#>\n",
    "\n",
    "SELECT distinct ?s WHERE { \n",
    "  ?s ?p ?o.\n",
    "  FILTER(! (?p = cnr:ExternalURL) )\n",
    "}\n",
    "\"\"\")\n",
    "len(distinct_s)"
   ]
  },
  {
   "cell_type": "code",
   "execution_count": 21,
   "metadata": {},
   "outputs": [
    {
     "data": {
      "text/plain": [
       "749"
      ]
     },
     "execution_count": 21,
     "metadata": {},
     "output_type": "execute_result"
    }
   ],
   "source": [
    "# query that gives me all of the unique objects in the graph\n",
    "distinct_o = cn_g.query(\n",
    "\"\"\"\n",
    "prefix cnr: <http://api.conceptnet.io/r/> \n",
    "prefix rdf: <http://www.w3.org/1999/02/22-rdf-syntax-ns#>\n",
    "prefix rdfs: <http://www.w3.org/2000/01/rdf-schema#> \n",
    "prefix wi: <http://purl.org/ontology/wi/core#> \n",
    "prefix xml: <http://www.w3.org/XML/1998/namespace> \n",
    "prefix xsd: <http://www.w3.org/2001/XMLSchema#>\n",
    "\n",
    "SELECT distinct ?o WHERE { \n",
    "  ?s ?p ?o.\n",
    "  FILTER(! (?p = cnr:ExternalURL) )\n",
    "}\n",
    "\"\"\")\n",
    "len(distinct_o)"
   ]
  },
  {
   "cell_type": "markdown",
   "metadata": {},
   "source": [
    "### Levenshtein Distance to compare strings"
   ]
  },
  {
   "cell_type": "code",
   "execution_count": 22,
   "metadata": {},
   "outputs": [],
   "source": [
    "import enchant "
   ]
  },
  {
   "cell_type": "code",
   "execution_count": 23,
   "metadata": {
    "scrolled": true
   },
   "outputs": [
    {
     "name": "stdout",
     "output_type": "stream",
     "text": [
      "55\n"
     ]
    }
   ],
   "source": [
    "# entity linking of subjects \n",
    "c=0\n",
    "with open('test_s.txt', 'w') as file:  # using file to test out ratio threshold\n",
    "    for i in instances:\n",
    "        str1 = i\n",
    "        for r in distinct_s:\n",
    "            str2 = r.s[30:]\n",
    "            dist = enchant.utils.levenshtein(str1, str2)\n",
    "            ratio = ((len(str1)+len(str2)) - dist) / (len(str1)+len(str2))\n",
    "            if ratio > 0.83:\n",
    "                c +=1\n",
    "                file.write(f'{str(ratio)} -- {i} -- {r.s[30:]}\\n')\n",
    "                merged_g.add( (URIRef(f'http://test.org/bft.owl#{i}'), OWL.sameAs, cnc_ns[r.s[27:]]))\n",
    "print(c)"
   ]
  },
  {
   "cell_type": "code",
   "execution_count": 24,
   "metadata": {
    "scrolled": true
   },
   "outputs": [
    {
     "name": "stdout",
     "output_type": "stream",
     "text": [
      "24\n"
     ]
    }
   ],
   "source": [
    "# entity linking of objects \n",
    "c1=0\n",
    "with open('test_o.txt', 'w') as file:  # using file to test out ratio threshold\n",
    "    for i in instances:\n",
    "        str1 = i\n",
    "        for r in distinct_o:\n",
    "            str2 = r.o[30:]\n",
    "            dist = enchant.utils.levenshtein(str1, str2)\n",
    "            ratio = ((len(str1)+len(str2)) - dist) / (len(str1)+len(str2))\n",
    "            if ratio > 0.83:\n",
    "                c1 += 1\n",
    "                file.write(f'{str(ratio)} -- {i} -- {r.o[30:]}\\n')\n",
    "                merged_g.add( (URIRef(f'http://test.org/bft.owl#{i}'), OWL.sameAs, cnc_ns[r.o[27:]]))\n",
    "print(c1)"
   ]
  },
  {
   "cell_type": "code",
   "execution_count": 25,
   "metadata": {
    "scrolled": true
   },
   "outputs": [
    {
     "name": "stdout",
     "output_type": "stream",
     "text": [
      "35\n"
     ]
    }
   ],
   "source": [
    "# exact match of string matching (comparing how this works against the Levenshtein method)\n",
    "cnt = 0\n",
    "for i in instances:\n",
    "    for r in distinct_s:\n",
    "        if i == str(r.s[30:]):\n",
    "            cnt +=1\n",
    "    for r in distinct_o:\n",
    "        if i == str(r.o[30:]):\n",
    "            cnt +=1\n",
    "print(cnt)"
   ]
  },
  {
   "cell_type": "markdown",
   "metadata": {},
   "source": [
    "Observe that more links are created through the Levenshtein algorithm compared to the exact string match."
   ]
  },
  {
   "cell_type": "markdown",
   "metadata": {},
   "source": [
    "### Create closeMatch links"
   ]
  },
  {
   "cell_type": "code",
   "execution_count": 26,
   "metadata": {},
   "outputs": [],
   "source": [
    "# links instances following that the instance string is in the response string\n",
    "# eg. if instance is 'croissant' and the repsonse is 'butter_croissant', it would be a match\n",
    "\n",
    "same_as_objects = []\n",
    "for s,p,o in merged_g.triples( (None, OWL.sameAs, None) ):\n",
    "    same_as_objects.append(o[30:])\n",
    "\n",
    "with open('test_contains.txt', 'w') as file: \n",
    "    for i in instances:\n",
    "        for r in distinct_s:\n",
    "            s_concept = str(r.s[30:])\n",
    "            if i in s_concept:\n",
    "                if s_concept in same_as_objects: # if the concept is already linked with SameAs, don't link it with closeMatch\n",
    "                    continue\n",
    "                else:\n",
    "                    file.write(f'{i} ------- {str(r.s)}\\n')\n",
    "                    merged_g.add( (URIRef(f'http://test.org/bft.owl#{i}'), skos_ns.closeMatch, cnc_ns[r.s[30:]]) ) \n",
    "        for r in distinct_o:\n",
    "            o_concept = str(r.o[30:])\n",
    "            if i in o_concept:\n",
    "                if o_concept in same_as_objects:\n",
    "                    continue\n",
    "                else:\n",
    "                    file.write(f'{i} ------- {str(r.o)}\\n')\n",
    "                    merged_g.add( (URIRef(f'http://test.org/bft.owl#{i}'), skos_ns.closeMatch, cnc_ns[r.o[30:]]) )"
   ]
  },
  {
   "cell_type": "code",
   "execution_count": 27,
   "metadata": {},
   "outputs": [],
   "source": [
    "# gets data to create affords triples\n",
    "affords_q = merged_g.query(\n",
    "\"\"\"\n",
    "prefix aff: <http://test.org/affordance.owl#>\n",
    "prefix cn: <http://api.conceptnet.io/> \n",
    "prefix cnc: <http://api.conceptnet.io/c/> \n",
    "prefix cnr: <http://api.conceptnet.io/r/> \n",
    "prefix rdf: <http://www.w3.org/1999/02/22-rdf-syntax-ns#>\n",
    "prefix rdfs: <http://www.w3.org/2000/01/rdf-schema#> \n",
    "prefix xml: <http://www.w3.org/XML/1998/namespace> \n",
    "prefix xsd: <http://www.w3.org/2001/XMLSchema#>\n",
    "\n",
    "select ?ke ?aff where\n",
    "{\n",
    "  ?ke aff:potential_action ?action.\n",
    "  ?action a ?aff.\n",
    "  ?aff rdfs:subClassOf aff:Affordance.}\n",
    "\n",
    "\"\"\")"
   ]
  },
  {
   "cell_type": "code",
   "execution_count": 28,
   "metadata": {},
   "outputs": [],
   "source": [
    "for row in affords_q:\n",
    "    merged_g.add( (URIRef(cnc_ns[row.ke[27:]]), aff_ns.affords, URIRef(aff_ns[row.aff[31:]])) )"
   ]
  },
  {
   "cell_type": "markdown",
   "metadata": {},
   "source": [
    "### Serialize and save new merged graph with CN entities"
   ]
  },
  {
   "cell_type": "code",
   "execution_count": 29,
   "metadata": {},
   "outputs": [],
   "source": [
    "# first remove noisy triples\n",
    "merged_g.remove( (URIRef('http://test.org/bft.owl#fork'), OWL.sameAs, URIRef('http://api.conceptnet.io/c/en/pork')) )\n",
    "merged_g.remove( (URIRef('http://test.org/bft.owl#fork'), OWL.sameAs, URIRef('http://api.conceptnet.io/c/en/work')) )"
   ]
  },
  {
   "cell_type": "code",
   "execution_count": 32,
   "metadata": {},
   "outputs": [],
   "source": [
    "merged_g.serialize('./graphs/aff_bft_cn.ttl', format='turtle')"
   ]
  },
  {
   "cell_type": "code",
   "execution_count": 33,
   "metadata": {},
   "outputs": [
    {
     "data": {
      "text/plain": [
       "4167"
      ]
     },
     "execution_count": 33,
     "metadata": {},
     "output_type": "execute_result"
    }
   ],
   "source": [
    "len(merged_g)"
   ]
  },
  {
   "cell_type": "code",
   "execution_count": null,
   "metadata": {},
   "outputs": [],
   "source": []
  }
 ],
 "metadata": {
  "kernelspec": {
   "display_name": "Python 3",
   "language": "python",
   "name": "python3"
  },
  "language_info": {
   "codemirror_mode": {
    "name": "ipython",
    "version": 3
   },
   "file_extension": ".py",
   "mimetype": "text/x-python",
   "name": "python",
   "nbconvert_exporter": "python",
   "pygments_lexer": "ipython3",
   "version": "3.7.6"
  }
 },
 "nbformat": 4,
 "nbformat_minor": 4
}
