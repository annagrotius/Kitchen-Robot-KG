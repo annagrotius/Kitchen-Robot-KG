{
 "cells": [
  {
   "cell_type": "markdown",
   "metadata": {},
   "source": [
    "This notebook merges the RecipePuppy graph to the KitchenConcepts+Affordance+CN graph."
   ]
  },
  {
   "cell_type": "code",
   "execution_count": 1,
   "metadata": {},
   "outputs": [],
   "source": [
    "from rdflib import Graph, Namespace, RDF, URIRef, RDFS\n",
    "from rdflib.namespace import OWL, SKOS"
   ]
  },
  {
   "cell_type": "code",
   "execution_count": 2,
   "metadata": {},
   "outputs": [],
   "source": [
    "def create_namespace(graph, namespace, prefix):\n",
    "    \"\"\"\n",
    "    Binds a namespace to a given graph.\n",
    "    Args:\n",
    "        - graph: graph object\n",
    "        - namespace: uri of the namespace to be bound to the graph\n",
    "        - prefix: the prefix of the given namespace\n",
    "    Output: namespace instance bound to a specified graph\n",
    "    \"\"\"\n",
    "    ns = Namespace(namespace)\n",
    "    graph.namespace_manager.bind(prefix, namespace)\n",
    "\n",
    "    return ns"
   ]
  },
  {
   "cell_type": "code",
   "execution_count": 3,
   "metadata": {},
   "outputs": [
    {
     "data": {
      "text/plain": [
       "<Graph identifier=Ne5fa826fa6714b6c96f3a834b85167e8 (<class 'rdflib.graph.Graph'>)>"
      ]
     },
     "execution_count": 3,
     "metadata": {},
     "output_type": "execute_result"
    }
   ],
   "source": [
    "# obtain the graphs from the turtle files\n",
    "aff_bft_cn_file = './graphs/aff_bft_cn.ttl'\n",
    "aff_bft_cn_g = Graph()\n",
    "recipe_file = '../data/RecipePuppy/recipe_graph.ttl'\n",
    "recipe_g = Graph()\n",
    "aff_bft_cn_g.parse(aff_bft_cn_file, format= 'turtle')\n",
    "recipe_g.parse(recipe_file, format= 'turtle')"
   ]
  },
  {
   "cell_type": "code",
   "execution_count": 4,
   "metadata": {},
   "outputs": [
    {
     "data": {
      "text/plain": [
       "6126"
      ]
     },
     "execution_count": 4,
     "metadata": {},
     "output_type": "execute_result"
    }
   ],
   "source": [
    "# combine graphs\n",
    "merged_g = Graph()\n",
    "merged_g = aff_bft_cn_g + recipe_g\n",
    "len(merged_g)"
   ]
  },
  {
   "cell_type": "code",
   "execution_count": 5,
   "metadata": {},
   "outputs": [],
   "source": [
    "# remove unnecessary owl ontology triple\n",
    "merged_g.remove((URIRef('http://test.org/recipe.owl'),RDF.type,OWL.Ontology))\n",
    "merged_g.remove((URIRef('http://test.org/cn.owl'),RDF.type,OWL.Ontology))"
   ]
  },
  {
   "cell_type": "code",
   "execution_count": 6,
   "metadata": {},
   "outputs": [],
   "source": [
    "rp_ns = create_namespace(merged_g, 'http://test.org/recipe_puppy#', 'rp')\n",
    "bft_ns = create_namespace(merged_g, 'http://test.org/bft.owl#', 'bft')\n",
    "rp_owl = create_namespace(merged_g, \"http://test.org/recipe.owl#\", 'rcp')"
   ]
  },
  {
   "cell_type": "code",
   "execution_count": 7,
   "metadata": {},
   "outputs": [],
   "source": [
    "instances = ['milk', 'apple', 'lemon', 'coffee', 'croissant', 'garnish', 'egg', 'orange_juice', 'apple_juice', 'butter']"
   ]
  },
  {
   "cell_type": "code",
   "execution_count": 8,
   "metadata": {},
   "outputs": [],
   "source": [
    "ingredients_q = merged_g.query(\n",
    "\"\"\"\n",
    "prefix bft: <http://test.org/bft.owl#> \n",
    "prefix rp: <http://test.org/recipe_puppy#> \n",
    "\n",
    "SELECT distinct ?obj WHERE {\n",
    "  ?sub rp:ingredient ?obj .\n",
    "}\n",
    "\n",
    "\"\"\")"
   ]
  },
  {
   "cell_type": "code",
   "execution_count": 9,
   "metadata": {},
   "outputs": [
    {
     "name": "stdout",
     "output_type": "stream",
     "text": [
      "7\n"
     ]
    }
   ],
   "source": [
    "c = 0\n",
    "for i in instances:\n",
    "    for r in ingredients_q:\n",
    "        ingredient = r['obj'][29:]\n",
    "        if i == ingredient:\n",
    "            c+=1\n",
    "            merged_g.add( (URIRef(f'http://test.org/bft.owl#{i}'), OWL.sameAs, rp_ns[ingredient]) )\n",
    "print(c)"
   ]
  },
  {
   "cell_type": "code",
   "execution_count": 10,
   "metadata": {},
   "outputs": [],
   "source": [
    "merged_g.add( (rp_owl.Ingredient, RDFS.subClassOf, bft_ns.Food) )"
   ]
  },
  {
   "cell_type": "code",
   "execution_count": 11,
   "metadata": {},
   "outputs": [],
   "source": [
    "merged_g.serialize('./graphs/aff_bft_cn_recipe.ttl', format='turtle')"
   ]
  },
  {
   "cell_type": "code",
   "execution_count": null,
   "metadata": {},
   "outputs": [],
   "source": []
  }
 ],
 "metadata": {
  "kernelspec": {
   "display_name": "Python 3",
   "language": "python",
   "name": "python3"
  },
  "language_info": {
   "codemirror_mode": {
    "name": "ipython",
    "version": 3
   },
   "file_extension": ".py",
   "mimetype": "text/x-python",
   "name": "python",
   "nbconvert_exporter": "python",
   "pygments_lexer": "ipython3",
   "version": "3.7.6"
  }
 },
 "nbformat": 4,
 "nbformat_minor": 4
}
