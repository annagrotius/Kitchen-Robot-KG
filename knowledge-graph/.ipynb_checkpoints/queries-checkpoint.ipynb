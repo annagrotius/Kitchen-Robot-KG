{
 "cells": [
  {
   "cell_type": "code",
   "execution_count": 2,
   "metadata": {},
   "outputs": [],
   "source": [
    "from rdflib import Graph, URIRef"
   ]
  },
  {
   "cell_type": "code",
   "execution_count": 23,
   "metadata": {},
   "outputs": [
    {
     "data": {
      "text/plain": [
       "<Graph identifier=Nd26eca5a1c9e4b03a3232adf3d00f999 (<class 'rdflib.graph.Graph'>)>"
      ]
     },
     "execution_count": 23,
     "metadata": {},
     "output_type": "execute_result"
    }
   ],
   "source": [
    "# file = \"./graphs/aff_bft_open_graph.ttl\"\n",
    "# file = \"./graphs/aff_bft_closed_graph.ttl\"\n",
    "file = \"./owlrl/open_owlrl_semantics.ttl\"\n",
    "g = Graph()\n",
    "g.parse(file, format = \"turtle\")"
   ]
  },
  {
   "cell_type": "code",
   "execution_count": 13,
   "metadata": {},
   "outputs": [],
   "source": [
    "namespaces = \"\"\"\n",
    "prefix aff: <http://test.org/affordance.owl#> \n",
    "prefix bft: <http://test.org/bft.owl#> \n",
    "prefix owl: <http://www.w3.org/2002/07/owl#> \n",
    "prefix rdf: <http://www.w3.org/1999/02/22-rdf-syntax-ns#> \n",
    "prefix rdfs: <http://www.w3.org/2000/01/rdf-schema#> \n",
    "prefix xml: <http://www.w3.org/XML/1998/namespace> \n",
    "prefix xsd: <http://www.w3.org/2001/XMLSchema#>\n",
    "\"\"\""
   ]
  },
  {
   "cell_type": "code",
   "execution_count": 14,
   "metadata": {},
   "outputs": [],
   "source": [
    "instances = g.query(namespaces + \"\"\"SELECT * WHERE {\n",
    "  ?s a [a owl:Class].\n",
    "}\"\"\")\n",
    "classes = g.query(namespaces + \"\"\"SELECT * WHERE {\n",
    "  ?s a owl:Class.\n",
    "}\"\"\")"
   ]
  },
  {
   "cell_type": "code",
   "execution_count": 15,
   "metadata": {},
   "outputs": [],
   "source": [
    "graph_concepts = list(instances) + list(classes)\n",
    "# for i in graph_concepts:\n",
    "#     print(i)"
   ]
  },
  {
   "cell_type": "code",
   "execution_count": 16,
   "metadata": {},
   "outputs": [],
   "source": [
    "# get the different predicates and objects of the instances and classes in the grpah\n",
    "query_form = \"\"\"SELECT * WHERE {\"\"\" \n",
    "\n",
    "instance_outputs = []\n",
    "for instance in graph_concepts:\n",
    "#     print(instance[0][24:])\n",
    "    instance_dict = dict()\n",
    "    if 'bft' in str(instance):\n",
    "        graph_pattern = f\"bft:{instance[0][24:]} ?p ?o.\"\n",
    "    else:\n",
    "        continue\n",
    "    query = namespaces + query_form + graph_pattern + \"}\"\n",
    "    r = g.query(query)\n",
    "    instance_dict['instance'] = instance[0]\n",
    "    instance_dict['result'] = list(r)\n",
    "    instance_outputs.append(instance_dict)"
   ]
  },
  {
   "cell_type": "code",
   "execution_count": 17,
   "metadata": {
    "scrolled": true
   },
   "outputs": [
    {
     "name": "stdout",
     "output_type": "stream",
     "text": [
      "http://test.org/bft.owl#butter_knife\n",
      "[(rdflib.term.URIRef('http://test.org/bft.owl#butter'), rdflib.term.URIRef('http://test.org/bft.owl#can_spread')), (rdflib.term.URIRef('http://test.org/bft.owl#Knife'), rdflib.term.URIRef('http://www.w3.org/1999/02/22-rdf-syntax-ns#type')), (rdflib.term.URIRef('http://www.w3.org/2002/07/owl#NamedIndividual'), rdflib.term.URIRef('http://www.w3.org/1999/02/22-rdf-syntax-ns#type')), (rdflib.term.BNode('ub2bL246C9'), rdflib.term.URIRef('http://www.w3.org/1999/02/22-rdf-syntax-ns#type')), (rdflib.term.BNode('ub2bL242C20'), rdflib.term.URIRef('http://www.w3.org/1999/02/22-rdf-syntax-ns#type'))] \n",
      "\n",
      "http://test.org/bft.owl#table\n",
      "http://test.org/bft.owl#green_tea\n",
      "http://test.org/bft.owl#teacup\n",
      "http://test.org/bft.owl#glass\n",
      "http://test.org/bft.owl#butter\n",
      "[(rdflib.term.BNode('ub2bL316C14'), rdflib.term.URIRef('http://www.w3.org/1999/02/22-rdf-syntax-ns#type')), (rdflib.term.URIRef('http://www.w3.org/2002/07/owl#NamedIndividual'), rdflib.term.URIRef('http://www.w3.org/1999/02/22-rdf-syntax-ns#type')), (rdflib.term.BNode('ub2bL319C9'), rdflib.term.URIRef('http://www.w3.org/1999/02/22-rdf-syntax-ns#type')), (rdflib.term.URIRef('http://test.org/bft.owl#Spread'), rdflib.term.URIRef('http://www.w3.org/1999/02/22-rdf-syntax-ns#type'))] \n",
      "\n",
      "http://test.org/bft.owl#dining_chair\n",
      "http://test.org/bft.owl#cupboard\n",
      "http://test.org/bft.owl#butter_dish\n",
      "http://test.org/bft.owl#teacup_plate\n",
      "http://test.org/bft.owl#sauce_dish\n",
      "http://test.org/bft.owl#bread_plate\n",
      "http://test.org/bft.owl#milk_pitcher\n",
      "http://test.org/bft.owl#garnish\n",
      "http://test.org/bft.owl#fried\n",
      "http://test.org/bft.owl#scrambled\n",
      "http://test.org/bft.owl#hardboiled\n",
      "http://test.org/bft.owl#orange_juice\n",
      "http://test.org/bft.owl#apple_juice\n",
      "http://test.org/bft.owl#bread_basket\n",
      "http://test.org/bft.owl#egg_cup\n",
      "http://test.org/bft.owl#pepper_shaker\n",
      "http://test.org/bft.owl#salt_shaker\n",
      "http://test.org/bft.owl#croissant\n",
      "http://test.org/bft.owl#Fork\n",
      "[(rdflib.term.URIRef('http://www.w3.org/2002/07/owl#Class'), rdflib.term.URIRef('http://www.w3.org/1999/02/22-rdf-syntax-ns#type')), (rdflib.term.URIRef('http://test.org/bft.owl#Cutlery'), rdflib.term.URIRef('http://www.w3.org/2000/01/rdf-schema#subClassOf')), (rdflib.term.BNode('ub2bL52C9'), rdflib.term.URIRef('http://www.w3.org/2000/01/rdf-schema#subClassOf')), (rdflib.term.BNode('ub2bL49C21'), rdflib.term.URIRef('http://www.w3.org/2000/01/rdf-schema#subClassOf'))] \n",
      "\n",
      "http://test.org/bft.owl#Knife\n",
      "[(rdflib.term.BNode('ub2bL105C9'), rdflib.term.URIRef('http://www.w3.org/2000/01/rdf-schema#subClassOf')), (rdflib.term.BNode('ub2bL101C21'), rdflib.term.URIRef('http://www.w3.org/2000/01/rdf-schema#subClassOf')), (rdflib.term.URIRef('http://test.org/bft.owl#Cutlery'), rdflib.term.URIRef('http://www.w3.org/2000/01/rdf-schema#subClassOf')), (rdflib.term.BNode('ub2bL107C9'), rdflib.term.URIRef('http://www.w3.org/2000/01/rdf-schema#subClassOf')), (rdflib.term.URIRef('http://www.w3.org/2002/07/owl#Class'), rdflib.term.URIRef('http://www.w3.org/1999/02/22-rdf-syntax-ns#type'))] \n",
      "\n",
      "http://test.org/bft.owl#Table\n",
      "[(rdflib.term.URIRef('http://www.w3.org/2002/07/owl#Class'), rdflib.term.URIRef('http://www.w3.org/1999/02/22-rdf-syntax-ns#type')), (rdflib.term.URIRef('http://test.org/bft.owl#Furniture'), rdflib.term.URIRef('http://www.w3.org/2000/01/rdf-schema#subClassOf')), (rdflib.term.BNode('ub2bL70C21'), rdflib.term.URIRef('http://www.w3.org/2000/01/rdf-schema#subClassOf')), (rdflib.term.URIRef('http://test.org/bft.owl#Chair'), rdflib.term.URIRef('http://www.w3.org/2002/07/owl#disjointWith'))] \n",
      "\n",
      "http://test.org/bft.owl#Tea\n",
      "[(rdflib.term.URIRef('http://www.w3.org/2002/07/owl#Class'), rdflib.term.URIRef('http://www.w3.org/1999/02/22-rdf-syntax-ns#type')), (rdflib.term.URIRef('http://test.org/bft.owl#Drink'), rdflib.term.URIRef('http://www.w3.org/2000/01/rdf-schema#subClassOf')), (rdflib.term.BNode('ub2bL133C21'), rdflib.term.URIRef('http://www.w3.org/2000/01/rdf-schema#subClassOf'))] \n",
      "\n",
      "http://test.org/bft.owl#Milk\n",
      "http://test.org/bft.owl#Glassware\n",
      "[(rdflib.term.URIRef('http://test.org/bft.owl#Tableware'), rdflib.term.URIRef('http://www.w3.org/2000/01/rdf-schema#subClassOf')), (rdflib.term.URIRef('http://www.w3.org/2002/07/owl#Class'), rdflib.term.URIRef('http://www.w3.org/1999/02/22-rdf-syntax-ns#type')), (rdflib.term.BNode('ub2bL189C21'), rdflib.term.URIRef('http://www.w3.org/2000/01/rdf-schema#subClassOf'))] \n",
      "\n",
      "http://test.org/bft.owl#Spread\n",
      "[(rdflib.term.BNode('ub2bL118C9'), rdflib.term.URIRef('http://www.w3.org/2000/01/rdf-schema#subClassOf')), (rdflib.term.URIRef('http://test.org/bft.owl#Condiment'), rdflib.term.URIRef('http://www.w3.org/2000/01/rdf-schema#subClassOf')), (rdflib.term.BNode('ub2bL113C21'), rdflib.term.URIRef('http://www.w3.org/2000/01/rdf-schema#subClassOf')), (rdflib.term.URIRef('http://www.w3.org/2002/07/owl#Class'), rdflib.term.URIRef('http://www.w3.org/1999/02/22-rdf-syntax-ns#type')), (rdflib.term.BNode('ub2bL116C9'), rdflib.term.URIRef('http://www.w3.org/2000/01/rdf-schema#subClassOf'))] \n",
      "\n",
      "http://test.org/bft.owl#Chair\n",
      "[(rdflib.term.URIRef('http://www.w3.org/2002/07/owl#Class'), rdflib.term.URIRef('http://www.w3.org/1999/02/22-rdf-syntax-ns#type')), (rdflib.term.URIRef('http://test.org/bft.owl#Furniture'), rdflib.term.URIRef('http://www.w3.org/2000/01/rdf-schema#subClassOf')), (rdflib.term.BNode('ub2bL96C21'), rdflib.term.URIRef('http://www.w3.org/2000/01/rdf-schema#subClassOf'))] \n",
      "\n",
      "http://test.org/bft.owl#Storage\n",
      "[(rdflib.term.URIRef('http://test.org/affordance.owl#KitchenEntity'), rdflib.term.URIRef('http://www.w3.org/2000/01/rdf-schema#subClassOf')), (rdflib.term.URIRef('http://www.w3.org/2002/07/owl#Class'), rdflib.term.URIRef('http://www.w3.org/1999/02/22-rdf-syntax-ns#type')), (rdflib.term.BNode('ub2bL127C9'), rdflib.term.URIRef('http://www.w3.org/2000/01/rdf-schema#subClassOf')), (rdflib.term.BNode('ub2bL124C21'), rdflib.term.URIRef('http://www.w3.org/2000/01/rdf-schema#subClassOf')), (rdflib.term.URIRef('http://www.w3.org/2002/07/owl#Thing'), rdflib.term.URIRef('http://www.w3.org/2000/01/rdf-schema#subClassOf'))] \n",
      "\n",
      "http://test.org/bft.owl#Plate\n",
      "[(rdflib.term.URIRef('http://test.org/bft.owl#Tableware'), rdflib.term.URIRef('http://www.w3.org/2000/01/rdf-schema#subClassOf')), (rdflib.term.URIRef('http://www.w3.org/2002/07/owl#Class'), rdflib.term.URIRef('http://www.w3.org/1999/02/22-rdf-syntax-ns#type')), (rdflib.term.BNode('ub2bL289C21'), rdflib.term.URIRef('http://www.w3.org/2000/01/rdf-schema#subClassOf'))] \n",
      "\n",
      "http://test.org/bft.owl#Cutlery\n",
      "[(rdflib.term.URIRef('http://test.org/bft.owl#Tableware'), rdflib.term.URIRef('http://www.w3.org/2000/01/rdf-schema#subClassOf')), (rdflib.term.BNode('ub2bL284C9'), rdflib.term.URIRef('http://www.w3.org/2000/01/rdf-schema#subClassOf')), (rdflib.term.URIRef('http://www.w3.org/2002/07/owl#Class'), rdflib.term.URIRef('http://www.w3.org/1999/02/22-rdf-syntax-ns#type')), (rdflib.term.BNode('ub2bL281C9'), rdflib.term.URIRef('http://www.w3.org/2000/01/rdf-schema#subClassOf')), (rdflib.term.BNode('ub2bL277C21'), rdflib.term.URIRef('http://www.w3.org/2000/01/rdf-schema#subClassOf'))] \n",
      "\n",
      "http://test.org/bft.owl#Condiment\n",
      "[(rdflib.term.BNode('ub2bL175C9'), rdflib.term.URIRef('http://www.w3.org/2000/01/rdf-schema#subClassOf')), (rdflib.term.URIRef('http://test.org/bft.owl#Food'), rdflib.term.URIRef('http://www.w3.org/2000/01/rdf-schema#subClassOf')), (rdflib.term.BNode('ub2bL172C21'), rdflib.term.URIRef('http://www.w3.org/2000/01/rdf-schema#subClassOf')), (rdflib.term.URIRef('http://www.w3.org/2002/07/owl#Class'), rdflib.term.URIRef('http://www.w3.org/1999/02/22-rdf-syntax-ns#type'))] \n",
      "\n",
      "http://test.org/bft.owl#Furniture\n",
      "[(rdflib.term.URIRef('http://test.org/affordance.owl#KitchenEntity'), rdflib.term.URIRef('http://www.w3.org/2000/01/rdf-schema#subClassOf')), (rdflib.term.BNode('ub2bL180C21'), rdflib.term.URIRef('http://www.w3.org/2000/01/rdf-schema#subClassOf')), (rdflib.term.URIRef('http://www.w3.org/2002/07/owl#Thing'), rdflib.term.URIRef('http://www.w3.org/2000/01/rdf-schema#subClassOf')), (rdflib.term.BNode('ub2bL183C9'), rdflib.term.URIRef('http://www.w3.org/2000/01/rdf-schema#subClassOf')), (rdflib.term.URIRef('http://www.w3.org/2002/07/owl#Class'), rdflib.term.URIRef('http://www.w3.org/1999/02/22-rdf-syntax-ns#type'))] \n",
      "\n",
      "http://test.org/bft.owl#Kitchenware\n",
      "[(rdflib.term.BNode('ub2bL201C9'), rdflib.term.URIRef('http://www.w3.org/2000/01/rdf-schema#subClassOf')), (rdflib.term.URIRef('http://www.w3.org/2002/07/owl#Class'), rdflib.term.URIRef('http://www.w3.org/1999/02/22-rdf-syntax-ns#type')), (rdflib.term.URIRef('http://www.w3.org/2002/07/owl#Thing'), rdflib.term.URIRef('http://www.w3.org/2000/01/rdf-schema#subClassOf')), (rdflib.term.URIRef('http://test.org/affordance.owl#KitchenEntity'), rdflib.term.URIRef('http://www.w3.org/2000/01/rdf-schema#subClassOf')), (rdflib.term.BNode('ub2bL199C21'), rdflib.term.URIRef('http://www.w3.org/2000/01/rdf-schema#subClassOf'))] \n",
      "\n",
      "http://test.org/bft.owl#Spoon\n",
      "[(rdflib.term.URIRef('http://www.w3.org/2002/07/owl#Class'), rdflib.term.URIRef('http://www.w3.org/1999/02/22-rdf-syntax-ns#type')), (rdflib.term.BNode('ub2bL61C21'), rdflib.term.URIRef('http://www.w3.org/2000/01/rdf-schema#subClassOf')), (rdflib.term.BNode('ub2bL64C9'), rdflib.term.URIRef('http://www.w3.org/2000/01/rdf-schema#subClassOf')), (rdflib.term.URIRef('http://test.org/bft.owl#Cutlery'), rdflib.term.URIRef('http://www.w3.org/2000/01/rdf-schema#subClassOf'))] \n",
      "\n",
      "http://test.org/bft.owl#Food\n",
      "[(rdflib.term.URIRef('http://www.w3.org/2002/07/owl#Thing'), rdflib.term.URIRef('http://www.w3.org/2000/01/rdf-schema#subClassOf')), (rdflib.term.URIRef('http://www.w3.org/2002/07/owl#Class'), rdflib.term.URIRef('http://www.w3.org/1999/02/22-rdf-syntax-ns#type')), (rdflib.term.BNode('ub2bL326C21'), rdflib.term.URIRef('http://www.w3.org/2000/01/rdf-schema#subClassOf')), (rdflib.term.BNode('ub2bL328C9'), rdflib.term.URIRef('http://www.w3.org/2000/01/rdf-schema#subClassOf')), (rdflib.term.URIRef('http://test.org/affordance.owl#KitchenEntity'), rdflib.term.URIRef('http://www.w3.org/2000/01/rdf-schema#subClassOf'))] \n",
      "\n",
      "http://test.org/bft.owl#Egg\n",
      "[(rdflib.term.URIRef('http://test.org/bft.owl#Food'), rdflib.term.URIRef('http://www.w3.org/2000/01/rdf-schema#subClassOf')), (rdflib.term.BNode('ub2bL232C21'), rdflib.term.URIRef('http://www.w3.org/2000/01/rdf-schema#subClassOf')), (rdflib.term.URIRef('http://www.w3.org/2002/07/owl#Class'), rdflib.term.URIRef('http://www.w3.org/1999/02/22-rdf-syntax-ns#type'))] \n",
      "\n",
      "http://test.org/bft.owl#Juice\n",
      "[(rdflib.term.BNode('ub2bL194C21'), rdflib.term.URIRef('http://www.w3.org/2000/01/rdf-schema#subClassOf')), (rdflib.term.URIRef('http://www.w3.org/2002/07/owl#Class'), rdflib.term.URIRef('http://www.w3.org/1999/02/22-rdf-syntax-ns#type')), (rdflib.term.URIRef('http://test.org/bft.owl#Drink'), rdflib.term.URIRef('http://www.w3.org/2000/01/rdf-schema#subClassOf'))] \n",
      "\n",
      "http://test.org/bft.owl#Drink\n",
      "[(rdflib.term.URIRef('http://test.org/affordance.owl#KitchenEntity'), rdflib.term.URIRef('http://www.w3.org/2000/01/rdf-schema#subClassOf')), (rdflib.term.BNode('ub2bL263C21'), rdflib.term.URIRef('http://www.w3.org/2000/01/rdf-schema#subClassOf')), (rdflib.term.URIRef('http://www.w3.org/2002/07/owl#Thing'), rdflib.term.URIRef('http://www.w3.org/2000/01/rdf-schema#subClassOf')), (rdflib.term.URIRef('http://www.w3.org/2002/07/owl#Class'), rdflib.term.URIRef('http://www.w3.org/1999/02/22-rdf-syntax-ns#type'))] \n",
      "\n",
      "http://test.org/bft.owl#Tableware\n",
      "[(rdflib.term.BNode('ub2bL312C21'), rdflib.term.URIRef('http://www.w3.org/2000/01/rdf-schema#subClassOf')), (rdflib.term.URIRef('http://test.org/bft.owl#Kitchenware'), rdflib.term.URIRef('http://www.w3.org/2000/01/rdf-schema#subClassOf')), (rdflib.term.URIRef('http://www.w3.org/2002/07/owl#Class'), rdflib.term.URIRef('http://www.w3.org/1999/02/22-rdf-syntax-ns#type'))] \n",
      "\n",
      "http://test.org/bft.owl#Coffee\n",
      "http://test.org/bft.owl#Bread\n",
      "[(rdflib.term.URIRef('http://www.w3.org/2002/07/owl#Class'), rdflib.term.URIRef('http://www.w3.org/1999/02/22-rdf-syntax-ns#type')), (rdflib.term.BNode('ub2bL91C21'), rdflib.term.URIRef('http://www.w3.org/2000/01/rdf-schema#subClassOf')), (rdflib.term.URIRef('http://test.org/bft.owl#Food'), rdflib.term.URIRef('http://www.w3.org/2000/01/rdf-schema#subClassOf'))] \n",
      "\n"
     ]
    }
   ],
   "source": [
    "# checking which instances have more than simply the triples: owl#NamedIndividual, rdf-syntax-ns#type\n",
    "\n",
    "for i in instance_outputs:\n",
    "    print(i['instance'])\n",
    "    if len(i['result']) > 2:\n",
    "        print(i['result'], \"\\n\")"
   ]
  },
  {
   "cell_type": "code",
   "execution_count": null,
   "metadata": {},
   "outputs": [],
   "source": []
  },
  {
   "cell_type": "code",
   "execution_count": 24,
   "metadata": {},
   "outputs": [],
   "source": [
    "query_form = \"\"\"SELECT * WHERE {\"\"\" \n",
    "\n",
    "for instance in graph_concepts:\n",
    "    graph_pattern = f\"?s aff:affords ?o.\"\n",
    "    query = namespaces + query_form + graph_pattern + \"}\"\n",
    "    r = g.query(query)"
   ]
  },
  {
   "cell_type": "code",
   "execution_count": 25,
   "metadata": {},
   "outputs": [],
   "source": [
    "for i in r:\n",
    "    print(i.s, i.o)"
   ]
  },
  {
   "cell_type": "code",
   "execution_count": null,
   "metadata": {},
   "outputs": [],
   "source": []
  }
 ],
 "metadata": {
  "kernelspec": {
   "display_name": "Python 3",
   "language": "python",
   "name": "python3"
  },
  "language_info": {
   "codemirror_mode": {
    "name": "ipython",
    "version": 3
   },
   "file_extension": ".py",
   "mimetype": "text/x-python",
   "name": "python",
   "nbconvert_exporter": "python",
   "pygments_lexer": "ipython3",
   "version": "3.7.6"
  }
 },
 "nbformat": 4,
 "nbformat_minor": 4
}
