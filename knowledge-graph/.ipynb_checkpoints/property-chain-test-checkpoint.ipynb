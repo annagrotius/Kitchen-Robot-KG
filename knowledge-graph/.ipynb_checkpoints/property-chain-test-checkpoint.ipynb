{
 "cells": [
  {
   "cell_type": "code",
   "execution_count": 13,
   "metadata": {},
   "outputs": [],
   "source": [
    "from owlready2 import *\n",
    "owlready2.JAVA_EXE ='C:\\\\Program Files\\\\Java\\\\jre1.8.0_191\\\\bin\\\\java.exe'\n",
    "\n",
    "\n",
    "onto = get_ontology(\"http://test.org/test.owl\")\n",
    "with onto:\n",
    "    class KE(Thing):\n",
    "        pass\n",
    "    class Quality(Thing):\n",
    "        pass\n",
    "    class Action(Thing):\n",
    "        pass\n",
    "    class Affordance(Thing):\n",
    "        pass\n",
    "        \n",
    "    class action(ObjectProperty, KE>>Action): pass\n",
    "        \n",
    "    class affordance(ObjectProperty, Action>>Affordance): pass\n",
    "        \n",
    "    class quality(ObjectProperty, KE>>Quality): pass\n",
    "        \n",
    "    class affords(KE>>Affordance,TransitiveProperty): pass\n",
    "\n",
    "cut_apples = Action(\"cut_apples\")\n",
    "cutting = Affordance(\"cutting\")\n",
    "red = Quality(\"red\")\n",
    "knife = KE(\"knife\")"
   ]
  },
  {
   "cell_type": "code",
   "execution_count": 14,
   "metadata": {},
   "outputs": [
    {
     "data": {
      "text/plain": [
       "[test.cut_apples, test.cutting, test.red, test.knife]"
      ]
     },
     "execution_count": 14,
     "metadata": {},
     "output_type": "execute_result"
    }
   ],
   "source": [
    "list(onto.individuals())"
   ]
  },
  {
   "cell_type": "code",
   "execution_count": 16,
   "metadata": {},
   "outputs": [
    {
     "name": "stdout",
     "output_type": "stream",
     "text": [
      "[]\n"
     ]
    }
   ],
   "source": [
    "print(cutting.INDIRECT_affords)"
   ]
  },
  {
   "cell_type": "code",
   "execution_count": 2,
   "metadata": {},
   "outputs": [
    {
     "name": "stdout",
     "output_type": "stream",
     "text": [
      "test.action\n",
      "test.affordance\n",
      "test.quality\n",
      "test.affords\n"
     ]
    }
   ],
   "source": [
    "for i in onto.object_properties():\n",
    "    print(i)"
   ]
  },
  {
   "cell_type": "code",
   "execution_count": 3,
   "metadata": {},
   "outputs": [
    {
     "name": "stdout",
     "output_type": "stream",
     "text": [
      "Which KE affords something \n",
      "[]\n"
     ]
    }
   ],
   "source": [
    "print(\"Which KE affords something \\n%s\" % onto.search(type=onto.KE, affords=\"*\"))"
   ]
  },
  {
   "cell_type": "code",
   "execution_count": 4,
   "metadata": {},
   "outputs": [
    {
     "name": "stderr",
     "output_type": "stream",
     "text": [
      "* Owlready2 * Running HermiT...\n",
      "    C:\\Program Files\\Java\\jre1.8.0_191\\bin\\java.exe -Xmx2000M -cp C:\\Users\\annag\\AppData\\Roaming\\Python\\Python37\\site-packages\\owlready2\\hermit;C:\\Users\\annag\\AppData\\Roaming\\Python\\Python37\\site-packages\\owlready2\\hermit\\HermiT.jar org.semanticweb.HermiT.cli.CommandLine -c -O -D -I file:///C:/Users/annag/AppData/Local/Temp/tmp7_7up02d -Y\n",
      "* Owlready2 * HermiT took 1.7972280979156494 seconds\n",
      "* Owlready * (NB: only changes on entities loaded in Python are shown, other changes are done but not listed)\n"
     ]
    }
   ],
   "source": [
    "with onto : \n",
    "    sync_reasoner(infer_property_values = True)"
   ]
  },
  {
   "cell_type": "code",
   "execution_count": 7,
   "metadata": {},
   "outputs": [
    {
     "data": {
      "text/plain": [
       "[]"
      ]
     },
     "execution_count": 7,
     "metadata": {},
     "output_type": "execute_result"
    }
   ],
   "source": [
    "knife.affords"
   ]
  },
  {
   "cell_type": "code",
   "execution_count": 12,
   "metadata": {},
   "outputs": [],
   "source": [
    "onto.save(file = 'test.nt', format = \"ntriples\")"
   ]
  },
  {
   "cell_type": "code",
   "execution_count": null,
   "metadata": {},
   "outputs": [],
   "source": []
  }
 ],
 "metadata": {
  "kernelspec": {
   "display_name": "Python 3",
   "language": "python",
   "name": "python3"
  },
  "language_info": {
   "codemirror_mode": {
    "name": "ipython",
    "version": 3
   },
   "file_extension": ".py",
   "mimetype": "text/x-python",
   "name": "python",
   "nbconvert_exporter": "python",
   "pygments_lexer": "ipython3",
   "version": "3.7.6"
  }
 },
 "nbformat": 4,
 "nbformat_minor": 4
}
