{
 "cells": [
  {
   "cell_type": "code",
   "execution_count": 8,
   "metadata": {},
   "outputs": [],
   "source": [
    "from rdflib import Graph, Namespace, URIRef\n",
    "import os\n"
   ]
  },
  {
   "cell_type": "markdown",
   "metadata": {},
   "source": [
    "### Open World"
   ]
  },
  {
   "cell_type": "code",
   "execution_count": 12,
   "metadata": {},
   "outputs": [
    {
     "data": {
      "text/plain": [
       "233"
      ]
     },
     "execution_count": 12,
     "metadata": {},
     "output_type": "execute_result"
    }
   ],
   "source": [
    "open_g = Graph()\n",
    "open_g.parse(\"../graphs/aff_bft_open_graph.ttl\", format = \"turtle\")\n",
    "open_triples = [t for t in open_g]\n",
    "len(open_g)"
   ]
  },
  {
   "cell_type": "code",
   "execution_count": 13,
   "metadata": {},
   "outputs": [
    {
     "data": {
      "text/plain": [
       "895"
      ]
     },
     "execution_count": 13,
     "metadata": {},
     "output_type": "execute_result"
    }
   ],
   "source": [
    "open_owlrl_g = Graph()\n",
    "open_owlrl_g.parse(\"./open_owlrl_semantics.ttl\", format = \"turtle\")\n",
    "open_owlrl_triples = [t for t in open_owlrl_g]\n",
    "len(open_owlrl_g)"
   ]
  },
  {
   "cell_type": "code",
   "execution_count": 14,
   "metadata": {},
   "outputs": [
    {
     "data": {
      "text/plain": [
       "537"
      ]
     },
     "execution_count": 14,
     "metadata": {},
     "output_type": "execute_result"
    }
   ],
   "source": [
    "open_rdfs_g = Graph()\n",
    "open_rdfs_g.parse(\"./open_rdfs_semantics.ttl\", format = \"turtle\")\n",
    "open_rdfs_triples = [t for t in open_rdfs_g]\n",
    "len(open_rdfs_g)"
   ]
  },
  {
   "cell_type": "code",
   "execution_count": 18,
   "metadata": {},
   "outputs": [
    {
     "name": "stdout",
     "output_type": "stream",
     "text": [
      "271\n",
      "148\n",
      "148\n",
      "148\n"
     ]
    }
   ],
   "source": [
    "# get triples in all files\n",
    "\n",
    "def IntersecOfSets(arr1, arr2, arr3): \n",
    "    # Converting the arrays into sets \n",
    "    s1 = set(arr1) \n",
    "    s2 = set(arr2) \n",
    "    s3 = set(arr3) \n",
    "      \n",
    "    # Calculates intersection of  \n",
    "    # sets on s1 and s2 \n",
    "    set1 = s1.intersection(s2)         #[80, 20, 100] \n",
    "      \n",
    "    # Calculates intersection of sets \n",
    "    # on set1 and s3 \n",
    "    result_set = set1.intersection(s3) \n",
    "      \n",
    "    # Converts resulting set to list \n",
    "    final_list = list(result_set) \n",
    "    \n",
    "    return final_list \n",
    "    \n",
    "shared = IntersecOfSets(open_rdfs_triples, open_owlrl_triples, open_triples)\n",
    "print(len(shared))\n",
    "shared1 = IntersecOfSets(open_triples, open_rdfs_triples, open_owlrl_triples)\n",
    "print(len(shared1))\n",
    "# with open(\"shared_triples\", \"r\") as infile:\n",
    "#     content = infile.read()"
   ]
  },
  {
   "cell_type": "code",
   "execution_count": 11,
   "metadata": {},
   "outputs": [
    {
     "data": {
      "text/plain": [
       "537"
      ]
     },
     "execution_count": 11,
     "metadata": {},
     "output_type": "execute_result"
    }
   ],
   "source": [
    "# get inferred triples\n",
    "open_rdfs_triples = [t for t in open_rdfs_g]\n",
    "len(open_rdfs_triples)"
   ]
  },
  {
   "cell_type": "markdown",
   "metadata": {},
   "source": [
    "### Closed World"
   ]
  },
  {
   "cell_type": "code",
   "execution_count": 6,
   "metadata": {},
   "outputs": [
    {
     "data": {
      "text/plain": [
       "482"
      ]
     },
     "execution_count": 6,
     "metadata": {},
     "output_type": "execute_result"
    }
   ],
   "source": [
    "closed = Graph()\n",
    "closed.parse(\"../graphs/aff_bft_closed_graph.ttl\", format = \"turtle\")\n",
    "len(closed)"
   ]
  },
  {
   "cell_type": "code",
   "execution_count": 4,
   "metadata": {},
   "outputs": [
    {
     "data": {
      "text/plain": [
       "1928"
      ]
     },
     "execution_count": 4,
     "metadata": {},
     "output_type": "execute_result"
    }
   ],
   "source": [
    "closed_owlrl_g = Graph()\n",
    "closed_owlrl_g.parse(\"./closed_owlrl_semantics.ttl\", format = \"turtle\")\n",
    "len(closed_owlrl_g)"
   ]
  },
  {
   "cell_type": "code",
   "execution_count": 5,
   "metadata": {},
   "outputs": [
    {
     "data": {
      "text/plain": [
       "1206"
      ]
     },
     "execution_count": 5,
     "metadata": {},
     "output_type": "execute_result"
    }
   ],
   "source": [
    "closed_rdfs_g = Graph()\n",
    "closed_rdfs_g.parse(\"./closed_rdfs_semantics.ttl\", format = \"turtle\")\n",
    "len(closed_rdfs_g)"
   ]
  },
  {
   "cell_type": "code",
   "execution_count": null,
   "metadata": {},
   "outputs": [],
   "source": []
  }
 ],
 "metadata": {
  "kernelspec": {
   "display_name": "Python 3",
   "language": "python",
   "name": "python3"
  },
  "language_info": {
   "codemirror_mode": {
    "name": "ipython",
    "version": 3
   },
   "file_extension": ".py",
   "mimetype": "text/x-python",
   "name": "python",
   "nbconvert_exporter": "python",
   "pygments_lexer": "ipython3",
   "version": "3.7.6"
  }
 },
 "nbformat": 4,
 "nbformat_minor": 4
}
