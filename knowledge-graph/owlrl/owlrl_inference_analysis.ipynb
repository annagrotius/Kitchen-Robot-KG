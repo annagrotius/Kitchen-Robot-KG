{
 "cells": [
  {
   "cell_type": "code",
   "execution_count": 1,
   "metadata": {},
   "outputs": [],
   "source": [
    "from rdflib import Graph, Namespace, URIRef\n",
    "import os"
   ]
  },
  {
   "cell_type": "markdown",
   "metadata": {},
   "source": [
    "### Open World"
   ]
  },
  {
   "cell_type": "code",
   "execution_count": 2,
   "metadata": {},
   "outputs": [
    {
     "data": {
      "text/plain": [
       "233"
      ]
     },
     "execution_count": 2,
     "metadata": {},
     "output_type": "execute_result"
    }
   ],
   "source": [
    "open_g = Graph()\n",
    "open_g.parse(\"../graphs/aff_bft_open_graph.ttl\", format = \"turtle\")\n",
    "open_triples = [t for t in open_g]\n",
    "len(open_g)"
   ]
  },
  {
   "cell_type": "code",
   "execution_count": 3,
   "metadata": {},
   "outputs": [
    {
     "data": {
      "text/plain": [
       "895"
      ]
     },
     "execution_count": 3,
     "metadata": {},
     "output_type": "execute_result"
    }
   ],
   "source": [
    "open_owlrl_g = Graph()\n",
    "open_owlrl_g.parse(\"./open_owlrl_semantics.ttl\", format = \"turtle\")\n",
    "open_owlrl_triples = [t for t in open_owlrl_g]\n",
    "len(open_owlrl_g)"
   ]
  },
  {
   "cell_type": "code",
   "execution_count": 4,
   "metadata": {},
   "outputs": [
    {
     "data": {
      "text/plain": [
       "537"
      ]
     },
     "execution_count": 4,
     "metadata": {},
     "output_type": "execute_result"
    }
   ],
   "source": [
    "open_rdfs_g = Graph()\n",
    "open_rdfs_g.parse(\"./open_rdfs_semantics.ttl\", format = \"turtle\")\n",
    "open_rdfs_triples = [t for t in open_rdfs_g]\n",
    "len(open_rdfs_g)"
   ]
  },
  {
   "cell_type": "code",
   "execution_count": 6,
   "metadata": {},
   "outputs": [
    {
     "name": "stdout",
     "output_type": "stream",
     "text": [
      "(rdflib.term.BNode('ub1bL237C1'), rdflib.term.URIRef('http://www.w3.org/1999/02/22-rdf-syntax-ns#type'), rdflib.term.URIRef('http://www.w3.org/2002/07/owl#AllDisjointClasses'))\n",
      "(rdflib.term.BNode('fb4caaee8800747f9a6f0eb75be15a940b27'), rdflib.term.URIRef('http://www.w3.org/1999/02/22-rdf-syntax-ns#rest'), rdflib.term.URIRef('http://www.w3.org/1999/02/22-rdf-syntax-ns#nil'))\n",
      "(rdflib.term.BNode('ub1bL237C1'), rdflib.term.URIRef('http://www.w3.org/2002/07/owl#members'), rdflib.term.BNode('fb4caaee8800747f9a6f0eb75be15a940b9'))\n",
      "(rdflib.term.BNode('fb4caaee8800747f9a6f0eb75be15a940b20'), rdflib.term.URIRef('http://www.w3.org/1999/02/22-rdf-syntax-ns#rest'), rdflib.term.URIRef('http://www.w3.org/1999/02/22-rdf-syntax-ns#nil'))\n",
      "(rdflib.term.BNode('fb4caaee8800747f9a6f0eb75be15a940b5'), rdflib.term.URIRef('http://www.w3.org/1999/02/22-rdf-syntax-ns#first'), rdflib.term.URIRef('http://test.org/bft.owl#Drink'))\n",
      "(rdflib.term.URIRef('http://test.org/bft.owl#Food'), rdflib.term.URIRef('http://www.w3.org/2000/01/rdf-schema#subClassOf'), rdflib.term.BNode('ub1bL228C21'))\n",
      "(rdflib.term.BNode('ub1bL243C1'), rdflib.term.URIRef('http://www.w3.org/2002/07/owl#distinctMembers'), rdflib.term.BNode('fb4caaee8800747f9a6f0eb75be15a940b17'))\n",
      "(rdflib.term.BNode('fb4caaee8800747f9a6f0eb75be15a940b2'), rdflib.term.URIRef('http://www.w3.org/1999/02/22-rdf-syntax-ns#first'), rdflib.term.URIRef('http://test.org/bft.owl#scrambled'))\n",
      "(rdflib.term.BNode('fb4caaee8800747f9a6f0eb75be15a940b7'), rdflib.term.URIRef('http://www.w3.org/1999/02/22-rdf-syntax-ns#first'), rdflib.term.URIRef('http://test.org/bft.owl#Kitchenware'))\n",
      "(rdflib.term.BNode('ub1bL158C21'), rdflib.term.URIRef('http://www.w3.org/2002/07/owl#hasValue'), rdflib.term.Literal('false', datatype=rdflib.term.URIRef('http://www.w3.org/2001/XMLSchema#boolean')))\n",
      "(rdflib.term.BNode('fb4caaee8800747f9a6f0eb75be15a940b15'), rdflib.term.URIRef('http://www.w3.org/1999/02/22-rdf-syntax-ns#first'), rdflib.term.URIRef('http://test.org/bft.owl#Egg'))\n",
      "(rdflib.term.BNode('ub1bL234C1'), rdflib.term.URIRef('http://www.w3.org/1999/02/22-rdf-syntax-ns#type'), rdflib.term.URIRef('http://www.w3.org/2002/07/owl#AllDisjointClasses'))\n",
      "(rdflib.term.BNode('fb4caaee8800747f9a6f0eb75be15a940b8'), rdflib.term.URIRef('http://www.w3.org/1999/02/22-rdf-syntax-ns#rest'), rdflib.term.URIRef('http://www.w3.org/1999/02/22-rdf-syntax-ns#nil'))\n",
      "(rdflib.term.BNode('fb4caaee8800747f9a6f0eb75be15a940b19'), rdflib.term.URIRef('http://www.w3.org/1999/02/22-rdf-syntax-ns#rest'), rdflib.term.BNode('fb4caaee8800747f9a6f0eb75be15a940b20'))\n",
      "(rdflib.term.BNode('fb4caaee8800747f9a6f0eb75be15a940b24'), rdflib.term.URIRef('http://www.w3.org/1999/02/22-rdf-syntax-ns#first'), rdflib.term.URIRef('http://test.org/bft.owl#Tea'))\n",
      "(rdflib.term.BNode('ub1bL249C1'), rdflib.term.URIRef('http://www.w3.org/1999/02/22-rdf-syntax-ns#type'), rdflib.term.URIRef('http://www.w3.org/2002/07/owl#AllDifferent'))\n",
      "(rdflib.term.BNode('ub1bL246C1'), rdflib.term.URIRef('http://www.w3.org/2002/07/owl#members'), rdflib.term.BNode('fb4caaee8800747f9a6f0eb75be15a940b21'))\n",
      "(rdflib.term.BNode('ub1bL184C21'), rdflib.term.URIRef('http://www.w3.org/2002/07/owl#hasValue'), rdflib.term.Literal('false', datatype=rdflib.term.URIRef('http://www.w3.org/2001/XMLSchema#boolean')))\n",
      "(rdflib.term.URIRef('http://test.org/bft.owl#Egg'), rdflib.term.URIRef('http://www.w3.org/2000/01/rdf-schema#subClassOf'), rdflib.term.BNode('ub1bL204C21'))\n",
      "(rdflib.term.BNode('fb4caaee8800747f9a6f0eb75be15a940b2'), rdflib.term.URIRef('http://www.w3.org/1999/02/22-rdf-syntax-ns#rest'), rdflib.term.BNode('fb4caaee8800747f9a6f0eb75be15a940b3'))\n",
      "(rdflib.term.BNode('fb4caaee8800747f9a6f0eb75be15a940b11'), rdflib.term.URIRef('http://www.w3.org/1999/02/22-rdf-syntax-ns#first'), rdflib.term.URIRef('http://test.org/bft.owl#Fork'))\n",
      "(rdflib.term.URIRef('http://test.org/bft.owl#Kitchenware'), rdflib.term.URIRef('http://www.w3.org/2000/01/rdf-schema#subClassOf'), rdflib.term.BNode('ub1bL197C21'))\n",
      "(rdflib.term.BNode('fb4caaee8800747f9a6f0eb75be15a940b26'), rdflib.term.URIRef('http://www.w3.org/1999/02/22-rdf-syntax-ns#first'), rdflib.term.URIRef('http://test.org/bft.owl#scrambled'))\n",
      "(rdflib.term.BNode('fb4caaee8800747f9a6f0eb75be15a940b7'), rdflib.term.URIRef('http://www.w3.org/1999/02/22-rdf-syntax-ns#rest'), rdflib.term.BNode('fb4caaee8800747f9a6f0eb75be15a940b8'))\n",
      "(rdflib.term.BNode('fb4caaee8800747f9a6f0eb75be15a940b21'), rdflib.term.URIRef('http://www.w3.org/1999/02/22-rdf-syntax-ns#first'), rdflib.term.URIRef('http://test.org/bft.owl#Juice'))\n",
      "(rdflib.term.BNode('fb4caaee8800747f9a6f0eb75be15a940b25'), rdflib.term.URIRef('http://www.w3.org/1999/02/22-rdf-syntax-ns#first'), rdflib.term.URIRef('http://test.org/bft.owl#hardboiled'))\n",
      "(rdflib.term.BNode('ub1bL246C1'), rdflib.term.URIRef('http://www.w3.org/1999/02/22-rdf-syntax-ns#type'), rdflib.term.URIRef('http://www.w3.org/2002/07/owl#AllDisjointClasses'))\n",
      "(rdflib.term.BNode('fb4caaee8800747f9a6f0eb75be15a940b21'), rdflib.term.URIRef('http://www.w3.org/1999/02/22-rdf-syntax-ns#rest'), rdflib.term.BNode('fb4caaee8800747f9a6f0eb75be15a940b22'))\n",
      "(rdflib.term.BNode('fb4caaee8800747f9a6f0eb75be15a940b13'), rdflib.term.URIRef('http://www.w3.org/1999/02/22-rdf-syntax-ns#rest'), rdflib.term.URIRef('http://www.w3.org/1999/02/22-rdf-syntax-ns#nil'))\n",
      "(rdflib.term.BNode('ub1bL197C21'), rdflib.term.URIRef('http://www.w3.org/1999/02/22-rdf-syntax-ns#type'), rdflib.term.URIRef('http://www.w3.org/2002/07/owl#Restriction'))\n",
      "(rdflib.term.BNode('fb4caaee8800747f9a6f0eb75be15a940b6'), rdflib.term.URIRef('http://www.w3.org/1999/02/22-rdf-syntax-ns#rest'), rdflib.term.BNode('fb4caaee8800747f9a6f0eb75be15a940b7'))\n",
      "(rdflib.term.BNode('fb4caaee8800747f9a6f0eb75be15a940b10'), rdflib.term.URIRef('http://www.w3.org/1999/02/22-rdf-syntax-ns#first'), rdflib.term.URIRef('http://test.org/bft.owl#Plate'))\n",
      "(rdflib.term.BNode('ub1bL204C21'), rdflib.term.URIRef('http://www.w3.org/2002/07/owl#oneOf'), rdflib.term.BNode('fb4caaee8800747f9a6f0eb75be15a940b1'))\n",
      "(rdflib.term.BNode('fb4caaee8800747f9a6f0eb75be15a940b27'), rdflib.term.URIRef('http://www.w3.org/1999/02/22-rdf-syntax-ns#first'), rdflib.term.URIRef('http://test.org/bft.owl#fried'))\n",
      "(rdflib.term.BNode('fb4caaee8800747f9a6f0eb75be15a940b12'), rdflib.term.URIRef('http://www.w3.org/1999/02/22-rdf-syntax-ns#first'), rdflib.term.URIRef('http://test.org/bft.owl#Knife'))\n",
      "(rdflib.term.BNode('fb4caaee8800747f9a6f0eb75be15a940b11'), rdflib.term.URIRef('http://www.w3.org/1999/02/22-rdf-syntax-ns#rest'), rdflib.term.BNode('fb4caaee8800747f9a6f0eb75be15a940b12'))\n",
      "(rdflib.term.BNode('fb4caaee8800747f9a6f0eb75be15a940b6'), rdflib.term.URIRef('http://www.w3.org/1999/02/22-rdf-syntax-ns#first'), rdflib.term.URIRef('http://test.org/bft.owl#Storage'))\n",
      "(rdflib.term.BNode('fb4caaee8800747f9a6f0eb75be15a940b22'), rdflib.term.URIRef('http://www.w3.org/1999/02/22-rdf-syntax-ns#rest'), rdflib.term.BNode('fb4caaee8800747f9a6f0eb75be15a940b23'))\n",
      "(rdflib.term.BNode('fb4caaee8800747f9a6f0eb75be15a940b1'), rdflib.term.URIRef('http://www.w3.org/1999/02/22-rdf-syntax-ns#rest'), rdflib.term.BNode('fb4caaee8800747f9a6f0eb75be15a940b2'))\n",
      "(rdflib.term.BNode('fb4caaee8800747f9a6f0eb75be15a940b18'), rdflib.term.URIRef('http://www.w3.org/1999/02/22-rdf-syntax-ns#first'), rdflib.term.URIRef('http://test.org/bft.owl#bread_plate'))\n",
      "(rdflib.term.BNode('fb4caaee8800747f9a6f0eb75be15a940b3'), rdflib.term.URIRef('http://www.w3.org/1999/02/22-rdf-syntax-ns#first'), rdflib.term.URIRef('http://test.org/bft.owl#fried'))\n",
      "(rdflib.term.BNode('fb4caaee8800747f9a6f0eb75be15a940b23'), rdflib.term.URIRef('http://www.w3.org/1999/02/22-rdf-syntax-ns#first'), rdflib.term.URIRef('http://test.org/bft.owl#Milk'))\n",
      "(rdflib.term.BNode('fb4caaee8800747f9a6f0eb75be15a940b3'), rdflib.term.URIRef('http://www.w3.org/1999/02/22-rdf-syntax-ns#rest'), rdflib.term.URIRef('http://www.w3.org/1999/02/22-rdf-syntax-ns#nil'))\n",
      "(rdflib.term.URIRef('http://test.org/bft.owl#Storage'), rdflib.term.URIRef('http://www.w3.org/2000/01/rdf-schema#subClassOf'), rdflib.term.BNode('ub1bL158C21'))\n",
      "(rdflib.term.URIRef('http://test.org/bft.owl#Furniture'), rdflib.term.URIRef('http://www.w3.org/2000/01/rdf-schema#subClassOf'), rdflib.term.BNode('ub1bL184C21'))\n",
      "(rdflib.term.BNode('ub1bL240C1'), rdflib.term.URIRef('http://www.w3.org/1999/02/22-rdf-syntax-ns#type'), rdflib.term.URIRef('http://www.w3.org/2002/07/owl#AllDisjointClasses'))\n",
      "(rdflib.term.BNode('fb4caaee8800747f9a6f0eb75be15a940b1'), rdflib.term.URIRef('http://www.w3.org/1999/02/22-rdf-syntax-ns#first'), rdflib.term.URIRef('http://test.org/bft.owl#hardboiled'))\n",
      "(rdflib.term.BNode('fb4caaee8800747f9a6f0eb75be15a940b8'), rdflib.term.URIRef('http://www.w3.org/1999/02/22-rdf-syntax-ns#first'), rdflib.term.URIRef('http://test.org/bft.owl#Furniture'))\n",
      "(rdflib.term.BNode('ub1bL249C1'), rdflib.term.URIRef('http://www.w3.org/2002/07/owl#distinctMembers'), rdflib.term.BNode('fb4caaee8800747f9a6f0eb75be15a940b25'))\n",
      "(rdflib.term.BNode('ub1bL228C21'), rdflib.term.URIRef('http://www.w3.org/2002/07/owl#hasValue'), rdflib.term.Literal('true', datatype=rdflib.term.URIRef('http://www.w3.org/2001/XMLSchema#boolean')))\n",
      "(rdflib.term.BNode('ub1bL158C21'), rdflib.term.URIRef('http://www.w3.org/2002/07/owl#onProperty'), rdflib.term.URIRef('http://test.org/bft.owl#is_edible'))\n",
      "(rdflib.term.BNode('fb4caaee8800747f9a6f0eb75be15a940b16'), rdflib.term.URIRef('http://www.w3.org/1999/02/22-rdf-syntax-ns#first'), rdflib.term.URIRef('http://test.org/bft.owl#Condiment'))\n",
      "(rdflib.term.BNode('ub1bL204C21'), rdflib.term.URIRef('http://www.w3.org/1999/02/22-rdf-syntax-ns#type'), rdflib.term.URIRef('http://www.w3.org/2002/07/owl#Class'))\n",
      "(rdflib.term.BNode('fb4caaee8800747f9a6f0eb75be15a940b13'), rdflib.term.URIRef('http://www.w3.org/1999/02/22-rdf-syntax-ns#first'), rdflib.term.URIRef('http://test.org/bft.owl#Spoon'))\n",
      "(rdflib.term.BNode('fb4caaee8800747f9a6f0eb75be15a940b23'), rdflib.term.URIRef('http://www.w3.org/1999/02/22-rdf-syntax-ns#rest'), rdflib.term.BNode('fb4caaee8800747f9a6f0eb75be15a940b24'))\n",
      "(rdflib.term.BNode('ub1bL228C21'), rdflib.term.URIRef('http://www.w3.org/1999/02/22-rdf-syntax-ns#type'), rdflib.term.URIRef('http://www.w3.org/2002/07/owl#Restriction'))\n",
      "(rdflib.term.BNode('fb4caaee8800747f9a6f0eb75be15a940b9'), rdflib.term.URIRef('http://www.w3.org/1999/02/22-rdf-syntax-ns#first'), rdflib.term.URIRef('http://test.org/bft.owl#Glassware'))\n",
      "(rdflib.term.BNode('fb4caaee8800747f9a6f0eb75be15a940b18'), rdflib.term.URIRef('http://www.w3.org/1999/02/22-rdf-syntax-ns#rest'), rdflib.term.BNode('fb4caaee8800747f9a6f0eb75be15a940b19'))\n",
      "(rdflib.term.BNode('ub1bL197C21'), rdflib.term.URIRef('http://www.w3.org/2002/07/owl#hasValue'), rdflib.term.Literal('false', datatype=rdflib.term.URIRef('http://www.w3.org/2001/XMLSchema#boolean')))\n",
      "(rdflib.term.BNode('fb4caaee8800747f9a6f0eb75be15a940b25'), rdflib.term.URIRef('http://www.w3.org/1999/02/22-rdf-syntax-ns#rest'), rdflib.term.BNode('fb4caaee8800747f9a6f0eb75be15a940b26'))\n",
      "(rdflib.term.BNode('fb4caaee8800747f9a6f0eb75be15a940b24'), rdflib.term.URIRef('http://www.w3.org/1999/02/22-rdf-syntax-ns#rest'), rdflib.term.URIRef('http://www.w3.org/1999/02/22-rdf-syntax-ns#nil'))\n",
      "(rdflib.term.BNode('fb4caaee8800747f9a6f0eb75be15a940b17'), rdflib.term.URIRef('http://www.w3.org/1999/02/22-rdf-syntax-ns#first'), rdflib.term.URIRef('http://test.org/bft.owl#sauce_dish'))\n",
      "(rdflib.term.BNode('ub1bL240C1'), rdflib.term.URIRef('http://www.w3.org/2002/07/owl#members'), rdflib.term.BNode('fb4caaee8800747f9a6f0eb75be15a940b14'))\n",
      "(rdflib.term.BNode('fb4caaee8800747f9a6f0eb75be15a940b20'), rdflib.term.URIRef('http://www.w3.org/1999/02/22-rdf-syntax-ns#first'), rdflib.term.URIRef('http://test.org/bft.owl#teacup_plate'))\n",
      "(rdflib.term.BNode('fb4caaee8800747f9a6f0eb75be15a940b15'), rdflib.term.URIRef('http://www.w3.org/1999/02/22-rdf-syntax-ns#rest'), rdflib.term.BNode('fb4caaee8800747f9a6f0eb75be15a940b16'))\n",
      "(rdflib.term.BNode('fb4caaee8800747f9a6f0eb75be15a940b4'), rdflib.term.URIRef('http://www.w3.org/1999/02/22-rdf-syntax-ns#first'), rdflib.term.URIRef('http://test.org/bft.owl#Food'))\n",
      "(rdflib.term.BNode('ub1bL197C21'), rdflib.term.URIRef('http://www.w3.org/2002/07/owl#onProperty'), rdflib.term.URIRef('http://test.org/bft.owl#is_edible'))\n",
      "(rdflib.term.BNode('ub1bL234C1'), rdflib.term.URIRef('http://www.w3.org/2002/07/owl#members'), rdflib.term.BNode('fb4caaee8800747f9a6f0eb75be15a940b4'))\n",
      "(rdflib.term.BNode('fb4caaee8800747f9a6f0eb75be15a940b22'), rdflib.term.URIRef('http://www.w3.org/1999/02/22-rdf-syntax-ns#first'), rdflib.term.URIRef('http://test.org/bft.owl#Coffee'))\n",
      "(rdflib.term.BNode('fb4caaee8800747f9a6f0eb75be15a940b26'), rdflib.term.URIRef('http://www.w3.org/1999/02/22-rdf-syntax-ns#rest'), rdflib.term.BNode('fb4caaee8800747f9a6f0eb75be15a940b27'))\n",
      "(rdflib.term.BNode('fb4caaee8800747f9a6f0eb75be15a940b5'), rdflib.term.URIRef('http://www.w3.org/1999/02/22-rdf-syntax-ns#rest'), rdflib.term.BNode('fb4caaee8800747f9a6f0eb75be15a940b6'))\n",
      "(rdflib.term.BNode('fb4caaee8800747f9a6f0eb75be15a940b14'), rdflib.term.URIRef('http://www.w3.org/1999/02/22-rdf-syntax-ns#rest'), rdflib.term.BNode('fb4caaee8800747f9a6f0eb75be15a940b15'))\n",
      "(rdflib.term.BNode('fb4caaee8800747f9a6f0eb75be15a940b16'), rdflib.term.URIRef('http://www.w3.org/1999/02/22-rdf-syntax-ns#rest'), rdflib.term.URIRef('http://www.w3.org/1999/02/22-rdf-syntax-ns#nil'))\n",
      "(rdflib.term.BNode('fb4caaee8800747f9a6f0eb75be15a940b12'), rdflib.term.URIRef('http://www.w3.org/1999/02/22-rdf-syntax-ns#rest'), rdflib.term.BNode('fb4caaee8800747f9a6f0eb75be15a940b13'))\n",
      "(rdflib.term.BNode('fb4caaee8800747f9a6f0eb75be15a940b10'), rdflib.term.URIRef('http://www.w3.org/1999/02/22-rdf-syntax-ns#rest'), rdflib.term.BNode('fb4caaee8800747f9a6f0eb75be15a940b11'))\n",
      "(rdflib.term.BNode('ub1bL243C1'), rdflib.term.URIRef('http://www.w3.org/1999/02/22-rdf-syntax-ns#type'), rdflib.term.URIRef('http://www.w3.org/2002/07/owl#AllDifferent'))\n",
      "(rdflib.term.BNode('fb4caaee8800747f9a6f0eb75be15a940b19'), rdflib.term.URIRef('http://www.w3.org/1999/02/22-rdf-syntax-ns#first'), rdflib.term.URIRef('http://test.org/bft.owl#butter_dish'))\n",
      "(rdflib.term.BNode('ub1bL158C21'), rdflib.term.URIRef('http://www.w3.org/1999/02/22-rdf-syntax-ns#type'), rdflib.term.URIRef('http://www.w3.org/2002/07/owl#Restriction'))\n",
      "(rdflib.term.BNode('fb4caaee8800747f9a6f0eb75be15a940b17'), rdflib.term.URIRef('http://www.w3.org/1999/02/22-rdf-syntax-ns#rest'), rdflib.term.BNode('fb4caaee8800747f9a6f0eb75be15a940b18'))\n",
      "(rdflib.term.BNode('ub1bL228C21'), rdflib.term.URIRef('http://www.w3.org/2002/07/owl#onProperty'), rdflib.term.URIRef('http://test.org/bft.owl#is_edible'))\n",
      "(rdflib.term.BNode('ub1bL184C21'), rdflib.term.URIRef('http://www.w3.org/2002/07/owl#onProperty'), rdflib.term.URIRef('http://test.org/bft.owl#is_edible'))\n",
      "(rdflib.term.BNode('ub1bL184C21'), rdflib.term.URIRef('http://www.w3.org/1999/02/22-rdf-syntax-ns#type'), rdflib.term.URIRef('http://www.w3.org/2002/07/owl#Restriction'))\n",
      "(rdflib.term.BNode('fb4caaee8800747f9a6f0eb75be15a940b4'), rdflib.term.URIRef('http://www.w3.org/1999/02/22-rdf-syntax-ns#rest'), rdflib.term.BNode('fb4caaee8800747f9a6f0eb75be15a940b5'))\n",
      "(rdflib.term.BNode('fb4caaee8800747f9a6f0eb75be15a940b14'), rdflib.term.URIRef('http://www.w3.org/1999/02/22-rdf-syntax-ns#first'), rdflib.term.URIRef('http://test.org/bft.owl#Bread'))\n",
      "(rdflib.term.BNode('fb4caaee8800747f9a6f0eb75be15a940b9'), rdflib.term.URIRef('http://www.w3.org/1999/02/22-rdf-syntax-ns#rest'), rdflib.term.BNode('fb4caaee8800747f9a6f0eb75be15a940b10'))\n",
      "85\n"
     ]
    }
   ],
   "source": [
    "# check if reasoner files have asserted triples\n",
    "cnt = 0\n",
    "for r in open_g:\n",
    "    if r not in open_rdfs_g:\n",
    "        print(r)\n",
    "        cnt+=1\n",
    "print(cnt)"
   ]
  },
  {
   "cell_type": "code",
   "execution_count": 18,
   "metadata": {},
   "outputs": [
    {
     "name": "stdout",
     "output_type": "stream",
     "text": [
      "271\n",
      "148\n",
      "148\n",
      "148\n"
     ]
    }
   ],
   "source": [
    "# get triples in all files\n",
    "\n",
    "def IntersecOfSets(arr1, arr2, arr3): \n",
    "    # Converting the arrays into sets \n",
    "    s1 = set(arr1) \n",
    "    s2 = set(arr2) \n",
    "    s3 = set(arr3) \n",
    "      \n",
    "    # Calculates intersection of  \n",
    "    # sets on s1 and s2 \n",
    "    set1 = s1.intersection(s2)         #[80, 20, 100] \n",
    "      \n",
    "    # Calculates intersection of sets \n",
    "    # on set1 and s3 \n",
    "    result_set = set1.intersection(s3) \n",
    "      \n",
    "    # Converts resulting set to list \n",
    "    final_list = list(result_set) \n",
    "    \n",
    "    return final_list \n",
    "    \n",
    "shared = IntersecOfSets(open_rdfs_triples, open_owlrl_triples, open_triples)\n",
    "print(len(shared))\n",
    "shared1 = IntersecOfSets(open_triples, open_rdfs_triples, open_owlrl_triples)\n",
    "print(len(shared1))\n",
    "# with open(\"shared_triples\", \"r\") as infile:\n",
    "#     content = infile.read()"
   ]
  },
  {
   "cell_type": "code",
   "execution_count": 11,
   "metadata": {},
   "outputs": [
    {
     "data": {
      "text/plain": [
       "537"
      ]
     },
     "execution_count": 11,
     "metadata": {},
     "output_type": "execute_result"
    }
   ],
   "source": [
    "# get inferred triples\n",
    "open_rdfs_triples = [t for t in open_rdfs_g]\n",
    "len(open_rdfs_triples)"
   ]
  },
  {
   "cell_type": "markdown",
   "metadata": {},
   "source": [
    "### Closed World"
   ]
  },
  {
   "cell_type": "code",
   "execution_count": 6,
   "metadata": {},
   "outputs": [
    {
     "data": {
      "text/plain": [
       "482"
      ]
     },
     "execution_count": 6,
     "metadata": {},
     "output_type": "execute_result"
    }
   ],
   "source": [
    "closed = Graph()\n",
    "closed.parse(\"../graphs/aff_bft_closed_graph.ttl\", format = \"turtle\")\n",
    "len(closed)"
   ]
  },
  {
   "cell_type": "code",
   "execution_count": 4,
   "metadata": {},
   "outputs": [
    {
     "data": {
      "text/plain": [
       "1928"
      ]
     },
     "execution_count": 4,
     "metadata": {},
     "output_type": "execute_result"
    }
   ],
   "source": [
    "closed_owlrl_g = Graph()\n",
    "closed_owlrl_g.parse(\"./closed_owlrl_semantics.ttl\", format = \"turtle\")\n",
    "len(closed_owlrl_g)"
   ]
  },
  {
   "cell_type": "code",
   "execution_count": 5,
   "metadata": {},
   "outputs": [
    {
     "data": {
      "text/plain": [
       "1206"
      ]
     },
     "execution_count": 5,
     "metadata": {},
     "output_type": "execute_result"
    }
   ],
   "source": [
    "closed_rdfs_g = Graph()\n",
    "closed_rdfs_g.parse(\"./closed_rdfs_semantics.ttl\", format = \"turtle\")\n",
    "len(closed_rdfs_g)"
   ]
  },
  {
   "cell_type": "code",
   "execution_count": null,
   "metadata": {},
   "outputs": [],
   "source": []
  }
 ],
 "metadata": {
  "kernelspec": {
   "display_name": "Python 3",
   "language": "python",
   "name": "python3"
  },
  "language_info": {
   "codemirror_mode": {
    "name": "ipython",
    "version": 3
   },
   "file_extension": ".py",
   "mimetype": "text/x-python",
   "name": "python",
   "nbconvert_exporter": "python",
   "pygments_lexer": "ipython3",
   "version": "3.7.6"
  }
 },
 "nbformat": 4,
 "nbformat_minor": 4
}
