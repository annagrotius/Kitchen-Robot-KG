{
 "cells": [
  {
   "cell_type": "code",
   "execution_count": 1,
   "metadata": {},
   "outputs": [],
   "source": [
    "from rdflib import Graph, Namespace, RDF, URIRef, RDFS\n",
    "from rdflib.namespace import OWL, SKOS"
   ]
  },
  {
   "cell_type": "code",
   "execution_count": 2,
   "metadata": {},
   "outputs": [],
   "source": [
    "def create_namespace(graph, namespace, prefix):\n",
    "    \"\"\"\n",
    "    Binds a namespace to a given graph.\n",
    "    Args:\n",
    "        - graph: graph object\n",
    "        - namespace: uri of the namespace to be bound to the graph\n",
    "        - prefix: the prefix of the given namespace\n",
    "    Output: namespace instance bound to a specified graph\n",
    "    \"\"\"\n",
    "    ns = Namespace(namespace)\n",
    "    graph.namespace_manager.bind(prefix, namespace)\n",
    "\n",
    "    return ns"
   ]
  },
  {
   "cell_type": "code",
   "execution_count": 3,
   "metadata": {},
   "outputs": [
    {
     "data": {
      "text/plain": [
       "<Graph identifier=N5acd101b2e80465fbee28685498ecc56 (<class 'rdflib.graph.Graph'>)>"
      ]
     },
     "execution_count": 3,
     "metadata": {},
     "output_type": "execute_result"
    }
   ],
   "source": [
    "# load graphs to be merged\n",
    "base_graph_file = \"./graphs/aff_bft_open_graph.ttl\"\n",
    "cn_graph_file = \"../data/ConceptNet/parse/cn_graph.ttl\"\n",
    "base_g = Graph()\n",
    "cn_g = Graph()\n",
    "base_g.parse(base_graph_file, format= 'turtle')\n",
    "cn_g.parse(cn_graph_file, format= 'turtle')"
   ]
  },
  {
   "cell_type": "code",
   "execution_count": 4,
   "metadata": {},
   "outputs": [
    {
     "data": {
      "text/plain": [
       "7011"
      ]
     },
     "execution_count": 4,
     "metadata": {},
     "output_type": "execute_result"
    }
   ],
   "source": [
    "# combine graphs\n",
    "merged_g = Graph()\n",
    "merged_g = base_g + cn_g\n",
    "len(merged_g)"
   ]
  },
  {
   "cell_type": "markdown",
   "metadata": {},
   "source": [
    "## Linking CN Relations with aff ontology"
   ]
  },
  {
   "cell_type": "code",
   "execution_count": 5,
   "metadata": {},
   "outputs": [],
   "source": [
    "cnr_ns = create_namespace(merged_g, \"http://api.conceptnet.io/r/\", 'cnr')\n",
    "cnc_ns = create_namespace(merged_g, \"http://api.conceptnet.io/c/\", 'cnc')\n",
    "aff_ns = create_namespace(merged_g, \"http://test.org/affordance.owl#\", 'aff')\n",
    "kchn_ns = create_namespace(merged_g, \"http://test.org/kitchen.owl#\", 'kchn')\n",
    "skos_ns = create_namespace(merged_g, \"http://www.w3.org/2004/02/skos/core#\", 'skos')"
   ]
  },
  {
   "cell_type": "code",
   "execution_count": 6,
   "metadata": {},
   "outputs": [],
   "source": [
    "# linking CN relations to aff:quality\n",
    "# merged_g.add( (cnr_ns[URIRef('AtLocation')], RDFS.subPropertyOf, aff_ns['quality']) )\n",
    "merged_g.add( (cnr_ns[URIRef('HasProperty')], RDFS.subPropertyOf, aff_ns['quality']) )\n",
    "merged_g.add( (cnr_ns[URIRef('MadeOf')], RDFS.subPropertyOf, aff_ns['quality']) )\n",
    "merged_g.add( (cnr_ns[URIRef('PartOf')], RDFS.subPropertyOf, aff_ns['quality']) )\n",
    "merged_g.add( (cnr_ns[URIRef('HasA')], RDFS.subPropertyOf, aff_ns['quality']) )"
   ]
  },
  {
   "cell_type": "code",
   "execution_count": 7,
   "metadata": {},
   "outputs": [
    {
     "data": {
      "text/plain": [
       "7015"
      ]
     },
     "execution_count": 7,
     "metadata": {},
     "output_type": "execute_result"
    }
   ],
   "source": [
    "len(merged_g)"
   ]
  },
  {
   "cell_type": "code",
   "execution_count": 8,
   "metadata": {},
   "outputs": [
    {
     "data": {
      "text/plain": [
       "7015"
      ]
     },
     "execution_count": 8,
     "metadata": {},
     "output_type": "execute_result"
    }
   ],
   "source": [
    "# changing ReceivesAction to kchn:CanBe\n",
    "for s,p,o in merged_g.triples( (None, cnr_ns.ReceivesAction, None) ):\n",
    "    merged_g.remove( (cnc_ns[s[27:]], cnr_ns.ReceivesAction, cnc_ns[o[27:]]) )\n",
    "    merged_g.add( (cnc_ns[s[27:]], kchn_ns.CanBe, cnc_ns[o[27:]]) )\n",
    "#     print(cnc_ns[s[27:]], kchn_ns.CanBe, cnc_ns[o[27:]])\n",
    "len(merged_g)"
   ]
  },
  {
   "cell_type": "code",
   "execution_count": 9,
   "metadata": {},
   "outputs": [],
   "source": [
    "# add subclasses of Quality\n",
    "Substance = URIRef('http://test.org/kitchen.owl#Substance')\n",
    "Property = URIRef('http://test.org/kitchen.owl#Property')\n",
    "PhysicalProperty = URIRef('http://test.org/kitchen.owl#PhysicalProperty')\n",
    "\n",
    "merged_g.add( (Substance, RDFS.subClassOf, aff_ns.Quality) )\n",
    "merged_g.add( (Property, RDFS.subClassOf, aff_ns.Quality) )\n",
    "merged_g.add( (PhysicalProperty, RDFS.subClassOf, aff_ns.Quality) )"
   ]
  },
  {
   "cell_type": "code",
   "execution_count": 10,
   "metadata": {},
   "outputs": [],
   "source": [
    "# add subclasses of Affordance\n",
    "Substance_aff = URIRef('http://test.org/kitchen.owl#SubstanceAffordance')\n",
    "Property_aff = URIRef('http://test.org/kitchen.owl#PropertyAffordance')\n",
    "PhysicalProperty_aff = URIRef('http://test.org/kitchen.owl#PhysicalPropertyAffordance')\n",
    "\n",
    "merged_g.add( (Substance_aff, RDFS.subClassOf, aff_ns.Affordance) )\n",
    "merged_g.add( (Property_aff, RDFS.subClassOf, aff_ns.Affordance) )\n",
    "merged_g.add( (PhysicalProperty_aff, RDFS.subClassOf, aff_ns.Affordance) )"
   ]
  },
  {
   "cell_type": "code",
   "execution_count": 11,
   "metadata": {},
   "outputs": [],
   "source": [
    "# add relations between Quality and Affordance subclasses\n",
    "merged_g.add( (Substance, aff_ns.implies, Substance_aff) )\n",
    "merged_g.add( (Property, aff_ns.implies, Property_aff) )\n",
    "merged_g.add( (PhysicalProperty, aff_ns.implies, PhysicalProperty_aff) )"
   ]
  },
  {
   "cell_type": "code",
   "execution_count": 12,
   "metadata": {},
   "outputs": [
    {
     "name": "stdout",
     "output_type": "stream",
     "text": [
      "http://api.conceptnet.io/c/en/good http://www.w3.org/1999/02/22-rdf-syntax-ns#type http://test.org/kitchen.owl#Property\n",
      "http://api.conceptnet.io/c/en/paired_with_chairs http://www.w3.org/1999/02/22-rdf-syntax-ns#type http://test.org/kitchen.owl#Property\n",
      "http://api.conceptnet.io/c/en/soft http://www.w3.org/1999/02/22-rdf-syntax-ns#type http://test.org/kitchen.owl#Property\n",
      "http://api.conceptnet.io/c/en/empty http://www.w3.org/1999/02/22-rdf-syntax-ns#type http://test.org/kitchen.owl#Property\n",
      "http://api.conceptnet.io/c/en/dangerous http://www.w3.org/1999/02/22-rdf-syntax-ns#type http://test.org/kitchen.owl#Property\n",
      "http://api.conceptnet.io/c/en/clean http://www.w3.org/1999/02/22-rdf-syntax-ns#type http://test.org/kitchen.owl#Property\n",
      "http://api.conceptnet.io/c/en/fragile http://www.w3.org/1999/02/22-rdf-syntax-ns#type http://test.org/kitchen.owl#Property\n",
      "http://api.conceptnet.io/c/en/refreshing_to_drink http://www.w3.org/1999/02/22-rdf-syntax-ns#type http://test.org/kitchen.owl#Property\n",
      "http://api.conceptnet.io/c/en/dirty http://www.w3.org/1999/02/22-rdf-syntax-ns#type http://test.org/kitchen.owl#Property\n",
      "http://api.conceptnet.io/c/en/very_useful_to_cut_meat http://www.w3.org/1999/02/22-rdf-syntax-ns#type http://test.org/kitchen.owl#Property\n",
      "http://api.conceptnet.io/c/en/dull http://www.w3.org/1999/02/22-rdf-syntax-ns#type http://test.org/kitchen.owl#Property\n",
      "http://api.conceptnet.io/c/en/solid http://www.w3.org/1999/02/22-rdf-syntax-ns#type http://test.org/kitchen.owl#Property\n",
      "http://api.conceptnet.io/c/en/very_refreshing http://www.w3.org/1999/02/22-rdf-syntax-ns#type http://test.org/kitchen.owl#Property\n",
      "http://api.conceptnet.io/c/en/sharp http://www.w3.org/1999/02/22-rdf-syntax-ns#type http://test.org/kitchen.owl#Property\n",
      "http://api.conceptnet.io/c/en/good_for_health http://www.w3.org/1999/02/22-rdf-syntax-ns#type http://test.org/kitchen.owl#Property\n",
      "http://api.conceptnet.io/c/en/important_for_making_food http://www.w3.org/1999/02/22-rdf-syntax-ns#type http://test.org/kitchen.owl#Property\n",
      "http://api.conceptnet.io/c/en/recyclable http://www.w3.org/1999/02/22-rdf-syntax-ns#type http://test.org/kitchen.owl#Property\n",
      "http://api.conceptnet.io/c/en/pale_yellow http://www.w3.org/1999/02/22-rdf-syntax-ns#type http://test.org/kitchen.owl#Property\n",
      "http://api.conceptnet.io/c/en/edible http://www.w3.org/1999/02/22-rdf-syntax-ns#type http://test.org/kitchen.owl#Property\n",
      "http://api.conceptnet.io/c/en/non_porous http://www.w3.org/1999/02/22-rdf-syntax-ns#type http://test.org/kitchen.owl#Property\n",
      "http://api.conceptnet.io/c/en/half_full http://www.w3.org/1999/02/22-rdf-syntax-ns#type http://test.org/kitchen.owl#Property\n",
      "http://api.conceptnet.io/c/en/yellow http://www.w3.org/1999/02/22-rdf-syntax-ns#type http://test.org/kitchen.owl#Property\n",
      "http://api.conceptnet.io/c/en/ceramic http://www.w3.org/1999/02/22-rdf-syntax-ns#type http://test.org/kitchen.owl#Property\n",
      "http://api.conceptnet.io/c/en/half_empty http://www.w3.org/1999/02/22-rdf-syntax-ns#type http://test.org/kitchen.owl#Property\n",
      "http://api.conceptnet.io/c/en/green http://www.w3.org/1999/02/22-rdf-syntax-ns#type http://test.org/kitchen.owl#Property\n",
      "http://api.conceptnet.io/c/en/very_fragile http://www.w3.org/1999/02/22-rdf-syntax-ns#type http://test.org/kitchen.owl#Property\n",
      "http://api.conceptnet.io/c/en/opaque http://www.w3.org/1999/02/22-rdf-syntax-ns#type http://test.org/kitchen.owl#Property\n",
      "http://api.conceptnet.io/c/en/one_kind_of_breakfast_drink http://www.w3.org/1999/02/22-rdf-syntax-ns#type http://test.org/kitchen.owl#Property\n",
      "http://api.conceptnet.io/c/en/clear http://www.w3.org/1999/02/22-rdf-syntax-ns#type http://test.org/kitchen.owl#Property\n"
     ]
    },
    {
     "data": {
      "text/plain": [
       "7053"
      ]
     },
     "execution_count": 12,
     "metadata": {},
     "output_type": "execute_result"
    }
   ],
   "source": [
    "# make 'B' in cnr:HasProperty an instance of kchn:Property\n",
    "for s,p,o in merged_g.triples( (None, cnr_ns.HasProperty, None) ):\n",
    "    merged_g.add( (cnc_ns[o[27:]], RDF.type, kchn_ns.Property) )\n",
    "    print(cnc_ns[o[27:]], RDF.type, kchn_ns.Property) \n",
    "len(merged_g)"
   ]
  },
  {
   "cell_type": "code",
   "execution_count": 13,
   "metadata": {},
   "outputs": [
    {
     "name": "stdout",
     "output_type": "stream",
     "text": [
      "http://api.conceptnet.io/c/en/good http://www.w3.org/1999/02/22-rdf-syntax-ns#type http://test.org/kitchen.owl#Property\n",
      "http://api.conceptnet.io/c/en/paired_with_chairs http://www.w3.org/1999/02/22-rdf-syntax-ns#type http://test.org/kitchen.owl#Property\n",
      "http://api.conceptnet.io/c/en/soft http://www.w3.org/1999/02/22-rdf-syntax-ns#type http://test.org/kitchen.owl#Property\n",
      "http://api.conceptnet.io/c/en/empty http://www.w3.org/1999/02/22-rdf-syntax-ns#type http://test.org/kitchen.owl#Property\n",
      "http://api.conceptnet.io/c/en/dangerous http://www.w3.org/1999/02/22-rdf-syntax-ns#type http://test.org/kitchen.owl#Property\n",
      "http://api.conceptnet.io/c/en/clean http://www.w3.org/1999/02/22-rdf-syntax-ns#type http://test.org/kitchen.owl#Property\n",
      "http://api.conceptnet.io/c/en/fragile http://www.w3.org/1999/02/22-rdf-syntax-ns#type http://test.org/kitchen.owl#Property\n",
      "http://api.conceptnet.io/c/en/refreshing_to_drink http://www.w3.org/1999/02/22-rdf-syntax-ns#type http://test.org/kitchen.owl#Property\n",
      "http://api.conceptnet.io/c/en/dirty http://www.w3.org/1999/02/22-rdf-syntax-ns#type http://test.org/kitchen.owl#Property\n",
      "http://api.conceptnet.io/c/en/very_useful_to_cut_meat http://www.w3.org/1999/02/22-rdf-syntax-ns#type http://test.org/kitchen.owl#Property\n",
      "http://api.conceptnet.io/c/en/dull http://www.w3.org/1999/02/22-rdf-syntax-ns#type http://test.org/kitchen.owl#Property\n",
      "http://api.conceptnet.io/c/en/solid http://www.w3.org/1999/02/22-rdf-syntax-ns#type http://test.org/kitchen.owl#Property\n",
      "http://api.conceptnet.io/c/en/very_refreshing http://www.w3.org/1999/02/22-rdf-syntax-ns#type http://test.org/kitchen.owl#Property\n",
      "http://api.conceptnet.io/c/en/sharp http://www.w3.org/1999/02/22-rdf-syntax-ns#type http://test.org/kitchen.owl#Property\n",
      "http://api.conceptnet.io/c/en/good_for_health http://www.w3.org/1999/02/22-rdf-syntax-ns#type http://test.org/kitchen.owl#Property\n",
      "http://api.conceptnet.io/c/en/important_for_making_food http://www.w3.org/1999/02/22-rdf-syntax-ns#type http://test.org/kitchen.owl#Property\n",
      "http://api.conceptnet.io/c/en/recyclable http://www.w3.org/1999/02/22-rdf-syntax-ns#type http://test.org/kitchen.owl#Property\n",
      "http://api.conceptnet.io/c/en/pale_yellow http://www.w3.org/1999/02/22-rdf-syntax-ns#type http://test.org/kitchen.owl#Property\n",
      "http://api.conceptnet.io/c/en/edible http://www.w3.org/1999/02/22-rdf-syntax-ns#type http://test.org/kitchen.owl#Property\n",
      "http://api.conceptnet.io/c/en/non_porous http://www.w3.org/1999/02/22-rdf-syntax-ns#type http://test.org/kitchen.owl#Property\n",
      "http://api.conceptnet.io/c/en/half_full http://www.w3.org/1999/02/22-rdf-syntax-ns#type http://test.org/kitchen.owl#Property\n",
      "http://api.conceptnet.io/c/en/yellow http://www.w3.org/1999/02/22-rdf-syntax-ns#type http://test.org/kitchen.owl#Property\n",
      "http://api.conceptnet.io/c/en/ceramic http://www.w3.org/1999/02/22-rdf-syntax-ns#type http://test.org/kitchen.owl#Property\n",
      "http://api.conceptnet.io/c/en/half_empty http://www.w3.org/1999/02/22-rdf-syntax-ns#type http://test.org/kitchen.owl#Property\n",
      "http://api.conceptnet.io/c/en/green http://www.w3.org/1999/02/22-rdf-syntax-ns#type http://test.org/kitchen.owl#Property\n",
      "http://api.conceptnet.io/c/en/very_fragile http://www.w3.org/1999/02/22-rdf-syntax-ns#type http://test.org/kitchen.owl#Property\n",
      "http://api.conceptnet.io/c/en/opaque http://www.w3.org/1999/02/22-rdf-syntax-ns#type http://test.org/kitchen.owl#Property\n",
      "http://api.conceptnet.io/c/en/one_kind_of_breakfast_drink http://www.w3.org/1999/02/22-rdf-syntax-ns#type http://test.org/kitchen.owl#Property\n",
      "http://api.conceptnet.io/c/en/clear http://www.w3.org/1999/02/22-rdf-syntax-ns#type http://test.org/kitchen.owl#Property\n"
     ]
    },
    {
     "data": {
      "text/plain": [
       "7053"
      ]
     },
     "execution_count": 13,
     "metadata": {},
     "output_type": "execute_result"
    }
   ],
   "source": [
    "# make 'B' in cnr:HasA an instance of kchn:Property\n",
    "for s,p,o in merged_g.triples( (None, cnr_ns.HasProperty, None) ):\n",
    "    merged_g.add( (cnc_ns[o[27:]], RDF.type, kchn_ns.Property) )\n",
    "    print(cnc_ns[o[27:]], RDF.type, kchn_ns.Property) \n",
    "len(merged_g)"
   ]
  },
  {
   "cell_type": "code",
   "execution_count": 14,
   "metadata": {},
   "outputs": [
    {
     "name": "stdout",
     "output_type": "stream",
     "text": [
      "http://api.conceptnet.io/c/en/fork http://www.w3.org/1999/02/22-rdf-syntax-ns#type http://test.org/kitchen.owl#PhysicalProperty\n",
      "http://api.conceptnet.io/c/en/point/n/wn/artifact http://www.w3.org/1999/02/22-rdf-syntax-ns#type http://test.org/kitchen.owl#PhysicalProperty\n",
      "http://api.conceptnet.io/c/en/blade http://www.w3.org/1999/02/22-rdf-syntax-ns#type http://test.org/kitchen.owl#PhysicalProperty\n",
      "http://api.conceptnet.io/c/en/prong/n/wn/artifact http://www.w3.org/1999/02/22-rdf-syntax-ns#type http://test.org/kitchen.owl#PhysicalProperty\n",
      "http://api.conceptnet.io/c/en/point/n/wn/shape http://www.w3.org/1999/02/22-rdf-syntax-ns#type http://test.org/kitchen.owl#PhysicalProperty\n",
      "http://api.conceptnet.io/c/en/knife_blade/n/wn/artifact http://www.w3.org/1999/02/22-rdf-syntax-ns#type http://test.org/kitchen.owl#PhysicalProperty\n",
      "http://api.conceptnet.io/c/en/glass/n/wn/substance http://www.w3.org/1999/02/22-rdf-syntax-ns#type http://test.org/kitchen.owl#PhysicalProperty\n",
      "http://api.conceptnet.io/c/en/haft/n/wn/artifact http://www.w3.org/1999/02/22-rdf-syntax-ns#type http://test.org/kitchen.owl#PhysicalProperty\n",
      "http://api.conceptnet.io/c/en/handle/n/wn/artifact http://www.w3.org/1999/02/22-rdf-syntax-ns#type http://test.org/kitchen.owl#PhysicalProperty\n",
      "http://api.conceptnet.io/c/en/glass http://www.w3.org/1999/02/22-rdf-syntax-ns#type http://test.org/kitchen.owl#PhysicalProperty\n",
      "http://api.conceptnet.io/c/en/tine/n/wn/artifact http://www.w3.org/1999/02/22-rdf-syntax-ns#type http://test.org/kitchen.owl#PhysicalProperty\n",
      "http://api.conceptnet.io/c/en/blade/n/wn/artifact http://www.w3.org/1999/02/22-rdf-syntax-ns#type http://test.org/kitchen.owl#PhysicalProperty\n",
      "http://api.conceptnet.io/c/en/glass http://www.w3.org/1999/02/22-rdf-syntax-ns#type http://test.org/kitchen.owl#PhysicalProperty\n"
     ]
    },
    {
     "data": {
      "text/plain": [
       "7065"
      ]
     },
     "execution_count": 14,
     "metadata": {},
     "output_type": "execute_result"
    }
   ],
   "source": [
    "# make 'A' in cnr:PartOf an instance of kchn:PhysicalProperty\n",
    "for s,p,o in merged_g.triples( (None, cnr_ns.PartOf, None) ):\n",
    "#     print(s,p,o)\n",
    "    merged_g.add( (cnc_ns[s[27:]], RDF.type, kchn_ns.PhysicalProperty) )\n",
    "    print(cnc_ns[s[27:]], RDF.type, kchn_ns.PhysicalProperty)\n",
    "len(merged_g)"
   ]
  },
  {
   "cell_type": "code",
   "execution_count": 15,
   "metadata": {},
   "outputs": [
    {
     "name": "stdout",
     "output_type": "stream",
     "text": [
      "http://api.conceptnet.io/c/en/dining_set http://www.w3.org/1999/02/22-rdf-syntax-ns#type http://test.org/kitchen.owl#Substance\n",
      "http://api.conceptnet.io/c/en/knife/n/wn/artifact http://www.w3.org/1999/02/22-rdf-syntax-ns#type http://test.org/kitchen.owl#Substance\n",
      "http://api.conceptnet.io/c/en/knife http://www.w3.org/1999/02/22-rdf-syntax-ns#type http://test.org/kitchen.owl#Substance\n",
      "http://api.conceptnet.io/c/en/fork/n/wn/artifact http://www.w3.org/1999/02/22-rdf-syntax-ns#type http://test.org/kitchen.owl#Substance\n",
      "http://api.conceptnet.io/c/en/knife/n/wn/artifact http://www.w3.org/1999/02/22-rdf-syntax-ns#type http://test.org/kitchen.owl#Substance\n",
      "http://api.conceptnet.io/c/en/knife/n/wn/artifact http://www.w3.org/1999/02/22-rdf-syntax-ns#type http://test.org/kitchen.owl#Substance\n",
      "http://api.conceptnet.io/c/en/glass/n/wn/artifact http://www.w3.org/1999/02/22-rdf-syntax-ns#type http://test.org/kitchen.owl#Substance\n",
      "http://api.conceptnet.io/c/en/knife/n/wn/artifact http://www.w3.org/1999/02/22-rdf-syntax-ns#type http://test.org/kitchen.owl#Substance\n",
      "http://api.conceptnet.io/c/en/teacup/n/wn/artifact http://www.w3.org/1999/02/22-rdf-syntax-ns#type http://test.org/kitchen.owl#Substance\n",
      "http://api.conceptnet.io/c/en/window http://www.w3.org/1999/02/22-rdf-syntax-ns#type http://test.org/kitchen.owl#Substance\n",
      "http://api.conceptnet.io/c/en/fork/n/wn/artifact http://www.w3.org/1999/02/22-rdf-syntax-ns#type http://test.org/kitchen.owl#Substance\n",
      "http://api.conceptnet.io/c/en/knife/n/wn/artifact http://www.w3.org/1999/02/22-rdf-syntax-ns#type http://test.org/kitchen.owl#Substance\n",
      "http://api.conceptnet.io/c/en/eyeglasses http://www.w3.org/1999/02/22-rdf-syntax-ns#type http://test.org/kitchen.owl#Substance\n"
     ]
    },
    {
     "data": {
      "text/plain": [
       "7073"
      ]
     },
     "execution_count": 15,
     "metadata": {},
     "output_type": "execute_result"
    }
   ],
   "source": [
    "# make 'A' in cnr:MadeOf an instance of kchn:Substance\n",
    "for s,p,o in merged_g.triples( (None, cnr_ns.PartOf, None) ):\n",
    "#     print(s,p,o)\n",
    "    merged_g.add( (cnc_ns[o[27:]], RDF.type, kchn_ns.Substance) )\n",
    "    print(cnc_ns[o[27:]], RDF.type, kchn_ns.Substance)\n",
    "len(merged_g)"
   ]
  },
  {
   "cell_type": "code",
   "execution_count": 16,
   "metadata": {},
   "outputs": [],
   "source": [
    "# # remove MadeOf triples whose 'A' is not an instance in BFT onto\n",
    "# for s,p,o in merged_g.triples( (None, cnr_ns.MadeOf, None) ):\n",
    "#     if s[30:] not in instances:\n",
    "# #         print(s[30:])\n",
    "#         merged_g.remove( (cnc_ns[s[27:]], cnr_ns.MadeOf, cnc_ns[o[27:]]) )\n",
    "# #         print(cnc_ns[s[27:]], cnr_ns.MadeOf, cnc_ns[o[27:]])"
   ]
  },
  {
   "cell_type": "code",
   "execution_count": 17,
   "metadata": {},
   "outputs": [],
   "source": [
    "# # make 'A' in cnr:HasPrerequisite a type of aff:Action\n",
    "# for s,p,o in merged_g.triples( (None, cnr_ns.HasPrerequisite, None) ):\n",
    "#     merged_g.add( (cnc_ns[s[27:]], RDF.type, aff_ns.Action) )\n",
    "#     print(s[27:])\n",
    "# len(merged_g)"
   ]
  },
  {
   "cell_type": "code",
   "execution_count": 18,
   "metadata": {},
   "outputs": [
    {
     "data": {
      "text/plain": [
       "7086"
      ]
     },
     "execution_count": 18,
     "metadata": {},
     "output_type": "execute_result"
    }
   ],
   "source": [
    "# allocate 'A' in cnr:HasPrerequisite to a subclass of aff:Action\n",
    "action_classes = set()\n",
    "actions = []\n",
    "for s,p,o in merged_g.triples( (None, cnr_ns.HasPrerequisite, None) ):\n",
    "#     merged_g.add( (cnc_ns[s[27:]], RDF.type, aff_ns.Action) )\n",
    "#     actions.append(s[30:])\n",
    "    actions.append(s)\n",
    "#     print(s)\n",
    "\n",
    "# generate action subclasses\n",
    "for a in actions:\n",
    "    action = a[30:].split('_')\n",
    "#     print(action)\n",
    "    action_classes.add(action[0].capitalize())\n",
    "\n",
    "# make each action a subclass of Action class in Affordance Ontology\n",
    "for c in action_classes:\n",
    "    action_class = URIRef(f'http://test.org/kitchen.owl#{c}')\n",
    "    merged_g.add( (action_class, RDFS.subClassOf, aff_ns.Action) )\n",
    "    for a in actions:\n",
    "        action = c.lower()\n",
    "        if action in a:\n",
    "            merged_g.add( (URIRef(a), RDF.type, action_class) )\n",
    "#             print( (URIRef(a), RDF.type, action_class) )\n",
    "        \n",
    "len(merged_g)"
   ]
  },
  {
   "cell_type": "markdown",
   "metadata": {},
   "source": [
    "## Linking CN Concepts with BFT ontology"
   ]
  },
  {
   "cell_type": "code",
   "execution_count": 19,
   "metadata": {},
   "outputs": [
    {
     "data": {
      "text/plain": [
       "280"
      ]
     },
     "execution_count": 19,
     "metadata": {},
     "output_type": "execute_result"
    }
   ],
   "source": [
    "distinct_s = cn_g.query(\n",
    "\"\"\"\n",
    "prefix cn: <http://api.conceptnet.io/> \n",
    "prefix cnc: <http://api.conceptnet.io/c/> \n",
    "prefix cnr: <http://api.conceptnet.io/r/> \n",
    "prefix rdf: <http://www.w3.org/1999/02/22-rdf-syntax-ns#>\n",
    "prefix rdfs: <http://www.w3.org/2000/01/rdf-schema#> \n",
    "prefix wi: <http://purl.org/ontology/wi/core#> \n",
    "prefix xml: <http://www.w3.org/XML/1998/namespace> \n",
    "prefix xsd: <http://www.w3.org/2001/XMLSchema#>\n",
    "\n",
    "SELECT distinct ?s WHERE { \n",
    "  ?s a rdfs:Resource. \n",
    "  ?assertion rdf:subject ?s;\n",
    "             rdf:predicate ?p.\n",
    "  FILTER(! (?p = cnr:ExternalURL) )\n",
    "}\n",
    "\"\"\")\n",
    "len(distinct_s)"
   ]
  },
  {
   "cell_type": "code",
   "execution_count": 20,
   "metadata": {},
   "outputs": [
    {
     "data": {
      "text/plain": [
       "510"
      ]
     },
     "execution_count": 20,
     "metadata": {},
     "output_type": "execute_result"
    }
   ],
   "source": [
    "distinct_o = cn_g.query(\n",
    "\"\"\"\n",
    "prefix cnr: <http://api.conceptnet.io/r/> \n",
    "prefix rdf: <http://www.w3.org/1999/02/22-rdf-syntax-ns#>\n",
    "prefix rdfs: <http://www.w3.org/2000/01/rdf-schema#> \n",
    "prefix wi: <http://purl.org/ontology/wi/core#> \n",
    "prefix xml: <http://www.w3.org/XML/1998/namespace> \n",
    "prefix xsd: <http://www.w3.org/2001/XMLSchema#>\n",
    "\n",
    "SELECT distinct ?o WHERE { \n",
    "  ?o a rdfs:Resource. \n",
    "  ?assertion rdf:object ?o;\n",
    "             rdf:predicate ?p.\n",
    "  FILTER(! (?p = cnr:ExternalURL) )\n",
    "}\n",
    "\"\"\")\n",
    "len(distinct_o)"
   ]
  },
  {
   "cell_type": "markdown",
   "metadata": {},
   "source": [
    "### Levenshtein Distance to compare strings"
   ]
  },
  {
   "cell_type": "code",
   "execution_count": 21,
   "metadata": {},
   "outputs": [],
   "source": [
    "# Levenshtein\n",
    "# import the enchant module \n",
    "import enchant "
   ]
  },
  {
   "cell_type": "code",
   "execution_count": 22,
   "metadata": {},
   "outputs": [],
   "source": [
    "instances = ['croissant', 'garnish', 'hardboiled_egg', 'scrambled_egg', 'fried_egg', 'orange_juice', 'apple_juice', 'butter', 'salt_shaker', 'pepper_shaker', 'bread_basket', 'egg_cup', 'milk_pitcher', 'fork', 'knife', 'spoon', 'butter_knife', 'glass', 'teacup', 'sauce_dish', 'butter_dish', 'bread_plate', 'teacup_plate', 'dining_table', 'dining_chair', 'cupboard']"
   ]
  },
  {
   "cell_type": "code",
   "execution_count": 23,
   "metadata": {
    "scrolled": true
   },
   "outputs": [
    {
     "name": "stdout",
     "output_type": "stream",
     "text": [
      "30\n"
     ]
    }
   ],
   "source": [
    "# subject case\n",
    "c=0\n",
    "with open('test_s.txt', 'w') as file:\n",
    "    for i in instances:\n",
    "        str1 = i\n",
    "        for r in distinct_s:\n",
    "            str2 = r.s[30:]\n",
    "#             print(str1, str2)\n",
    "            dist = enchant.utils.levenshtein(str1, str2)\n",
    "            ratio = ((len(str1)+len(str2)) - dist) / (len(str1)+len(str2))\n",
    "            if ratio > 0.83:\n",
    "                c +=1\n",
    "                file.write(f'{str(ratio)} -- {i} -- {r.s[30:]}\\n')\n",
    "#                 print(cnc_ns[r.s[32:]])\n",
    "                merged_g.add( (URIRef(f'http://test.org/bft.owl#{i}'), OWL.sameAs, cnc_ns[r.s[27:]]))\n",
    "#                 print(cnc_ns[r.s[27:]])\n",
    "print(c)"
   ]
  },
  {
   "cell_type": "code",
   "execution_count": 24,
   "metadata": {
    "scrolled": true
   },
   "outputs": [
    {
     "name": "stdout",
     "output_type": "stream",
     "text": [
      "12\n"
     ]
    }
   ],
   "source": [
    "# object case\n",
    "c1=0\n",
    "with open('test_o.txt', 'w') as file:\n",
    "    for i in instances:\n",
    "        str1 = i\n",
    "        for r in distinct_o:\n",
    "#             print(str1, str2)\n",
    "            str2 = r.o[30:]\n",
    "            dist = enchant.utils.levenshtein(str1, str2)\n",
    "            ratio = ((len(str1)+len(str2)) - dist) / (len(str1)+len(str2))\n",
    "            if ratio > 0.83:\n",
    "                c1 += 1\n",
    "                file.write(f'{str(ratio)} -- {i} -- {r.o[30:]}\\n')\n",
    "                merged_g.add( (URIRef(f'http://test.org/bft.owl#{i}'), OWL.sameAs, cnc_ns[r.o[27:]]))\n",
    "#                 print(cnc_ns[r.o[27:]])\n",
    "print(c1)"
   ]
  },
  {
   "cell_type": "code",
   "execution_count": 25,
   "metadata": {
    "scrolled": true
   },
   "outputs": [
    {
     "name": "stdout",
     "output_type": "stream",
     "text": [
      "21\n"
     ]
    }
   ],
   "source": [
    "# exact match of string matching (comparing how this works against the Levenshtein method)\n",
    "cnt = 0\n",
    "for i in instances:\n",
    "    for r in distinct_s:\n",
    "#         print(i, r.s[30:])\n",
    "        if i == str(r.s[30:]):\n",
    "            cnt +=1\n",
    "    for r in distinct_o:\n",
    "#         print(i, r.o)\n",
    "        if i == str(r.o[30:]):\n",
    "            cnt +=1\n",
    "print(cnt)"
   ]
  },
  {
   "cell_type": "markdown",
   "metadata": {},
   "source": [
    "Observe that more links are created through the Levenshtein algorithm compared to the exact string match."
   ]
  },
  {
   "cell_type": "code",
   "execution_count": 26,
   "metadata": {},
   "outputs": [
    {
     "data": {
      "text/plain": [
       "7117"
      ]
     },
     "execution_count": 26,
     "metadata": {},
     "output_type": "execute_result"
    }
   ],
   "source": [
    "len(merged_g)"
   ]
  },
  {
   "cell_type": "markdown",
   "metadata": {},
   "source": [
    "Observe that 67 triples are added to the graph after linking CN graph to base graph. "
   ]
  },
  {
   "cell_type": "markdown",
   "metadata": {},
   "source": [
    "### Create closeMatch links"
   ]
  },
  {
   "cell_type": "code",
   "execution_count": 27,
   "metadata": {},
   "outputs": [],
   "source": [
    "# links instances following that the instance string is in the response string\n",
    "# eg. if instance is 'croissant' and the repsonse is 'butter_croissant', it would be a match\n",
    "\n",
    "same_as_objects = []\n",
    "for s,p,o in merged_g.triples( (None, OWL.sameAs, None) ):\n",
    "#     print(s,p,o)\n",
    "    same_as_objects.append(o[30:])\n",
    "#     print(o[30:])\n",
    "\n",
    "with open('test_contains.txt', 'w') as file:  # Use file to refer to the file object\n",
    "    for i in instances:\n",
    "        for r in distinct_s:\n",
    "            s_concept = str(r.s[32:])\n",
    "            if i in s_concept:\n",
    "                if s_concept in same_as_objects:\n",
    "                    continue\n",
    "                else:\n",
    "                    file.write(f'{i} ------- {str(r.s)}\\n')\n",
    "                    merged_g.add( (URIRef(f'http://test.org/bft.owl#{i}'), skos_ns.closeMatch, cnc_ns[r.s[32:]]) ) \n",
    "        for r in distinct_o:\n",
    "            o_concept = str(r.o[32:])\n",
    "            if i in o_concept:\n",
    "                if o_concept in same_as_objects:\n",
    "                    continue\n",
    "                else:\n",
    "                    file.write(f'{i} ------- {str(r.o)}\\n')\n",
    "                    merged_g.add( (URIRef(f'http://test.org/bft.owl#{i}'), skos_ns.closeMatch, cnc_ns[r.o[32:]]) )\n",
    "    \n",
    "# if the triple exists with that subject, then continue because there is an owlsameas triple of the instnace, else make the triple with skos. "
   ]
  },
  {
   "cell_type": "markdown",
   "metadata": {},
   "source": [
    "### Serialize and save new merged graph with CN entities"
   ]
  },
  {
   "cell_type": "code",
   "execution_count": 28,
   "metadata": {},
   "outputs": [],
   "source": [
    "merged_g.serialize('aff_bft_cn_TEST.ttl', format='turtle')"
   ]
  },
  {
   "cell_type": "code",
   "execution_count": 29,
   "metadata": {},
   "outputs": [
    {
     "data": {
      "text/plain": [
       "7197"
      ]
     },
     "execution_count": 29,
     "metadata": {},
     "output_type": "execute_result"
    }
   ],
   "source": [
    "len(merged_g)"
   ]
  },
  {
   "cell_type": "code",
   "execution_count": null,
   "metadata": {},
   "outputs": [],
   "source": []
  }
 ],
 "metadata": {
  "kernelspec": {
   "display_name": "Python 3",
   "language": "python",
   "name": "python3"
  },
  "language_info": {
   "codemirror_mode": {
    "name": "ipython",
    "version": 3
   },
   "file_extension": ".py",
   "mimetype": "text/x-python",
   "name": "python",
   "nbconvert_exporter": "python",
   "pygments_lexer": "ipython3",
   "version": "3.7.6"
  }
 },
 "nbformat": 4,
 "nbformat_minor": 4
}
