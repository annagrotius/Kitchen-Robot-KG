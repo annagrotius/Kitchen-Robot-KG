{
 "cells": [
  {
   "cell_type": "markdown",
   "metadata": {},
   "source": [
    "This notebook is used to merge the Concept Net graph created to the KitchenConcepts+Affordance graph."
   ]
  },
  {
   "cell_type": "code",
   "execution_count": 1,
   "metadata": {},
   "outputs": [],
   "source": [
    "from rdflib import Graph, Namespace, RDF, URIRef, RDFS\n",
    "from rdflib.namespace import OWL, SKOS\n",
    "import spacy\n",
    "nlp = spacy.load('en_core_web_sm')\n",
    "import pandas as pd"
   ]
  },
  {
   "cell_type": "code",
   "execution_count": 2,
   "metadata": {},
   "outputs": [],
   "source": [
    "def create_namespace(graph, namespace, prefix):\n",
    "    \"\"\"\n",
    "    Binds a namespace to a given graph.\n",
    "    Args:\n",
    "        - graph: graph object\n",
    "        - namespace: uri of the namespace to be bound to the graph\n",
    "        - prefix: the prefix of the given namespace\n",
    "    Output: namespace instance bound to a specified graph\n",
    "    \"\"\"\n",
    "    ns = Namespace(namespace)\n",
    "    graph.namespace_manager.bind(prefix, namespace)\n",
    "\n",
    "    return ns"
   ]
  },
  {
   "cell_type": "code",
   "execution_count": 3,
   "metadata": {},
   "outputs": [
    {
     "data": {
      "text/plain": [
       "<Graph identifier=Nea6c5597008b45b595e037baebd67017 (<class 'rdflib.graph.Graph'>)>"
      ]
     },
     "execution_count": 3,
     "metadata": {},
     "output_type": "execute_result"
    }
   ],
   "source": [
    "# load graphs to be merged\n",
    "base_graph_file = \"./graphs/aff_bft_open_graph.ttl\"\n",
    "cn_graph_file = \"../data/ConceptNet/parse/cn_graph.ttl\"\n",
    "base_g = Graph()\n",
    "cn_g = Graph()\n",
    "base_g.parse(base_graph_file, format= 'turtle')\n",
    "cn_g.parse(cn_graph_file, format= 'turtle')"
   ]
  },
  {
   "cell_type": "code",
   "execution_count": 4,
   "metadata": {},
   "outputs": [
    {
     "data": {
      "text/plain": [
       "2910"
      ]
     },
     "execution_count": 4,
     "metadata": {},
     "output_type": "execute_result"
    }
   ],
   "source": [
    "# merge graphs\n",
    "merged_g = Graph()\n",
    "merged_g = base_g + cn_g\n",
    "len(merged_g)"
   ]
  },
  {
   "cell_type": "code",
   "execution_count": 7,
   "metadata": {},
   "outputs": [],
   "source": [
    "# remove unnecessary owl ontology triple\n",
    "for s,p,o in merged_g.triples((None,RDF.type,OWL.Ontology)):\n",
    "    if s == 'http://test.org/cn.owl':\n",
    "        merged_g.remove((s,p,o))"
   ]
  },
  {
   "cell_type": "markdown",
   "metadata": {},
   "source": [
    "## Linking CN Relations with aff ontology"
   ]
  },
  {
   "cell_type": "code",
   "execution_count": 8,
   "metadata": {},
   "outputs": [],
   "source": [
    "cnr_ns = create_namespace(merged_g, \"http://api.conceptnet.io/r/\", 'cnr')\n",
    "cnc_ns = create_namespace(merged_g, \"http://api.conceptnet.io/c/\", 'cnc')\n",
    "aff_ns = create_namespace(merged_g, \"http://test.org/affordance.owl#\", 'aff')\n",
    "kchn_ns = create_namespace(merged_g, \"http://test.org/kitchen.owl#\", 'kchn')\n",
    "skos_ns = create_namespace(merged_g, \"http://www.w3.org/2004/02/skos/core#\", 'skos')"
   ]
  },
  {
   "cell_type": "markdown",
   "metadata": {},
   "source": [
    "#### Relation: _cnr:UsedFor_ --> action instances and affordance subclasses"
   ]
  },
  {
   "cell_type": "code",
   "execution_count": 9,
   "metadata": {
    "scrolled": true
   },
   "outputs": [
    {
     "data": {
      "text/html": [
       "<div>\n",
       "<style scoped>\n",
       "    .dataframe tbody tr th:only-of-type {\n",
       "        vertical-align: middle;\n",
       "    }\n",
       "\n",
       "    .dataframe tbody tr th {\n",
       "        vertical-align: top;\n",
       "    }\n",
       "\n",
       "    .dataframe thead th {\n",
       "        text-align: right;\n",
       "    }\n",
       "</style>\n",
       "<table border=\"1\" class=\"dataframe\">\n",
       "  <thead>\n",
       "    <tr style=\"text-align: right;\">\n",
       "      <th></th>\n",
       "      <th>entities</th>\n",
       "      <th>usage_o</th>\n",
       "      <th>usage_phrase_list</th>\n",
       "      <th>aff_class</th>\n",
       "    </tr>\n",
       "  </thead>\n",
       "  <tbody>\n",
       "    <tr>\n",
       "      <th>0</th>\n",
       "      <td>en/knife</td>\n",
       "      <td>kitchen_work</td>\n",
       "      <td>kitchen work</td>\n",
       "      <td>NaN</td>\n",
       "    </tr>\n",
       "    <tr>\n",
       "      <th>1</th>\n",
       "      <td>en/glass</td>\n",
       "      <td>drinking_out_of</td>\n",
       "      <td>drinking out of</td>\n",
       "      <td>NaN</td>\n",
       "    </tr>\n",
       "    <tr>\n",
       "      <th>2</th>\n",
       "      <td>en/knife</td>\n",
       "      <td>outdoors_living</td>\n",
       "      <td>outdoors living</td>\n",
       "      <td>NaN</td>\n",
       "    </tr>\n",
       "    <tr>\n",
       "      <th>3</th>\n",
       "      <td>en/spoon</td>\n",
       "      <td>eating_food_off_plate</td>\n",
       "      <td>eating food off plate</td>\n",
       "      <td>NaN</td>\n",
       "    </tr>\n",
       "    <tr>\n",
       "      <th>4</th>\n",
       "      <td>en/knife</td>\n",
       "      <td>notching</td>\n",
       "      <td>notching</td>\n",
       "      <td>NaN</td>\n",
       "    </tr>\n",
       "    <tr>\n",
       "      <th>5</th>\n",
       "      <td>en/cupboard</td>\n",
       "      <td>store_cups</td>\n",
       "      <td>store cups</td>\n",
       "      <td>NaN</td>\n",
       "    </tr>\n",
       "    <tr>\n",
       "      <th>6</th>\n",
       "      <td>en/dining_table</td>\n",
       "      <td>eat_dinner_on</td>\n",
       "      <td>eat dinner on</td>\n",
       "      <td>NaN</td>\n",
       "    </tr>\n",
       "    <tr>\n",
       "      <th>7</th>\n",
       "      <td>en/knife</td>\n",
       "      <td>making_mark</td>\n",
       "      <td>making mark</td>\n",
       "      <td>NaN</td>\n",
       "    </tr>\n",
       "    <tr>\n",
       "      <th>8</th>\n",
       "      <td>en/butter</td>\n",
       "      <td>flavoring</td>\n",
       "      <td>flavoring</td>\n",
       "      <td>NaN</td>\n",
       "    </tr>\n",
       "    <tr>\n",
       "      <th>9</th>\n",
       "      <td>en/dining_table</td>\n",
       "      <td>entertain_large_group_of_people</td>\n",
       "      <td>entertain large group of people</td>\n",
       "      <td>NaN</td>\n",
       "    </tr>\n",
       "    <tr>\n",
       "      <th>10</th>\n",
       "      <td>en/glass</td>\n",
       "      <td>drink_from</td>\n",
       "      <td>drink from</td>\n",
       "      <td>NaN</td>\n",
       "    </tr>\n",
       "    <tr>\n",
       "      <th>11</th>\n",
       "      <td>en/fork</td>\n",
       "      <td>holding_food</td>\n",
       "      <td>holding food</td>\n",
       "      <td>NaN</td>\n",
       "    </tr>\n",
       "    <tr>\n",
       "      <th>12</th>\n",
       "      <td>en/knife</td>\n",
       "      <td>attaching_to_rifle</td>\n",
       "      <td>attaching to rifle</td>\n",
       "      <td>NaN</td>\n",
       "    </tr>\n",
       "    <tr>\n",
       "      <th>13</th>\n",
       "      <td>en/refrigerator</td>\n",
       "      <td>keeping_food</td>\n",
       "      <td>keeping food</td>\n",
       "      <td>NaN</td>\n",
       "    </tr>\n",
       "    <tr>\n",
       "      <th>14</th>\n",
       "      <td>en/butter_knife</td>\n",
       "      <td>spreading_butter_on_bread</td>\n",
       "      <td>spreading butter on bread</td>\n",
       "      <td>NaN</td>\n",
       "    </tr>\n",
       "    <tr>\n",
       "      <th>15</th>\n",
       "      <td>en/fork</td>\n",
       "      <td>eat_steak</td>\n",
       "      <td>eat steak</td>\n",
       "      <td>NaN</td>\n",
       "    </tr>\n",
       "    <tr>\n",
       "      <th>16</th>\n",
       "      <td>en/knife</td>\n",
       "      <td>fighting</td>\n",
       "      <td>fighting</td>\n",
       "      <td>NaN</td>\n",
       "    </tr>\n",
       "    <tr>\n",
       "      <th>17</th>\n",
       "      <td>en/spoon</td>\n",
       "      <td>scooping_food</td>\n",
       "      <td>scooping food</td>\n",
       "      <td>NaN</td>\n",
       "    </tr>\n",
       "    <tr>\n",
       "      <th>18</th>\n",
       "      <td>en/fork</td>\n",
       "      <td>turning_soil</td>\n",
       "      <td>turning soil</td>\n",
       "      <td>NaN</td>\n",
       "    </tr>\n",
       "    <tr>\n",
       "      <th>19</th>\n",
       "      <td>en/fork</td>\n",
       "      <td>eating_food_with</td>\n",
       "      <td>eating food with</td>\n",
       "      <td>NaN</td>\n",
       "    </tr>\n",
       "    <tr>\n",
       "      <th>20</th>\n",
       "      <td>en/knife</td>\n",
       "      <td>threatening</td>\n",
       "      <td>threatening</td>\n",
       "      <td>NaN</td>\n",
       "    </tr>\n",
       "    <tr>\n",
       "      <th>21</th>\n",
       "      <td>en/refrigerator</td>\n",
       "      <td>causing_jello_to_jell</td>\n",
       "      <td>causing jello to jell</td>\n",
       "      <td>NaN</td>\n",
       "    </tr>\n",
       "    <tr>\n",
       "      <th>22</th>\n",
       "      <td>en/knife</td>\n",
       "      <td>engraving</td>\n",
       "      <td>engraving</td>\n",
       "      <td>NaN</td>\n",
       "    </tr>\n",
       "    <tr>\n",
       "      <th>23</th>\n",
       "      <td>en/spoon</td>\n",
       "      <td>cooling_liquid_by_stirring</td>\n",
       "      <td>cooling liquid by stirring</td>\n",
       "      <td>NaN</td>\n",
       "    </tr>\n",
       "    <tr>\n",
       "      <th>24</th>\n",
       "      <td>en/fork</td>\n",
       "      <td>dividing_road_in_two</td>\n",
       "      <td>dividing road in two</td>\n",
       "      <td>NaN</td>\n",
       "    </tr>\n",
       "    <tr>\n",
       "      <th>25</th>\n",
       "      <td>en/dining_table</td>\n",
       "      <td>leave_messages</td>\n",
       "      <td>leave messages</td>\n",
       "      <td>NaN</td>\n",
       "    </tr>\n",
       "    <tr>\n",
       "      <th>26</th>\n",
       "      <td>en/knife</td>\n",
       "      <td>removing_labels</td>\n",
       "      <td>removing labels</td>\n",
       "      <td>NaN</td>\n",
       "    </tr>\n",
       "    <tr>\n",
       "      <th>27</th>\n",
       "      <td>en/fork</td>\n",
       "      <td>eating_food</td>\n",
       "      <td>eating food</td>\n",
       "      <td>NaN</td>\n",
       "    </tr>\n",
       "    <tr>\n",
       "      <th>28</th>\n",
       "      <td>en/knife</td>\n",
       "      <td>unraveling</td>\n",
       "      <td>unraveling</td>\n",
       "      <td>NaN</td>\n",
       "    </tr>\n",
       "    <tr>\n",
       "      <th>29</th>\n",
       "      <td>en/knife</td>\n",
       "      <td>mashing</td>\n",
       "      <td>mashing</td>\n",
       "      <td>NaN</td>\n",
       "    </tr>\n",
       "    <tr>\n",
       "      <th>30</th>\n",
       "      <td>en/refrigerator</td>\n",
       "      <td>conserving_food</td>\n",
       "      <td>conserving food</td>\n",
       "      <td>NaN</td>\n",
       "    </tr>\n",
       "    <tr>\n",
       "      <th>31</th>\n",
       "      <td>en/spoon</td>\n",
       "      <td>serving_soup</td>\n",
       "      <td>serving soup</td>\n",
       "      <td>NaN</td>\n",
       "    </tr>\n",
       "    <tr>\n",
       "      <th>32</th>\n",
       "      <td>en/apple</td>\n",
       "      <td>computing</td>\n",
       "      <td>computing</td>\n",
       "      <td>NaN</td>\n",
       "    </tr>\n",
       "    <tr>\n",
       "      <th>33</th>\n",
       "      <td>en/cupboard</td>\n",
       "      <td>dishes</td>\n",
       "      <td>dishes</td>\n",
       "      <td>NaN</td>\n",
       "    </tr>\n",
       "    <tr>\n",
       "      <th>34</th>\n",
       "      <td>en/knife</td>\n",
       "      <td>counting_pills</td>\n",
       "      <td>counting pills</td>\n",
       "      <td>NaN</td>\n",
       "    </tr>\n",
       "    <tr>\n",
       "      <th>35</th>\n",
       "      <td>en/spoon</td>\n",
       "      <td>eat</td>\n",
       "      <td>eat</td>\n",
       "      <td>NaN</td>\n",
       "    </tr>\n",
       "    <tr>\n",
       "      <th>36</th>\n",
       "      <td>en/cupboard</td>\n",
       "      <td>stacking_dinner_plates</td>\n",
       "      <td>stacking dinner plates</td>\n",
       "      <td>NaN</td>\n",
       "    </tr>\n",
       "    <tr>\n",
       "      <th>37</th>\n",
       "      <td>en/spoon</td>\n",
       "      <td>scoop_ice_cream</td>\n",
       "      <td>scoop ice cream</td>\n",
       "      <td>NaN</td>\n",
       "    </tr>\n",
       "    <tr>\n",
       "      <th>38</th>\n",
       "      <td>en/cupboard</td>\n",
       "      <td>keeping_things_safe</td>\n",
       "      <td>keeping things safe</td>\n",
       "      <td>NaN</td>\n",
       "    </tr>\n",
       "    <tr>\n",
       "      <th>39</th>\n",
       "      <td>en/knife</td>\n",
       "      <td>carving_features</td>\n",
       "      <td>carving features</td>\n",
       "      <td>NaN</td>\n",
       "    </tr>\n",
       "    <tr>\n",
       "      <th>40</th>\n",
       "      <td>en/knife</td>\n",
       "      <td>cutting_food</td>\n",
       "      <td>cutting food</td>\n",
       "      <td>NaN</td>\n",
       "    </tr>\n",
       "    <tr>\n",
       "      <th>41</th>\n",
       "      <td>en/knife</td>\n",
       "      <td>opening</td>\n",
       "      <td>opening</td>\n",
       "      <td>NaN</td>\n",
       "    </tr>\n",
       "    <tr>\n",
       "      <th>42</th>\n",
       "      <td>en/glass</td>\n",
       "      <td>holding_liquid</td>\n",
       "      <td>holding liquid</td>\n",
       "      <td>NaN</td>\n",
       "    </tr>\n",
       "    <tr>\n",
       "      <th>43</th>\n",
       "      <td>en/knife</td>\n",
       "      <td>splitting</td>\n",
       "      <td>splitting</td>\n",
       "      <td>NaN</td>\n",
       "    </tr>\n",
       "    <tr>\n",
       "      <th>44</th>\n",
       "      <td>en/fork</td>\n",
       "      <td>lifting_food_from_plate_to_mouth</td>\n",
       "      <td>lifting food from plate to mouth</td>\n",
       "      <td>NaN</td>\n",
       "    </tr>\n",
       "    <tr>\n",
       "      <th>45</th>\n",
       "      <td>en/glass</td>\n",
       "      <td>drinking_from</td>\n",
       "      <td>drinking from</td>\n",
       "      <td>NaN</td>\n",
       "    </tr>\n",
       "    <tr>\n",
       "      <th>46</th>\n",
       "      <td>en/dining_table</td>\n",
       "      <td>doing_jigsaw_puzzles_on</td>\n",
       "      <td>doing jigsaw puzzles on</td>\n",
       "      <td>NaN</td>\n",
       "    </tr>\n",
       "    <tr>\n",
       "      <th>47</th>\n",
       "      <td>en/cupboard</td>\n",
       "      <td>putting_things_on_top_of</td>\n",
       "      <td>putting things on top of</td>\n",
       "      <td>NaN</td>\n",
       "    </tr>\n",
       "    <tr>\n",
       "      <th>48</th>\n",
       "      <td>en/glass</td>\n",
       "      <td>drinking_liquid_from</td>\n",
       "      <td>drinking liquid from</td>\n",
       "      <td>NaN</td>\n",
       "    </tr>\n",
       "    <tr>\n",
       "      <th>49</th>\n",
       "      <td>en/knife</td>\n",
       "      <td>eating_utensil</td>\n",
       "      <td>eating utensil</td>\n",
       "      <td>NaN</td>\n",
       "    </tr>\n",
       "  </tbody>\n",
       "</table>\n",
       "</div>"
      ],
      "text/plain": [
       "           entities                           usage_o  \\\n",
       "0          en/knife                      kitchen_work   \n",
       "1          en/glass                   drinking_out_of   \n",
       "2          en/knife                   outdoors_living   \n",
       "3          en/spoon             eating_food_off_plate   \n",
       "4          en/knife                          notching   \n",
       "5       en/cupboard                        store_cups   \n",
       "6   en/dining_table                     eat_dinner_on   \n",
       "7          en/knife                       making_mark   \n",
       "8         en/butter                         flavoring   \n",
       "9   en/dining_table   entertain_large_group_of_people   \n",
       "10         en/glass                        drink_from   \n",
       "11          en/fork                      holding_food   \n",
       "12         en/knife                attaching_to_rifle   \n",
       "13  en/refrigerator                      keeping_food   \n",
       "14  en/butter_knife         spreading_butter_on_bread   \n",
       "15          en/fork                         eat_steak   \n",
       "16         en/knife                          fighting   \n",
       "17         en/spoon                     scooping_food   \n",
       "18          en/fork                      turning_soil   \n",
       "19          en/fork                  eating_food_with   \n",
       "20         en/knife                       threatening   \n",
       "21  en/refrigerator             causing_jello_to_jell   \n",
       "22         en/knife                         engraving   \n",
       "23         en/spoon        cooling_liquid_by_stirring   \n",
       "24          en/fork              dividing_road_in_two   \n",
       "25  en/dining_table                    leave_messages   \n",
       "26         en/knife                   removing_labels   \n",
       "27          en/fork                       eating_food   \n",
       "28         en/knife                        unraveling   \n",
       "29         en/knife                           mashing   \n",
       "30  en/refrigerator                   conserving_food   \n",
       "31         en/spoon                      serving_soup   \n",
       "32         en/apple                         computing   \n",
       "33      en/cupboard                            dishes   \n",
       "34         en/knife                    counting_pills   \n",
       "35         en/spoon                               eat   \n",
       "36      en/cupboard            stacking_dinner_plates   \n",
       "37         en/spoon                   scoop_ice_cream   \n",
       "38      en/cupboard               keeping_things_safe   \n",
       "39         en/knife                  carving_features   \n",
       "40         en/knife                      cutting_food   \n",
       "41         en/knife                           opening   \n",
       "42         en/glass                    holding_liquid   \n",
       "43         en/knife                         splitting   \n",
       "44          en/fork  lifting_food_from_plate_to_mouth   \n",
       "45         en/glass                     drinking_from   \n",
       "46  en/dining_table           doing_jigsaw_puzzles_on   \n",
       "47      en/cupboard          putting_things_on_top_of   \n",
       "48         en/glass              drinking_liquid_from   \n",
       "49         en/knife                    eating_utensil   \n",
       "\n",
       "                   usage_phrase_list aff_class  \n",
       "0                       kitchen work       NaN  \n",
       "1                    drinking out of       NaN  \n",
       "2                    outdoors living       NaN  \n",
       "3              eating food off plate       NaN  \n",
       "4                           notching       NaN  \n",
       "5                         store cups       NaN  \n",
       "6                      eat dinner on       NaN  \n",
       "7                        making mark       NaN  \n",
       "8                          flavoring       NaN  \n",
       "9    entertain large group of people       NaN  \n",
       "10                        drink from       NaN  \n",
       "11                      holding food       NaN  \n",
       "12                attaching to rifle       NaN  \n",
       "13                      keeping food       NaN  \n",
       "14         spreading butter on bread       NaN  \n",
       "15                         eat steak       NaN  \n",
       "16                          fighting       NaN  \n",
       "17                     scooping food       NaN  \n",
       "18                      turning soil       NaN  \n",
       "19                  eating food with       NaN  \n",
       "20                       threatening       NaN  \n",
       "21             causing jello to jell       NaN  \n",
       "22                         engraving       NaN  \n",
       "23        cooling liquid by stirring       NaN  \n",
       "24              dividing road in two       NaN  \n",
       "25                    leave messages       NaN  \n",
       "26                   removing labels       NaN  \n",
       "27                       eating food       NaN  \n",
       "28                        unraveling       NaN  \n",
       "29                           mashing       NaN  \n",
       "30                   conserving food       NaN  \n",
       "31                      serving soup       NaN  \n",
       "32                         computing       NaN  \n",
       "33                            dishes       NaN  \n",
       "34                    counting pills       NaN  \n",
       "35                               eat       NaN  \n",
       "36            stacking dinner plates       NaN  \n",
       "37                   scoop ice cream       NaN  \n",
       "38               keeping things safe       NaN  \n",
       "39                  carving features       NaN  \n",
       "40                      cutting food       NaN  \n",
       "41                           opening       NaN  \n",
       "42                    holding liquid       NaN  \n",
       "43                         splitting       NaN  \n",
       "44  lifting food from plate to mouth       NaN  \n",
       "45                     drinking from       NaN  \n",
       "46           doing jigsaw puzzles on       NaN  \n",
       "47          putting things on top of       NaN  \n",
       "48              drinking liquid from       NaN  \n",
       "49                    eating utensil       NaN  "
      ]
     },
     "execution_count": 9,
     "metadata": {},
     "output_type": "execute_result"
    }
   ],
   "source": [
    "# create Actions from cnr:UsedFor using SpaCy\n",
    "\n",
    "# create a df to store data about the cnr:UsedFor relation\n",
    "aff_df = pd.DataFrame(columns=['entities', 'usage_o', 'usage_phrase_list', 'aff_class'])\n",
    "\n",
    "# lists to store df column values\n",
    "entities = []\n",
    "usages = []\n",
    "usage_phrase_list = []\n",
    "\n",
    "# iterate through graph triples with UsedFor relation\n",
    "# Object values are the usages that will be actions and their VERB will be subclasses of affordances\n",
    "for s,p,o in merged_g.triples( (None, cnr_ns.UsedFor, None) ):\n",
    "    usages.append(o[30:])\n",
    "    entities.append(s[27:])\n",
    "    usage_phrase = ' '.join(o[30:].split('_'))\n",
    "    usage_phrase_list.append(usage_phrase)\n",
    "\n",
    "# fill df\n",
    "aff_df.entities = entities\n",
    "aff_df.usage_o = usages\n",
    "aff_df.usage_phrase_list = usage_phrase_list\n",
    "aff_df.head(50)"
   ]
  },
  {
   "cell_type": "code",
   "execution_count": 10,
   "metadata": {},
   "outputs": [],
   "source": [
    "def get_aff_subclass(text):\n",
    "    \"\"\"\n",
    "    Determines the affordance action from the object value of the cnr:UsedFor triples. \n",
    "    Args:\n",
    "        text: value in dataframe cell\n",
    "    Returns:\n",
    "        action (str): action value that will be a subclass of Affordance\n",
    "    \"\"\"\n",
    "    verb_exists = False\n",
    "    words = []\n",
    "    pos = []\n",
    "    tokens = []\n",
    "    doc = nlp(text)\n",
    "    for tok in doc:\n",
    "        word = tok.text\n",
    "        pos_ = tok.pos_\n",
    "        tokens.append(tok)\n",
    "        words.append(word)\n",
    "        pos.append(pos_)\n",
    "        \n",
    "    if \"VERB\" in pos:\n",
    "        pos_index = pos.index(\"VERB\")\n",
    "        verb_word = words[pos_index]\n",
    "        verb_exists = True\n",
    "    else:\n",
    "        action = None\n",
    "    \n",
    "    if verb_exists:\n",
    "        if verb_word[-3:] == 'ing':\n",
    "            action = verb_word.capitalize()\n",
    "        else:\n",
    "            action = verb_word.capitalize() +'ing'\n",
    "    \n",
    "    return action"
   ]
  },
  {
   "cell_type": "code",
   "execution_count": 11,
   "metadata": {},
   "outputs": [],
   "source": [
    "# apply the function to the df\n",
    "aff_df['aff_class'] = aff_df['usage_phrase_list'].apply(get_aff_subclass)"
   ]
  },
  {
   "cell_type": "code",
   "execution_count": 12,
   "metadata": {
    "scrolled": true
   },
   "outputs": [
    {
     "data": {
      "text/plain": [
       "{'Arranging',\n",
       " 'Attaching',\n",
       " 'Attacking',\n",
       " 'Breaking',\n",
       " 'Carving',\n",
       " 'Causing',\n",
       " 'Chilling',\n",
       " 'Chopping',\n",
       " 'Complementing',\n",
       " 'Completing',\n",
       " 'Conserving',\n",
       " 'Consuming',\n",
       " 'Cooling',\n",
       " 'Counting',\n",
       " 'Cracking',\n",
       " 'Cuting',\n",
       " 'Cutting',\n",
       " 'Decorating',\n",
       " 'Digging',\n",
       " 'Dishing',\n",
       " 'Dividing',\n",
       " 'Doing',\n",
       " 'Drinking',\n",
       " 'Eating',\n",
       " 'Engraving',\n",
       " 'Enjoying',\n",
       " 'Entertaining',\n",
       " 'Extending',\n",
       " 'Fighting',\n",
       " 'Flinging',\n",
       " 'Freezing',\n",
       " 'Gashing',\n",
       " 'Getting',\n",
       " 'Giving',\n",
       " 'Gouging',\n",
       " 'Hanging',\n",
       " 'Having',\n",
       " 'Holding',\n",
       " 'Illustrating',\n",
       " 'Keeping',\n",
       " 'Killing',\n",
       " 'Laying',\n",
       " 'Leaveing',\n",
       " 'Leaving',\n",
       " 'Letting',\n",
       " 'Lifting',\n",
       " 'Living',\n",
       " 'Makeing',\n",
       " 'Making',\n",
       " 'Measuring',\n",
       " 'Mixing',\n",
       " 'Moving',\n",
       " None,\n",
       " 'Pareing',\n",
       " 'Paring',\n",
       " 'Peeling',\n",
       " 'Picking',\n",
       " 'Piercing',\n",
       " 'Placing',\n",
       " 'Playing',\n",
       " 'Posting',\n",
       " 'Preserving',\n",
       " 'Preventing',\n",
       " 'Pricking',\n",
       " 'Providing',\n",
       " 'Prying',\n",
       " 'Putting',\n",
       " 'Refrigerating',\n",
       " 'Removing',\n",
       " 'Representing',\n",
       " 'Ripping',\n",
       " 'Saving',\n",
       " 'Scooping',\n",
       " 'Scoring',\n",
       " 'Scratching',\n",
       " 'Seeing',\n",
       " 'Separating',\n",
       " 'Serving',\n",
       " 'Severing',\n",
       " 'Sitting',\n",
       " 'Skinning',\n",
       " 'Spearing',\n",
       " 'Spreading',\n",
       " 'Stacking',\n",
       " 'Staying',\n",
       " 'Stiring',\n",
       " 'Stirring',\n",
       " 'Storeing',\n",
       " 'Storing',\n",
       " 'Taking',\n",
       " 'Tempting',\n",
       " 'Threatening',\n",
       " 'Transporting',\n",
       " 'Trimming',\n",
       " 'Turning',\n",
       " 'Unraveling',\n",
       " 'Waking',\n",
       " 'Working'}"
      ]
     },
     "execution_count": 12,
     "metadata": {},
     "output_type": "execute_result"
    }
   ],
   "source": [
    "# check if there are any mispellings with the affordances created\n",
    "affs = set(aff_df['aff_class'].to_list())\n",
    "affs"
   ]
  },
  {
   "cell_type": "code",
   "execution_count": 13,
   "metadata": {
    "scrolled": true
   },
   "outputs": [],
   "source": [
    "def filter_col(text):\n",
    "    \"\"\"\n",
    "    For the action affordances determined, filter out specific words that resulted with typos.\n",
    "    Args:\n",
    "        text: value in dataframe cell\n",
    "    Returns:\n",
    "        action (str): edited value\n",
    "    \"\"\"            \n",
    "    edit_out = ['Storeing', 'Stiring', 'Runing', 'Pareing', 'Serveding', 'Leaveing', 'Makeing', 'Cuting', 'Leaveing', 'Storeing']\n",
    "    edit_in = ['Storing', 'Stirring', 'Running', 'Paring', 'Serving', 'Leaving', 'Making', 'Cutting', 'Leaving', 'Storing']\n",
    "    \n",
    "    if text in edit_out:\n",
    "        index = edit_out.index(text)\n",
    "        new_text = edit_in[index]\n",
    "        return new_text\n",
    "    else:\n",
    "        return text\n",
    "        \n",
    "# apply the function to the df\n",
    "aff_df['aff_class'] = aff_df['aff_class'].apply(filter_col)           "
   ]
  },
  {
   "cell_type": "code",
   "execution_count": 14,
   "metadata": {},
   "outputs": [],
   "source": [
    "aff_df.to_csv('test.csv')"
   ]
  },
  {
   "cell_type": "code",
   "execution_count": 15,
   "metadata": {
    "scrolled": true
   },
   "outputs": [
    {
     "name": "stdout",
     "output_type": "stream",
     "text": [
      "(rdflib.term.URIRef('http://api.conceptnet.io/c/en/glass'), rdflib.term.URIRef('http://test.org/affordance.owl#affords'), rdflib.term.URIRef('http://test.org/affordance.owl#Drinking'))\n",
      "(rdflib.term.URIRef('http://api.conceptnet.io/c/en/knife'), rdflib.term.URIRef('http://test.org/affordance.owl#affords'), rdflib.term.URIRef('http://test.org/affordance.owl#Living'))\n",
      "(rdflib.term.URIRef('http://api.conceptnet.io/c/en/spoon'), rdflib.term.URIRef('http://test.org/affordance.owl#affords'), rdflib.term.URIRef('http://test.org/affordance.owl#Eating'))\n",
      "(rdflib.term.URIRef('http://api.conceptnet.io/c/en/dining_table'), rdflib.term.URIRef('http://test.org/affordance.owl#affords'), rdflib.term.URIRef('http://test.org/affordance.owl#Eating'))\n",
      "(rdflib.term.URIRef('http://api.conceptnet.io/c/en/knife'), rdflib.term.URIRef('http://test.org/affordance.owl#affords'), rdflib.term.URIRef('http://test.org/affordance.owl#Making'))\n",
      "(rdflib.term.URIRef('http://api.conceptnet.io/c/en/dining_table'), rdflib.term.URIRef('http://test.org/affordance.owl#affords'), rdflib.term.URIRef('http://test.org/affordance.owl#Entertaining'))\n",
      "(rdflib.term.URIRef('http://api.conceptnet.io/c/en/glass'), rdflib.term.URIRef('http://test.org/affordance.owl#affords'), rdflib.term.URIRef('http://test.org/affordance.owl#Drinking'))\n",
      "(rdflib.term.URIRef('http://api.conceptnet.io/c/en/fork'), rdflib.term.URIRef('http://test.org/affordance.owl#affords'), rdflib.term.URIRef('http://test.org/affordance.owl#Holding'))\n",
      "(rdflib.term.URIRef('http://api.conceptnet.io/c/en/knife'), rdflib.term.URIRef('http://test.org/affordance.owl#affords'), rdflib.term.URIRef('http://test.org/affordance.owl#Attaching'))\n",
      "(rdflib.term.URIRef('http://api.conceptnet.io/c/en/refrigerator'), rdflib.term.URIRef('http://test.org/affordance.owl#affords'), rdflib.term.URIRef('http://test.org/affordance.owl#Keeping'))\n",
      "(rdflib.term.URIRef('http://api.conceptnet.io/c/en/butter_knife'), rdflib.term.URIRef('http://test.org/affordance.owl#affords'), rdflib.term.URIRef('http://test.org/affordance.owl#Spreading'))\n",
      "(rdflib.term.URIRef('http://api.conceptnet.io/c/en/fork'), rdflib.term.URIRef('http://test.org/affordance.owl#affords'), rdflib.term.URIRef('http://test.org/affordance.owl#Eating'))\n",
      "(rdflib.term.URIRef('http://api.conceptnet.io/c/en/knife'), rdflib.term.URIRef('http://test.org/affordance.owl#affords'), rdflib.term.URIRef('http://test.org/affordance.owl#Fighting'))\n",
      "(rdflib.term.URIRef('http://api.conceptnet.io/c/en/spoon'), rdflib.term.URIRef('http://test.org/affordance.owl#affords'), rdflib.term.URIRef('http://test.org/affordance.owl#Scooping'))\n",
      "(rdflib.term.URIRef('http://api.conceptnet.io/c/en/fork'), rdflib.term.URIRef('http://test.org/affordance.owl#affords'), rdflib.term.URIRef('http://test.org/affordance.owl#Turning'))\n",
      "(rdflib.term.URIRef('http://api.conceptnet.io/c/en/fork'), rdflib.term.URIRef('http://test.org/affordance.owl#affords'), rdflib.term.URIRef('http://test.org/affordance.owl#Eating'))\n",
      "(rdflib.term.URIRef('http://api.conceptnet.io/c/en/knife'), rdflib.term.URIRef('http://test.org/affordance.owl#affords'), rdflib.term.URIRef('http://test.org/affordance.owl#Threatening'))\n",
      "(rdflib.term.URIRef('http://api.conceptnet.io/c/en/refrigerator'), rdflib.term.URIRef('http://test.org/affordance.owl#affords'), rdflib.term.URIRef('http://test.org/affordance.owl#Causing'))\n",
      "(rdflib.term.URIRef('http://api.conceptnet.io/c/en/knife'), rdflib.term.URIRef('http://test.org/affordance.owl#affords'), rdflib.term.URIRef('http://test.org/affordance.owl#Engraving'))\n",
      "(rdflib.term.URIRef('http://api.conceptnet.io/c/en/spoon'), rdflib.term.URIRef('http://test.org/affordance.owl#affords'), rdflib.term.URIRef('http://test.org/affordance.owl#Cooling'))\n",
      "(rdflib.term.URIRef('http://api.conceptnet.io/c/en/fork'), rdflib.term.URIRef('http://test.org/affordance.owl#affords'), rdflib.term.URIRef('http://test.org/affordance.owl#Dividing'))\n",
      "(rdflib.term.URIRef('http://api.conceptnet.io/c/en/dining_table'), rdflib.term.URIRef('http://test.org/affordance.owl#affords'), rdflib.term.URIRef('http://test.org/affordance.owl#Leaving'))\n",
      "(rdflib.term.URIRef('http://api.conceptnet.io/c/en/knife'), rdflib.term.URIRef('http://test.org/affordance.owl#affords'), rdflib.term.URIRef('http://test.org/affordance.owl#Removing'))\n",
      "(rdflib.term.URIRef('http://api.conceptnet.io/c/en/fork'), rdflib.term.URIRef('http://test.org/affordance.owl#affords'), rdflib.term.URIRef('http://test.org/affordance.owl#Eating'))\n",
      "(rdflib.term.URIRef('http://api.conceptnet.io/c/en/knife'), rdflib.term.URIRef('http://test.org/affordance.owl#affords'), rdflib.term.URIRef('http://test.org/affordance.owl#Unraveling'))\n",
      "(rdflib.term.URIRef('http://api.conceptnet.io/c/en/refrigerator'), rdflib.term.URIRef('http://test.org/affordance.owl#affords'), rdflib.term.URIRef('http://test.org/affordance.owl#Conserving'))\n",
      "(rdflib.term.URIRef('http://api.conceptnet.io/c/en/spoon'), rdflib.term.URIRef('http://test.org/affordance.owl#affords'), rdflib.term.URIRef('http://test.org/affordance.owl#Serving'))\n",
      "(rdflib.term.URIRef('http://api.conceptnet.io/c/en/knife'), rdflib.term.URIRef('http://test.org/affordance.owl#affords'), rdflib.term.URIRef('http://test.org/affordance.owl#Counting'))\n",
      "(rdflib.term.URIRef('http://api.conceptnet.io/c/en/spoon'), rdflib.term.URIRef('http://test.org/affordance.owl#affords'), rdflib.term.URIRef('http://test.org/affordance.owl#Eating'))\n",
      "(rdflib.term.URIRef('http://api.conceptnet.io/c/en/cupboard'), rdflib.term.URIRef('http://test.org/affordance.owl#affords'), rdflib.term.URIRef('http://test.org/affordance.owl#Stacking'))\n",
      "(rdflib.term.URIRef('http://api.conceptnet.io/c/en/cupboard'), rdflib.term.URIRef('http://test.org/affordance.owl#affords'), rdflib.term.URIRef('http://test.org/affordance.owl#Keeping'))\n",
      "(rdflib.term.URIRef('http://api.conceptnet.io/c/en/knife'), rdflib.term.URIRef('http://test.org/affordance.owl#affords'), rdflib.term.URIRef('http://test.org/affordance.owl#Carving'))\n",
      "(rdflib.term.URIRef('http://api.conceptnet.io/c/en/knife'), rdflib.term.URIRef('http://test.org/affordance.owl#affords'), rdflib.term.URIRef('http://test.org/affordance.owl#Cutting'))\n",
      "(rdflib.term.URIRef('http://api.conceptnet.io/c/en/glass'), rdflib.term.URIRef('http://test.org/affordance.owl#affords'), rdflib.term.URIRef('http://test.org/affordance.owl#Holding'))\n",
      "(rdflib.term.URIRef('http://api.conceptnet.io/c/en/fork'), rdflib.term.URIRef('http://test.org/affordance.owl#affords'), rdflib.term.URIRef('http://test.org/affordance.owl#Lifting'))\n",
      "(rdflib.term.URIRef('http://api.conceptnet.io/c/en/glass'), rdflib.term.URIRef('http://test.org/affordance.owl#affords'), rdflib.term.URIRef('http://test.org/affordance.owl#Drinking'))\n",
      "(rdflib.term.URIRef('http://api.conceptnet.io/c/en/dining_table'), rdflib.term.URIRef('http://test.org/affordance.owl#affords'), rdflib.term.URIRef('http://test.org/affordance.owl#Doing'))\n",
      "(rdflib.term.URIRef('http://api.conceptnet.io/c/en/cupboard'), rdflib.term.URIRef('http://test.org/affordance.owl#affords'), rdflib.term.URIRef('http://test.org/affordance.owl#Putting'))\n",
      "(rdflib.term.URIRef('http://api.conceptnet.io/c/en/glass'), rdflib.term.URIRef('http://test.org/affordance.owl#affords'), rdflib.term.URIRef('http://test.org/affordance.owl#Drinking'))\n",
      "(rdflib.term.URIRef('http://api.conceptnet.io/c/en/knife'), rdflib.term.URIRef('http://test.org/affordance.owl#affords'), rdflib.term.URIRef('http://test.org/affordance.owl#Eating'))\n",
      "(rdflib.term.URIRef('http://api.conceptnet.io/c/en/knife'), rdflib.term.URIRef('http://test.org/affordance.owl#affords'), rdflib.term.URIRef('http://test.org/affordance.owl#Spearing'))\n",
      "(rdflib.term.URIRef('http://api.conceptnet.io/c/en/knife'), rdflib.term.URIRef('http://test.org/affordance.owl#affords'), rdflib.term.URIRef('http://test.org/affordance.owl#Putting'))\n",
      "(rdflib.term.URIRef('http://api.conceptnet.io/c/en/fork'), rdflib.term.URIRef('http://test.org/affordance.owl#affords'), rdflib.term.URIRef('http://test.org/affordance.owl#Picking'))\n",
      "(rdflib.term.URIRef('http://api.conceptnet.io/c/en/refrigerator'), rdflib.term.URIRef('http://test.org/affordance.owl#affords'), rdflib.term.URIRef('http://test.org/affordance.owl#Refrigerating'))\n",
      "(rdflib.term.URIRef('http://api.conceptnet.io/c/en/knife'), rdflib.term.URIRef('http://test.org/affordance.owl#affords'), rdflib.term.URIRef('http://test.org/affordance.owl#Letting'))\n",
      "(rdflib.term.URIRef('http://api.conceptnet.io/c/en/knife'), rdflib.term.URIRef('http://test.org/affordance.owl#affords'), rdflib.term.URIRef('http://test.org/affordance.owl#Cutting'))\n",
      "(rdflib.term.URIRef('http://api.conceptnet.io/c/en/knife'), rdflib.term.URIRef('http://test.org/affordance.owl#affords'), rdflib.term.URIRef('http://test.org/affordance.owl#Attacking'))\n",
      "(rdflib.term.URIRef('http://api.conceptnet.io/c/en/dining_table'), rdflib.term.URIRef('http://test.org/affordance.owl#affords'), rdflib.term.URIRef('http://test.org/affordance.owl#Arranging'))\n",
      "(rdflib.term.URIRef('http://api.conceptnet.io/c/en/dining_table'), rdflib.term.URIRef('http://test.org/affordance.owl#affords'), rdflib.term.URIRef('http://test.org/affordance.owl#Eating'))\n",
      "(rdflib.term.URIRef('http://api.conceptnet.io/c/en/knife'), rdflib.term.URIRef('http://test.org/affordance.owl#affords'), rdflib.term.URIRef('http://test.org/affordance.owl#Piercing'))\n",
      "(rdflib.term.URIRef('http://api.conceptnet.io/c/en/fork'), rdflib.term.URIRef('http://test.org/affordance.owl#affords'), rdflib.term.URIRef('http://test.org/affordance.owl#Eating'))\n",
      "(rdflib.term.URIRef('http://api.conceptnet.io/c/en/apple'), rdflib.term.URIRef('http://test.org/affordance.owl#affords'), rdflib.term.URIRef('http://test.org/affordance.owl#Enjoying'))\n",
      "(rdflib.term.URIRef('http://api.conceptnet.io/c/en/spoon'), rdflib.term.URIRef('http://test.org/affordance.owl#affords'), rdflib.term.URIRef('http://test.org/affordance.owl#Stirring'))\n",
      "(rdflib.term.URIRef('http://api.conceptnet.io/c/en/dining_table'), rdflib.term.URIRef('http://test.org/affordance.owl#affords'), rdflib.term.URIRef('http://test.org/affordance.owl#Leaving'))\n",
      "(rdflib.term.URIRef('http://api.conceptnet.io/c/en/knife'), rdflib.term.URIRef('http://test.org/affordance.owl#affords'), rdflib.term.URIRef('http://test.org/affordance.owl#Severing'))\n",
      "(rdflib.term.URIRef('http://api.conceptnet.io/c/en/spoon'), rdflib.term.URIRef('http://test.org/affordance.owl#affords'), rdflib.term.URIRef('http://test.org/affordance.owl#Eating'))\n",
      "(rdflib.term.URIRef('http://api.conceptnet.io/c/en/refrigerator'), rdflib.term.URIRef('http://test.org/affordance.owl#affords'), rdflib.term.URIRef('http://test.org/affordance.owl#Posting'))\n",
      "(rdflib.term.URIRef('http://api.conceptnet.io/c/en/fork'), rdflib.term.URIRef('http://test.org/affordance.owl#affords'), rdflib.term.URIRef('http://test.org/affordance.owl#Eating'))\n",
      "(rdflib.term.URIRef('http://api.conceptnet.io/c/en/apple'), rdflib.term.URIRef('http://test.org/affordance.owl#affords'), rdflib.term.URIRef('http://test.org/affordance.owl#Representing'))\n",
      "(rdflib.term.URIRef('http://api.conceptnet.io/c/en/refrigerator'), rdflib.term.URIRef('http://test.org/affordance.owl#affords'), rdflib.term.URIRef('http://test.org/affordance.owl#Cooling'))\n",
      "(rdflib.term.URIRef('http://api.conceptnet.io/c/en/dining_table'), rdflib.term.URIRef('http://test.org/affordance.owl#affords'), rdflib.term.URIRef('http://test.org/affordance.owl#Eating'))\n",
      "(rdflib.term.URIRef('http://api.conceptnet.io/c/en/refrigerator'), rdflib.term.URIRef('http://test.org/affordance.owl#affords'), rdflib.term.URIRef('http://test.org/affordance.owl#Making'))\n",
      "(rdflib.term.URIRef('http://api.conceptnet.io/c/en/knife'), rdflib.term.URIRef('http://test.org/affordance.owl#affords'), rdflib.term.URIRef('http://test.org/affordance.owl#Digging'))\n",
      "(rdflib.term.URIRef('http://api.conceptnet.io/c/en/dining_table'), rdflib.term.URIRef('http://test.org/affordance.owl#affords'), rdflib.term.URIRef('http://test.org/affordance.owl#Holding'))\n",
      "(rdflib.term.URIRef('http://api.conceptnet.io/c/en/knife'), rdflib.term.URIRef('http://test.org/affordance.owl#affords'), rdflib.term.URIRef('http://test.org/affordance.owl#Paring'))\n",
      "(rdflib.term.URIRef('http://api.conceptnet.io/c/en/spoon'), rdflib.term.URIRef('http://test.org/affordance.owl#affords'), rdflib.term.URIRef('http://test.org/affordance.owl#Flinging'))\n",
      "(rdflib.term.URIRef('http://api.conceptnet.io/c/en/spoon'), rdflib.term.URIRef('http://test.org/affordance.owl#affords'), rdflib.term.URIRef('http://test.org/affordance.owl#Eating'))\n",
      "(rdflib.term.URIRef('http://api.conceptnet.io/c/en/fork'), rdflib.term.URIRef('http://test.org/affordance.owl#affords'), rdflib.term.URIRef('http://test.org/affordance.owl#Piercing'))\n",
      "(rdflib.term.URIRef('http://api.conceptnet.io/c/en/knife'), rdflib.term.URIRef('http://test.org/affordance.owl#affords'), rdflib.term.URIRef('http://test.org/affordance.owl#Spreading'))\n",
      "(rdflib.term.URIRef('http://api.conceptnet.io/c/en/spoon'), rdflib.term.URIRef('http://test.org/affordance.owl#affords'), rdflib.term.URIRef('http://test.org/affordance.owl#Transporting'))\n",
      "(rdflib.term.URIRef('http://api.conceptnet.io/c/en/knife'), rdflib.term.URIRef('http://test.org/affordance.owl#affords'), rdflib.term.URIRef('http://test.org/affordance.owl#Completing'))\n",
      "(rdflib.term.URIRef('http://api.conceptnet.io/c/en/knife'), rdflib.term.URIRef('http://test.org/affordance.owl#affords'), rdflib.term.URIRef('http://test.org/affordance.owl#Carving'))\n",
      "(rdflib.term.URIRef('http://api.conceptnet.io/c/en/cupboard'), rdflib.term.URIRef('http://test.org/affordance.owl#affords'), rdflib.term.URIRef('http://test.org/affordance.owl#Keeping'))\n",
      "(rdflib.term.URIRef('http://api.conceptnet.io/c/en/spoon'), rdflib.term.URIRef('http://test.org/affordance.owl#affords'), rdflib.term.URIRef('http://test.org/affordance.owl#Eating'))\n",
      "(rdflib.term.URIRef('http://api.conceptnet.io/c/en/knife'), rdflib.term.URIRef('http://test.org/affordance.owl#affords'), rdflib.term.URIRef('http://test.org/affordance.owl#Working'))\n",
      "(rdflib.term.URIRef('http://api.conceptnet.io/c/en/knife'), rdflib.term.URIRef('http://test.org/affordance.owl#affords'), rdflib.term.URIRef('http://test.org/affordance.owl#Prying'))\n",
      "(rdflib.term.URIRef('http://api.conceptnet.io/c/en/refrigerator'), rdflib.term.URIRef('http://test.org/affordance.owl#affords'), rdflib.term.URIRef('http://test.org/affordance.owl#Storing'))\n",
      "(rdflib.term.URIRef('http://api.conceptnet.io/c/en/refrigerator'), rdflib.term.URIRef('http://test.org/affordance.owl#affords'), rdflib.term.URIRef('http://test.org/affordance.owl#Preserving'))\n",
      "(rdflib.term.URIRef('http://api.conceptnet.io/c/en/dining_table'), rdflib.term.URIRef('http://test.org/affordance.owl#affords'), rdflib.term.URIRef('http://test.org/affordance.owl#Eating'))\n",
      "(rdflib.term.URIRef('http://api.conceptnet.io/c/en/spoon'), rdflib.term.URIRef('http://test.org/affordance.owl#affords'), rdflib.term.URIRef('http://test.org/affordance.owl#Eating'))\n",
      "(rdflib.term.URIRef('http://api.conceptnet.io/c/en/dining_table'), rdflib.term.URIRef('http://test.org/affordance.owl#affords'), rdflib.term.URIRef('http://test.org/affordance.owl#Eating'))\n",
      "(rdflib.term.URIRef('http://api.conceptnet.io/c/en/apple'), rdflib.term.URIRef('http://test.org/affordance.owl#affords'), rdflib.term.URIRef('http://test.org/affordance.owl#Eating'))\n",
      "(rdflib.term.URIRef('http://api.conceptnet.io/c/en/fork'), rdflib.term.URIRef('http://test.org/affordance.owl#affords'), rdflib.term.URIRef('http://test.org/affordance.owl#Eating'))\n",
      "(rdflib.term.URIRef('http://api.conceptnet.io/c/en/glass'), rdflib.term.URIRef('http://test.org/affordance.owl#affords'), rdflib.term.URIRef('http://test.org/affordance.owl#Holding'))\n",
      "(rdflib.term.URIRef('http://api.conceptnet.io/c/en/coffee'), rdflib.term.URIRef('http://test.org/affordance.owl#affords'), rdflib.term.URIRef('http://test.org/affordance.owl#Waking'))\n",
      "(rdflib.term.URIRef('http://api.conceptnet.io/c/en/spoon'), rdflib.term.URIRef('http://test.org/affordance.owl#affords'), rdflib.term.URIRef('http://test.org/affordance.owl#Eating'))\n",
      "(rdflib.term.URIRef('http://api.conceptnet.io/c/en/dining_table'), rdflib.term.URIRef('http://test.org/affordance.owl#affords'), rdflib.term.URIRef('http://test.org/affordance.owl#Eating'))\n",
      "(rdflib.term.URIRef('http://api.conceptnet.io/c/en/knife'), rdflib.term.URIRef('http://test.org/affordance.owl#affords'), rdflib.term.URIRef('http://test.org/affordance.owl#Decorating'))\n",
      "(rdflib.term.URIRef('http://api.conceptnet.io/c/en/apple'), rdflib.term.URIRef('http://test.org/affordance.owl#affords'), rdflib.term.URIRef('http://test.org/affordance.owl#Getting'))\n",
      "(rdflib.term.URIRef('http://api.conceptnet.io/c/en/fork'), rdflib.term.URIRef('http://test.org/affordance.owl#affords'), rdflib.term.URIRef('http://test.org/affordance.owl#Eating'))\n",
      "(rdflib.term.URIRef('http://api.conceptnet.io/c/en/knife'), rdflib.term.URIRef('http://test.org/affordance.owl#affords'), rdflib.term.URIRef('http://test.org/affordance.owl#Turning'))\n",
      "(rdflib.term.URIRef('http://api.conceptnet.io/c/en/spoon'), rdflib.term.URIRef('http://test.org/affordance.owl#affords'), rdflib.term.URIRef('http://test.org/affordance.owl#Eating'))\n",
      "(rdflib.term.URIRef('http://api.conceptnet.io/c/en/dining_table'), rdflib.term.URIRef('http://test.org/affordance.owl#affords'), rdflib.term.URIRef('http://test.org/affordance.owl#Sitting'))\n",
      "(rdflib.term.URIRef('http://api.conceptnet.io/c/en/dining_table'), rdflib.term.URIRef('http://test.org/affordance.owl#affords'), rdflib.term.URIRef('http://test.org/affordance.owl#Playing'))\n",
      "(rdflib.term.URIRef('http://api.conceptnet.io/c/en/refrigerator'), rdflib.term.URIRef('http://test.org/affordance.owl#affords'), rdflib.term.URIRef('http://test.org/affordance.owl#Freezing'))\n",
      "(rdflib.term.URIRef('http://api.conceptnet.io/c/en/knife'), rdflib.term.URIRef('http://test.org/affordance.owl#affords'), rdflib.term.URIRef('http://test.org/affordance.owl#Cutting'))\n",
      "(rdflib.term.URIRef('http://api.conceptnet.io/c/en/knife'), rdflib.term.URIRef('http://test.org/affordance.owl#affords'), rdflib.term.URIRef('http://test.org/affordance.owl#Pricking'))\n",
      "(rdflib.term.URIRef('http://api.conceptnet.io/c/en/spoon'), rdflib.term.URIRef('http://test.org/affordance.owl#affords'), rdflib.term.URIRef('http://test.org/affordance.owl#Eating'))\n",
      "(rdflib.term.URIRef('http://api.conceptnet.io/c/en/knife'), rdflib.term.URIRef('http://test.org/affordance.owl#affords'), rdflib.term.URIRef('http://test.org/affordance.owl#Making'))\n",
      "(rdflib.term.URIRef('http://api.conceptnet.io/c/en/knife'), rdflib.term.URIRef('http://test.org/affordance.owl#affords'), rdflib.term.URIRef('http://test.org/affordance.owl#Killing'))\n",
      "(rdflib.term.URIRef('http://api.conceptnet.io/c/en/cupboard'), rdflib.term.URIRef('http://test.org/affordance.owl#affords'), rdflib.term.URIRef('http://test.org/affordance.owl#Putting'))\n",
      "(rdflib.term.URIRef('http://api.conceptnet.io/c/en/spoon'), rdflib.term.URIRef('http://test.org/affordance.owl#affords'), rdflib.term.URIRef('http://test.org/affordance.owl#Eating'))\n",
      "(rdflib.term.URIRef('http://api.conceptnet.io/c/en/apple'), rdflib.term.URIRef('http://test.org/affordance.owl#affords'), rdflib.term.URIRef('http://test.org/affordance.owl#Making'))\n",
      "(rdflib.term.URIRef('http://api.conceptnet.io/c/en/knife'), rdflib.term.URIRef('http://test.org/affordance.owl#affords'), rdflib.term.URIRef('http://test.org/affordance.owl#Ripping'))\n",
      "(rdflib.term.URIRef('http://api.conceptnet.io/c/en/apple'), rdflib.term.URIRef('http://test.org/affordance.owl#affords'), rdflib.term.URIRef('http://test.org/affordance.owl#Illustrating'))\n",
      "(rdflib.term.URIRef('http://api.conceptnet.io/c/en/cupboard'), rdflib.term.URIRef('http://test.org/affordance.owl#affords'), rdflib.term.URIRef('http://test.org/affordance.owl#Storing'))\n",
      "(rdflib.term.URIRef('http://api.conceptnet.io/c/en/refrigerator'), rdflib.term.URIRef('http://test.org/affordance.owl#affords'), rdflib.term.URIRef('http://test.org/affordance.owl#Keeping'))\n",
      "(rdflib.term.URIRef('http://api.conceptnet.io/c/en/knife'), rdflib.term.URIRef('http://test.org/affordance.owl#affords'), rdflib.term.URIRef('http://test.org/affordance.owl#Cutting'))\n",
      "(rdflib.term.URIRef('http://api.conceptnet.io/c/en/cupboard'), rdflib.term.URIRef('http://test.org/affordance.owl#affords'), rdflib.term.URIRef('http://test.org/affordance.owl#Holding'))\n",
      "(rdflib.term.URIRef('http://api.conceptnet.io/c/en/fork'), rdflib.term.URIRef('http://test.org/affordance.owl#affords'), rdflib.term.URIRef('http://test.org/affordance.owl#Providing'))\n",
      "(rdflib.term.URIRef('http://api.conceptnet.io/c/en/refrigerator'), rdflib.term.URIRef('http://test.org/affordance.owl#affords'), rdflib.term.URIRef('http://test.org/affordance.owl#Making'))\n",
      "(rdflib.term.URIRef('http://api.conceptnet.io/c/en/apple'), rdflib.term.URIRef('http://test.org/affordance.owl#affords'), rdflib.term.URIRef('http://test.org/affordance.owl#Making'))\n",
      "(rdflib.term.URIRef('http://api.conceptnet.io/c/en/knife'), rdflib.term.URIRef('http://test.org/affordance.owl#affords'), rdflib.term.URIRef('http://test.org/affordance.owl#Trimming'))\n",
      "(rdflib.term.URIRef('http://api.conceptnet.io/c/en/knife'), rdflib.term.URIRef('http://test.org/affordance.owl#affords'), rdflib.term.URIRef('http://test.org/affordance.owl#Killing'))\n",
      "(rdflib.term.URIRef('http://api.conceptnet.io/c/en/refrigerator'), rdflib.term.URIRef('http://test.org/affordance.owl#affords'), rdflib.term.URIRef('http://test.org/affordance.owl#Chilling'))\n",
      "(rdflib.term.URIRef('http://api.conceptnet.io/c/en/knife'), rdflib.term.URIRef('http://test.org/affordance.owl#affords'), rdflib.term.URIRef('http://test.org/affordance.owl#Making'))\n",
      "(rdflib.term.URIRef('http://api.conceptnet.io/c/en/knife'), rdflib.term.URIRef('http://test.org/affordance.owl#affords'), rdflib.term.URIRef('http://test.org/affordance.owl#Carving'))\n",
      "(rdflib.term.URIRef('http://api.conceptnet.io/c/en/spoon'), rdflib.term.URIRef('http://test.org/affordance.owl#affords'), rdflib.term.URIRef('http://test.org/affordance.owl#Eating'))\n",
      "(rdflib.term.URIRef('http://api.conceptnet.io/c/en/refrigerator'), rdflib.term.URIRef('http://test.org/affordance.owl#affords'), rdflib.term.URIRef('http://test.org/affordance.owl#Storing'))\n",
      "(rdflib.term.URIRef('http://api.conceptnet.io/c/en/refrigerator'), rdflib.term.URIRef('http://test.org/affordance.owl#affords'), rdflib.term.URIRef('http://test.org/affordance.owl#Keeping'))\n",
      "(rdflib.term.URIRef('http://api.conceptnet.io/c/en/knife'), rdflib.term.URIRef('http://test.org/affordance.owl#affords'), rdflib.term.URIRef('http://test.org/affordance.owl#Gouging'))\n",
      "(rdflib.term.URIRef('http://api.conceptnet.io/c/en/refrigerator'), rdflib.term.URIRef('http://test.org/affordance.owl#affords'), rdflib.term.URIRef('http://test.org/affordance.owl#Keeping'))\n",
      "(rdflib.term.URIRef('http://api.conceptnet.io/c/en/apple'), rdflib.term.URIRef('http://test.org/affordance.owl#affords'), rdflib.term.URIRef('http://test.org/affordance.owl#Getting'))\n",
      "(rdflib.term.URIRef('http://api.conceptnet.io/c/en/dining_table'), rdflib.term.URIRef('http://test.org/affordance.owl#affords'), rdflib.term.URIRef('http://test.org/affordance.owl#Playing'))\n",
      "(rdflib.term.URIRef('http://api.conceptnet.io/c/en/dining_table'), rdflib.term.URIRef('http://test.org/affordance.owl#affords'), rdflib.term.URIRef('http://test.org/affordance.owl#Having'))\n",
      "(rdflib.term.URIRef('http://api.conceptnet.io/c/en/dining_table'), rdflib.term.URIRef('http://test.org/affordance.owl#affords'), rdflib.term.URIRef('http://test.org/affordance.owl#Drinking'))\n",
      "(rdflib.term.URIRef('http://api.conceptnet.io/c/en/knife'), rdflib.term.URIRef('http://test.org/affordance.owl#affords'), rdflib.term.URIRef('http://test.org/affordance.owl#Gashing'))\n",
      "(rdflib.term.URIRef('http://api.conceptnet.io/c/en/knife'), rdflib.term.URIRef('http://test.org/affordance.owl#affords'), rdflib.term.URIRef('http://test.org/affordance.owl#Spreading'))\n",
      "(rdflib.term.URIRef('http://api.conceptnet.io/c/en/cupboard'), rdflib.term.URIRef('http://test.org/affordance.owl#affords'), rdflib.term.URIRef('http://test.org/affordance.owl#Giving'))\n",
      "(rdflib.term.URIRef('http://api.conceptnet.io/c/en/spoon'), rdflib.term.URIRef('http://test.org/affordance.owl#affords'), rdflib.term.URIRef('http://test.org/affordance.owl#Eating'))\n",
      "(rdflib.term.URIRef('http://api.conceptnet.io/c/en/knife'), rdflib.term.URIRef('http://test.org/affordance.owl#affords'), rdflib.term.URIRef('http://test.org/affordance.owl#Paring'))\n",
      "(rdflib.term.URIRef('http://api.conceptnet.io/c/en/knife'), rdflib.term.URIRef('http://test.org/affordance.owl#affords'), rdflib.term.URIRef('http://test.org/affordance.owl#Taking'))\n",
      "(rdflib.term.URIRef('http://api.conceptnet.io/c/en/glass'), rdflib.term.URIRef('http://test.org/affordance.owl#affords'), rdflib.term.URIRef('http://test.org/affordance.owl#Making'))\n",
      "(rdflib.term.URIRef('http://api.conceptnet.io/c/en/cupboard'), rdflib.term.URIRef('http://test.org/affordance.owl#affords'), rdflib.term.URIRef('http://test.org/affordance.owl#Storing'))\n",
      "(rdflib.term.URIRef('http://api.conceptnet.io/c/en/fork'), rdflib.term.URIRef('http://test.org/affordance.owl#affords'), rdflib.term.URIRef('http://test.org/affordance.owl#Eating'))\n",
      "(rdflib.term.URIRef('http://api.conceptnet.io/c/en/refrigerator'), rdflib.term.URIRef('http://test.org/affordance.owl#affords'), rdflib.term.URIRef('http://test.org/affordance.owl#Making'))\n",
      "(rdflib.term.URIRef('http://api.conceptnet.io/c/en/glass'), rdflib.term.URIRef('http://test.org/affordance.owl#affords'), rdflib.term.URIRef('http://test.org/affordance.owl#Holding'))\n",
      "(rdflib.term.URIRef('http://api.conceptnet.io/c/en/knife'), rdflib.term.URIRef('http://test.org/affordance.owl#affords'), rdflib.term.URIRef('http://test.org/affordance.owl#Prying'))\n",
      "(rdflib.term.URIRef('http://api.conceptnet.io/c/en/spoon'), rdflib.term.URIRef('http://test.org/affordance.owl#affords'), rdflib.term.URIRef('http://test.org/affordance.owl#Stirring'))\n",
      "(rdflib.term.URIRef('http://api.conceptnet.io/c/en/spoon'), rdflib.term.URIRef('http://test.org/affordance.owl#affords'), rdflib.term.URIRef('http://test.org/affordance.owl#Consuming'))\n",
      "(rdflib.term.URIRef('http://api.conceptnet.io/c/en/cupboard'), rdflib.term.URIRef('http://test.org/affordance.owl#affords'), rdflib.term.URIRef('http://test.org/affordance.owl#Storing'))\n",
      "(rdflib.term.URIRef('http://api.conceptnet.io/c/en/glass'), rdflib.term.URIRef('http://test.org/affordance.owl#affords'), rdflib.term.URIRef('http://test.org/affordance.owl#Holding'))\n",
      "(rdflib.term.URIRef('http://api.conceptnet.io/c/en/fork'), rdflib.term.URIRef('http://test.org/affordance.owl#affords'), rdflib.term.URIRef('http://test.org/affordance.owl#Eating'))\n",
      "(rdflib.term.URIRef('http://api.conceptnet.io/c/en/spoon'), rdflib.term.URIRef('http://test.org/affordance.owl#affords'), rdflib.term.URIRef('http://test.org/affordance.owl#Eating'))\n",
      "(rdflib.term.URIRef('http://api.conceptnet.io/c/en/fork'), rdflib.term.URIRef('http://test.org/affordance.owl#affords'), rdflib.term.URIRef('http://test.org/affordance.owl#Eating'))\n",
      "(rdflib.term.URIRef('http://api.conceptnet.io/c/en/knife'), rdflib.term.URIRef('http://test.org/affordance.owl#affords'), rdflib.term.URIRef('http://test.org/affordance.owl#Making'))\n",
      "(rdflib.term.URIRef('http://api.conceptnet.io/c/en/cupboard'), rdflib.term.URIRef('http://test.org/affordance.owl#affords'), rdflib.term.URIRef('http://test.org/affordance.owl#Saving'))\n",
      "(rdflib.term.URIRef('http://api.conceptnet.io/c/en/dining_table'), rdflib.term.URIRef('http://test.org/affordance.owl#affords'), rdflib.term.URIRef('http://test.org/affordance.owl#Entertaining'))\n",
      "(rdflib.term.URIRef('http://api.conceptnet.io/c/en/apple'), rdflib.term.URIRef('http://test.org/affordance.owl#affords'), rdflib.term.URIRef('http://test.org/affordance.owl#Making'))\n",
      "(rdflib.term.URIRef('http://api.conceptnet.io/c/en/fork'), rdflib.term.URIRef('http://test.org/affordance.owl#affords'), rdflib.term.URIRef('http://test.org/affordance.owl#Lifting'))\n",
      "(rdflib.term.URIRef('http://api.conceptnet.io/c/en/dining_table'), rdflib.term.URIRef('http://test.org/affordance.owl#affords'), rdflib.term.URIRef('http://test.org/affordance.owl#Putting'))\n",
      "(rdflib.term.URIRef('http://api.conceptnet.io/c/en/glass'), rdflib.term.URIRef('http://test.org/affordance.owl#affords'), rdflib.term.URIRef('http://test.org/affordance.owl#Seeing'))\n",
      "(rdflib.term.URIRef('http://api.conceptnet.io/c/en/dining_table'), rdflib.term.URIRef('http://test.org/affordance.owl#affords'), rdflib.term.URIRef('http://test.org/affordance.owl#Serving'))\n",
      "(rdflib.term.URIRef('http://api.conceptnet.io/c/en/dining_table'), rdflib.term.URIRef('http://test.org/affordance.owl#affords'), rdflib.term.URIRef('http://test.org/affordance.owl#Laying'))\n",
      "(rdflib.term.URIRef('http://api.conceptnet.io/c/en/dining_table'), rdflib.term.URIRef('http://test.org/affordance.owl#affords'), rdflib.term.URIRef('http://test.org/affordance.owl#Playing'))\n",
      "(rdflib.term.URIRef('http://api.conceptnet.io/c/en/knife'), rdflib.term.URIRef('http://test.org/affordance.owl#affords'), rdflib.term.URIRef('http://test.org/affordance.owl#Cutting'))\n",
      "(rdflib.term.URIRef('http://api.conceptnet.io/c/en/apple'), rdflib.term.URIRef('http://test.org/affordance.owl#affords'), rdflib.term.URIRef('http://test.org/affordance.owl#Keeping'))\n",
      "(rdflib.term.URIRef('http://api.conceptnet.io/c/en/knife'), rdflib.term.URIRef('http://test.org/affordance.owl#affords'), rdflib.term.URIRef('http://test.org/affordance.owl#Cutting'))\n",
      "(rdflib.term.URIRef('http://api.conceptnet.io/c/en/refrigerator'), rdflib.term.URIRef('http://test.org/affordance.owl#affords'), rdflib.term.URIRef('http://test.org/affordance.owl#Keeping'))\n",
      "(rdflib.term.URIRef('http://api.conceptnet.io/c/en/knife'), rdflib.term.URIRef('http://test.org/affordance.owl#affords'), rdflib.term.URIRef('http://test.org/affordance.owl#Playing'))\n",
      "(rdflib.term.URIRef('http://api.conceptnet.io/c/en/dining_table'), rdflib.term.URIRef('http://test.org/affordance.owl#affords'), rdflib.term.URIRef('http://test.org/affordance.owl#Placing'))\n",
      "(rdflib.term.URIRef('http://api.conceptnet.io/c/en/knife'), rdflib.term.URIRef('http://test.org/affordance.owl#affords'), rdflib.term.URIRef('http://test.org/affordance.owl#Skinning'))\n",
      "(rdflib.term.URIRef('http://api.conceptnet.io/c/en/fork'), rdflib.term.URIRef('http://test.org/affordance.owl#affords'), rdflib.term.URIRef('http://test.org/affordance.owl#Eating'))\n",
      "(rdflib.term.URIRef('http://api.conceptnet.io/c/en/knife'), rdflib.term.URIRef('http://test.org/affordance.owl#affords'), rdflib.term.URIRef('http://test.org/affordance.owl#Separating'))\n",
      "(rdflib.term.URIRef('http://api.conceptnet.io/c/en/cupboard'), rdflib.term.URIRef('http://test.org/affordance.owl#affords'), rdflib.term.URIRef('http://test.org/affordance.owl#Keeping'))\n",
      "(rdflib.term.URIRef('http://api.conceptnet.io/c/en/spoon'), rdflib.term.URIRef('http://test.org/affordance.owl#affords'), rdflib.term.URIRef('http://test.org/affordance.owl#Mixing'))\n",
      "(rdflib.term.URIRef('http://api.conceptnet.io/c/en/refrigerator'), rdflib.term.URIRef('http://test.org/affordance.owl#affords'), rdflib.term.URIRef('http://test.org/affordance.owl#Chilling'))\n",
      "(rdflib.term.URIRef('http://api.conceptnet.io/c/en/refrigerator'), rdflib.term.URIRef('http://test.org/affordance.owl#affords'), rdflib.term.URIRef('http://test.org/affordance.owl#Keeping'))\n",
      "(rdflib.term.URIRef('http://api.conceptnet.io/c/en/dining_table'), rdflib.term.URIRef('http://test.org/affordance.owl#affords'), rdflib.term.URIRef('http://test.org/affordance.owl#Doing'))\n",
      "(rdflib.term.URIRef('http://api.conceptnet.io/c/en/apple'), rdflib.term.URIRef('http://test.org/affordance.owl#affords'), rdflib.term.URIRef('http://test.org/affordance.owl#Making'))\n",
      "(rdflib.term.URIRef('http://api.conceptnet.io/c/en/knife'), rdflib.term.URIRef('http://test.org/affordance.owl#affords'), rdflib.term.URIRef('http://test.org/affordance.owl#Cutting'))\n",
      "(rdflib.term.URIRef('http://api.conceptnet.io/c/en/spoon'), rdflib.term.URIRef('http://test.org/affordance.owl#affords'), rdflib.term.URIRef('http://test.org/affordance.owl#Stirring'))\n",
      "(rdflib.term.URIRef('http://api.conceptnet.io/c/en/knife'), rdflib.term.URIRef('http://test.org/affordance.owl#affords'), rdflib.term.URIRef('http://test.org/affordance.owl#Dividing'))\n",
      "(rdflib.term.URIRef('http://api.conceptnet.io/c/en/spoon'), rdflib.term.URIRef('http://test.org/affordance.owl#affords'), rdflib.term.URIRef('http://test.org/affordance.owl#Stirring'))\n",
      "(rdflib.term.URIRef('http://api.conceptnet.io/c/en/cupboard'), rdflib.term.URIRef('http://test.org/affordance.owl#affords'), rdflib.term.URIRef('http://test.org/affordance.owl#Storing'))\n",
      "(rdflib.term.URIRef('http://api.conceptnet.io/c/en/knife'), rdflib.term.URIRef('http://test.org/affordance.owl#affords'), rdflib.term.URIRef('http://test.org/affordance.owl#Scratching'))\n",
      "(rdflib.term.URIRef('http://api.conceptnet.io/c/en/spoon'), rdflib.term.URIRef('http://test.org/affordance.owl#affords'), rdflib.term.URIRef('http://test.org/affordance.owl#Hanging'))\n",
      "(rdflib.term.URIRef('http://api.conceptnet.io/c/en/knife'), rdflib.term.URIRef('http://test.org/affordance.owl#affords'), rdflib.term.URIRef('http://test.org/affordance.owl#Scoring'))\n",
      "(rdflib.term.URIRef('http://api.conceptnet.io/c/en/knife'), rdflib.term.URIRef('http://test.org/affordance.owl#affords'), rdflib.term.URIRef('http://test.org/affordance.owl#Picking'))\n",
      "(rdflib.term.URIRef('http://api.conceptnet.io/c/en/dining_table'), rdflib.term.URIRef('http://test.org/affordance.owl#affords'), rdflib.term.URIRef('http://test.org/affordance.owl#Working'))\n",
      "(rdflib.term.URIRef('http://api.conceptnet.io/c/en/spoon'), rdflib.term.URIRef('http://test.org/affordance.owl#affords'), rdflib.term.URIRef('http://test.org/affordance.owl#Stirring'))\n",
      "(rdflib.term.URIRef('http://api.conceptnet.io/c/en/dining_table'), rdflib.term.URIRef('http://test.org/affordance.owl#affords'), rdflib.term.URIRef('http://test.org/affordance.owl#Making'))\n",
      "(rdflib.term.URIRef('http://api.conceptnet.io/c/en/refrigerator'), rdflib.term.URIRef('http://test.org/affordance.owl#affords'), rdflib.term.URIRef('http://test.org/affordance.owl#Preventing'))\n",
      "(rdflib.term.URIRef('http://api.conceptnet.io/c/en/spoon'), rdflib.term.URIRef('http://test.org/affordance.owl#affords'), rdflib.term.URIRef('http://test.org/affordance.owl#Mixing'))\n",
      "(rdflib.term.URIRef('http://api.conceptnet.io/c/en/spoon'), rdflib.term.URIRef('http://test.org/affordance.owl#affords'), rdflib.term.URIRef('http://test.org/affordance.owl#Dishing'))\n",
      "(rdflib.term.URIRef('http://api.conceptnet.io/c/en/spoon'), rdflib.term.URIRef('http://test.org/affordance.owl#affords'), rdflib.term.URIRef('http://test.org/affordance.owl#Eating'))\n",
      "(rdflib.term.URIRef('http://api.conceptnet.io/c/en/refrigerator'), rdflib.term.URIRef('http://test.org/affordance.owl#affords'), rdflib.term.URIRef('http://test.org/affordance.owl#Keeping'))\n",
      "(rdflib.term.URIRef('http://api.conceptnet.io/c/en/knife'), rdflib.term.URIRef('http://test.org/affordance.owl#affords'), rdflib.term.URIRef('http://test.org/affordance.owl#Chopping'))\n",
      "(rdflib.term.URIRef('http://api.conceptnet.io/c/en/cupboard'), rdflib.term.URIRef('http://test.org/affordance.owl#affords'), rdflib.term.URIRef('http://test.org/affordance.owl#Storing'))\n",
      "(rdflib.term.URIRef('http://api.conceptnet.io/c/en/cupboard'), rdflib.term.URIRef('http://test.org/affordance.owl#affords'), rdflib.term.URIRef('http://test.org/affordance.owl#Storing'))\n",
      "(rdflib.term.URIRef('http://api.conceptnet.io/c/en/glass'), rdflib.term.URIRef('http://test.org/affordance.owl#affords'), rdflib.term.URIRef('http://test.org/affordance.owl#Drinking'))\n",
      "(rdflib.term.URIRef('http://api.conceptnet.io/c/en/apple'), rdflib.term.URIRef('http://test.org/affordance.owl#affords'), rdflib.term.URIRef('http://test.org/affordance.owl#Tempting'))\n",
      "(rdflib.term.URIRef('http://api.conceptnet.io/c/en/cupboard'), rdflib.term.URIRef('http://test.org/affordance.owl#affords'), rdflib.term.URIRef('http://test.org/affordance.owl#Storing'))\n",
      "(rdflib.term.URIRef('http://api.conceptnet.io/c/en/cupboard'), rdflib.term.URIRef('http://test.org/affordance.owl#affords'), rdflib.term.URIRef('http://test.org/affordance.owl#Keeping'))\n",
      "(rdflib.term.URIRef('http://api.conceptnet.io/c/en/glass'), rdflib.term.URIRef('http://test.org/affordance.owl#affords'), rdflib.term.URIRef('http://test.org/affordance.owl#Holding'))\n",
      "(rdflib.term.URIRef('http://api.conceptnet.io/c/en/knife'), rdflib.term.URIRef('http://test.org/affordance.owl#affords'), rdflib.term.URIRef('http://test.org/affordance.owl#Eating'))\n",
      "(rdflib.term.URIRef('http://api.conceptnet.io/c/en/refrigerator'), rdflib.term.URIRef('http://test.org/affordance.owl#affords'), rdflib.term.URIRef('http://test.org/affordance.owl#Keeping'))\n",
      "(rdflib.term.URIRef('http://api.conceptnet.io/c/en/knife'), rdflib.term.URIRef('http://test.org/affordance.owl#affords'), rdflib.term.URIRef('http://test.org/affordance.owl#Spreading'))\n",
      "(rdflib.term.URIRef('http://api.conceptnet.io/c/en/coffee'), rdflib.term.URIRef('http://test.org/affordance.owl#affords'), rdflib.term.URIRef('http://test.org/affordance.owl#Staying'))\n",
      "(rdflib.term.URIRef('http://api.conceptnet.io/c/en/fork'), rdflib.term.URIRef('http://test.org/affordance.owl#affords'), rdflib.term.URIRef('http://test.org/affordance.owl#Eating'))\n",
      "(rdflib.term.URIRef('http://api.conceptnet.io/c/en/fork'), rdflib.term.URIRef('http://test.org/affordance.owl#affords'), rdflib.term.URIRef('http://test.org/affordance.owl#Eating'))\n",
      "(rdflib.term.URIRef('http://api.conceptnet.io/c/en/dining_table'), rdflib.term.URIRef('http://test.org/affordance.owl#affords'), rdflib.term.URIRef('http://test.org/affordance.owl#Playing'))\n",
      "(rdflib.term.URIRef('http://api.conceptnet.io/c/en/refrigerator'), rdflib.term.URIRef('http://test.org/affordance.owl#affords'), rdflib.term.URIRef('http://test.org/affordance.owl#Keeping'))\n",
      "(rdflib.term.URIRef('http://api.conceptnet.io/c/en/fork'), rdflib.term.URIRef('http://test.org/affordance.owl#affords'), rdflib.term.URIRef('http://test.org/affordance.owl#Eating'))\n",
      "(rdflib.term.URIRef('http://api.conceptnet.io/c/en/knife'), rdflib.term.URIRef('http://test.org/affordance.owl#affords'), rdflib.term.URIRef('http://test.org/affordance.owl#Prying'))\n",
      "(rdflib.term.URIRef('http://api.conceptnet.io/c/en/refrigerator'), rdflib.term.URIRef('http://test.org/affordance.owl#affords'), rdflib.term.URIRef('http://test.org/affordance.owl#Keeping'))\n",
      "(rdflib.term.URIRef('http://api.conceptnet.io/c/en/refrigerator'), rdflib.term.URIRef('http://test.org/affordance.owl#affords'), rdflib.term.URIRef('http://test.org/affordance.owl#Keeping'))\n",
      "(rdflib.term.URIRef('http://api.conceptnet.io/c/en/refrigerator'), rdflib.term.URIRef('http://test.org/affordance.owl#affords'), rdflib.term.URIRef('http://test.org/affordance.owl#Cooling'))\n",
      "(rdflib.term.URIRef('http://api.conceptnet.io/c/en/spoon'), rdflib.term.URIRef('http://test.org/affordance.owl#affords'), rdflib.term.URIRef('http://test.org/affordance.owl#Eating'))\n",
      "(rdflib.term.URIRef('http://api.conceptnet.io/c/en/spoon'), rdflib.term.URIRef('http://test.org/affordance.owl#affords'), rdflib.term.URIRef('http://test.org/affordance.owl#Taking'))\n",
      "(rdflib.term.URIRef('http://api.conceptnet.io/c/en/apple'), rdflib.term.URIRef('http://test.org/affordance.owl#affords'), rdflib.term.URIRef('http://test.org/affordance.owl#Making'))\n",
      "(rdflib.term.URIRef('http://api.conceptnet.io/c/en/dining_table'), rdflib.term.URIRef('http://test.org/affordance.owl#affords'), rdflib.term.URIRef('http://test.org/affordance.owl#Eating'))\n",
      "(rdflib.term.URIRef('http://api.conceptnet.io/c/en/fork'), rdflib.term.URIRef('http://test.org/affordance.owl#affords'), rdflib.term.URIRef('http://test.org/affordance.owl#Moving'))\n",
      "(rdflib.term.URIRef('http://api.conceptnet.io/c/en/spoon'), rdflib.term.URIRef('http://test.org/affordance.owl#affords'), rdflib.term.URIRef('http://test.org/affordance.owl#Measuring'))\n",
      "(rdflib.term.URIRef('http://api.conceptnet.io/c/en/knife'), rdflib.term.URIRef('http://test.org/affordance.owl#affords'), rdflib.term.URIRef('http://test.org/affordance.owl#Peeling'))\n",
      "(rdflib.term.URIRef('http://api.conceptnet.io/c/en/knife'), rdflib.term.URIRef('http://test.org/affordance.owl#affords'), rdflib.term.URIRef('http://test.org/affordance.owl#Cracking'))\n",
      "(rdflib.term.URIRef('http://api.conceptnet.io/c/en/knife'), rdflib.term.URIRef('http://test.org/affordance.owl#affords'), rdflib.term.URIRef('http://test.org/affordance.owl#Breaking'))\n",
      "(rdflib.term.URIRef('http://api.conceptnet.io/c/en/spoon'), rdflib.term.URIRef('http://test.org/affordance.owl#affords'), rdflib.term.URIRef('http://test.org/affordance.owl#Eating'))\n",
      "(rdflib.term.URIRef('http://api.conceptnet.io/c/en/milk'), rdflib.term.URIRef('http://test.org/affordance.owl#affords'), rdflib.term.URIRef('http://test.org/affordance.owl#Making'))\n",
      "(rdflib.term.URIRef('http://api.conceptnet.io/c/en/refrigerator'), rdflib.term.URIRef('http://test.org/affordance.owl#affords'), rdflib.term.URIRef('http://test.org/affordance.owl#Extending'))\n",
      "(rdflib.term.URIRef('http://api.conceptnet.io/c/en/knife'), rdflib.term.URIRef('http://test.org/affordance.owl#affords'), rdflib.term.URIRef('http://test.org/affordance.owl#Complementing'))\n"
     ]
    }
   ],
   "source": [
    "# create the desired triples for the graph\n",
    "\n",
    "# < affordance subclass, rdfs:subClassOf, aff:Affordance >\n",
    "action_affs = aff_df.aff_class.to_list()\n",
    "action_affs_set = set(action_affs)\n",
    "action_affs_set.remove(None)\n",
    "for aff in action_affs_set:\n",
    "    merged_g.add( (aff_ns[URIRef(aff)], RDFS.subClassOf, aff_ns.Affordance) )\n",
    "\n",
    "for index, row in aff_df.iterrows():\n",
    "    # < UsedFor object, a, aff:Action >\n",
    "    merged_g.add( (cnc_ns['en/' + row['usage_o']], RDF.type, aff_ns.Action) )\n",
    "    merged_g.add( (cnc_ns[row['entities']], aff_ns.potential_action, cnc_ns['en/' + row['usage_o']]) )\n",
    "    # < UsedFor object, a, Affordance Subclass >\n",
    "    if row['aff_class'] == None:\n",
    "        continue\n",
    "    else:\n",
    "        merged_g.add( (cnc_ns['en/' + row['usage_o']], aff_ns.action_affordance, aff_ns[row['aff_class']]) )\n",
    "        merged_g.add( (cnc_ns[row['entities']], aff_ns.affords, aff_ns[row['aff_class']]) )\n",
    "#         print((cnc_ns[row['entities']], aff_ns.affords, aff_ns[row['aff_class']]))\n",
    "#         print(aff_ns[row['aff_class']])\n",
    "    "
   ]
  },
  {
   "cell_type": "code",
   "execution_count": 16,
   "metadata": {},
   "outputs": [
    {
     "data": {
      "text/plain": [
       "92"
      ]
     },
     "execution_count": 16,
     "metadata": {},
     "output_type": "execute_result"
    }
   ],
   "source": [
    "len(set(list(aff_df.aff_class)))"
   ]
  },
  {
   "cell_type": "code",
   "execution_count": 17,
   "metadata": {},
   "outputs": [
    {
     "data": {
      "text/plain": [
       "3905"
      ]
     },
     "execution_count": 17,
     "metadata": {},
     "output_type": "execute_result"
    }
   ],
   "source": [
    "len(merged_g)"
   ]
  },
  {
   "cell_type": "markdown",
   "metadata": {},
   "source": [
    "#### Relation: _cnr:ReceivesAction_ --> removing these triples because other relations give similar information"
   ]
  },
  {
   "cell_type": "code",
   "execution_count": 18,
   "metadata": {},
   "outputs": [],
   "source": [
    "for s,p,o in merged_g.triples( (None, cnr_ns.ReceivesAction, None) ):\n",
    "    merged_g.remove( (cnc_ns[s[27:]], cnr_ns.ReceivesAction, cnc_ns[o[27:]]) )"
   ]
  },
  {
   "cell_type": "markdown",
   "metadata": {},
   "source": [
    "#### Relation: _cnr:MadeOf_ --> only keep triples in which the subject of the triple is an instance of the BFT onto"
   ]
  },
  {
   "cell_type": "code",
   "execution_count": 19,
   "metadata": {},
   "outputs": [],
   "source": [
    "instances = ['milk', 'apple', 'lemon', 'refrigerator', 'coffee', 'croissant', 'garnish', 'hardboiled_egg', 'scrambled_egg', 'fried_egg', 'orange_juice', 'apple_juice', 'butter', 'salt_shaker', 'pepper_shaker', 'bread_basket', 'egg_cup', 'milk_pitcher', 'fork', 'knife', 'spoon', 'butter_knife', 'glass', 'teacup', 'sauce_dish', 'butter_dish', 'bread_plate', 'teacup_plate', 'dining_table', 'dining_chair', 'cupboard']"
   ]
  },
  {
   "cell_type": "code",
   "execution_count": 20,
   "metadata": {},
   "outputs": [
    {
     "data": {
      "text/plain": [
       "31"
      ]
     },
     "execution_count": 20,
     "metadata": {},
     "output_type": "execute_result"
    }
   ],
   "source": [
    "len(instances)"
   ]
  },
  {
   "cell_type": "code",
   "execution_count": 21,
   "metadata": {},
   "outputs": [],
   "source": [
    "for s,p,o in merged_g.triples( (None, cnr_ns.MadeOf, None) ):\n",
    "    if s[30:] not in instances:\n",
    "        merged_g.remove( (cnc_ns[s[27:]], cnr_ns.MadeOf, cnc_ns[o[27:]]) )"
   ]
  },
  {
   "cell_type": "markdown",
   "metadata": {},
   "source": [
    "#### Relation: _cnr:PartOf_ --> remove triples about glass because they are not very relevant to the kitchen domain"
   ]
  },
  {
   "cell_type": "code",
   "execution_count": 22,
   "metadata": {},
   "outputs": [],
   "source": [
    "for s,p,o in merged_g.triples( (None, cnr_ns.PartOf, None) ):\n",
    "    if \"glass\" in s[30:]:\n",
    "        merged_g.remove( (cnc_ns[s[27:]], cnr_ns.PartOf, cnc_ns[o[27:]]) )"
   ]
  },
  {
   "cell_type": "markdown",
   "metadata": {},
   "source": [
    "#### Relation: _cnr:HasPrequisite_ --> allocate 'A' in cnr:HasPrerequisite to a instance of aff:Action"
   ]
  },
  {
   "cell_type": "code",
   "execution_count": 23,
   "metadata": {},
   "outputs": [],
   "source": [
    "action_classes = set()\n",
    "actions = []\n",
    "for s,p,o in merged_g.triples( (None, cnr_ns.HasPrerequisite, None) ):\n",
    "    action_verb = s[30:].split('_')\n",
    "    action_aff = action_verb[0]\n",
    "    action_aff_uri = URIRef(action_aff.capitalize())\n",
    "    merged_g.add( (cnc_ns[s[27:]], RDF.type, aff_ns.Action) )\n",
    "    merged_g.add( (aff_ns[action_aff_uri], RDFS.subClassOf, aff_ns.Affordance) )\n",
    "    merged_g.add( (cnc_ns[s[27:]], RDF.type, aff_ns[action_aff_uri]) )\n",
    "    merged_g.add( (cnc_ns[o[27:]], aff_ns.potential_action, cnc_ns[s[27:]]) )"
   ]
  },
  {
   "cell_type": "code",
   "execution_count": 24,
   "metadata": {},
   "outputs": [
    {
     "data": {
      "text/plain": [
       "3870"
      ]
     },
     "execution_count": 24,
     "metadata": {},
     "output_type": "execute_result"
    }
   ],
   "source": [
    "len(merged_g)"
   ]
  },
  {
   "cell_type": "markdown",
   "metadata": {},
   "source": [
    "## Linking CN Concepts with BFT ontology"
   ]
  },
  {
   "cell_type": "code",
   "execution_count": 25,
   "metadata": {},
   "outputs": [
    {
     "data": {
      "text/plain": [
       "1306"
      ]
     },
     "execution_count": 25,
     "metadata": {},
     "output_type": "execute_result"
    }
   ],
   "source": [
    "distinct_s = cn_g.query(\n",
    "\"\"\"\n",
    "prefix cn: <http://api.conceptnet.io/> \n",
    "prefix cnc: <http://api.conceptnet.io/c/> \n",
    "prefix cnr: <http://api.conceptnet.io/r/> \n",
    "prefix rdf: <http://www.w3.org/1999/02/22-rdf-syntax-ns#>\n",
    "prefix rdfs: <http://www.w3.org/2000/01/rdf-schema#> \n",
    "prefix wi: <http://purl.org/ontology/wi/core#> \n",
    "prefix xml: <http://www.w3.org/XML/1998/namespace> \n",
    "prefix xsd: <http://www.w3.org/2001/XMLSchema#>\n",
    "\n",
    "SELECT distinct ?s WHERE { \n",
    "  ?s ?p ?o.\n",
    "  FILTER(! (?p = cnr:ExternalURL) )\n",
    "}\n",
    "\"\"\")\n",
    "len(distinct_s)"
   ]
  },
  {
   "cell_type": "code",
   "execution_count": 26,
   "metadata": {},
   "outputs": [
    {
     "data": {
      "text/plain": [
       "749"
      ]
     },
     "execution_count": 26,
     "metadata": {},
     "output_type": "execute_result"
    }
   ],
   "source": [
    "distinct_o = cn_g.query(\n",
    "\"\"\"\n",
    "prefix cnr: <http://api.conceptnet.io/r/> \n",
    "prefix rdf: <http://www.w3.org/1999/02/22-rdf-syntax-ns#>\n",
    "prefix rdfs: <http://www.w3.org/2000/01/rdf-schema#> \n",
    "prefix wi: <http://purl.org/ontology/wi/core#> \n",
    "prefix xml: <http://www.w3.org/XML/1998/namespace> \n",
    "prefix xsd: <http://www.w3.org/2001/XMLSchema#>\n",
    "\n",
    "SELECT distinct ?o WHERE { \n",
    "  ?s ?p ?o.\n",
    "  FILTER(! (?p = cnr:ExternalURL) )\n",
    "}\n",
    "\"\"\")\n",
    "len(distinct_o)"
   ]
  },
  {
   "cell_type": "markdown",
   "metadata": {},
   "source": [
    "### Levenshtein Distance to compare strings"
   ]
  },
  {
   "cell_type": "code",
   "execution_count": 27,
   "metadata": {},
   "outputs": [],
   "source": [
    "import enchant "
   ]
  },
  {
   "cell_type": "code",
   "execution_count": 28,
   "metadata": {
    "scrolled": true
   },
   "outputs": [
    {
     "name": "stdout",
     "output_type": "stream",
     "text": [
      "55\n"
     ]
    }
   ],
   "source": [
    "# subject case\n",
    "c=0\n",
    "with open('test_s.txt', 'w') as file:\n",
    "    for i in instances:\n",
    "        str1 = i\n",
    "        for r in distinct_s:\n",
    "            str2 = r.s[30:]\n",
    "#             print(str1, str2)\n",
    "            dist = enchant.utils.levenshtein(str1, str2)\n",
    "            ratio = ((len(str1)+len(str2)) - dist) / (len(str1)+len(str2))\n",
    "            if ratio > 0.83:\n",
    "                c +=1\n",
    "                file.write(f'{str(ratio)} -- {i} -- {r.s[30:]}\\n')\n",
    "#                 print(cnc_ns[r.s[32:]])\n",
    "                merged_g.add( (URIRef(f'http://test.org/bft.owl#{i}'), OWL.sameAs, cnc_ns[r.s[27:]]))\n",
    "#                 print(cnc_ns[r.s[27:]])\n",
    "print(c)"
   ]
  },
  {
   "cell_type": "code",
   "execution_count": 29,
   "metadata": {
    "scrolled": true
   },
   "outputs": [
    {
     "name": "stdout",
     "output_type": "stream",
     "text": [
      "24\n"
     ]
    }
   ],
   "source": [
    "# object case\n",
    "c1=0\n",
    "with open('test_o.txt', 'w') as file:\n",
    "    for i in instances:\n",
    "        str1 = i\n",
    "        for r in distinct_o:\n",
    "#             print(str1, str2)\n",
    "            str2 = r.o[30:]\n",
    "            dist = enchant.utils.levenshtein(str1, str2)\n",
    "            ratio = ((len(str1)+len(str2)) - dist) / (len(str1)+len(str2))\n",
    "            if ratio > 0.83:\n",
    "                c1 += 1\n",
    "                file.write(f'{str(ratio)} -- {i} -- {r.o[30:]}\\n')\n",
    "                merged_g.add( (URIRef(f'http://test.org/bft.owl#{i}'), OWL.sameAs, cnc_ns[r.o[27:]]))\n",
    "#                 print(cnc_ns[r.o[27:]])\n",
    "print(c1)"
   ]
  },
  {
   "cell_type": "code",
   "execution_count": 30,
   "metadata": {
    "scrolled": true
   },
   "outputs": [
    {
     "name": "stdout",
     "output_type": "stream",
     "text": [
      "35\n"
     ]
    }
   ],
   "source": [
    "# exact match of string matching (comparing how this works against the Levenshtein method)\n",
    "cnt = 0\n",
    "for i in instances:\n",
    "    for r in distinct_s:\n",
    "#         print(i, r.s[30:])\n",
    "        if i == str(r.s[30:]):\n",
    "            cnt +=1\n",
    "    for r in distinct_o:\n",
    "#         print(i, r.o)\n",
    "        if i == str(r.o[30:]):\n",
    "            cnt +=1\n",
    "print(cnt)"
   ]
  },
  {
   "cell_type": "markdown",
   "metadata": {},
   "source": [
    "Observe that more links are created through the Levenshtein algorithm compared to the exact string match."
   ]
  },
  {
   "cell_type": "code",
   "execution_count": 31,
   "metadata": {},
   "outputs": [
    {
     "data": {
      "text/plain": [
       "3926"
      ]
     },
     "execution_count": 31,
     "metadata": {},
     "output_type": "execute_result"
    }
   ],
   "source": [
    "len(merged_g)"
   ]
  },
  {
   "cell_type": "markdown",
   "metadata": {},
   "source": [
    "### Create closeMatch links"
   ]
  },
  {
   "cell_type": "code",
   "execution_count": 32,
   "metadata": {},
   "outputs": [],
   "source": [
    "# links instances following that the instance string is in the response string\n",
    "# eg. if instance is 'croissant' and the repsonse is 'butter_croissant', it would be a match\n",
    "\n",
    "same_as_objects = []\n",
    "for s,p,o in merged_g.triples( (None, OWL.sameAs, None) ):\n",
    "#     print(s,p,o)\n",
    "    same_as_objects.append(o[30:])\n",
    "#     print(o[30:])\n",
    "\n",
    "with open('test_contains.txt', 'w') as file:  # Use file to refer to the file object\n",
    "    for i in instances:\n",
    "        for r in distinct_s:\n",
    "#             print(r.s[30:])\n",
    "            s_concept = str(r.s[30:])\n",
    "            if i in s_concept:\n",
    "                if s_concept in same_as_objects:\n",
    "                    continue\n",
    "                else:\n",
    "                    file.write(f'{i} ------- {str(r.s)}\\n')\n",
    "                    merged_g.add( (URIRef(f'http://test.org/bft.owl#{i}'), skos_ns.closeMatch, cnc_ns[r.s[30:]]) ) \n",
    "        for r in distinct_o:\n",
    "            o_concept = str(r.o[30:])\n",
    "            if i in o_concept:\n",
    "                if o_concept in same_as_objects:\n",
    "                    continue\n",
    "                else:\n",
    "                    file.write(f'{i} ------- {str(r.o)}\\n')\n",
    "                    merged_g.add( (URIRef(f'http://test.org/bft.owl#{i}'), skos_ns.closeMatch, cnc_ns[r.o[30:]]) )\n",
    "    \n",
    "# if the triple exists with that subject, then continue because there is an owlsameas triple of the instnace, else make the triple with skos. "
   ]
  },
  {
   "cell_type": "code",
   "execution_count": 33,
   "metadata": {},
   "outputs": [],
   "source": [
    "affords_q = merged_g.query(\n",
    "\"\"\"\n",
    "prefix aff: <http://test.org/affordance.owl#>\n",
    "prefix cn: <http://api.conceptnet.io/> \n",
    "prefix cnc: <http://api.conceptnet.io/c/> \n",
    "prefix cnr: <http://api.conceptnet.io/r/> \n",
    "prefix rdf: <http://www.w3.org/1999/02/22-rdf-syntax-ns#>\n",
    "prefix rdfs: <http://www.w3.org/2000/01/rdf-schema#> \n",
    "prefix xml: <http://www.w3.org/XML/1998/namespace> \n",
    "prefix xsd: <http://www.w3.org/2001/XMLSchema#>\n",
    "\n",
    "select ?ke ?aff where\n",
    "{\n",
    "  ?ke aff:potential_action ?action.\n",
    "  ?action a ?aff.\n",
    "  ?aff rdfs:subClassOf aff:Affordance.}\n",
    "\n",
    "\"\"\")"
   ]
  },
  {
   "cell_type": "code",
   "execution_count": 34,
   "metadata": {},
   "outputs": [],
   "source": [
    "for row in affords_q:\n",
    "#     print(URIRef(cnc_ns[row.ke[27:]]), URIRef(aff_ns[row.aff[31:]]))\n",
    "    merged_g.add( (URIRef(cnc_ns[row.ke[27:]]), aff_ns.affords, URIRef(aff_ns[row.aff[31:]])) )"
   ]
  },
  {
   "cell_type": "markdown",
   "metadata": {},
   "source": [
    "### Serialize and save new merged graph with CN entities"
   ]
  },
  {
   "cell_type": "code",
   "execution_count": 35,
   "metadata": {},
   "outputs": [],
   "source": [
    "# first remove noisy triples\n",
    "merged_g.remove( (URIRef('http://test.org/bft.owl#fork'), OWL.sameAs, URIRef('http://api.conceptnet.io/c/en/pork')) )\n",
    "merged_g.remove( (URIRef('http://test.org/bft.owl#fork'), OWL.sameAs, URIRef('http://api.conceptnet.io/c/en/work')) )"
   ]
  },
  {
   "cell_type": "code",
   "execution_count": 36,
   "metadata": {},
   "outputs": [],
   "source": [
    "merged_g.serialize('aff_bft_cn.ttl', format='turtle')"
   ]
  },
  {
   "cell_type": "code",
   "execution_count": 37,
   "metadata": {},
   "outputs": [
    {
     "data": {
      "text/plain": [
       "4167"
      ]
     },
     "execution_count": 37,
     "metadata": {},
     "output_type": "execute_result"
    }
   ],
   "source": [
    "len(merged_g)"
   ]
  },
  {
   "cell_type": "code",
   "execution_count": null,
   "metadata": {},
   "outputs": [],
   "source": []
  }
 ],
 "metadata": {
  "kernelspec": {
   "display_name": "Python 3",
   "language": "python",
   "name": "python3"
  },
  "language_info": {
   "codemirror_mode": {
    "name": "ipython",
    "version": 3
   },
   "file_extension": ".py",
   "mimetype": "text/x-python",
   "name": "python",
   "nbconvert_exporter": "python",
   "pygments_lexer": "ipython3",
   "version": "3.7.6"
  }
 },
 "nbformat": 4,
 "nbformat_minor": 4
}
