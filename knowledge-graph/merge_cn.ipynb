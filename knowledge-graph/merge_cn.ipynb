{
 "cells": [
  {
   "cell_type": "code",
   "execution_count": 36,
   "metadata": {},
   "outputs": [],
   "source": [
    "from rdflib import Graph, Namespace, RDF, URIRef, RDFS\n",
    "from rdflib.namespace import OWL, SKOS\n",
    "import spacy\n",
    "nlp = spacy.load('en_core_web_sm')\n",
    "import pandas as pd"
   ]
  },
  {
   "cell_type": "code",
   "execution_count": 37,
   "metadata": {},
   "outputs": [],
   "source": [
    "def create_namespace(graph, namespace, prefix):\n",
    "    \"\"\"\n",
    "    Binds a namespace to a given graph.\n",
    "    Args:\n",
    "        - graph: graph object\n",
    "        - namespace: uri of the namespace to be bound to the graph\n",
    "        - prefix: the prefix of the given namespace\n",
    "    Output: namespace instance bound to a specified graph\n",
    "    \"\"\"\n",
    "    ns = Namespace(namespace)\n",
    "    graph.namespace_manager.bind(prefix, namespace)\n",
    "\n",
    "    return ns"
   ]
  },
  {
   "cell_type": "code",
   "execution_count": 38,
   "metadata": {},
   "outputs": [
    {
     "data": {
      "text/plain": [
       "<Graph identifier=Nda5b992cedee4d83a0251a985d0c2e43 (<class 'rdflib.graph.Graph'>)>"
      ]
     },
     "execution_count": 38,
     "metadata": {},
     "output_type": "execute_result"
    }
   ],
   "source": [
    "# load graphs to be merged\n",
    "base_graph_file = \"./graphs/aff_bft_open_graph.ttl\"\n",
    "cn_graph_file = \"../data/ConceptNet/parse/cn_graph.ttl\"\n",
    "base_g = Graph()\n",
    "cn_g = Graph()\n",
    "base_g.parse(base_graph_file, format= 'turtle')\n",
    "cn_g.parse(cn_graph_file, format= 'turtle')"
   ]
  },
  {
   "cell_type": "code",
   "execution_count": 39,
   "metadata": {},
   "outputs": [
    {
     "data": {
      "text/plain": [
       "1602"
      ]
     },
     "execution_count": 39,
     "metadata": {},
     "output_type": "execute_result"
    }
   ],
   "source": [
    "# combine graphs\n",
    "merged_g = Graph()\n",
    "merged_g = base_g + cn_g\n",
    "len(merged_g)"
   ]
  },
  {
   "cell_type": "markdown",
   "metadata": {},
   "source": [
    "## Linking CN Relations with aff ontology"
   ]
  },
  {
   "cell_type": "code",
   "execution_count": 40,
   "metadata": {},
   "outputs": [],
   "source": [
    "cnr_ns = create_namespace(merged_g, \"http://api.conceptnet.io/r/\", 'cnr')\n",
    "cnc_ns = create_namespace(merged_g, \"http://api.conceptnet.io/c/\", 'cnc')\n",
    "aff_ns = create_namespace(merged_g, \"http://test.org/affordance.owl#\", 'aff')\n",
    "kchn_ns = create_namespace(merged_g, \"http://test.org/kitchen.owl#\", 'kchn')\n",
    "skos_ns = create_namespace(merged_g, \"http://www.w3.org/2004/02/skos/core#\", 'skos')"
   ]
  },
  {
   "cell_type": "markdown",
   "metadata": {},
   "source": [
    "#### Relation: _cnr:UsedFor_ --> action instances and affordance subclasses"
   ]
  },
  {
   "cell_type": "code",
   "execution_count": 41,
   "metadata": {
    "scrolled": true
   },
   "outputs": [
    {
     "data": {
      "text/html": [
       "<div>\n",
       "<style scoped>\n",
       "    .dataframe tbody tr th:only-of-type {\n",
       "        vertical-align: middle;\n",
       "    }\n",
       "\n",
       "    .dataframe tbody tr th {\n",
       "        vertical-align: top;\n",
       "    }\n",
       "\n",
       "    .dataframe thead th {\n",
       "        text-align: right;\n",
       "    }\n",
       "</style>\n",
       "<table border=\"1\" class=\"dataframe\">\n",
       "  <thead>\n",
       "    <tr style=\"text-align: right;\">\n",
       "      <th></th>\n",
       "      <th>entities</th>\n",
       "      <th>usage_o</th>\n",
       "      <th>usage_phrase_list</th>\n",
       "      <th>aff_class</th>\n",
       "    </tr>\n",
       "  </thead>\n",
       "  <tbody>\n",
       "    <tr>\n",
       "      <th>0</th>\n",
       "      <td>en/spoon</td>\n",
       "      <td>scooping_food</td>\n",
       "      <td>scooping food</td>\n",
       "      <td>NaN</td>\n",
       "    </tr>\n",
       "    <tr>\n",
       "      <th>1</th>\n",
       "      <td>en/apple</td>\n",
       "      <td>representing_knowlege</td>\n",
       "      <td>representing knowlege</td>\n",
       "      <td>NaN</td>\n",
       "    </tr>\n",
       "    <tr>\n",
       "      <th>2</th>\n",
       "      <td>en/knife</td>\n",
       "      <td>letting_blood</td>\n",
       "      <td>letting blood</td>\n",
       "      <td>NaN</td>\n",
       "    </tr>\n",
       "    <tr>\n",
       "      <th>3</th>\n",
       "      <td>en/knife</td>\n",
       "      <td>cutting_meat</td>\n",
       "      <td>cutting meat</td>\n",
       "      <td>NaN</td>\n",
       "    </tr>\n",
       "    <tr>\n",
       "      <th>4</th>\n",
       "      <td>en/dining_table</td>\n",
       "      <td>eat_dinnner</td>\n",
       "      <td>eat dinnner</td>\n",
       "      <td>NaN</td>\n",
       "    </tr>\n",
       "    <tr>\n",
       "      <th>5</th>\n",
       "      <td>en/knife</td>\n",
       "      <td>disect</td>\n",
       "      <td>disect</td>\n",
       "      <td>NaN</td>\n",
       "    </tr>\n",
       "    <tr>\n",
       "      <th>6</th>\n",
       "      <td>en/cupboard</td>\n",
       "      <td>store_christmas_decorations</td>\n",
       "      <td>store christmas decorations</td>\n",
       "      <td>NaN</td>\n",
       "    </tr>\n",
       "    <tr>\n",
       "      <th>7</th>\n",
       "      <td>en/refrigerator</td>\n",
       "      <td>refrigerating</td>\n",
       "      <td>refrigerating</td>\n",
       "      <td>NaN</td>\n",
       "    </tr>\n",
       "    <tr>\n",
       "      <th>8</th>\n",
       "      <td>en/dining_table</td>\n",
       "      <td>eating_meal</td>\n",
       "      <td>eating meal</td>\n",
       "      <td>NaN</td>\n",
       "    </tr>\n",
       "    <tr>\n",
       "      <th>9</th>\n",
       "      <td>en/cupboard</td>\n",
       "      <td>store_crockery</td>\n",
       "      <td>store crockery</td>\n",
       "      <td>NaN</td>\n",
       "    </tr>\n",
       "    <tr>\n",
       "      <th>10</th>\n",
       "      <td>en/refrigerator</td>\n",
       "      <td>keeping_food_from_decaying_quickly</td>\n",
       "      <td>keeping food from decaying quickly</td>\n",
       "      <td>NaN</td>\n",
       "    </tr>\n",
       "    <tr>\n",
       "      <th>11</th>\n",
       "      <td>en/knife</td>\n",
       "      <td>pricking_skin</td>\n",
       "      <td>pricking skin</td>\n",
       "      <td>NaN</td>\n",
       "    </tr>\n",
       "    <tr>\n",
       "      <th>12</th>\n",
       "      <td>en/glass</td>\n",
       "      <td>holding_water</td>\n",
       "      <td>holding water</td>\n",
       "      <td>NaN</td>\n",
       "    </tr>\n",
       "    <tr>\n",
       "      <th>13</th>\n",
       "      <td>en/spoon</td>\n",
       "      <td>hang_on_nose</td>\n",
       "      <td>hang on nose</td>\n",
       "      <td>NaN</td>\n",
       "    </tr>\n",
       "    <tr>\n",
       "      <th>14</th>\n",
       "      <td>en/knife</td>\n",
       "      <td>spearing_pieces</td>\n",
       "      <td>spearing pieces</td>\n",
       "      <td>NaN</td>\n",
       "    </tr>\n",
       "    <tr>\n",
       "      <th>15</th>\n",
       "      <td>en/knife</td>\n",
       "      <td>taking_off_ends</td>\n",
       "      <td>taking off ends</td>\n",
       "      <td>NaN</td>\n",
       "    </tr>\n",
       "    <tr>\n",
       "      <th>16</th>\n",
       "      <td>en/knife</td>\n",
       "      <td>gashing</td>\n",
       "      <td>gashing</td>\n",
       "      <td>NaN</td>\n",
       "    </tr>\n",
       "    <tr>\n",
       "      <th>17</th>\n",
       "      <td>en/knife</td>\n",
       "      <td>prying_things_out</td>\n",
       "      <td>prying things out</td>\n",
       "      <td>NaN</td>\n",
       "    </tr>\n",
       "    <tr>\n",
       "      <th>18</th>\n",
       "      <td>en/knife</td>\n",
       "      <td>prying_open</td>\n",
       "      <td>prying open</td>\n",
       "      <td>NaN</td>\n",
       "    </tr>\n",
       "    <tr>\n",
       "      <th>19</th>\n",
       "      <td>en/dining_table</td>\n",
       "      <td>leave_messages</td>\n",
       "      <td>leave messages</td>\n",
       "      <td>NaN</td>\n",
       "    </tr>\n",
       "    <tr>\n",
       "      <th>20</th>\n",
       "      <td>en/fork</td>\n",
       "      <td>eat_meal</td>\n",
       "      <td>eat meal</td>\n",
       "      <td>NaN</td>\n",
       "    </tr>\n",
       "    <tr>\n",
       "      <th>21</th>\n",
       "      <td>en/glass</td>\n",
       "      <td>drink_from</td>\n",
       "      <td>drink from</td>\n",
       "      <td>NaN</td>\n",
       "    </tr>\n",
       "    <tr>\n",
       "      <th>22</th>\n",
       "      <td>en/dining_table</td>\n",
       "      <td>family_meetings</td>\n",
       "      <td>family meetings</td>\n",
       "      <td>NaN</td>\n",
       "    </tr>\n",
       "    <tr>\n",
       "      <th>23</th>\n",
       "      <td>en/knife</td>\n",
       "      <td>killing</td>\n",
       "      <td>killing</td>\n",
       "      <td>NaN</td>\n",
       "    </tr>\n",
       "    <tr>\n",
       "      <th>24</th>\n",
       "      <td>en/spoon</td>\n",
       "      <td>eat_yogurt</td>\n",
       "      <td>eat yogurt</td>\n",
       "      <td>NaN</td>\n",
       "    </tr>\n",
       "    <tr>\n",
       "      <th>25</th>\n",
       "      <td>en/fork</td>\n",
       "      <td>eat_food</td>\n",
       "      <td>eat food</td>\n",
       "      <td>NaN</td>\n",
       "    </tr>\n",
       "    <tr>\n",
       "      <th>26</th>\n",
       "      <td>en/knife</td>\n",
       "      <td>pare_apple</td>\n",
       "      <td>pare apple</td>\n",
       "      <td>NaN</td>\n",
       "    </tr>\n",
       "    <tr>\n",
       "      <th>27</th>\n",
       "      <td>en/glass</td>\n",
       "      <td>drink_margaritas_out_of</td>\n",
       "      <td>drink margaritas out of</td>\n",
       "      <td>NaN</td>\n",
       "    </tr>\n",
       "    <tr>\n",
       "      <th>28</th>\n",
       "      <td>en/knife</td>\n",
       "      <td>scoring</td>\n",
       "      <td>scoring</td>\n",
       "      <td>NaN</td>\n",
       "    </tr>\n",
       "    <tr>\n",
       "      <th>29</th>\n",
       "      <td>en/knife</td>\n",
       "      <td>fighting</td>\n",
       "      <td>fighting</td>\n",
       "      <td>NaN</td>\n",
       "    </tr>\n",
       "    <tr>\n",
       "      <th>30</th>\n",
       "      <td>en/dining_table</td>\n",
       "      <td>laying_with_cutlery</td>\n",
       "      <td>laying with cutlery</td>\n",
       "      <td>NaN</td>\n",
       "    </tr>\n",
       "    <tr>\n",
       "      <th>31</th>\n",
       "      <td>en/knife</td>\n",
       "      <td>cutting_string</td>\n",
       "      <td>cutting string</td>\n",
       "      <td>NaN</td>\n",
       "    </tr>\n",
       "    <tr>\n",
       "      <th>32</th>\n",
       "      <td>en/spoon</td>\n",
       "      <td>eating_ice_cream</td>\n",
       "      <td>eating ice cream</td>\n",
       "      <td>NaN</td>\n",
       "    </tr>\n",
       "    <tr>\n",
       "      <th>33</th>\n",
       "      <td>en/knife</td>\n",
       "      <td>digging</td>\n",
       "      <td>digging</td>\n",
       "      <td>NaN</td>\n",
       "    </tr>\n",
       "    <tr>\n",
       "      <th>34</th>\n",
       "      <td>en/coffee</td>\n",
       "      <td>waking_up_in_morning</td>\n",
       "      <td>waking up in morning</td>\n",
       "      <td>NaN</td>\n",
       "    </tr>\n",
       "    <tr>\n",
       "      <th>35</th>\n",
       "      <td>en/knife</td>\n",
       "      <td>tool_in_shop</td>\n",
       "      <td>tool in shop</td>\n",
       "      <td>NaN</td>\n",
       "    </tr>\n",
       "    <tr>\n",
       "      <th>36</th>\n",
       "      <td>en/cupboard</td>\n",
       "      <td>storing_bones</td>\n",
       "      <td>storing bones</td>\n",
       "      <td>NaN</td>\n",
       "    </tr>\n",
       "    <tr>\n",
       "      <th>37</th>\n",
       "      <td>en/knife</td>\n",
       "      <td>attaching_to_rifle</td>\n",
       "      <td>attaching to rifle</td>\n",
       "      <td>NaN</td>\n",
       "    </tr>\n",
       "    <tr>\n",
       "      <th>38</th>\n",
       "      <td>en/fork</td>\n",
       "      <td>holding_food</td>\n",
       "      <td>holding food</td>\n",
       "      <td>NaN</td>\n",
       "    </tr>\n",
       "    <tr>\n",
       "      <th>39</th>\n",
       "      <td>en/refrigerator</td>\n",
       "      <td>keeping_food</td>\n",
       "      <td>keeping food</td>\n",
       "      <td>NaN</td>\n",
       "    </tr>\n",
       "    <tr>\n",
       "      <th>40</th>\n",
       "      <td>en/refrigerator</td>\n",
       "      <td>keeping_vegetables_crisp</td>\n",
       "      <td>keeping vegetables crisp</td>\n",
       "      <td>NaN</td>\n",
       "    </tr>\n",
       "    <tr>\n",
       "      <th>41</th>\n",
       "      <td>en/cupboard</td>\n",
       "      <td>giving_things_home</td>\n",
       "      <td>giving things home</td>\n",
       "      <td>NaN</td>\n",
       "    </tr>\n",
       "    <tr>\n",
       "      <th>42</th>\n",
       "      <td>en/knife</td>\n",
       "      <td>prying_things_open</td>\n",
       "      <td>prying things open</td>\n",
       "      <td>NaN</td>\n",
       "    </tr>\n",
       "    <tr>\n",
       "      <th>43</th>\n",
       "      <td>en/knife</td>\n",
       "      <td>boning</td>\n",
       "      <td>boning</td>\n",
       "      <td>NaN</td>\n",
       "    </tr>\n",
       "    <tr>\n",
       "      <th>44</th>\n",
       "      <td>en/knife</td>\n",
       "      <td>military_purposes</td>\n",
       "      <td>military purposes</td>\n",
       "      <td>NaN</td>\n",
       "    </tr>\n",
       "    <tr>\n",
       "      <th>45</th>\n",
       "      <td>en/glass</td>\n",
       "      <td>holding_liquids</td>\n",
       "      <td>holding liquids</td>\n",
       "      <td>NaN</td>\n",
       "    </tr>\n",
       "    <tr>\n",
       "      <th>46</th>\n",
       "      <td>en/knife</td>\n",
       "      <td>unraveling</td>\n",
       "      <td>unraveling</td>\n",
       "      <td>NaN</td>\n",
       "    </tr>\n",
       "    <tr>\n",
       "      <th>47</th>\n",
       "      <td>en/refrigerator</td>\n",
       "      <td>keeping_food_cool</td>\n",
       "      <td>keeping food cool</td>\n",
       "      <td>NaN</td>\n",
       "    </tr>\n",
       "    <tr>\n",
       "      <th>48</th>\n",
       "      <td>en/knife</td>\n",
       "      <td>kill_person</td>\n",
       "      <td>kill person</td>\n",
       "      <td>NaN</td>\n",
       "    </tr>\n",
       "    <tr>\n",
       "      <th>49</th>\n",
       "      <td>en/cupboard</td>\n",
       "      <td>keeping_things_clean</td>\n",
       "      <td>keeping things clean</td>\n",
       "      <td>NaN</td>\n",
       "    </tr>\n",
       "  </tbody>\n",
       "</table>\n",
       "</div>"
      ],
      "text/plain": [
       "           entities                             usage_o  \\\n",
       "0          en/spoon                       scooping_food   \n",
       "1          en/apple               representing_knowlege   \n",
       "2          en/knife                       letting_blood   \n",
       "3          en/knife                        cutting_meat   \n",
       "4   en/dining_table                         eat_dinnner   \n",
       "5          en/knife                              disect   \n",
       "6       en/cupboard         store_christmas_decorations   \n",
       "7   en/refrigerator                       refrigerating   \n",
       "8   en/dining_table                         eating_meal   \n",
       "9       en/cupboard                      store_crockery   \n",
       "10  en/refrigerator  keeping_food_from_decaying_quickly   \n",
       "11         en/knife                       pricking_skin   \n",
       "12         en/glass                       holding_water   \n",
       "13         en/spoon                        hang_on_nose   \n",
       "14         en/knife                     spearing_pieces   \n",
       "15         en/knife                     taking_off_ends   \n",
       "16         en/knife                             gashing   \n",
       "17         en/knife                   prying_things_out   \n",
       "18         en/knife                         prying_open   \n",
       "19  en/dining_table                      leave_messages   \n",
       "20          en/fork                            eat_meal   \n",
       "21         en/glass                          drink_from   \n",
       "22  en/dining_table                     family_meetings   \n",
       "23         en/knife                             killing   \n",
       "24         en/spoon                          eat_yogurt   \n",
       "25          en/fork                            eat_food   \n",
       "26         en/knife                          pare_apple   \n",
       "27         en/glass             drink_margaritas_out_of   \n",
       "28         en/knife                             scoring   \n",
       "29         en/knife                            fighting   \n",
       "30  en/dining_table                 laying_with_cutlery   \n",
       "31         en/knife                      cutting_string   \n",
       "32         en/spoon                    eating_ice_cream   \n",
       "33         en/knife                             digging   \n",
       "34        en/coffee                waking_up_in_morning   \n",
       "35         en/knife                        tool_in_shop   \n",
       "36      en/cupboard                       storing_bones   \n",
       "37         en/knife                  attaching_to_rifle   \n",
       "38          en/fork                        holding_food   \n",
       "39  en/refrigerator                        keeping_food   \n",
       "40  en/refrigerator            keeping_vegetables_crisp   \n",
       "41      en/cupboard                  giving_things_home   \n",
       "42         en/knife                  prying_things_open   \n",
       "43         en/knife                              boning   \n",
       "44         en/knife                   military_purposes   \n",
       "45         en/glass                     holding_liquids   \n",
       "46         en/knife                          unraveling   \n",
       "47  en/refrigerator                   keeping_food_cool   \n",
       "48         en/knife                         kill_person   \n",
       "49      en/cupboard                keeping_things_clean   \n",
       "\n",
       "                     usage_phrase_list aff_class  \n",
       "0                        scooping food       NaN  \n",
       "1                representing knowlege       NaN  \n",
       "2                        letting blood       NaN  \n",
       "3                         cutting meat       NaN  \n",
       "4                          eat dinnner       NaN  \n",
       "5                               disect       NaN  \n",
       "6          store christmas decorations       NaN  \n",
       "7                        refrigerating       NaN  \n",
       "8                          eating meal       NaN  \n",
       "9                       store crockery       NaN  \n",
       "10  keeping food from decaying quickly       NaN  \n",
       "11                       pricking skin       NaN  \n",
       "12                       holding water       NaN  \n",
       "13                        hang on nose       NaN  \n",
       "14                     spearing pieces       NaN  \n",
       "15                     taking off ends       NaN  \n",
       "16                             gashing       NaN  \n",
       "17                   prying things out       NaN  \n",
       "18                         prying open       NaN  \n",
       "19                      leave messages       NaN  \n",
       "20                            eat meal       NaN  \n",
       "21                          drink from       NaN  \n",
       "22                     family meetings       NaN  \n",
       "23                             killing       NaN  \n",
       "24                          eat yogurt       NaN  \n",
       "25                            eat food       NaN  \n",
       "26                          pare apple       NaN  \n",
       "27             drink margaritas out of       NaN  \n",
       "28                             scoring       NaN  \n",
       "29                            fighting       NaN  \n",
       "30                 laying with cutlery       NaN  \n",
       "31                      cutting string       NaN  \n",
       "32                    eating ice cream       NaN  \n",
       "33                             digging       NaN  \n",
       "34                waking up in morning       NaN  \n",
       "35                        tool in shop       NaN  \n",
       "36                       storing bones       NaN  \n",
       "37                  attaching to rifle       NaN  \n",
       "38                        holding food       NaN  \n",
       "39                        keeping food       NaN  \n",
       "40            keeping vegetables crisp       NaN  \n",
       "41                  giving things home       NaN  \n",
       "42                  prying things open       NaN  \n",
       "43                              boning       NaN  \n",
       "44                   military purposes       NaN  \n",
       "45                     holding liquids       NaN  \n",
       "46                          unraveling       NaN  \n",
       "47                   keeping food cool       NaN  \n",
       "48                         kill person       NaN  \n",
       "49                keeping things clean       NaN  "
      ]
     },
     "execution_count": 41,
     "metadata": {},
     "output_type": "execute_result"
    }
   ],
   "source": [
    "# create Actions from cnr:UsedFor using SpaCy\n",
    "aff_df = pd.DataFrame(columns=['entities', 'usage_o', 'usage_phrase_list', 'aff_class'])\n",
    "\n",
    "# lists to store df values\n",
    "entities = []\n",
    "usages = []\n",
    "usage_phrase_list = []\n",
    "\n",
    "# iterate through graph triples with UsedFor relation\n",
    "# Object values are the usages that will be actions and their VERB will be subclasses of affordances\n",
    "for s,p,o in merged_g.triples( (None, cnr_ns.UsedFor, None) ):\n",
    "#     print(s,p,o)\n",
    "    usages.append(o[30:])\n",
    "    entities.append(s[27:])\n",
    "#     print(s[27:])\n",
    "    usage_phrase = ' '.join(o[30:].split('_'))\n",
    "    usage_phrase_list.append(usage_phrase)\n",
    "\n",
    "# fill df\n",
    "aff_df.entities = entities\n",
    "aff_df.usage_o = usages\n",
    "aff_df.usage_phrase_list = usage_phrase_list\n",
    "aff_df.head(50)"
   ]
  },
  {
   "cell_type": "code",
   "execution_count": 42,
   "metadata": {},
   "outputs": [],
   "source": [
    "def get_aff_subclass(text):\n",
    "    \"\"\"\n",
    "    Determines the affordance action from the object value of the cnr:UsedFor triples. \n",
    "    Args:\n",
    "        text: value in dataframe cell\n",
    "    Returns:\n",
    "        action (str): action value that will be a subclass of Affordance\n",
    "    \"\"\"\n",
    "    verb_exists = False\n",
    "    words = []\n",
    "    pos = []\n",
    "    tokens = []\n",
    "    doc = nlp(text)\n",
    "    for tok in doc:\n",
    "        word = tok.text\n",
    "        pos_ = tok.pos_\n",
    "        tokens.append(tok)\n",
    "        words.append(word)\n",
    "        pos.append(pos_)\n",
    "        \n",
    "    if \"VERB\" in pos:\n",
    "        pos_index = pos.index(\"VERB\")\n",
    "        verb_word = words[pos_index]\n",
    "        verb_exists = True\n",
    "    else:\n",
    "        action = None\n",
    "    \n",
    "    if verb_exists:\n",
    "        if verb_word[-3:] == 'ing':\n",
    "            action = verb_word.capitalize()\n",
    "        else:\n",
    "            action = verb_word.capitalize() +'ing'\n",
    "    \n",
    "    return action"
   ]
  },
  {
   "cell_type": "code",
   "execution_count": 43,
   "metadata": {},
   "outputs": [],
   "source": [
    "# apply the function to the df\n",
    "aff_df['aff_class'] = aff_df['usage_phrase_list'].apply(get_aff_subclass)"
   ]
  },
  {
   "cell_type": "code",
   "execution_count": 44,
   "metadata": {
    "scrolled": true
   },
   "outputs": [
    {
     "data": {
      "text/plain": [
       "{'Arranging',\n",
       " 'Attaching',\n",
       " 'Attacking',\n",
       " 'Breaking',\n",
       " 'Carving',\n",
       " 'Causing',\n",
       " 'Chilling',\n",
       " 'Chopping',\n",
       " 'Complementing',\n",
       " 'Completing',\n",
       " 'Conserving',\n",
       " 'Consuming',\n",
       " 'Cooling',\n",
       " 'Counting',\n",
       " 'Cracking',\n",
       " 'Cuting',\n",
       " 'Cutting',\n",
       " 'Decorating',\n",
       " 'Digging',\n",
       " 'Dishing',\n",
       " 'Dividing',\n",
       " 'Doing',\n",
       " 'Drinking',\n",
       " 'Eating',\n",
       " 'Engraving',\n",
       " 'Enjoying',\n",
       " 'Entertaining',\n",
       " 'Extending',\n",
       " 'Fighting',\n",
       " 'Flinging',\n",
       " 'Freezing',\n",
       " 'Gashing',\n",
       " 'Getting',\n",
       " 'Giving',\n",
       " 'Gouging',\n",
       " 'Hanging',\n",
       " 'Having',\n",
       " 'Holding',\n",
       " 'Illustrating',\n",
       " 'Keeping',\n",
       " 'Killing',\n",
       " 'Laying',\n",
       " 'Leaveing',\n",
       " 'Leaving',\n",
       " 'Letting',\n",
       " 'Lifting',\n",
       " 'Living',\n",
       " 'Makeing',\n",
       " 'Making',\n",
       " 'Measuring',\n",
       " 'Mixing',\n",
       " 'Moving',\n",
       " None,\n",
       " 'Pareing',\n",
       " 'Paring',\n",
       " 'Peeling',\n",
       " 'Picking',\n",
       " 'Piercing',\n",
       " 'Placing',\n",
       " 'Playing',\n",
       " 'Posting',\n",
       " 'Preserving',\n",
       " 'Preventing',\n",
       " 'Pricking',\n",
       " 'Providing',\n",
       " 'Prying',\n",
       " 'Putting',\n",
       " 'Refrigerating',\n",
       " 'Removing',\n",
       " 'Representing',\n",
       " 'Ripping',\n",
       " 'Saving',\n",
       " 'Scooping',\n",
       " 'Scoring',\n",
       " 'Scratching',\n",
       " 'Seeing',\n",
       " 'Separating',\n",
       " 'Serving',\n",
       " 'Severing',\n",
       " 'Sitting',\n",
       " 'Skinning',\n",
       " 'Spearing',\n",
       " 'Spreading',\n",
       " 'Stacking',\n",
       " 'Staying',\n",
       " 'Stiring',\n",
       " 'Stirring',\n",
       " 'Storeing',\n",
       " 'Storing',\n",
       " 'Taking',\n",
       " 'Tempting',\n",
       " 'Threatening',\n",
       " 'Transporting',\n",
       " 'Trimming',\n",
       " 'Turning',\n",
       " 'Unraveling',\n",
       " 'Waking',\n",
       " 'Working'}"
      ]
     },
     "execution_count": 44,
     "metadata": {},
     "output_type": "execute_result"
    }
   ],
   "source": [
    "# check if there are any mispellings with the affordances created\n",
    "affs = set(aff_df['aff_class'].to_list())\n",
    "affs"
   ]
  },
  {
   "cell_type": "code",
   "execution_count": 45,
   "metadata": {
    "scrolled": true
   },
   "outputs": [],
   "source": [
    "def filter_col(text):\n",
    "    \"\"\"\n",
    "    For the action affordances determined, filter out specific words that resulted with typos.\n",
    "    \"\"\"            \n",
    "    edit_out = ['Storeing', 'Stiring', 'Runing', 'Pareing', 'Serveding', 'Leaveing', 'Makeing', 'Cuting', 'Leaveing', 'Storeing']\n",
    "    edit_in = ['Storing', 'Stirring', 'Running', 'Paring', 'Serving', 'Leaving', 'Making', 'Cutting', 'Leaving', 'Storing']\n",
    "    \n",
    "    if text in edit_out:\n",
    "        index = edit_out.index(text)\n",
    "        new_text = edit_in[index]\n",
    "        return new_text\n",
    "    else:\n",
    "        return text\n",
    "        \n",
    "# apply the function to the df\n",
    "aff_df['aff_class'] = aff_df['aff_class'].apply(filter_col)           "
   ]
  },
  {
   "cell_type": "code",
   "execution_count": 46,
   "metadata": {},
   "outputs": [],
   "source": [
    "aff_df.to_csv('test.csv')"
   ]
  },
  {
   "cell_type": "code",
   "execution_count": 47,
   "metadata": {
    "scrolled": true
   },
   "outputs": [],
   "source": [
    "# create the desired triples for the graph\n",
    "\n",
    "# < affordance subclass, rdfs:subClassOf, aff:Affordance >\n",
    "action_affs = aff_df.aff_class.to_list()\n",
    "action_affs_set = set(action_affs)\n",
    "action_affs_set.remove(None)\n",
    "for aff in action_affs_set:\n",
    "    merged_g.add( (aff_ns[URIRef(aff)], RDFS.subClassOf, aff_ns.Affordance) )\n",
    "\n",
    "for index, row in aff_df.iterrows():\n",
    "    # < UsedFor object, a, aff:Action >\n",
    "    merged_g.add( (cnc_ns['en/' + row['usage_o']], RDF.type, aff_ns.Action) )\n",
    "    merged_g.add( (cnc_ns[row['entities']], aff_ns.potential_action, cnc_ns['en/' + row['usage_o']]) )\n",
    "    # < UsedFor object, a, Affordance Subclass >\n",
    "    if row['aff_class'] == None:\n",
    "        continue\n",
    "    else:\n",
    "        merged_g.add( (cnc_ns['en/' + row['usage_o']], aff_ns.action_affordance, aff_ns[row['aff_class']]) )\n",
    "        merged_g.add( (cnc_ns[row['entities']], aff_ns.affords, aff_ns[row['aff_class']]) )\n",
    "#         print((cnc_ns[row['entities']], aff_ns.affords, aff_ns[row['aff_class']]))\n",
    "#         print(aff_ns[row['aff_class']])\n",
    "    "
   ]
  },
  {
   "cell_type": "code",
   "execution_count": 48,
   "metadata": {},
   "outputs": [
    {
     "data": {
      "text/plain": [
       "92"
      ]
     },
     "execution_count": 48,
     "metadata": {},
     "output_type": "execute_result"
    }
   ],
   "source": [
    "len(set(list(aff_df.aff_class)))"
   ]
  },
  {
   "cell_type": "code",
   "execution_count": 49,
   "metadata": {},
   "outputs": [
    {
     "data": {
      "text/plain": [
       "2597"
      ]
     },
     "execution_count": 49,
     "metadata": {},
     "output_type": "execute_result"
    }
   ],
   "source": [
    "len(merged_g)"
   ]
  },
  {
   "cell_type": "markdown",
   "metadata": {},
   "source": [
    "#### Relation: _cnr:ReceivesAction_ --> removing these triples because other relations give similar information"
   ]
  },
  {
   "cell_type": "code",
   "execution_count": 50,
   "metadata": {},
   "outputs": [],
   "source": [
    "for s,p,o in merged_g.triples( (None, cnr_ns.ReceivesAction, None) ):\n",
    "    merged_g.remove( (cnc_ns[s[27:]], cnr_ns.ReceivesAction, cnc_ns[o[27:]]) )"
   ]
  },
  {
   "cell_type": "markdown",
   "metadata": {},
   "source": [
    "#### Relation: _cnr:MadeOf_ --> only keep triples in which the subject of the triple is an instance of the BFT onto"
   ]
  },
  {
   "cell_type": "code",
   "execution_count": 51,
   "metadata": {},
   "outputs": [],
   "source": [
    "instances = ['milk', 'apple', 'lemon', 'refrigerator', 'coffee', 'croissant', 'garnish', 'hardboiled_egg', 'scrambled_egg', 'fried_egg', 'orange_juice', 'apple_juice', 'butter', 'salt_shaker', 'pepper_shaker', 'bread_basket', 'egg_cup', 'milk_pitcher', 'fork', 'knife', 'spoon', 'butter_knife', 'glass', 'teacup', 'sauce_dish', 'butter_dish', 'bread_plate', 'teacup_plate', 'dining_table', 'dining_chair', 'cupboard']"
   ]
  },
  {
   "cell_type": "code",
   "execution_count": 52,
   "metadata": {},
   "outputs": [
    {
     "data": {
      "text/plain": [
       "31"
      ]
     },
     "execution_count": 52,
     "metadata": {},
     "output_type": "execute_result"
    }
   ],
   "source": [
    "len(instances)"
   ]
  },
  {
   "cell_type": "code",
   "execution_count": 53,
   "metadata": {},
   "outputs": [],
   "source": [
    "for s,p,o in merged_g.triples( (None, cnr_ns.MadeOf, None) ):\n",
    "    if s[30:] not in instances:\n",
    "        merged_g.remove( (cnc_ns[s[27:]], cnr_ns.MadeOf, cnc_ns[o[27:]]) )"
   ]
  },
  {
   "cell_type": "markdown",
   "metadata": {},
   "source": [
    "#### Relation: _cnr:PartOf_ --> remove triples about glass because they are not very relevant to the kitchen domain"
   ]
  },
  {
   "cell_type": "code",
   "execution_count": 54,
   "metadata": {},
   "outputs": [],
   "source": [
    "for s,p,o in merged_g.triples( (None, cnr_ns.PartOf, None) ):\n",
    "    if \"glass\" in s[30:]:\n",
    "        merged_g.remove( (cnc_ns[s[27:]], cnr_ns.PartOf, cnc_ns[o[27:]]) )"
   ]
  },
  {
   "cell_type": "markdown",
   "metadata": {},
   "source": [
    "#### Relation: _cnr:HasPrequisite_ --> allocate 'A' in cnr:HasPrerequisite to a instance of aff:Action"
   ]
  },
  {
   "cell_type": "code",
   "execution_count": 55,
   "metadata": {},
   "outputs": [],
   "source": [
    "action_classes = set()\n",
    "actions = []\n",
    "for s,p,o in merged_g.triples( (None, cnr_ns.HasPrerequisite, None) ):\n",
    "    action_verb = s[30:].split('_')\n",
    "    action_aff = action_verb[0]\n",
    "    action_aff_uri = URIRef(action_aff.capitalize())\n",
    "#     print(action_aff)\n",
    "    merged_g.add( (cnc_ns[s[27:]], RDF.type, aff_ns.Action) )\n",
    "#     print((cnc_ns[s[27:]], RDF.type, aff_ns.Action))\n",
    "    merged_g.add( (aff_ns[action_aff_uri], RDFS.subClassOf, aff_ns.Affordance) )\n",
    "    merged_g.add( (cnc_ns[s[27:]], RDF.type, aff_ns[action_aff_uri]) )\n",
    "    merged_g.add( (cnc_ns[o[27:]], aff_ns.potential_action, cnc_ns[s[27:]]) )\n",
    "#     print((cnc_ns[o[27:]], aff_ns.potential_action, cnc_ns[s[27:]]))\n",
    "#     print(s[27:])\n",
    "    \n",
    "#     print((cnc_ns[s[27:]], RDF.type, aff_ns[action_aff_uri]) )\n"
   ]
  },
  {
   "cell_type": "code",
   "execution_count": 56,
   "metadata": {},
   "outputs": [
    {
     "data": {
      "text/plain": [
       "2562"
      ]
     },
     "execution_count": 56,
     "metadata": {},
     "output_type": "execute_result"
    }
   ],
   "source": [
    "len(merged_g)"
   ]
  },
  {
   "cell_type": "markdown",
   "metadata": {},
   "source": [
    "## Linking CN Concepts with BFT ontology"
   ]
  },
  {
   "cell_type": "code",
   "execution_count": 57,
   "metadata": {},
   "outputs": [],
   "source": [
    "# distinct_s = cn_g.query(\n",
    "# \"\"\"\n",
    "# prefix cn: <http://api.conceptnet.io/> \n",
    "# prefix cnc: <http://api.conceptnet.io/c/> \n",
    "# prefix cnr: <http://api.conceptnet.io/r/> \n",
    "# prefix rdf: <http://www.w3.org/1999/02/22-rdf-syntax-ns#>\n",
    "# prefix rdfs: <http://www.w3.org/2000/01/rdf-schema#> \n",
    "# prefix wi: <http://purl.org/ontology/wi/core#> \n",
    "# prefix xml: <http://www.w3.org/XML/1998/namespace> \n",
    "# prefix xsd: <http://www.w3.org/2001/XMLSchema#>\n",
    "\n",
    "# SELECT distinct ?s WHERE { \n",
    "#   ?s a rdfs:Resource. \n",
    "#   ?assertion rdf:subject ?s;\n",
    "#              rdf:predicate ?p.\n",
    "#   FILTER(! (?p = cnr:ExternalURL) )\n",
    "# }\n",
    "# \"\"\")\n",
    "# len(distinct_s)"
   ]
  },
  {
   "cell_type": "code",
   "execution_count": 58,
   "metadata": {},
   "outputs": [
    {
     "data": {
      "text/plain": [
       "492"
      ]
     },
     "execution_count": 58,
     "metadata": {},
     "output_type": "execute_result"
    }
   ],
   "source": [
    "distinct_s = cn_g.query(\n",
    "\"\"\"\n",
    "prefix cn: <http://api.conceptnet.io/> \n",
    "prefix cnc: <http://api.conceptnet.io/c/> \n",
    "prefix cnr: <http://api.conceptnet.io/r/> \n",
    "prefix rdf: <http://www.w3.org/1999/02/22-rdf-syntax-ns#>\n",
    "prefix rdfs: <http://www.w3.org/2000/01/rdf-schema#> \n",
    "prefix wi: <http://purl.org/ontology/wi/core#> \n",
    "prefix xml: <http://www.w3.org/XML/1998/namespace> \n",
    "prefix xsd: <http://www.w3.org/2001/XMLSchema#>\n",
    "\n",
    "SELECT distinct ?s WHERE { \n",
    "  ?s ?p ?o.\n",
    "  FILTER(! (?p = cnr:ExternalURL) )\n",
    "}\n",
    "\"\"\")\n",
    "len(distinct_s)"
   ]
  },
  {
   "cell_type": "code",
   "execution_count": 59,
   "metadata": {},
   "outputs": [
    {
     "data": {
      "text/plain": [
       "744"
      ]
     },
     "execution_count": 59,
     "metadata": {},
     "output_type": "execute_result"
    }
   ],
   "source": [
    "distinct_o = cn_g.query(\n",
    "\"\"\"\n",
    "prefix cnr: <http://api.conceptnet.io/r/> \n",
    "prefix rdf: <http://www.w3.org/1999/02/22-rdf-syntax-ns#>\n",
    "prefix rdfs: <http://www.w3.org/2000/01/rdf-schema#> \n",
    "prefix wi: <http://purl.org/ontology/wi/core#> \n",
    "prefix xml: <http://www.w3.org/XML/1998/namespace> \n",
    "prefix xsd: <http://www.w3.org/2001/XMLSchema#>\n",
    "\n",
    "SELECT distinct ?o WHERE { \n",
    "  ?s ?p ?o.\n",
    "  FILTER(! (?p = cnr:ExternalURL) )\n",
    "}\n",
    "\"\"\")\n",
    "len(distinct_o)"
   ]
  },
  {
   "cell_type": "markdown",
   "metadata": {},
   "source": [
    "### Levenshtein Distance to compare strings"
   ]
  },
  {
   "cell_type": "code",
   "execution_count": 60,
   "metadata": {},
   "outputs": [],
   "source": [
    "# Levenshtein\n",
    "# import the enchant module \n",
    "import enchant "
   ]
  },
  {
   "cell_type": "code",
   "execution_count": 61,
   "metadata": {
    "scrolled": true
   },
   "outputs": [
    {
     "name": "stdout",
     "output_type": "stream",
     "text": [
      "41\n"
     ]
    }
   ],
   "source": [
    "# subject case\n",
    "c=0\n",
    "with open('test_s.txt', 'w') as file:\n",
    "    for i in instances:\n",
    "        str1 = i\n",
    "        for r in distinct_s:\n",
    "            str2 = r.s[30:]\n",
    "#             print(str1, str2)\n",
    "            dist = enchant.utils.levenshtein(str1, str2)\n",
    "            ratio = ((len(str1)+len(str2)) - dist) / (len(str1)+len(str2))\n",
    "            if ratio > 0.83:\n",
    "                c +=1\n",
    "                file.write(f'{str(ratio)} -- {i} -- {r.s[30:]}\\n')\n",
    "#                 print(cnc_ns[r.s[32:]])\n",
    "                merged_g.add( (URIRef(f'http://test.org/bft.owl#{i}'), OWL.sameAs, cnc_ns[r.s[27:]]))\n",
    "#                 print(cnc_ns[r.s[27:]])\n",
    "print(c)"
   ]
  },
  {
   "cell_type": "code",
   "execution_count": 62,
   "metadata": {
    "scrolled": true
   },
   "outputs": [
    {
     "name": "stdout",
     "output_type": "stream",
     "text": [
      "23\n"
     ]
    }
   ],
   "source": [
    "# object case\n",
    "c1=0\n",
    "with open('test_o.txt', 'w') as file:\n",
    "    for i in instances:\n",
    "        str1 = i\n",
    "        for r in distinct_o:\n",
    "#             print(str1, str2)\n",
    "            str2 = r.o[30:]\n",
    "            dist = enchant.utils.levenshtein(str1, str2)\n",
    "            ratio = ((len(str1)+len(str2)) - dist) / (len(str1)+len(str2))\n",
    "            if ratio > 0.83:\n",
    "                c1 += 1\n",
    "                file.write(f'{str(ratio)} -- {i} -- {r.o[30:]}\\n')\n",
    "                merged_g.add( (URIRef(f'http://test.org/bft.owl#{i}'), OWL.sameAs, cnc_ns[r.o[27:]]))\n",
    "#                 print(cnc_ns[r.o[27:]])\n",
    "print(c1)"
   ]
  },
  {
   "cell_type": "code",
   "execution_count": 63,
   "metadata": {
    "scrolled": true
   },
   "outputs": [
    {
     "name": "stdout",
     "output_type": "stream",
     "text": [
      "30\n"
     ]
    }
   ],
   "source": [
    "# exact match of string matching (comparing how this works against the Levenshtein method)\n",
    "cnt = 0\n",
    "for i in instances:\n",
    "    for r in distinct_s:\n",
    "#         print(i, r.s[30:])\n",
    "        if i == str(r.s[30:]):\n",
    "            cnt +=1\n",
    "    for r in distinct_o:\n",
    "#         print(i, r.o)\n",
    "        if i == str(r.o[30:]):\n",
    "            cnt +=1\n",
    "print(cnt)"
   ]
  },
  {
   "cell_type": "markdown",
   "metadata": {},
   "source": [
    "Observe that more links are created through the Levenshtein algorithm compared to the exact string match."
   ]
  },
  {
   "cell_type": "code",
   "execution_count": 64,
   "metadata": {},
   "outputs": [
    {
     "data": {
      "text/plain": [
       "2609"
      ]
     },
     "execution_count": 64,
     "metadata": {},
     "output_type": "execute_result"
    }
   ],
   "source": [
    "len(merged_g)"
   ]
  },
  {
   "cell_type": "markdown",
   "metadata": {},
   "source": [
    "Observe that 67 triples are added to the graph after linking CN graph to base graph. "
   ]
  },
  {
   "cell_type": "markdown",
   "metadata": {},
   "source": [
    "### Create closeMatch links"
   ]
  },
  {
   "cell_type": "code",
   "execution_count": 65,
   "metadata": {},
   "outputs": [],
   "source": [
    "# links instances following that the instance string is in the response string\n",
    "# eg. if instance is 'croissant' and the repsonse is 'butter_croissant', it would be a match\n",
    "\n",
    "same_as_objects = []\n",
    "for s,p,o in merged_g.triples( (None, OWL.sameAs, None) ):\n",
    "#     print(s,p,o)\n",
    "    same_as_objects.append(o[30:])\n",
    "#     print(o[30:])\n",
    "\n",
    "with open('test_contains.txt', 'w') as file:  # Use file to refer to the file object\n",
    "    for i in instances:\n",
    "        for r in distinct_s:\n",
    "#             print(r.s[30:])\n",
    "            s_concept = str(r.s[30:])\n",
    "            if i in s_concept:\n",
    "                if s_concept in same_as_objects:\n",
    "                    continue\n",
    "                else:\n",
    "                    file.write(f'{i} ------- {str(r.s)}\\n')\n",
    "                    merged_g.add( (URIRef(f'http://test.org/bft.owl#{i}'), skos_ns.closeMatch, cnc_ns[r.s[30:]]) ) \n",
    "        for r in distinct_o:\n",
    "            o_concept = str(r.o[30:])\n",
    "            if i in o_concept:\n",
    "                if o_concept in same_as_objects:\n",
    "                    continue\n",
    "                else:\n",
    "                    file.write(f'{i} ------- {str(r.o)}\\n')\n",
    "                    merged_g.add( (URIRef(f'http://test.org/bft.owl#{i}'), skos_ns.closeMatch, cnc_ns[r.o[30:]]) )\n",
    "    \n",
    "# if the triple exists with that subject, then continue because there is an owlsameas triple of the instnace, else make the triple with skos. "
   ]
  },
  {
   "cell_type": "code",
   "execution_count": 66,
   "metadata": {},
   "outputs": [],
   "source": [
    "affords_q = merged_g.query(\n",
    "\"\"\"\n",
    "prefix aff: <http://test.org/affordance.owl#>\n",
    "prefix cn: <http://api.conceptnet.io/> \n",
    "prefix cnc: <http://api.conceptnet.io/c/> \n",
    "prefix cnr: <http://api.conceptnet.io/r/> \n",
    "prefix rdf: <http://www.w3.org/1999/02/22-rdf-syntax-ns#>\n",
    "prefix rdfs: <http://www.w3.org/2000/01/rdf-schema#> \n",
    "prefix xml: <http://www.w3.org/XML/1998/namespace> \n",
    "prefix xsd: <http://www.w3.org/2001/XMLSchema#>\n",
    "\n",
    "select ?ke ?aff where\n",
    "{\n",
    "  ?ke aff:potential_action ?action.\n",
    "  ?action a ?aff.\n",
    "  ?aff rdfs:subClassOf aff:Affordance.}\n",
    "\n",
    "\"\"\")"
   ]
  },
  {
   "cell_type": "code",
   "execution_count": 67,
   "metadata": {},
   "outputs": [],
   "source": [
    "for row in affords_q:\n",
    "#     print(URIRef(cnc_ns[row.ke[27:]]), URIRef(aff_ns[row.aff[31:]]))\n",
    "    merged_g.add( (URIRef(cnc_ns[row.ke[27:]]), aff_ns.affords, URIRef(aff_ns[row.aff[31:]])) )"
   ]
  },
  {
   "cell_type": "markdown",
   "metadata": {},
   "source": [
    "### Serialize and save new merged graph with CN entities"
   ]
  },
  {
   "cell_type": "code",
   "execution_count": 68,
   "metadata": {},
   "outputs": [],
   "source": [
    "# first remove noisy triples\n",
    "merged_g.remove( (URIRef('http://test.org/bft.owl#fork'), OWL.sameAs, URIRef('http://api.conceptnet.io/c/en/pork')) )\n",
    "merged_g.remove( (URIRef('http://test.org/bft.owl#fork'), OWL.sameAs, URIRef('http://api.conceptnet.io/c/en/work')) )"
   ]
  },
  {
   "cell_type": "code",
   "execution_count": 69,
   "metadata": {},
   "outputs": [],
   "source": [
    "merged_g.serialize('aff_bft_cn_Final.ttl', format='turtle')"
   ]
  },
  {
   "cell_type": "code",
   "execution_count": 70,
   "metadata": {},
   "outputs": [
    {
     "data": {
      "text/plain": [
       "2842"
      ]
     },
     "execution_count": 70,
     "metadata": {},
     "output_type": "execute_result"
    }
   ],
   "source": [
    "len(merged_g)"
   ]
  },
  {
   "cell_type": "code",
   "execution_count": null,
   "metadata": {},
   "outputs": [],
   "source": []
  }
 ],
 "metadata": {
  "kernelspec": {
   "display_name": "Python 3",
   "language": "python",
   "name": "python3"
  },
  "language_info": {
   "codemirror_mode": {
    "name": "ipython",
    "version": 3
   },
   "file_extension": ".py",
   "mimetype": "text/x-python",
   "name": "python",
   "nbconvert_exporter": "python",
   "pygments_lexer": "ipython3",
   "version": "3.7.6"
  }
 },
 "nbformat": 4,
 "nbformat_minor": 4
}
