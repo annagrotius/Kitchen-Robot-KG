{
 "cells": [
  {
   "cell_type": "markdown",
   "metadata": {},
   "source": [
    "This notebook is used to analyze the effect of the Hermit reasoner used on Protege. \n",
    "\n",
    "Input files are the asserted merged graph of the bft and affordance ontologies and the file of the inferred triples from Protege of this merged graph."
   ]
  },
  {
   "cell_type": "code",
   "execution_count": 1,
   "metadata": {},
   "outputs": [],
   "source": [
    "from rdflib import Graph"
   ]
  },
  {
   "cell_type": "markdown",
   "metadata": {},
   "source": [
    "### Protege Inferred triples on ..."
   ]
  },
  {
   "cell_type": "code",
   "execution_count": null,
   "metadata": {},
   "outputs": [],
   "source": []
  },
  {
   "cell_type": "code",
   "execution_count": 4,
   "metadata": {},
   "outputs": [
    {
     "data": {
      "text/plain": [
       "<Graph identifier=N1f59eba6b28d4a92aed70d20b586b27f (<class 'rdflib.graph.Graph'>)>"
      ]
     },
     "execution_count": 4,
     "metadata": {},
     "output_type": "execute_result"
    }
   ],
   "source": [
    "asserted = Graph()\n",
    "inferred = Graph()\n",
    "closed = Graph()\n",
    "open_g = Graph()\n",
    "\n",
    "# asserted.parse(\"./graphs/bft_aff_kg.ttl\", format = \"turtle\")\n",
    "# inferred.parse(\"bft_aff_inferred.owl\", format = \"turtle\") ## from protege\n",
    "open_g.parse(\"./graphs/aff_bft_open_graph.ttl\", format = \"turtle\")\n",
    "closed.parse(\"./graphs/aff_bft_closed_graph.ttl\", format = \"turtle\")"
   ]
  },
  {
   "cell_type": "code",
   "execution_count": 5,
   "metadata": {},
   "outputs": [],
   "source": [
    "inferred_triples = [triple for triple in inferred]\n",
    "asserted_triples = [triple for triple in asserted]"
   ]
  },
  {
   "cell_type": "code",
   "execution_count": 11,
   "metadata": {},
   "outputs": [
    {
     "name": "stdout",
     "output_type": "stream",
     "text": [
      "(rdflib.term.BNode('ub3bL68C56'), rdflib.term.URIRef('http://www.w3.org/2002/07/owl#inverseOf'), rdflib.term.URIRef('http://test.org/affordance.owl#implies'))\n",
      "(rdflib.term.URIRef('http://test.org/bft.owl#used_with'), rdflib.term.URIRef('http://www.w3.org/2002/07/owl#equivalentProperty'), rdflib.term.URIRef('http://www.w3.org/2002/07/owl#bottomObjectProperty'))\n",
      "(rdflib.term.BNode('ub3bL76C56'), rdflib.term.URIRef('http://www.w3.org/2002/07/owl#inverseOf'), rdflib.term.URIRef('http://test.org/bft.owl#served_with'))\n",
      "(rdflib.term.BNode('ub3bL66C56'), rdflib.term.URIRef('http://www.w3.org/2002/07/owl#inverseOf'), rdflib.term.URIRef('http://test.org/affordance.owl#form'))\n",
      "(rdflib.term.URIRef('http://test.org/bft.owl#used_with'), rdflib.term.URIRef('http://www.w3.org/2000/01/rdf-schema#subPropertyOf'), rdflib.term.URIRef('http://test.org/affordance.owl#implies'))\n",
      "(rdflib.term.URIRef('http://test.org/bft.owl#used_with'), rdflib.term.URIRef('http://www.w3.org/2000/01/rdf-schema#subPropertyOf'), rdflib.term.BNode('ub3bL76C56'))\n",
      "(rdflib.term.URIRef('http://test.org/bft.owl#used_with'), rdflib.term.URIRef('http://www.w3.org/2000/01/rdf-schema#subPropertyOf'), rdflib.term.URIRef('http://test.org/bft.owl#served_with'))\n",
      "(rdflib.term.URIRef('http://test.org/bft.owl#used_with'), rdflib.term.URIRef('http://www.w3.org/2000/01/rdf-schema#subPropertyOf'), rdflib.term.URIRef('http://test.org/bft.owl#can_spread'))\n",
      "(rdflib.term.URIRef('http://test.org/bft.owl#used_with'), rdflib.term.URIRef('http://www.w3.org/2000/01/rdf-schema#subPropertyOf'), rdflib.term.BNode('ub3bL74C56'))\n",
      "(rdflib.term.BNode('ub3bL74C56'), rdflib.term.URIRef('http://www.w3.org/2002/07/owl#inverseOf'), rdflib.term.URIRef('http://test.org/bft.owl#can_spread'))\n",
      "(rdflib.term.URIRef('http://test.org/bft.owl#used_with'), rdflib.term.URIRef('http://www.w3.org/2000/01/rdf-schema#subPropertyOf'), rdflib.term.URIRef('http://test.org/bft.owl#can_cut'))\n",
      "(rdflib.term.BNode('ub3bL70C56'), rdflib.term.URIRef('http://www.w3.org/2002/07/owl#inverseOf'), rdflib.term.URIRef('http://test.org/affordance.owl#location'))\n",
      "(rdflib.term.URIRef('http://test.org/bft.owl#used_with'), rdflib.term.URIRef('http://www.w3.org/2000/01/rdf-schema#subPropertyOf'), rdflib.term.BNode('ub3bL70C56'))\n",
      "(rdflib.term.URIRef('http://test.org/bft.owl#used_with'), rdflib.term.URIRef('http://www.w3.org/2000/01/rdf-schema#subPropertyOf'), rdflib.term.BNode('ub3bL64C56'))\n",
      "(rdflib.term.URIRef('http://www.semanticweb.org/annag/ontologies/2020/6/bft_aff_inferred.owl'), rdflib.term.URIRef('http://www.w3.org/1999/02/22-rdf-syntax-ns#type'), rdflib.term.URIRef('http://www.w3.org/2002/07/owl#Ontology'))\n",
      "(rdflib.term.URIRef('http://test.org/bft.owl#used_with'), rdflib.term.URIRef('http://www.w3.org/2000/01/rdf-schema#subPropertyOf'), rdflib.term.BNode('ub3bL68C56'))\n",
      "(rdflib.term.URIRef('http://www.w3.org/2002/07/owl#bottomObjectProperty'), rdflib.term.URIRef('http://www.w3.org/2002/07/owl#equivalentProperty'), rdflib.term.BNode('ub3bL83C49'))\n",
      "(rdflib.term.URIRef('http://test.org/bft.owl#used_with'), rdflib.term.URIRef('http://www.w3.org/2000/01/rdf-schema#subPropertyOf'), rdflib.term.URIRef('http://test.org/affordance.owl#color'))\n",
      "(rdflib.term.URIRef('http://test.org/bft.owl#used_with'), rdflib.term.URIRef('http://www.w3.org/2000/01/rdf-schema#subPropertyOf'), rdflib.term.BNode('ub3bL78C56'))\n",
      "(rdflib.term.URIRef('http://test.org/bft.owl#used_with'), rdflib.term.URIRef('http://www.w3.org/2000/01/rdf-schema#subPropertyOf'), rdflib.term.URIRef('http://test.org/affordance.owl#form'))\n",
      "(rdflib.term.BNode('ub3bL78C56'), rdflib.term.URIRef('http://www.w3.org/2002/07/owl#inverseOf'), rdflib.term.URIRef('http://test.org/bft.owl#spread_on'))\n",
      "(rdflib.term.URIRef('http://test.org/bft.owl#used_with'), rdflib.term.URIRef('http://www.w3.org/2000/01/rdf-schema#subPropertyOf'), rdflib.term.BNode('ub3bL72C56'))\n",
      "(rdflib.term.BNode('ub3bL83C49'), rdflib.term.URIRef('http://www.w3.org/2002/07/owl#inverseOf'), rdflib.term.URIRef('http://test.org/bft.owl#used_with'))\n",
      "(rdflib.term.BNode('ub3bL64C56'), rdflib.term.URIRef('http://www.w3.org/2002/07/owl#inverseOf'), rdflib.term.URIRef('http://test.org/affordance.owl#color'))\n",
      "(rdflib.term.URIRef('http://test.org/bft.owl#used_with'), rdflib.term.URIRef('http://www.w3.org/2000/01/rdf-schema#subPropertyOf'), rdflib.term.URIRef('http://test.org/bft.owl#spread_on'))\n",
      "(rdflib.term.URIRef('http://test.org/bft.owl#used_with'), rdflib.term.URIRef('http://www.w3.org/2000/01/rdf-schema#subPropertyOf'), rdflib.term.URIRef('http://test.org/affordance.owl#location'))\n",
      "(rdflib.term.URIRef('http://test.org/bft.owl#used_with'), rdflib.term.URIRef('http://www.w3.org/2000/01/rdf-schema#subPropertyOf'), rdflib.term.BNode('ub3bL66C56'))\n",
      "(rdflib.term.BNode('ub3bL72C56'), rdflib.term.URIRef('http://www.w3.org/2002/07/owl#inverseOf'), rdflib.term.URIRef('http://test.org/bft.owl#can_cut'))\n",
      "28\n"
     ]
    }
   ],
   "source": [
    "triples_inferred = list(set(inferred_triples)-set(asserted_triples))\n",
    "i = 0\n",
    "for triple in triples_inferred:\n",
    "    i+=1\n",
    "    print(triple)\n",
    "print(i)"
   ]
  },
  {
   "cell_type": "code",
   "execution_count": 9,
   "metadata": {},
   "outputs": [],
   "source": [
    "# analye the bnodes... where are they coming from!!!"
   ]
  },
  {
   "cell_type": "code",
   "execution_count": 13,
   "metadata": {},
   "outputs": [
    {
     "name": "stdout",
     "output_type": "stream",
     "text": [
      "79\n",
      "226\n"
     ]
    }
   ],
   "source": [
    "print(len(inferred))\n",
    "print(len(asserted))"
   ]
  },
  {
   "cell_type": "code",
   "execution_count": null,
   "metadata": {},
   "outputs": [],
   "source": [
    "# how does inferred have less???"
   ]
  }
 ],
 "metadata": {
  "kernelspec": {
   "display_name": "Python 3",
   "language": "python",
   "name": "python3"
  },
  "language_info": {
   "codemirror_mode": {
    "name": "ipython",
    "version": 3
   },
   "file_extension": ".py",
   "mimetype": "text/x-python",
   "name": "python",
   "nbconvert_exporter": "python",
   "pygments_lexer": "ipython3",
   "version": "3.7.6"
  }
 },
 "nbformat": 4,
 "nbformat_minor": 4
}
