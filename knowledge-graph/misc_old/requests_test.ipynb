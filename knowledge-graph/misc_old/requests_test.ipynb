{
 "cells": [
  {
   "cell_type": "code",
   "execution_count": 3,
   "metadata": {},
   "outputs": [],
   "source": [
    "import requests"
   ]
  },
  {
   "cell_type": "code",
   "execution_count": 46,
   "metadata": {},
   "outputs": [],
   "source": [
    "url = 'https://yasgui.triply.cc/#query=prefix%20aff%3A%20%3Chttp%3A%2F%2Ftest.org%2Faffordance.owl%23%3E%20%0Aprefix%20bft%3A%20%3Chttp%3A%2F%2Ftest.org%2Fbft.owl%23%3E%20%0Aprefix%20cnc%3A%20%3Chttp%3A%2F%2Fapi.conceptnet.io%2Fc%2F%3E%20%0Aprefix%20cnr%3A%20%3Chttp%3A%2F%2Fapi.conceptnet.io%2Fr%2F%3E%20%0Aprefix%20owl%3A%20%3Chttp%3A%2F%2Fwww.w3.org%2F2002%2F07%2Fowl%23%3E%20%0Aprefix%20rdf%3A%20%3Chttp%3A%2F%2Fwww.w3.org%2F1999%2F02%2F22-rdf-syntax-ns%23%3E%20%0Aprefix%20rdfs%3A%20%3Chttp%3A%2F%2Fwww.w3.org%2F2000%2F01%2Frdf-schema%23%3E%20%0Aprefix%20skos%3A%20%3Chttp%3A%2F%2Fwww.w3.org%2F2004%2F02%2Fskos%2Fcore%23%3E%20%0Aprefix%20swrl%3A%20%3Chttp%3A%2F%2Fwww.w3.org%2F2003%2F11%2Fswrl%23%3E%20%0Aprefix%20xsd%3A%20%3Chttp%3A%2F%2Fwww.w3.org%2F2001%2FXMLSchema%23%3E%20%0A%0ASELECT%20%3Fusage%20WHERE%20%7B%0A%09%3Chttp%3A%2F%2Fapi.conceptnet.io%2Fc%2Fen%2Ffork%3E%20cnr%3AUsedFor%20%3Fusage.%0A%7D%0A&endpoint=https%3A%2F%2Fapi.krr.triply.cc%2Fdatasets%2Fannadg%2Faff-bft-cn%2Fservices%2Faff-bft-cn%2Fsparql&requestMethod=GET&tabTitle=Query&headers=%7B%7D&contentTypeConstruct=application%2Frdf%2Bjson&contentTypeSelect=application%2Fsparql-results%2Bjson%2C*%2F*%3Bq%3D0.9&outputFormat=response'"
   ]
  },
  {
   "cell_type": "code",
   "execution_count": 78,
   "metadata": {},
   "outputs": [
    {
     "data": {
      "text/plain": [
       "[{'usage': 'http://api.conceptnet.io/c/en/dividing_road_in_two'},\n",
       " {'usage': 'http://api.conceptnet.io/c/en/eat'},\n",
       " {'usage': 'http://api.conceptnet.io/c/en/eat_dinner'},\n",
       " {'usage': 'http://api.conceptnet.io/c/en/eat_food'},\n",
       " {'usage': 'http://api.conceptnet.io/c/en/eat_meal'},\n",
       " {'usage': 'http://api.conceptnet.io/c/en/eat_meat'},\n",
       " {'usage': 'http://api.conceptnet.io/c/en/eat_steak'},\n",
       " {'usage': 'http://api.conceptnet.io/c/en/eat_vegetables'},\n",
       " {'usage': 'http://api.conceptnet.io/c/en/eating'},\n",
       " {'usage': 'http://api.conceptnet.io/c/en/eating_food'},\n",
       " {'usage': 'http://api.conceptnet.io/c/en/eating_food_off_plate'},\n",
       " {'usage': 'http://api.conceptnet.io/c/en/eating_food_with'},\n",
       " {'usage': 'http://api.conceptnet.io/c/en/eating_meat'},\n",
       " {'usage': 'http://api.conceptnet.io/c/en/eating_pie'},\n",
       " {'usage': 'http://api.conceptnet.io/c/en/eating_vegetables'},\n",
       " {'usage': 'http://api.conceptnet.io/c/en/holding_food'},\n",
       " {'usage': 'http://api.conceptnet.io/c/en/lift_food_to_mouth'},\n",
       " {'usage': 'http://api.conceptnet.io/c/en/lifting_food_from_plate_to_mouth'},\n",
       " {'usage': 'http://api.conceptnet.io/c/en/moving_food_to_mouth'},\n",
       " {'usage': 'http://api.conceptnet.io/c/en/picking_up_food'},\n",
       " {'usage': 'http://api.conceptnet.io/c/en/piercing_food'},\n",
       " {'usage': 'http://api.conceptnet.io/c/en/providing_choice'},\n",
       " {'usage': 'http://api.conceptnet.io/c/en/turning_soil'}]"
      ]
     },
     "execution_count": 78,
     "metadata": {},
     "output_type": "execute_result"
    }
   ],
   "source": [
    "url = 'https://api.krr.triply.cc/datasets/annadg/aff-bft-cn/services/aff-bft-cn/sparql'\n",
    "query =\"\"\"\n",
    "prefix aff: <http://test.org/affordance.owl#> \n",
    "prefix bft: <http://test.org/bft.owl#> \n",
    "prefix cnc: <http://api.conceptnet.io/c/> \n",
    "prefix cnr: <http://api.conceptnet.io/r/> \n",
    "prefix owl: <http://www.w3.org/2002/07/owl#> \n",
    "prefix rdf: <http://www.w3.org/1999/02/22-rdf-syntax-ns#> \n",
    "prefix rdfs: <http://www.w3.org/2000/01/rdf-schema#> \n",
    "prefix skos: <http://www.w3.org/2004/02/skos/core#> \n",
    "prefix swrl: <http://www.w3.org/2003/11/swrl#> \n",
    "prefix xsd: <http://www.w3.org/2001/XMLSchema#> \n",
    "\n",
    "SELECT ?usage WHERE {\n",
    "\t<http://api.conceptnet.io/c/en/fork> cnr:UsedFor ?usage.\n",
    "}\n",
    "\n",
    "\"\"\"\n",
    "response = requests.get(url, params = {'format': 'json', 'query': query})\n",
    "response.json()"
   ]
  },
  {
   "cell_type": "code",
   "execution_count": 1,
   "metadata": {},
   "outputs": [
    {
     "ename": "NameError",
     "evalue": "name 'requests' is not defined",
     "output_type": "error",
     "traceback": [
      "\u001b[1;31m---------------------------------------------------------------------------\u001b[0m",
      "\u001b[1;31mNameError\u001b[0m                                 Traceback (most recent call last)",
      "\u001b[1;32m<ipython-input-1-42b365a1d36c>\u001b[0m in \u001b[0;36m<module>\u001b[1;34m\u001b[0m\n\u001b[1;32m----> 1\u001b[1;33m \u001b[0mmilk\u001b[0m \u001b[1;33m=\u001b[0m \u001b[0mrequests\u001b[0m\u001b[1;33m.\u001b[0m\u001b[0mget\u001b[0m\u001b[1;33m(\u001b[0m\u001b[1;34m'https://api.krr.triply.cc/queries/annadg/edible-CQ-2/1/run'\u001b[0m\u001b[1;33m)\u001b[0m\u001b[1;33m\u001b[0m\u001b[1;33m\u001b[0m\u001b[0m\n\u001b[0m",
      "\u001b[1;31mNameError\u001b[0m: name 'requests' is not defined"
     ]
    }
   ],
   "source": [
    "milk = requests.get('http://www.recipepuppy.com/api/?i=milk&p=5')"
   ]
  },
  {
   "cell_type": "code",
   "execution_count": 2,
   "metadata": {},
   "outputs": [
    {
     "ename": "NameError",
     "evalue": "name 'milk' is not defined",
     "output_type": "error",
     "traceback": [
      "\u001b[1;31m---------------------------------------------------------------------------\u001b[0m",
      "\u001b[1;31mNameError\u001b[0m                                 Traceback (most recent call last)",
      "\u001b[1;32m<ipython-input-2-fd940f75ef2f>\u001b[0m in \u001b[0;36m<module>\u001b[1;34m\u001b[0m\n\u001b[1;32m----> 1\u001b[1;33m \u001b[0mmilk\u001b[0m\u001b[1;33m.\u001b[0m\u001b[0mjson\u001b[0m\u001b[1;33m(\u001b[0m\u001b[1;33m)\u001b[0m\u001b[1;33m\u001b[0m\u001b[1;33m\u001b[0m\u001b[0m\n\u001b[0m",
      "\u001b[1;31mNameError\u001b[0m: name 'milk' is not defined"
     ]
    }
   ],
   "source": [
    "milk.json()"
   ]
  },
  {
   "cell_type": "code",
   "execution_count": 7,
   "metadata": {},
   "outputs": [
    {
     "data": {
      "text/plain": [
       "{'title': 'Recipe Puppy',\n",
       " 'version': 0.1,\n",
       " 'href': 'http://www.recipepuppy.com/',\n",
       " 'results': [{'title': 'Hard Boiled Eggs (Mf)',\n",
       "   'href': 'http://www.bigoven.com/95446-Hard-Boiled-Eggs-(Mf)-recipe.html',\n",
       "   'ingredients': 'egg',\n",
       "   'thumbnail': 'http://img.recipepuppy.com/747971.jpg'},\n",
       "  {'title': 'Zippy Zucchini Cakes With Tomato Pesto Pasta Recipe',\n",
       "   'href': 'http://www.grouprecipes.com/68617/zippy-zucchini-cakes-with-tomato-pesto-pasta.html',\n",
       "   'ingredients': 'egg, pine nuts',\n",
       "   'thumbnail': 'http://img.recipepuppy.com/202058.jpg'},\n",
       "  {'title': 'Quail Eggs with Toasted-Sesame Salt',\n",
       "   'href': 'http://www.epicurious.com/recipes/food/views/Quail-Eggs-with-Toasted-Sesame-Salt-101498',\n",
       "   'ingredients': 'sea salt, egg, sesame seed',\n",
       "   'thumbnail': 'http://img.recipepuppy.com/137665.jpg'},\n",
       "  {'title': 'Home Made Noodles Recipe',\n",
       "   'href': 'http://www.grouprecipes.com/21299/home-made-noodles.html',\n",
       "   'ingredients': 'egg, flour, salt',\n",
       "   'thumbnail': 'http://img.recipepuppy.com/186491.jpg'},\n",
       "  {'title': 'Breakfast Quiches - South Beach Recipe',\n",
       "   'href': 'http://www.grouprecipes.com/50294/breakfast-quiches---south-beach.html',\n",
       "   'ingredients': 'egg, onions, green pepper',\n",
       "   'thumbnail': 'http://img.recipepuppy.com/374651.jpg'},\n",
       "  {'title': 'Birds Nest (Eggs and Toast)',\n",
       "   'href': 'http://www.bigoven.com/38317-Birds-Nest-(Eggs-and-Toast)-recipe.html',\n",
       "   'ingredients': 'bread, egg, butter',\n",
       "   'thumbnail': 'http://img.recipepuppy.com/763952.jpg'},\n",
       "  {'title': 'Zucchini Casserole Recipe',\n",
       "   'href': 'http://www.grouprecipes.com/51812/zucchini-casserole.html',\n",
       "   'ingredients': 'black pepper, egg, crackers, zucchini',\n",
       "   'thumbnail': 'http://img.recipepuppy.com/307672.jpg'},\n",
       "  {'title': 'Spaghetti Fritta Recipe',\n",
       "   'href': 'http://www.grouprecipes.com/18554/spaghetti-fritta.html',\n",
       "   'ingredients': 'egg, bacon, salt, garlic',\n",
       "   'thumbnail': 'http://img.recipepuppy.com/413814.jpg'},\n",
       "  {'title': 'Sunflower Chip Crusted Chicken',\n",
       "   'href': 'http://www.recipe4living.com/recipes/sunflower_chip_crusted_chicken.htm',\n",
       "   'ingredients': 'chips, egg, skim milk, chicken',\n",
       "   'thumbnail': 'http://img.recipepuppy.com/602182.jpg'},\n",
       "  {'title': 'Cream Cheese And Chive Scrambled Eggs',\n",
       "   'href': 'http://www.bigoven.com/145344-Cream-Cheese-And-Chive-Scrambled-Eggs-recipe.html',\n",
       "   'ingredients': 'egg, cream cheese, chives, butter',\n",
       "   'thumbnail': 'http://img.recipepuppy.com/620380.jpg'}]}"
      ]
     },
     "execution_count": 7,
     "metadata": {},
     "output_type": "execute_result"
    }
   ],
   "source": [
    "egg = requests.get('http://www.recipepuppy.com/api/?i=egg')\n",
    "egg.json()"
   ]
  },
  {
   "cell_type": "code",
   "execution_count": 4,
   "metadata": {},
   "outputs": [],
   "source": [
    "test = requests.get('https://api.krr.triply.cc/queries/annadg/edible-CQ-2/1/run')\n",
    "# https://api.krr.triply.cc/queries/annadg/affords-rdfs/run"
   ]
  },
  {
   "cell_type": "code",
   "execution_count": 5,
   "metadata": {},
   "outputs": [
    {
     "data": {
      "text/plain": [
       "[{'ke': 'http://test.org/bft.owl#garnish', 'ext_ke': None},\n",
       " {'ke': 'http://test.org/bft.owl#lemon', 'ext_ke': None},\n",
       " {'ke': 'http://test.org/bft.owl#milk', 'ext_ke': None},\n",
       " {'ke': 'http://test.org/bft.owl#butter', 'ext_ke': None},\n",
       " {'ke': 'http://test.org/bft.owl#croissant', 'ext_ke': None},\n",
       " {'ke': 'http://test.org/bft.owl#apple', 'ext_ke': None},\n",
       " {'ke': 'http://test.org/bft.owl#fried_egg', 'ext_ke': None},\n",
       " {'ke': 'http://test.org/bft.owl#hardboiled_egg', 'ext_ke': None},\n",
       " {'ke': 'http://test.org/bft.owl#scrambled_egg', 'ext_ke': None},\n",
       " {'ke': 'http://test.org/bft.owl#watermelon', 'ext_ke': None}]"
      ]
     },
     "execution_count": 5,
     "metadata": {},
     "output_type": "execute_result"
    }
   ],
   "source": [
    "test.json()"
   ]
  },
  {
   "cell_type": "code",
   "execution_count": 63,
   "metadata": {},
   "outputs": [],
   "source": [
    "#  SPARQL queries for less then 10,000 triples \n",
    "def get_sparql_dataframe_small(service, query):\n",
    "    sparql = SPARQLWrapper(service)\n",
    "    out = []\n",
    "    sparql.setQuery(query)\n",
    "    sparql.setReturnFormat(JSON)\n",
    "    result = sparql.query()\n",
    "    processed_results = json.load(result.response)\n",
    "    cols = processed_results['head']['vars']\n",
    "\n",
    "    for row in processed_results['results']['bindings']:\n",
    "        item = []\n",
    "        for c in cols:\n",
    "            item.append(row.get(c, {}).get('value'))\n",
    "        out.append(item)\n",
    "        \n",
    "    return pd.DataFrame(out, columns=cols)\n"
   ]
  },
  {
   "cell_type": "code",
   "execution_count": 69,
   "metadata": {},
   "outputs": [],
   "source": [
    "from SPARQLWrapper import SPARQLWrapper, JSON\n",
    "import pandas as pd"
   ]
  },
  {
   "cell_type": "code",
   "execution_count": 70,
   "metadata": {},
   "outputs": [],
   "source": [
    "url = 'https://api.krr.triply.cc/datasets/annadg/aff-bft-cn/services/aff-bft-cn/sparql'\n",
    "query =\"\"\"\n",
    "prefix aff: <http://test.org/affordance.owl#> \n",
    "prefix bft: <http://test.org/bft.owl#> \n",
    "prefix cnc: <http://api.conceptnet.io/c/> \n",
    "prefix cnr: <http://api.conceptnet.io/r/> \n",
    "prefix owl: <http://www.w3.org/2002/07/owl#> \n",
    "prefix rdf: <http://www.w3.org/1999/02/22-rdf-syntax-ns#> \n",
    "prefix rdfs: <http://www.w3.org/2000/01/rdf-schema#> \n",
    "prefix skos: <http://www.w3.org/2004/02/skos/core#> \n",
    "prefix swrl: <http://www.w3.org/2003/11/swrl#> \n",
    "prefix xsd: <http://www.w3.org/2001/XMLSchema#> \n",
    "\n",
    "SELECT ?usage WHERE {\n",
    "\t<http://api.conceptnet.io/c/en/fork> cnr:UsedFor ?usage.\n",
    "}\n",
    "\n",
    "\"\"\""
   ]
  },
  {
   "cell_type": "code",
   "execution_count": 71,
   "metadata": {},
   "outputs": [
    {
     "data": {
      "text/html": [
       "<div>\n",
       "<style scoped>\n",
       "    .dataframe tbody tr th:only-of-type {\n",
       "        vertical-align: middle;\n",
       "    }\n",
       "\n",
       "    .dataframe tbody tr th {\n",
       "        vertical-align: top;\n",
       "    }\n",
       "\n",
       "    .dataframe thead th {\n",
       "        text-align: right;\n",
       "    }\n",
       "</style>\n",
       "<table border=\"1\" class=\"dataframe\">\n",
       "  <thead>\n",
       "    <tr style=\"text-align: right;\">\n",
       "      <th></th>\n",
       "      <th>usage</th>\n",
       "    </tr>\n",
       "  </thead>\n",
       "  <tbody>\n",
       "    <tr>\n",
       "      <th>0</th>\n",
       "      <td>http://api.conceptnet.io/c/en/dividing_road_in...</td>\n",
       "    </tr>\n",
       "    <tr>\n",
       "      <th>1</th>\n",
       "      <td>http://api.conceptnet.io/c/en/eat</td>\n",
       "    </tr>\n",
       "    <tr>\n",
       "      <th>2</th>\n",
       "      <td>http://api.conceptnet.io/c/en/eat_dinner</td>\n",
       "    </tr>\n",
       "    <tr>\n",
       "      <th>3</th>\n",
       "      <td>http://api.conceptnet.io/c/en/eat_food</td>\n",
       "    </tr>\n",
       "    <tr>\n",
       "      <th>4</th>\n",
       "      <td>http://api.conceptnet.io/c/en/eat_meal</td>\n",
       "    </tr>\n",
       "    <tr>\n",
       "      <th>5</th>\n",
       "      <td>http://api.conceptnet.io/c/en/eat_meat</td>\n",
       "    </tr>\n",
       "    <tr>\n",
       "      <th>6</th>\n",
       "      <td>http://api.conceptnet.io/c/en/eat_steak</td>\n",
       "    </tr>\n",
       "    <tr>\n",
       "      <th>7</th>\n",
       "      <td>http://api.conceptnet.io/c/en/eat_vegetables</td>\n",
       "    </tr>\n",
       "    <tr>\n",
       "      <th>8</th>\n",
       "      <td>http://api.conceptnet.io/c/en/eating</td>\n",
       "    </tr>\n",
       "    <tr>\n",
       "      <th>9</th>\n",
       "      <td>http://api.conceptnet.io/c/en/eating_food</td>\n",
       "    </tr>\n",
       "    <tr>\n",
       "      <th>10</th>\n",
       "      <td>http://api.conceptnet.io/c/en/eating_food_off_...</td>\n",
       "    </tr>\n",
       "    <tr>\n",
       "      <th>11</th>\n",
       "      <td>http://api.conceptnet.io/c/en/eating_food_with</td>\n",
       "    </tr>\n",
       "    <tr>\n",
       "      <th>12</th>\n",
       "      <td>http://api.conceptnet.io/c/en/eating_meat</td>\n",
       "    </tr>\n",
       "    <tr>\n",
       "      <th>13</th>\n",
       "      <td>http://api.conceptnet.io/c/en/eating_pie</td>\n",
       "    </tr>\n",
       "    <tr>\n",
       "      <th>14</th>\n",
       "      <td>http://api.conceptnet.io/c/en/eating_vegetables</td>\n",
       "    </tr>\n",
       "    <tr>\n",
       "      <th>15</th>\n",
       "      <td>http://api.conceptnet.io/c/en/holding_food</td>\n",
       "    </tr>\n",
       "    <tr>\n",
       "      <th>16</th>\n",
       "      <td>http://api.conceptnet.io/c/en/lift_food_to_mouth</td>\n",
       "    </tr>\n",
       "    <tr>\n",
       "      <th>17</th>\n",
       "      <td>http://api.conceptnet.io/c/en/lifting_food_fro...</td>\n",
       "    </tr>\n",
       "    <tr>\n",
       "      <th>18</th>\n",
       "      <td>http://api.conceptnet.io/c/en/moving_food_to_m...</td>\n",
       "    </tr>\n",
       "    <tr>\n",
       "      <th>19</th>\n",
       "      <td>http://api.conceptnet.io/c/en/picking_up_food</td>\n",
       "    </tr>\n",
       "    <tr>\n",
       "      <th>20</th>\n",
       "      <td>http://api.conceptnet.io/c/en/piercing_food</td>\n",
       "    </tr>\n",
       "    <tr>\n",
       "      <th>21</th>\n",
       "      <td>http://api.conceptnet.io/c/en/providing_choice</td>\n",
       "    </tr>\n",
       "    <tr>\n",
       "      <th>22</th>\n",
       "      <td>http://api.conceptnet.io/c/en/turning_soil</td>\n",
       "    </tr>\n",
       "  </tbody>\n",
       "</table>\n",
       "</div>"
      ],
      "text/plain": [
       "                                                usage\n",
       "0   http://api.conceptnet.io/c/en/dividing_road_in...\n",
       "1                   http://api.conceptnet.io/c/en/eat\n",
       "2            http://api.conceptnet.io/c/en/eat_dinner\n",
       "3              http://api.conceptnet.io/c/en/eat_food\n",
       "4              http://api.conceptnet.io/c/en/eat_meal\n",
       "5              http://api.conceptnet.io/c/en/eat_meat\n",
       "6             http://api.conceptnet.io/c/en/eat_steak\n",
       "7        http://api.conceptnet.io/c/en/eat_vegetables\n",
       "8                http://api.conceptnet.io/c/en/eating\n",
       "9           http://api.conceptnet.io/c/en/eating_food\n",
       "10  http://api.conceptnet.io/c/en/eating_food_off_...\n",
       "11     http://api.conceptnet.io/c/en/eating_food_with\n",
       "12          http://api.conceptnet.io/c/en/eating_meat\n",
       "13           http://api.conceptnet.io/c/en/eating_pie\n",
       "14    http://api.conceptnet.io/c/en/eating_vegetables\n",
       "15         http://api.conceptnet.io/c/en/holding_food\n",
       "16   http://api.conceptnet.io/c/en/lift_food_to_mouth\n",
       "17  http://api.conceptnet.io/c/en/lifting_food_fro...\n",
       "18  http://api.conceptnet.io/c/en/moving_food_to_m...\n",
       "19      http://api.conceptnet.io/c/en/picking_up_food\n",
       "20        http://api.conceptnet.io/c/en/piercing_food\n",
       "21     http://api.conceptnet.io/c/en/providing_choice\n",
       "22         http://api.conceptnet.io/c/en/turning_soil"
      ]
     },
     "execution_count": 71,
     "metadata": {},
     "output_type": "execute_result"
    }
   ],
   "source": [
    "get_sparql_dataframe_small(url, query)"
   ]
  },
  {
   "cell_type": "code",
   "execution_count": null,
   "metadata": {},
   "outputs": [],
   "source": []
  }
 ],
 "metadata": {
  "kernelspec": {
   "display_name": "Python 3",
   "language": "python",
   "name": "python3"
  },
  "language_info": {
   "codemirror_mode": {
    "name": "ipython",
    "version": 3
   },
   "file_extension": ".py",
   "mimetype": "text/x-python",
   "name": "python",
   "nbconvert_exporter": "python",
   "pygments_lexer": "ipython3",
   "version": "3.7.6"
  }
 },
 "nbformat": 4,
 "nbformat_minor": 4
}
