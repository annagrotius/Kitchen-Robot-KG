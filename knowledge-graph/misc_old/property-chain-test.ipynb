{
 "cells": [
  {
   "cell_type": "code",
   "execution_count": 13,
   "metadata": {},
   "outputs": [],
   "source": [
    "from owlready2 import *\n",
    "owlready2.JAVA_EXE ='C:\\\\Program Files\\\\Java\\\\jre1.8.0_191\\\\bin\\\\java.exe'\n",
    "\n",
    "\n",
    "onto = get_ontology(\"http://test.org/test.owl\")\n",
    "with onto:\n",
    "    class KE(Thing):\n",
    "        pass\n",
    "    class Quality(Thing):\n",
    "        pass\n",
    "    class Action(Thing):\n",
    "        pass\n",
    "    class Affordance(Thing):\n",
    "        pass\n",
    "        \n",
    "    class action(ObjectProperty, KE>>Action): pass\n",
    "        \n",
    "    class affordance(ObjectProperty, Action>>Affordance): pass\n",
    "        \n",
    "    class quality(ObjectProperty, KE>>Quality): pass\n",
    "        \n",
    "    class affords(KE>>Affordance,TransitiveProperty): pass\n",
    "\n",
    "cut_apples = Action(\"cut_apples\")\n",
    "cutting = Affordance(\"cutting\")\n",
    "red = Quality(\"red\")\n",
    "knife = KE(\"knife\")"
   ]
  },
  {
   "cell_type": "code",
   "execution_count": 14,
   "metadata": {},
   "outputs": [
    {
     "data": {
      "text/plain": [
       "[test.cut_apples, test.cutting, test.red, test.knife]"
      ]
     },
     "execution_count": 14,
     "metadata": {},
     "output_type": "execute_result"
    }
   ],
   "source": [
    "list(onto.individuals())"
   ]
  },
  {
   "cell_type": "code",
   "execution_count": 16,
   "metadata": {},
   "outputs": [
    {
     "name": "stdout",
     "output_type": "stream",
     "text": [
      "[]\n"
     ]
    }
   ],
   "source": [
    "print(cutting.INDIRECT_affords)"
   ]
  },
  {
   "cell_type": "code",
   "execution_count": 2,
   "metadata": {},
   "outputs": [
    {
     "name": "stdout",
     "output_type": "stream",
     "text": [
      "test.action\n",
      "test.affordance\n",
      "test.quality\n",
      "test.affords\n"
     ]
    }
   ],
   "source": [
    "for i in onto.object_properties():\n",
    "    print(i)"
   ]
  },
  {
   "cell_type": "code",
   "execution_count": 3,
   "metadata": {},
   "outputs": [
    {
     "name": "stdout",
     "output_type": "stream",
     "text": [
      "Which KE affords something \n",
      "[]\n"
     ]
    }
   ],
   "source": [
    "print(\"Which KE affords something \\n%s\" % onto.search(type=onto.KE, affords=\"*\"))"
   ]
  },
  {
   "cell_type": "code",
   "execution_count": 4,
   "metadata": {},
   "outputs": [
    {
     "name": "stderr",
     "output_type": "stream",
     "text": [
      "* Owlready2 * Running HermiT...\n",
      "    C:\\Program Files\\Java\\jre1.8.0_191\\bin\\java.exe -Xmx2000M -cp C:\\Users\\annag\\AppData\\Roaming\\Python\\Python37\\site-packages\\owlready2\\hermit;C:\\Users\\annag\\AppData\\Roaming\\Python\\Python37\\site-packages\\owlready2\\hermit\\HermiT.jar org.semanticweb.HermiT.cli.CommandLine -c -O -D -I file:///C:/Users/annag/AppData/Local/Temp/tmp7_7up02d -Y\n",
      "* Owlready2 * HermiT took 1.7972280979156494 seconds\n",
      "* Owlready * (NB: only changes on entities loaded in Python are shown, other changes are done but not listed)\n"
     ]
    }
   ],
   "source": [
    "with onto : \n",
    "    sync_reasoner(infer_property_values = True)"
   ]
  },
  {
   "cell_type": "code",
   "execution_count": 7,
   "metadata": {},
   "outputs": [
    {
     "data": {
      "text/plain": [
       "[]"
      ]
     },
     "execution_count": 7,
     "metadata": {},
     "output_type": "execute_result"
    }
   ],
   "source": [
    "knife.affords"
   ]
  },
  {
   "cell_type": "code",
   "execution_count": 12,
   "metadata": {},
   "outputs": [],
   "source": [
    "onto.save(file = 'test.nt', format = \"ntriples\")"
   ]
  },
  {
   "cell_type": "code",
   "execution_count": null,
   "metadata": {},
   "outputs": [],
   "source": []
  },
  {
   "cell_type": "code",
   "execution_count": 17,
   "metadata": {},
   "outputs": [
    {
     "name": "stdout",
     "output_type": "stream",
     "text": [
      "Collecting brickschema\n",
      "  Downloading https://files.pythonhosted.org/packages/b5/c2/25dc0738f0c23b59c0e620d4a5c084e05f6958f5f2002174a7cb4b635045/brickschema-0.1.7-py3-none-any.whl (91kB)\n",
      "Collecting pyshacl<0.12.0,>=0.11.4\n",
      "  Downloading https://files.pythonhosted.org/packages/89/83/536a0d460ca702f04d7b0809691c0472bf7be04da89c861e949e2e7cef3f/pyshacl-0.11.6.post1-py3-none-any.whl (84kB)\n",
      "Collecting rdflib<6.0,>=5.0\n",
      "  Using cached https://files.pythonhosted.org/packages/d0/6b/6454aa1db753c0f8bc265a5bd5c10b5721a4bb24160fb4faf758cf6be8a1/rdflib-5.0.0-py3-none-any.whl\n",
      "Collecting pytest<6.0,>=5.3\n",
      "  Downloading https://files.pythonhosted.org/packages/9f/f3/0a83558da436a081344aa6c8b85ea5b5f05071214106036ce341b7769b0b/pytest-5.4.3-py3-none-any.whl (248kB)\n",
      "Requirement already satisfied: owlrl<6.0,>=5.2 in c:\\users\\annag\\anaconda3\\envs\\pythoncpu\\lib\\site-packages (from brickschema) (5.2.1)\n",
      "Collecting sqlalchemy<2.0,>=1.3\n",
      "  Downloading https://files.pythonhosted.org/packages/75/77/b7135fa41e60d9bc015ae020060e54408b61de2f2aaf47994e19bf935443/SQLAlchemy-1.3.18-cp37-cp37m-win_amd64.whl (1.2MB)\n",
      "Collecting requests<3.0.0,>=2.24.0\n",
      "  Downloading https://files.pythonhosted.org/packages/45/1e/0c169c6a5381e241ba7404532c16a21d86ab872c9bed8bdcd4c423954103/requests-2.24.0-py2.py3-none-any.whl (61kB)\n",
      "Requirement already satisfied: rdflib-jsonld in c:\\users\\annag\\anaconda3\\envs\\pythoncpu\\lib\\site-packages (from pyshacl<0.12.0,>=0.11.4->brickschema) (0.4.0)\n",
      "Requirement already satisfied: isodate in c:\\users\\annag\\anaconda3\\envs\\pythoncpu\\lib\\site-packages (from rdflib<6.0,>=5.0->brickschema) (0.6.0)\n",
      "Requirement already satisfied: six in c:\\users\\annag\\anaconda3\\envs\\pythoncpu\\lib\\site-packages (from rdflib<6.0,>=5.0->brickschema) (1.15.0)\n",
      "Requirement already satisfied: pyparsing in c:\\users\\annag\\anaconda3\\envs\\pythoncpu\\lib\\site-packages (from rdflib<6.0,>=5.0->brickschema) (2.4.7)\n",
      "Requirement already satisfied: wcwidth in c:\\users\\annag\\anaconda3\\envs\\pythoncpu\\lib\\site-packages (from pytest<6.0,>=5.3->brickschema) (0.1.7)\n",
      "Collecting py>=1.5.0\n",
      "  Downloading https://files.pythonhosted.org/packages/68/0f/41a43535b52a81e4f29e420a151032d26f08b62206840c48d14b70e53376/py-1.9.0-py2.py3-none-any.whl (99kB)\n",
      "Requirement already satisfied: atomicwrites>=1.0; sys_platform == \"win32\" in c:\\users\\annag\\anaconda3\\envs\\pythoncpu\\lib\\site-packages (from pytest<6.0,>=5.3->brickschema) (1.3.0)\n",
      "Requirement already satisfied: more-itertools>=4.0.0 in c:\\users\\annag\\anaconda3\\envs\\pythoncpu\\lib\\site-packages (from pytest<6.0,>=5.3->brickschema) (8.1.0)\n",
      "Requirement already satisfied: importlib-metadata>=0.12; python_version < \"3.8\" in c:\\users\\annag\\anaconda3\\envs\\pythoncpu\\lib\\site-packages (from pytest<6.0,>=5.3->brickschema) (1.4.0)\n",
      "Requirement already satisfied: packaging in c:\\users\\annag\\anaconda3\\envs\\pythoncpu\\lib\\site-packages (from pytest<6.0,>=5.3->brickschema) (20.0)\n",
      "Requirement already satisfied: attrs>=17.4.0 in c:\\users\\annag\\anaconda3\\envs\\pythoncpu\\lib\\site-packages (from pytest<6.0,>=5.3->brickschema) (19.3.0)\n",
      "Requirement already satisfied: colorama; sys_platform == \"win32\" in c:\\users\\annag\\anaconda3\\envs\\pythoncpu\\lib\\site-packages (from pytest<6.0,>=5.3->brickschema) (0.4.3)\n",
      "Requirement already satisfied: pluggy<1.0,>=0.12 in c:\\users\\annag\\anaconda3\\envs\\pythoncpu\\lib\\site-packages (from pytest<6.0,>=5.3->brickschema) (0.13.1)\n",
      "Requirement already satisfied: idna<3,>=2.5 in c:\\users\\annag\\anaconda3\\envs\\pythoncpu\\lib\\site-packages (from requests<3.0.0,>=2.24.0->brickschema) (2.8)\n",
      "Requirement already satisfied: urllib3!=1.25.0,!=1.25.1,<1.26,>=1.21.1 in c:\\users\\annag\\anaconda3\\envs\\pythoncpu\\lib\\site-packages (from requests<3.0.0,>=2.24.0->brickschema) (1.25.7)\n",
      "Requirement already satisfied: certifi>=2017.4.17 in c:\\users\\annag\\anaconda3\\envs\\pythoncpu\\lib\\site-packages (from requests<3.0.0,>=2.24.0->brickschema) (2019.11.28)\n",
      "Requirement already satisfied: chardet<4,>=3.0.2 in c:\\users\\annag\\anaconda3\\envs\\pythoncpu\\lib\\site-packages (from requests<3.0.0,>=2.24.0->brickschema) (3.0.4)\n",
      "Requirement already satisfied: zipp>=0.5 in c:\\users\\annag\\anaconda3\\envs\\pythoncpu\\lib\\site-packages (from importlib-metadata>=0.12; python_version < \"3.8\"->pytest<6.0,>=5.3->brickschema) (2.0.0)\n",
      "Installing collected packages: rdflib, pyshacl, py, pytest, sqlalchemy, requests, brickschema\n",
      "  Found existing installation: rdflib 4.2.2\n",
      "    Uninstalling rdflib-4.2.2:\n",
      "      Successfully uninstalled rdflib-4.2.2\n",
      "  Found existing installation: requests 2.22.0\n",
      "    Uninstalling requests-2.22.0:\n",
      "      Successfully uninstalled requests-2.22.0\n",
      "Successfully installed brickschema-0.1.7 py-1.9.0 pyshacl-0.11.6.post1 pytest-5.4.3 rdflib-5.0.0 requests-2.24.0 sqlalchemy-1.3.18\n",
      "Note: you may need to restart the kernel to use updated packages.\n"
     ]
    }
   ],
   "source": [
    "pip install brickschema"
   ]
  },
  {
   "cell_type": "code",
   "execution_count": 18,
   "metadata": {},
   "outputs": [
    {
     "name": "stderr",
     "output_type": "stream",
     "text": [
      "2020-08-09:14:34:43,864 WARNING [inference.py:124] Reasonable not installed; trying Allegro\n",
      "2020-08-09:14:34:43,867 WARNING [inference.py:128] Allegro not installed; defaulting to OWLRL\n"
     ]
    }
   ],
   "source": [
    "from brickschema.inference import BrickInferenceSession\n",
    "from brickschema.graph import Graph\n",
    "# create a graph to hold the model\n",
    "bldg = Graph()\n",
    "# load in the model from the file (Brick is loaded in automatically)\n",
    "bldg.load_file('aff_bft_cn.ttl')\n",
    "# \"fill in\" all the implied information\n",
    "sess = BrickInferenceSession()\n",
    "bldg = sess.expand(bldg)"
   ]
  },
  {
   "cell_type": "code",
   "execution_count": 25,
   "metadata": {},
   "outputs": [
    {
     "name": "stdout",
     "output_type": "stream",
     "text": [
      "(rdflib.term.URIRef('http://www.w3.org/1999/02/22-rdf-syntax-ns#type'), rdflib.term.URIRef('http://www.w3.org/2002/07/owl#ObjectProperty'))\n",
      "(rdflib.term.URIRef('http://www.w3.org/2000/01/rdf-schema#range'), rdflib.term.URIRef('http://test.org/affordance.owl#Action'))\n",
      "(rdflib.term.URIRef('http://www.w3.org/2000/01/rdf-schema#domain'), rdflib.term.URIRef('http://www.w3.org/2002/07/owl#Thing'))\n",
      "(rdflib.term.URIRef('http://www.w3.org/2000/01/rdf-schema#subPropertyOf'), rdflib.term.URIRef('http://test.org/affordance.owl#affords'))\n",
      "(rdflib.term.URIRef('http://www.w3.org/2002/07/owl#equivalentProperty'), rdflib.term.URIRef('http://test.org/affordance.owl#affords'))\n",
      "(rdflib.term.URIRef('http://www.w3.org/2002/07/owl#sameAs'), rdflib.term.URIRef('http://test.org/affordance.owl#affords'))\n",
      "(rdflib.term.URIRef('http://www.w3.org/2000/01/rdf-schema#range'), rdflib.term.URIRef('http://www.w3.org/2002/07/owl#Thing'))\n",
      "(rdflib.term.URIRef('http://www.w3.org/2000/01/rdf-schema#domain'), rdflib.term.URIRef('http://test.org/affordance.owl#KitchenEntity'))\n"
     ]
    }
   ],
   "source": [
    "# execute queries!\n",
    "res = bldg.query(\"\"\"SELECT * WHERE {\n",
    "                     aff:affords ?p ?o.\n",
    "                  }\"\"\")\n",
    "for row in res:\n",
    "    print(row)\n"
   ]
  },
  {
   "cell_type": "code",
   "execution_count": 24,
   "metadata": {},
   "outputs": [
    {
     "name": "stdout",
     "output_type": "stream",
     "text": [
      "8\n"
     ]
    }
   ],
   "source": [
    "print(len(res))"
   ]
  },
  {
   "cell_type": "code",
   "execution_count": 26,
   "metadata": {},
   "outputs": [
    {
     "data": {
      "text/plain": [
       "139958"
      ]
     },
     "execution_count": 26,
     "metadata": {},
     "output_type": "execute_result"
    }
   ],
   "source": [
    "len(bldg)"
   ]
  },
  {
   "cell_type": "code",
   "execution_count": null,
   "metadata": {},
   "outputs": [],
   "source": []
  }
 ],
 "metadata": {
  "kernelspec": {
   "display_name": "Python 3",
   "language": "python",
   "name": "python3"
  },
  "language_info": {
   "codemirror_mode": {
    "name": "ipython",
    "version": 3
   },
   "file_extension": ".py",
   "mimetype": "text/x-python",
   "name": "python",
   "nbconvert_exporter": "python",
   "pygments_lexer": "ipython3",
   "version": "3.7.6"
  }
 },
 "nbformat": 4,
 "nbformat_minor": 4
}
