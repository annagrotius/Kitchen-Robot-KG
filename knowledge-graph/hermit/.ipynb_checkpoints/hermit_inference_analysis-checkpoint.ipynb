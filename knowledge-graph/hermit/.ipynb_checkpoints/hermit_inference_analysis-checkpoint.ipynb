{
 "cells": [
  {
   "cell_type": "markdown",
   "metadata": {},
   "source": [
    "This notebook is used to analyze the effect of the Hermit reasoner used on Protege. \n",
    "\n",
    "Input files are the asserted merged graph of the bft and affordance ontologies and the file of the inferred triples from Protege of this merged graph."
   ]
  },
  {
   "cell_type": "code",
   "execution_count": 1,
   "metadata": {},
   "outputs": [],
   "source": [
    "from rdflib import Graph"
   ]
  },
  {
   "cell_type": "markdown",
   "metadata": {},
   "source": [
    "### Closed World Ontology"
   ]
  },
  {
   "cell_type": "code",
   "execution_count": 2,
   "metadata": {},
   "outputs": [
    {
     "data": {
      "text/plain": [
       "474"
      ]
     },
     "execution_count": 2,
     "metadata": {},
     "output_type": "execute_result"
    }
   ],
   "source": [
    "closed = Graph()\n",
    "closed.parse(\"./graphs/aff_bft_closed_graph2.ttl\", format = \"turtle\")\n",
    "len(closed)"
   ]
  },
  {
   "cell_type": "markdown",
   "metadata": {},
   "source": [
    "### Hermit OwlReady Reasoner"
   ]
  },
  {
   "cell_type": "code",
   "execution_count": 3,
   "metadata": {},
   "outputs": [
    {
     "data": {
      "text/plain": [
       "490"
      ]
     },
     "execution_count": 3,
     "metadata": {},
     "output_type": "execute_result"
    }
   ],
   "source": [
    "hermit = Graph()\n",
    "hermit.parse(\"./hermit/bft_aff_inferred_hermit.owl\", format = \"xml\")\n",
    "len(hermit)"
   ]
  },
  {
   "cell_type": "markdown",
   "metadata": {},
   "source": [
    "Hermit reasoner from owlready inferred 16 triples (compared to closed graph above).\n",
    "They present the same inconsistent classes. However, from the documentation, it says this:\n",
    "\n",
    ">\"Inconcistent classes may occur without making the entire ontology inconsistent, \n",
    "as long as these classes have no individuals. Inconsistent classes are inferred as equivalent to Nothing\"\n",
    "\n",
    "So, all classes that are inconsistent in fact do not have individuals. I checked this by adding an instance to tea."
   ]
  },
  {
   "cell_type": "markdown",
   "metadata": {},
   "source": [
    "### Protege Hermit Triples"
   ]
  },
  {
   "cell_type": "code",
   "execution_count": 5,
   "metadata": {},
   "outputs": [
    {
     "data": {
      "text/plain": [
       "138"
      ]
     },
     "execution_count": 5,
     "metadata": {},
     "output_type": "execute_result"
    }
   ],
   "source": [
    "protege = Graph()\n",
    "protege.parse(\"./bft_aff_inferred_protege2.ttl\", format = \"ttl\")\n",
    "len(protege)"
   ]
  },
  {
   "cell_type": "code",
   "execution_count": 6,
   "metadata": {},
   "outputs": [],
   "source": [
    "inferred_triples = [triple for triple in protege]\n",
    "asserted_triples = [triple for triple in closed]"
   ]
  },
  {
   "cell_type": "markdown",
   "metadata": {},
   "source": [
    "Conclusion: the inferred triples differ between hermit from owlready and protege"
   ]
  },
  {
   "cell_type": "code",
   "execution_count": 17,
   "metadata": {},
   "outputs": [
    {
     "name": "stdout",
     "output_type": "stream",
     "text": [
      "The number of triples that differ is:  88\n"
     ]
    },
    {
     "data": {
      "text/plain": [
       "88"
      ]
     },
     "execution_count": 17,
     "metadata": {},
     "output_type": "execute_result"
    }
   ],
   "source": [
    "differ_triples = list(set(inferred_triples)-set(asserted_triples))\n",
    "print(\"The number of triples that differ is: \", len(triples_inferred))\n",
    "\n",
    "differing_graph = Graph()\n",
    "for triple in differ_triples:\n",
    "    differing_graph.add(triple)\n",
    "differing_graph.serialize('./differing_triples.ttl', format='turtle')\n",
    "len(differing_graph)"
   ]
  },
  {
   "cell_type": "code",
   "execution_count": 15,
   "metadata": {},
   "outputs": [
    {
     "name": "stdout",
     "output_type": "stream",
     "text": [
      "The number of same triples is:  50\n"
     ]
    }
   ],
   "source": [
    "count = 0\n",
    "for triple in asserted_triples:\n",
    "    if triple in inferred_triples:\n",
    "#         print(triple)\n",
    "        count += 1\n",
    "        \n",
    "print(\"The number of same triples is: \", count)"
   ]
  },
  {
   "cell_type": "code",
   "execution_count": 16,
   "metadata": {},
   "outputs": [],
   "source": [
    "# make a graph of the triples that are both in the protege inferred file and the closed world graph\n",
    "same_graph = Graph()\n",
    "for triple in asserted_triples:\n",
    "    if triple in inferred_triples:\n",
    "        same_graph.add(triple)\n",
    "same_graph.serialize('./shared_triples_closed_protege.ttl', format=\"turtle\")"
   ]
  },
  {
   "cell_type": "code",
   "execution_count": null,
   "metadata": {},
   "outputs": [],
   "source": []
  }
 ],
 "metadata": {
  "kernelspec": {
   "display_name": "Python 3",
   "language": "python",
   "name": "python3"
  },
  "language_info": {
   "codemirror_mode": {
    "name": "ipython",
    "version": 3
   },
   "file_extension": ".py",
   "mimetype": "text/x-python",
   "name": "python",
   "nbconvert_exporter": "python",
   "pygments_lexer": "ipython3",
   "version": "3.7.6"
  }
 },
 "nbformat": 4,
 "nbformat_minor": 4
}
