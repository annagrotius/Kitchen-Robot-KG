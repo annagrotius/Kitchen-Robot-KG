{
 "cells": [
  {
   "cell_type": "markdown",
   "metadata": {},
   "source": [
    "This notebook is used to analyze the effect of the Hermit reasoner used in Python owlready2 and Protege. \n",
    "\n",
    "<!-- Input files are the asserted merged graph of the bft and affordance ontologies and the file of the inferred triples from Protege of this merged graph. -->"
   ]
  },
  {
   "cell_type": "code",
   "execution_count": 1,
   "metadata": {},
   "outputs": [
    {
     "name": "stderr",
     "output_type": "stream",
     "text": [
      "* Owlready2 * Warning: optimized Cython parser module 'owlready2_optimized' is not available, defaulting to slower Python implementation\n"
     ]
    }
   ],
   "source": [
    "from owlready2 import *\n",
    "import owlready2\n",
    "owlready2.JAVA_EXE ='C:\\\\Program Files\\\\Java\\\\jre1.8.0_191\\\\bin\\\\java.exe'\n",
    "from rdflib import Graph, Namespace, URIRef"
   ]
  },
  {
   "cell_type": "markdown",
   "metadata": {},
   "source": [
    "### Closed World Ontology"
   ]
  },
  {
   "cell_type": "code",
   "execution_count": 2,
   "metadata": {},
   "outputs": [
    {
     "data": {
      "text/plain": [
       "482"
      ]
     },
     "execution_count": 2,
     "metadata": {},
     "output_type": "execute_result"
    }
   ],
   "source": [
    "closed = Graph()\n",
    "closed.parse(\"../graphs/aff_bft_closed_graph.ttl\", format = \"turtle\")\n",
    "len(closed)"
   ]
  },
  {
   "cell_type": "code",
   "execution_count": null,
   "metadata": {},
   "outputs": [],
   "source": [
    "# onto = get_ontology(\"pizza.owl\").load()\n",
    "\n",
    "# namespace = get_namespace(\"http://www.co-ode.org/ontologies/pizza/pizza.owl#\")\n",
    "# print(namespace.NamedPizza)\n",
    "# print(default_world.search(subclass_of = namespace.NamedPizza))"
   ]
  },
  {
   "cell_type": "code",
   "execution_count": 23,
   "metadata": {},
   "outputs": [
    {
     "name": "stdout",
     "output_type": "stream",
     "text": [
      "None\n"
     ]
    },
    {
     "data": {
      "text/plain": [
       "get_ontology(\"http://test.org/kchn.owl#\")"
      ]
     },
     "execution_count": 23,
     "metadata": {},
     "output_type": "execute_result"
    }
   ],
   "source": [
    "# closed = get_ontology(\"../graphs/aff_bft_closed_graph.owl\").load()\n",
    "# namespace = get_namespace(\"http://test.org/kchn.owl#\")\n",
    "# print(namespace.Egg)\n",
    "# # print(closed.namespace.get_children_of(closed.Drink))\n",
    "# # print(default_world.search(subclass_of = closed.Egg))\n",
    "# closed"
   ]
  },
  {
   "cell_type": "code",
   "execution_count": 26,
   "metadata": {},
   "outputs": [
    {
     "name": "stdout",
     "output_type": "stream",
     "text": [
      "None\n"
     ]
    }
   ],
   "source": [
    "for "
   ]
  },
  {
   "cell_type": "markdown",
   "metadata": {},
   "source": [
    "### Open World Ontology"
   ]
  },
  {
   "cell_type": "code",
   "execution_count": 12,
   "metadata": {},
   "outputs": [
    {
     "data": {
      "text/plain": [
       "233"
      ]
     },
     "execution_count": 12,
     "metadata": {},
     "output_type": "execute_result"
    }
   ],
   "source": [
    "open_g = Graph()\n",
    "open_g.parse(\"../graphs/aff_bft_open_graph.ttl\", format = \"turtle\")\n",
    "len(open_g)"
   ]
  },
  {
   "cell_type": "markdown",
   "metadata": {},
   "source": [
    "### Hermit OwlReady Reasoner"
   ]
  },
  {
   "cell_type": "code",
   "execution_count": 13,
   "metadata": {},
   "outputs": [
    {
     "data": {
      "text/plain": [
       "233"
      ]
     },
     "execution_count": 13,
     "metadata": {},
     "output_type": "execute_result"
    }
   ],
   "source": [
    "hermit_open = Graph()\n",
    "hermit_open.parse(\"./bft_aff_open_inferred_hermit.owl\", format = \"xml\")\n",
    "len(hermit_open)"
   ]
  },
  {
   "cell_type": "code",
   "execution_count": 14,
   "metadata": {},
   "outputs": [
    {
     "data": {
      "text/plain": [
       "493"
      ]
     },
     "execution_count": 14,
     "metadata": {},
     "output_type": "execute_result"
    }
   ],
   "source": [
    "hermit_closed = Graph()\n",
    "hermit_closed.parse(\"./bft_aff_closed_inferred_hermit.owl\", format = \"xml\")\n",
    "len(hermit_closed)"
   ]
  },
  {
   "cell_type": "markdown",
   "metadata": {},
   "source": [
    "Hermit reasoner from owlready inferred 16 triples (compared to closed graph above).\n",
    "They present the same inconsistent classes. However, from the documentation, it says this:\n",
    "\n",
    ">\"Inconcistent classes may occur without making the entire ontology inconsistent, \n",
    "as long as these classes have no individuals. Inconsistent classes are inferred as equivalent to Nothing\"\n",
    "\n",
    "So, all classes that are inconsistent in fact do not have individuals. I checked this by adding an instance to tea."
   ]
  },
  {
   "cell_type": "markdown",
   "metadata": {},
   "source": [
    "### Protege Hermit Triples"
   ]
  },
  {
   "cell_type": "code",
   "execution_count": 9,
   "metadata": {},
   "outputs": [
    {
     "data": {
      "text/plain": [
       "565"
      ]
     },
     "execution_count": 9,
     "metadata": {},
     "output_type": "execute_result"
    }
   ],
   "source": [
    "protege_closed = Graph()\n",
    "protege_closed.parse(\"./protege/bft_aff_inferred_closed_protege.owl\", format = \"ttl\")\n",
    "len(protege_closed)"
   ]
  },
  {
   "cell_type": "code",
   "execution_count": 10,
   "metadata": {},
   "outputs": [
    {
     "data": {
      "text/plain": [
       "266"
      ]
     },
     "execution_count": 10,
     "metadata": {},
     "output_type": "execute_result"
    }
   ],
   "source": [
    "protege_open = Graph()\n",
    "protege_open.parse(\"./protege/bft_aff_inferred_open_protege.owl\", format = \"ttl\")\n",
    "len(protege_open)"
   ]
  },
  {
   "cell_type": "code",
   "execution_count": 6,
   "metadata": {},
   "outputs": [],
   "source": [
    "inferred_triples = [triple for triple in protege]\n",
    "asserted_triples = [triple for triple in closed]"
   ]
  },
  {
   "cell_type": "markdown",
   "metadata": {},
   "source": [
    "Conclusion: the inferred triples differ between hermit from owlready and protege"
   ]
  },
  {
   "cell_type": "code",
   "execution_count": 17,
   "metadata": {},
   "outputs": [
    {
     "name": "stdout",
     "output_type": "stream",
     "text": [
      "The number of triples that differ is:  88\n"
     ]
    },
    {
     "data": {
      "text/plain": [
       "88"
      ]
     },
     "execution_count": 17,
     "metadata": {},
     "output_type": "execute_result"
    }
   ],
   "source": [
    "differ_triples = list(set(inferred_triples)-set(asserted_triples))\n",
    "print(\"The number of triples that differ is: \", len(triples_inferred))\n",
    "\n",
    "differing_graph = Graph()\n",
    "for triple in differ_triples:\n",
    "    differing_graph.add(triple)\n",
    "differing_graph.serialize('./differing_triples.ttl', format='turtle')\n",
    "len(differing_graph)"
   ]
  },
  {
   "cell_type": "code",
   "execution_count": 15,
   "metadata": {},
   "outputs": [
    {
     "name": "stdout",
     "output_type": "stream",
     "text": [
      "The number of same triples is:  50\n"
     ]
    }
   ],
   "source": [
    "count = 0\n",
    "for triple in asserted_triples:\n",
    "    if triple in inferred_triples:\n",
    "#         print(triple)\n",
    "        count += 1\n",
    "        \n",
    "print(\"The number of same triples is: \", count)"
   ]
  },
  {
   "cell_type": "code",
   "execution_count": 16,
   "metadata": {},
   "outputs": [],
   "source": [
    "# make a graph of the triples that are both in the protege inferred file and the closed world graph\n",
    "same_graph = Graph()\n",
    "for triple in asserted_triples:\n",
    "    if triple in inferred_triples:\n",
    "        same_graph.add(triple)\n",
    "same_graph.serialize('./shared_triples_closed_protege.ttl', format=\"turtle\")"
   ]
  },
  {
   "cell_type": "code",
   "execution_count": null,
   "metadata": {},
   "outputs": [],
   "source": []
  }
 ],
 "metadata": {
  "kernelspec": {
   "display_name": "Python 3",
   "language": "python",
   "name": "python3"
  },
  "language_info": {
   "codemirror_mode": {
    "name": "ipython",
    "version": 3
   },
   "file_extension": ".py",
   "mimetype": "text/x-python",
   "name": "python",
   "nbconvert_exporter": "python",
   "pygments_lexer": "ipython3",
   "version": "3.7.6"
  }
 },
 "nbformat": 4,
 "nbformat_minor": 4
}
